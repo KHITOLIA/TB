{
 "cells": [
  {
   "cell_type": "code",
   "execution_count": 8,
   "id": "65d693f5-4557-4937-ac9a-024fafb98c1f",
   "metadata": {},
   "outputs": [
    {
     "data": {
      "text/plain": [
       "'tlalitrlalitalalitilalitnlalitilalitnlalitglalit lalitblalitalalitslalitklalitelalitt'"
      ]
     },
     "execution_count": 8,
     "metadata": {},
     "output_type": "execute_result"
    }
   ],
   "source": [
    "s = 'lalit'\n",
    "b = 'training basket'\n",
    "s.join(b)"
   ]
  },
  {
   "cell_type": "code",
   "execution_count": 10,
   "id": "67ea13fa-a105-4891-8d27-ef5b4beb173d",
   "metadata": {},
   "outputs": [
    {
     "data": {
      "text/plain": [
       "'l a l i t'"
      ]
     },
     "execution_count": 10,
     "metadata": {},
     "output_type": "execute_result"
    }
   ],
   "source": [
    "\" \".join(s)"
   ]
  },
  {
   "cell_type": "code",
   "execution_count": 11,
   "id": "0fb62e77-5ea9-4460-9521-4c58cea28a32",
   "metadata": {},
   "outputs": [],
   "source": [
    "# Lists : collection of heterogenous datatypes"
   ]
  },
  {
   "cell_type": "code",
   "execution_count": 12,
   "id": "3effd64a-a638-4936-a6b3-f215d571e799",
   "metadata": {},
   "outputs": [],
   "source": [
    "l = []"
   ]
  },
  {
   "cell_type": "code",
   "execution_count": 13,
   "id": "7c5c1dcd-4e57-404f-ab4d-778ae7d5fab4",
   "metadata": {},
   "outputs": [],
   "source": [
    "l = [1, 1.5, 'vishal', True, None, type, int, [2, 3, 4]]"
   ]
  },
  {
   "cell_type": "code",
   "execution_count": 14,
   "id": "ebfc3f44-1c5e-4665-8b68-4a2d94ab4ed6",
   "metadata": {},
   "outputs": [
    {
     "data": {
      "text/plain": [
       "[1, 1.5, 'vishal', True, None, type, int, [2, 3, 4]]"
      ]
     },
     "execution_count": 14,
     "metadata": {},
     "output_type": "execute_result"
    }
   ],
   "source": [
    "l"
   ]
  },
  {
   "cell_type": "code",
   "execution_count": 15,
   "id": "cccb643a-edaf-4eb8-a4c9-9346c981a897",
   "metadata": {},
   "outputs": [
    {
     "data": {
      "text/plain": [
       "'vishal'"
      ]
     },
     "execution_count": 15,
     "metadata": {},
     "output_type": "execute_result"
    }
   ],
   "source": [
    "l[2]"
   ]
  },
  {
   "cell_type": "code",
   "execution_count": 17,
   "id": "7dd2eacb-6f1c-47a2-93a8-045421c82f75",
   "metadata": {},
   "outputs": [
    {
     "data": {
      "text/plain": [
       "4"
      ]
     },
     "execution_count": 17,
     "metadata": {},
     "output_type": "execute_result"
    }
   ],
   "source": [
    "l[-1][-1]"
   ]
  },
  {
   "cell_type": "code",
   "execution_count": 19,
   "id": "9d100786-9ef2-4572-ba8c-9e26787c0e2f",
   "metadata": {},
   "outputs": [
    {
     "data": {
      "text/plain": [
       "[True, None, type, int, [2, 3, 4]]"
      ]
     },
     "execution_count": 19,
     "metadata": {},
     "output_type": "execute_result"
    }
   ],
   "source": [
    "l[3 : ]"
   ]
  },
  {
   "cell_type": "code",
   "execution_count": 20,
   "id": "488e8054-cde7-49dd-806e-6e6245be179a",
   "metadata": {},
   "outputs": [
    {
     "data": {
      "text/plain": [
       "[1, 1.5, 'vishal', True, None, type, int, [2, 3, 4]]"
      ]
     },
     "execution_count": 20,
     "metadata": {},
     "output_type": "execute_result"
    }
   ],
   "source": [
    "l"
   ]
  },
  {
   "cell_type": "code",
   "execution_count": 22,
   "id": "d8380bae-7ef0-4529-a876-3c26cd299780",
   "metadata": {},
   "outputs": [
    {
     "data": {
      "text/plain": [
       "4"
      ]
     },
     "execution_count": 22,
     "metadata": {},
     "output_type": "execute_result"
    }
   ],
   "source": [
    "l[-1][-1]"
   ]
  },
  {
   "cell_type": "code",
   "execution_count": 23,
   "id": "64b4c9bc-8696-46f1-975c-f0e507b0efbd",
   "metadata": {},
   "outputs": [],
   "source": [
    "# operations in your datatypes"
   ]
  },
  {
   "cell_type": "code",
   "execution_count": 25,
   "id": "d8dc172b-582c-41f4-901c-c7bbea147f46",
   "metadata": {},
   "outputs": [
    {
     "name": "stdout",
     "output_type": "stream",
     "text": [
      "<class 'list'>\n"
     ]
    }
   ],
   "source": [
    "print(type(l))"
   ]
  },
  {
   "cell_type": "code",
   "execution_count": 26,
   "id": "af3e7a05-3156-4ebc-8df5-9be7b40867fb",
   "metadata": {},
   "outputs": [
    {
     "data": {
      "text/plain": [
       "[1, 1.5, 'vishal', True, None, type, int, [2, 3, 4]]"
      ]
     },
     "execution_count": 26,
     "metadata": {},
     "output_type": "execute_result"
    }
   ],
   "source": [
    "l"
   ]
  },
  {
   "cell_type": "code",
   "execution_count": 27,
   "id": "3fccc9f6-1764-4ac6-8fc4-0a8ca5c7eb90",
   "metadata": {},
   "outputs": [],
   "source": [
    "s = 'nachiketa'"
   ]
  },
  {
   "cell_type": "code",
   "execution_count": 29,
   "id": "f7f5bd14-79f6-4479-b81a-0b45b10fe235",
   "metadata": {},
   "outputs": [],
   "source": [
    "l.append(10)"
   ]
  },
  {
   "cell_type": "code",
   "execution_count": 30,
   "id": "127c0218-bf18-4434-9e23-cdf50fbe8951",
   "metadata": {},
   "outputs": [
    {
     "data": {
      "text/plain": [
       "[1, 1.5, 'vishal', True, None, type, int, [2, 3, 4], 10]"
      ]
     },
     "execution_count": 30,
     "metadata": {},
     "output_type": "execute_result"
    }
   ],
   "source": [
    "l"
   ]
  },
  {
   "cell_type": "code",
   "execution_count": 31,
   "id": "4d60f038-881c-4739-a015-cc4cb1602cd9",
   "metadata": {},
   "outputs": [],
   "source": [
    "l.append('Basket')"
   ]
  },
  {
   "cell_type": "code",
   "execution_count": 32,
   "id": "307adb47-4f57-4d2c-8a5d-b3434a79076a",
   "metadata": {},
   "outputs": [
    {
     "data": {
      "text/plain": [
       "[1, 1.5, 'vishal', True, None, type, int, [2, 3, 4], 10, 'Basket']"
      ]
     },
     "execution_count": 32,
     "metadata": {},
     "output_type": "execute_result"
    }
   ],
   "source": [
    "l"
   ]
  },
  {
   "cell_type": "code",
   "execution_count": 33,
   "id": "383c1d9b-369f-48bc-84a1-97c9c71053d4",
   "metadata": {},
   "outputs": [],
   "source": [
    "l.append('kuch bhi kardo')"
   ]
  },
  {
   "cell_type": "code",
   "execution_count": 34,
   "id": "4671da6f-2a03-480e-b438-8960dc964f26",
   "metadata": {
    "collapsed": true,
    "jupyter": {
     "outputs_hidden": true
    }
   },
   "outputs": [
    {
     "data": {
      "text/plain": [
       "[1,\n",
       " 1.5,\n",
       " 'vishal',\n",
       " True,\n",
       " None,\n",
       " type,\n",
       " int,\n",
       " [2, 3, 4],\n",
       " 10,\n",
       " 'Basket',\n",
       " 'kuch bhi kardo']"
      ]
     },
     "execution_count": 34,
     "metadata": {},
     "output_type": "execute_result"
    }
   ],
   "source": [
    "l"
   ]
  },
  {
   "cell_type": "code",
   "execution_count": 35,
   "id": "a7df2b95-3e87-4f3f-9c71-d9455cdce005",
   "metadata": {},
   "outputs": [
    {
     "data": {
      "text/plain": [
       "\u001b[1;31mSignature:\u001b[0m \u001b[0ml\u001b[0m\u001b[1;33m.\u001b[0m\u001b[0mpop\u001b[0m\u001b[1;33m(\u001b[0m\u001b[0mindex\u001b[0m\u001b[1;33m=\u001b[0m\u001b[1;33m-\u001b[0m\u001b[1;36m1\u001b[0m\u001b[1;33m,\u001b[0m \u001b[1;33m/\u001b[0m\u001b[1;33m)\u001b[0m\u001b[1;33m\u001b[0m\u001b[1;33m\u001b[0m\u001b[0m\n",
       "\u001b[1;31mDocstring:\u001b[0m\n",
       "Remove and return item at index (default last).\n",
       "\n",
       "Raises IndexError if list is empty or index is out of range.\n",
       "\u001b[1;31mType:\u001b[0m      builtin_function_or_method"
      ]
     },
     "metadata": {},
     "output_type": "display_data"
    }
   ],
   "source": [
    "l.pop?"
   ]
  },
  {
   "cell_type": "code",
   "execution_count": 36,
   "id": "54cb732c-103a-4f19-8cee-eef8270d58e9",
   "metadata": {},
   "outputs": [
    {
     "data": {
      "text/plain": [
       "'kuch bhi kardo'"
      ]
     },
     "execution_count": 36,
     "metadata": {},
     "output_type": "execute_result"
    }
   ],
   "source": [
    "l.pop()"
   ]
  },
  {
   "cell_type": "code",
   "execution_count": 37,
   "id": "28b4698b-1629-4ae0-be5f-1a352dc424ab",
   "metadata": {},
   "outputs": [
    {
     "data": {
      "text/plain": [
       "1"
      ]
     },
     "execution_count": 37,
     "metadata": {},
     "output_type": "execute_result"
    }
   ],
   "source": [
    "l.pop(0)"
   ]
  },
  {
   "cell_type": "code",
   "execution_count": 39,
   "id": "bf201eb0-7375-4361-9ca7-1459d51d8d88",
   "metadata": {},
   "outputs": [
    {
     "data": {
      "text/plain": [
       "[1.5, 'vishal', True, None, type, int, [2, 3, 4], 10, 'Basket']"
      ]
     },
     "execution_count": 39,
     "metadata": {},
     "output_type": "execute_result"
    }
   ],
   "source": [
    "l"
   ]
  },
  {
   "cell_type": "code",
   "execution_count": 40,
   "id": "870e94d3-4b0a-4b83-a98e-6faa96e6336e",
   "metadata": {},
   "outputs": [],
   "source": [
    "l.append(10)"
   ]
  },
  {
   "cell_type": "code",
   "execution_count": 41,
   "id": "8a6b8bf2-04e9-427d-af2a-5ca4623ddf83",
   "metadata": {},
   "outputs": [
    {
     "data": {
      "text/plain": [
       "[1.5, 'vishal', True, None, type, int, [2, 3, 4], 10, 'Basket', 10]"
      ]
     },
     "execution_count": 41,
     "metadata": {},
     "output_type": "execute_result"
    }
   ],
   "source": [
    "l"
   ]
  },
  {
   "cell_type": "code",
   "execution_count": 42,
   "id": "b4d81faa-d8e3-4c64-ab00-bc3e6ce2339f",
   "metadata": {},
   "outputs": [],
   "source": [
    "l.remove(10)"
   ]
  },
  {
   "cell_type": "code",
   "execution_count": 43,
   "id": "e803cf29-78b9-4655-91ea-14aa8b8abd8f",
   "metadata": {},
   "outputs": [
    {
     "data": {
      "text/plain": [
       "[1.5, 'vishal', True, None, type, int, [2, 3, 4], 'Basket', 10]"
      ]
     },
     "execution_count": 43,
     "metadata": {},
     "output_type": "execute_result"
    }
   ],
   "source": [
    "l"
   ]
  },
  {
   "cell_type": "code",
   "execution_count": 44,
   "id": "e2aa63d0-b7f4-446f-9768-44fae34ec8eb",
   "metadata": {},
   "outputs": [],
   "source": [
    "a = [1, 2, 3, 4]"
   ]
  },
  {
   "cell_type": "code",
   "execution_count": 45,
   "id": "0d987ce7-f595-4ebc-97d2-e2c137239ba8",
   "metadata": {},
   "outputs": [],
   "source": [
    "a.clear()"
   ]
  },
  {
   "cell_type": "code",
   "execution_count": 46,
   "id": "92969945-9711-4b7f-a2af-8bf585f1378a",
   "metadata": {},
   "outputs": [
    {
     "data": {
      "text/plain": [
       "[]"
      ]
     },
     "execution_count": 46,
     "metadata": {},
     "output_type": "execute_result"
    }
   ],
   "source": [
    "a"
   ]
  },
  {
   "cell_type": "code",
   "execution_count": 47,
   "id": "77052cb1-051d-43da-8487-71c9bf162ae4",
   "metadata": {},
   "outputs": [],
   "source": [
    "l.append(10)"
   ]
  },
  {
   "cell_type": "code",
   "execution_count": 48,
   "id": "fe85648e-04ec-4e69-b3d7-37f634dd4cdb",
   "metadata": {},
   "outputs": [
    {
     "data": {
      "text/plain": [
       "[1.5, 'vishal', True, None, type, int, [2, 3, 4], 'Basket', 10, 10]"
      ]
     },
     "execution_count": 48,
     "metadata": {},
     "output_type": "execute_result"
    }
   ],
   "source": [
    "l"
   ]
  },
  {
   "cell_type": "code",
   "execution_count": 49,
   "id": "9a083a6c-8f01-402b-b0f0-096409633a72",
   "metadata": {},
   "outputs": [
    {
     "data": {
      "text/plain": [
       "2"
      ]
     },
     "execution_count": 49,
     "metadata": {},
     "output_type": "execute_result"
    }
   ],
   "source": [
    "l.count(10)"
   ]
  },
  {
   "cell_type": "code",
   "execution_count": 50,
   "id": "317c455f-e2f9-4f27-89ab-aadf116ef632",
   "metadata": {},
   "outputs": [
    {
     "data": {
      "text/plain": [
       "0"
      ]
     },
     "execution_count": 50,
     "metadata": {},
     "output_type": "execute_result"
    }
   ],
   "source": [
    "l.count('p')"
   ]
  },
  {
   "cell_type": "code",
   "execution_count": 52,
   "id": "2b5fbf4a-14ab-456e-92af-e15f0843a966",
   "metadata": {},
   "outputs": [],
   "source": [
    "l.insert(3, 'tushar')"
   ]
  },
  {
   "cell_type": "code",
   "execution_count": 53,
   "id": "8c7894c4-7833-40b8-b1ae-e8093ae71fe3",
   "metadata": {},
   "outputs": [
    {
     "data": {
      "text/plain": [
       "[1.5, 'vishal', True, 'tushar', None, type, int, [2, 3, 4], 'Basket', 10, 10]"
      ]
     },
     "execution_count": 53,
     "metadata": {},
     "output_type": "execute_result"
    }
   ],
   "source": [
    "l"
   ]
  },
  {
   "cell_type": "code",
   "execution_count": 54,
   "id": "91ee2680-2f8b-455a-a026-065fc7919fcd",
   "metadata": {},
   "outputs": [
    {
     "data": {
      "text/plain": [
       "[1.5, 'vishal', True, 'tushar', None, type, int, [2, 3, 4], 'Basket', 10, 10]"
      ]
     },
     "execution_count": 54,
     "metadata": {},
     "output_type": "execute_result"
    }
   ],
   "source": [
    "l"
   ]
  },
  {
   "cell_type": "code",
   "execution_count": 55,
   "id": "b65a019d-fa9a-4247-91a6-42ecff260ce0",
   "metadata": {},
   "outputs": [],
   "source": [
    "a = [1, 2, 3, 4]"
   ]
  },
  {
   "cell_type": "code",
   "execution_count": 56,
   "id": "9630e652-34c8-4577-a525-fe2dfc84807a",
   "metadata": {},
   "outputs": [],
   "source": [
    "a.extend(l)"
   ]
  },
  {
   "cell_type": "code",
   "execution_count": 57,
   "id": "8f7cdf95-c8ea-41df-8224-14d0341fcdfb",
   "metadata": {},
   "outputs": [
    {
     "data": {
      "text/plain": [
       "[1,\n",
       " 2,\n",
       " 3,\n",
       " 4,\n",
       " 1.5,\n",
       " 'vishal',\n",
       " True,\n",
       " 'tushar',\n",
       " None,\n",
       " type,\n",
       " int,\n",
       " [2, 3, 4],\n",
       " 'Basket',\n",
       " 10,\n",
       " 10]"
      ]
     },
     "execution_count": 57,
     "metadata": {},
     "output_type": "execute_result"
    }
   ],
   "source": [
    "a"
   ]
  },
  {
   "cell_type": "code",
   "execution_count": 59,
   "id": "45237ff4-b85c-4409-832c-8bc39e660e9f",
   "metadata": {},
   "outputs": [],
   "source": [
    "a = [1, 7, 100, -11, -2,0]"
   ]
  },
  {
   "cell_type": "code",
   "execution_count": 60,
   "id": "ea375061-f707-46f9-9c95-80333cb71f9f",
   "metadata": {},
   "outputs": [],
   "source": [
    "a.sort()"
   ]
  },
  {
   "cell_type": "code",
   "execution_count": 61,
   "id": "75387126-2ad7-4cdf-9341-6f09652dee82",
   "metadata": {},
   "outputs": [
    {
     "data": {
      "text/plain": [
       "[-11, -2, 0, 1, 7, 100]"
      ]
     },
     "execution_count": 61,
     "metadata": {},
     "output_type": "execute_result"
    }
   ],
   "source": [
    "a"
   ]
  },
  {
   "cell_type": "code",
   "execution_count": 64,
   "id": "da17d3b3-16df-4bd3-9baf-c624b11ccf68",
   "metadata": {},
   "outputs": [
    {
     "data": {
      "text/plain": [
       "[100, 7, 1, 0, -2, -11]"
      ]
     },
     "execution_count": 64,
     "metadata": {},
     "output_type": "execute_result"
    }
   ],
   "source": [
    "sorted(a, reverse=True)"
   ]
  },
  {
   "cell_type": "code",
   "execution_count": 65,
   "id": "ce12dbe8-1f26-42ff-bb79-9fc57d200b5f",
   "metadata": {},
   "outputs": [
    {
     "data": {
      "text/plain": [
       "9"
      ]
     },
     "execution_count": 65,
     "metadata": {},
     "output_type": "execute_result"
    }
   ],
   "source": [
    "l.index(10)"
   ]
  },
  {
   "cell_type": "code",
   "execution_count": 68,
   "id": "b6eadedf-8736-4103-925f-9a53b87eb07b",
   "metadata": {},
   "outputs": [],
   "source": [
    "l.reverse()"
   ]
  },
  {
   "cell_type": "code",
   "execution_count": 69,
   "id": "b1936eff-f5ef-40bf-b445-fe607dd164d9",
   "metadata": {},
   "outputs": [
    {
     "data": {
      "text/plain": [
       "[10, 10, 'Basket', [2, 3, 4], int, type, None, 'tushar', True, 'vishal', 1.5]"
      ]
     },
     "execution_count": 69,
     "metadata": {},
     "output_type": "execute_result"
    }
   ],
   "source": [
    "l"
   ]
  },
  {
   "cell_type": "code",
   "execution_count": 70,
   "id": "cd7222d5-0c08-4237-a450-0a1fd3c11fed",
   "metadata": {},
   "outputs": [],
   "source": [
    "# tuples : "
   ]
  },
  {
   "cell_type": "code",
   "execution_count": 71,
   "id": "652d67f1-acf6-4048-b8c8-338847e7e6af",
   "metadata": {},
   "outputs": [],
   "source": [
    "tup = (10, 10, 'Basket', [2, 3, 4], int, type, None, 'tushar', True, 'vishal', 1.5)"
   ]
  },
  {
   "cell_type": "code",
   "execution_count": 72,
   "id": "408b5c52-3c16-4175-b575-92a4cea3ac32",
   "metadata": {},
   "outputs": [
    {
     "data": {
      "text/plain": [
       "tuple"
      ]
     },
     "execution_count": 72,
     "metadata": {},
     "output_type": "execute_result"
    }
   ],
   "source": [
    "type(tup)"
   ]
  },
  {
   "cell_type": "code",
   "execution_count": 76,
   "id": "df8642c1-cee2-4985-b394-a1d432f0cf87",
   "metadata": {},
   "outputs": [],
   "source": [
    "l[0] = 1000\n",
    "l.append(10)"
   ]
  },
  {
   "cell_type": "code",
   "execution_count": 75,
   "id": "d3d60871-a2c3-4b07-9db4-34c67b3de46c",
   "metadata": {},
   "outputs": [
    {
     "data": {
      "text/plain": [
       "[1000, 10, 'Basket', [2, 3, 4], int, type, None, 'tushar', True, 'vishal', 1.5]"
      ]
     },
     "execution_count": 75,
     "metadata": {},
     "output_type": "execute_result"
    }
   ],
   "source": [
    "l"
   ]
  },
  {
   "cell_type": "code",
   "execution_count": 77,
   "id": "48e86401-5771-47e1-879e-f475f3bf0b79",
   "metadata": {},
   "outputs": [
    {
     "data": {
      "text/plain": [
       "2"
      ]
     },
     "execution_count": 77,
     "metadata": {},
     "output_type": "execute_result"
    }
   ],
   "source": [
    "tup.count(10)"
   ]
  },
  {
   "cell_type": "code",
   "execution_count": 79,
   "id": "5501c00b-9f0f-4158-9148-01efa56d3a41",
   "metadata": {},
   "outputs": [
    {
     "data": {
      "text/plain": [
       "0"
      ]
     },
     "execution_count": 79,
     "metadata": {},
     "output_type": "execute_result"
    }
   ],
   "source": [
    "tup.index(10)"
   ]
  },
  {
   "cell_type": "code",
   "execution_count": 81,
   "id": "7fad31ec-f665-471c-b6d1-c89a5236f913",
   "metadata": {},
   "outputs": [],
   "source": [
    "l = l +[ 1]"
   ]
  },
  {
   "cell_type": "code",
   "execution_count": 82,
   "id": "b39eca02-4f58-444e-b202-95b127b3dde7",
   "metadata": {},
   "outputs": [
    {
     "data": {
      "text/plain": [
       "[1000,\n",
       " 10,\n",
       " 'Basket',\n",
       " [2, 3, 4],\n",
       " int,\n",
       " type,\n",
       " None,\n",
       " 'tushar',\n",
       " True,\n",
       " 'vishal',\n",
       " 1.5,\n",
       " 10,\n",
       " 1]"
      ]
     },
     "execution_count": 82,
     "metadata": {},
     "output_type": "execute_result"
    }
   ],
   "source": [
    "l"
   ]
  },
  {
   "cell_type": "code",
   "execution_count": 83,
   "id": "11f09c53-5fd8-44af-9072-5d451b8b94b5",
   "metadata": {},
   "outputs": [],
   "source": [
    "tup = tup + (1, )"
   ]
  },
  {
   "cell_type": "code",
   "execution_count": 84,
   "id": "6bc77212-84fe-4cf1-8a06-9f4c606acfeb",
   "metadata": {},
   "outputs": [
    {
     "data": {
      "text/plain": [
       "(10,\n",
       " 10,\n",
       " 'Basket',\n",
       " [2, 3, 4],\n",
       " int,\n",
       " type,\n",
       " None,\n",
       " 'tushar',\n",
       " True,\n",
       " 'vishal',\n",
       " 1.5,\n",
       " 1)"
      ]
     },
     "execution_count": 84,
     "metadata": {},
     "output_type": "execute_result"
    }
   ],
   "source": [
    "tup"
   ]
  },
  {
   "cell_type": "code",
   "execution_count": 87,
   "id": "9d131516-475b-4295-91b7-39d13e092765",
   "metadata": {},
   "outputs": [
    {
     "data": {
      "text/plain": [
       "10"
      ]
     },
     "execution_count": 87,
     "metadata": {},
     "output_type": "execute_result"
    }
   ],
   "source": [
    "tup[0]"
   ]
  },
  {
   "cell_type": "code",
   "execution_count": 88,
   "id": "d9977a52-c03a-4023-8fd5-a9bd30ce004a",
   "metadata": {},
   "outputs": [],
   "source": [
    "tup = list(tup)"
   ]
  },
  {
   "cell_type": "code",
   "execution_count": 89,
   "id": "39078281-5bf1-4ac7-b39d-bea285ad3431",
   "metadata": {},
   "outputs": [
    {
     "data": {
      "text/plain": [
       "[10,\n",
       " 10,\n",
       " 'Basket',\n",
       " [2, 3, 4],\n",
       " int,\n",
       " type,\n",
       " None,\n",
       " 'tushar',\n",
       " True,\n",
       " 'vishal',\n",
       " 1.5,\n",
       " 1]"
      ]
     },
     "execution_count": 89,
     "metadata": {},
     "output_type": "execute_result"
    }
   ],
   "source": [
    "tup"
   ]
  },
  {
   "cell_type": "code",
   "execution_count": 90,
   "id": "98e5b1ca-b67c-4e88-801f-69f62259b018",
   "metadata": {},
   "outputs": [],
   "source": [
    "tup = tuple(tup)"
   ]
  },
  {
   "cell_type": "code",
   "execution_count": 91,
   "id": "8a91a7b5-7560-41b8-850a-6d631111dfc0",
   "metadata": {},
   "outputs": [
    {
     "data": {
      "text/plain": [
       "(10,\n",
       " 10,\n",
       " 'Basket',\n",
       " [2, 3, 4],\n",
       " int,\n",
       " type,\n",
       " None,\n",
       " 'tushar',\n",
       " True,\n",
       " 'vishal',\n",
       " 1.5,\n",
       " 1)"
      ]
     },
     "execution_count": 91,
     "metadata": {},
     "output_type": "execute_result"
    }
   ],
   "source": [
    "tup"
   ]
  },
  {
   "cell_type": "code",
   "execution_count": null,
   "id": "538d948a-bbbf-477b-aae9-268b6d965fea",
   "metadata": {},
   "outputs": [],
   "source": []
  }
 ],
 "metadata": {
  "kernelspec": {
   "display_name": "Python 3 (ipykernel)",
   "language": "python",
   "name": "python3"
  },
  "language_info": {
   "codemirror_mode": {
    "name": "ipython",
    "version": 3
   },
   "file_extension": ".py",
   "mimetype": "text/x-python",
   "name": "python",
   "nbconvert_exporter": "python",
   "pygments_lexer": "ipython3",
   "version": "3.12.7"
  }
 },
 "nbformat": 4,
 "nbformat_minor": 5
}
