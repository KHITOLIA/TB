{
 "cells": [
  {
   "cell_type": "code",
   "execution_count": 18,
   "id": "e0e968e3-4dc3-4b58-ab0b-d24014b5602a",
   "metadata": {},
   "outputs": [
    {
     "name": "stdout",
     "output_type": "stream",
     "text": [
      "prime number\n"
     ]
    }
   ],
   "source": [
    "# Questions : \n",
    "num = 4898323\n",
    "for i in range(2, num):\n",
    "    if num%i == 0:\n",
    "        print(\"Not prime number\")\n",
    "        break\n",
    "else:\n",
    "    print(\"prime number\")"
   ]
  },
  {
   "cell_type": "code",
   "execution_count": 19,
   "id": "e41b47d3-656d-4950-b91a-4922f9b9d772",
   "metadata": {},
   "outputs": [
    {
     "name": "stdout",
     "output_type": "stream",
     "text": [
      "Prime number\n"
     ]
    }
   ],
   "source": [
    "factor = 0\n",
    "for i in range(1, num+1):\n",
    "    if num%i == 0:\n",
    "        factor += 1\n",
    "if factor == 2:\n",
    "    print(\"Prime number\")\n",
    "else:\n",
    "    print(\"Not a prime number\")"
   ]
  },
  {
   "cell_type": "code",
   "execution_count": 24,
   "id": "f68a5732-4dee-4abe-b44e-06c059afdbdd",
   "metadata": {},
   "outputs": [],
   "source": [
    "a = 1222311\n",
    "# o = [(1, 3), (2, 3), (3, 1)]\n",
    "b = []\n",
    "o = []\n",
    "for i in str(a):\n",
    "    if i not in b:\n",
    "        b.append(i)"
   ]
  },
  {
   "cell_type": "code",
   "execution_count": 25,
   "id": "d07847ec-2ff3-455a-a6fe-9a129c1991c8",
   "metadata": {},
   "outputs": [
    {
     "data": {
      "text/plain": [
       "['1', '2', '3']"
      ]
     },
     "execution_count": 25,
     "metadata": {},
     "output_type": "execute_result"
    }
   ],
   "source": [
    "b"
   ]
  },
  {
   "cell_type": "code",
   "execution_count": 26,
   "id": "7a459c37-5a53-4ad6-bbb7-70444ff88f5d",
   "metadata": {},
   "outputs": [],
   "source": [
    "b = []\n",
    "o = []\n",
    "for i in str(a):\n",
    "    if i not in b:\n",
    "        b.append(i)\n",
    "for i in b:\n",
    "    # print(str(a).count(i))\n",
    "    o.append((i, str(a).count(i)))"
   ]
  },
  {
   "cell_type": "code",
   "execution_count": 28,
   "id": "d0500448-09f5-4ea9-88ed-5b265b6fe101",
   "metadata": {},
   "outputs": [
    {
     "data": {
      "text/plain": [
       "[('1', 3), ('2', 3), ('3', 1)]"
      ]
     },
     "execution_count": 28,
     "metadata": {},
     "output_type": "execute_result"
    }
   ],
   "source": [
    "sorted(o)"
   ]
  },
  {
   "cell_type": "code",
   "execution_count": 30,
   "id": "2993d627-e4d7-4d35-a249-2cb3b994565c",
   "metadata": {},
   "outputs": [],
   "source": [
    "st = 'abc'\n",
    "sum_ = 0\n",
    "for i in st:\n",
    "    # print(ord(i))\n",
    "    sum_ = sum_ + ord(i)"
   ]
  },
  {
   "cell_type": "code",
   "execution_count": 31,
   "id": "1a380284-0fc6-4425-99a0-0c7a21a613c6",
   "metadata": {},
   "outputs": [
    {
     "data": {
      "text/plain": [
       "294"
      ]
     },
     "execution_count": 31,
     "metadata": {},
     "output_type": "execute_result"
    }
   ],
   "source": [
    "sum_"
   ]
  },
  {
   "cell_type": "code",
   "execution_count": 32,
   "id": "aa42ce3b-984a-426e-a775-335d0d2f95d5",
   "metadata": {},
   "outputs": [],
   "source": [
    "st = 'training basket'\n",
    "a = []\n",
    "for i in st:\n",
    "    if i not in a:\n",
    "        a.append(i)"
   ]
  },
  {
   "cell_type": "code",
   "execution_count": 33,
   "id": "e448e792-0447-47a5-bfbf-5ccc7cbc26d2",
   "metadata": {},
   "outputs": [
    {
     "data": {
      "text/plain": [
       "['t', 'r', 'a', 'i', 'n', 'g', ' ', 'b', 's', 'k', 'e']"
      ]
     },
     "execution_count": 33,
     "metadata": {},
     "output_type": "execute_result"
    }
   ],
   "source": [
    "a"
   ]
  },
  {
   "cell_type": "code",
   "execution_count": 45,
   "id": "475c9c4d-f82f-4b1d-8633-cd75a887e5f8",
   "metadata": {},
   "outputs": [
    {
     "name": "stdout",
     "output_type": "stream",
     "text": [
      "r\n"
     ]
    }
   ],
   "source": [
    "for i in a:\n",
    "    if st.count(i) == 1:\n",
    "        print(i)\n",
    "        break"
   ]
  },
  {
   "cell_type": "code",
   "execution_count": 41,
   "id": "34134ce3-b60a-41f0-9bb6-262da0b4effc",
   "metadata": {},
   "outputs": [
    {
     "data": {
      "text/plain": [
       "'r'"
      ]
     },
     "execution_count": 41,
     "metadata": {},
     "output_type": "execute_result"
    }
   ],
   "source": [
    "st[st.index('r')]"
   ]
  },
  {
   "cell_type": "code",
   "execution_count": 42,
   "id": "d464daaa-948e-4827-ae3e-c58cd29d5dea",
   "metadata": {},
   "outputs": [
    {
     "data": {
      "text/plain": [
       "1"
      ]
     },
     "execution_count": 42,
     "metadata": {},
     "output_type": "execute_result"
    }
   ],
   "source": [
    "st.index('r')"
   ]
  },
  {
   "cell_type": "code",
   "execution_count": 44,
   "id": "273866a0-10e7-4e15-84e3-d846322f810c",
   "metadata": {},
   "outputs": [
    {
     "data": {
      "text/plain": [
       "'r'"
      ]
     },
     "execution_count": 44,
     "metadata": {},
     "output_type": "execute_result"
    }
   ],
   "source": [
    "st[st.index('r')]"
   ]
  },
  {
   "cell_type": "code",
   "execution_count": 47,
   "id": "57c8d58e-2d34-4c6e-9acb-607c3814b07f",
   "metadata": {},
   "outputs": [],
   "source": [
    "# count = 0\n",
    "# while True:\n",
    "    "
   ]
  },
  {
   "cell_type": "code",
   "execution_count": 48,
   "id": "a5bba2d0-65e3-42cc-a97b-2bbe46cbda2e",
   "metadata": {},
   "outputs": [],
   "source": [
    "def abc():\n",
    "    print(2+ 3)"
   ]
  },
  {
   "cell_type": "code",
   "execution_count": 49,
   "id": "ae064744-d5ae-4e3a-9ca1-58ce31b80303",
   "metadata": {},
   "outputs": [
    {
     "name": "stdout",
     "output_type": "stream",
     "text": [
      "5\n"
     ]
    }
   ],
   "source": [
    "abc()"
   ]
  },
  {
   "cell_type": "code",
   "execution_count": 50,
   "id": "7c0265fd-cee7-416d-ac50-f8bcc75dc650",
   "metadata": {},
   "outputs": [
    {
     "data": {
      "text/plain": [
       "<function __main__.abc()>"
      ]
     },
     "execution_count": 50,
     "metadata": {},
     "output_type": "execute_result"
    }
   ],
   "source": [
    "abc"
   ]
  },
  {
   "cell_type": "code",
   "execution_count": 51,
   "id": "292548a9-31fe-496d-8550-cb6b4d8a9739",
   "metadata": {},
   "outputs": [
    {
     "data": {
      "text/plain": [
       "<function print(*args, sep=' ', end='\\n', file=None, flush=False)>"
      ]
     },
     "execution_count": 51,
     "metadata": {},
     "output_type": "execute_result"
    }
   ],
   "source": [
    "print"
   ]
  },
  {
   "cell_type": "code",
   "execution_count": 52,
   "id": "fa57c762-c8dd-4047-b621-9ee3bf4ab84b",
   "metadata": {},
   "outputs": [
    {
     "data": {
      "text/plain": [
       "<function len(obj, /)>"
      ]
     },
     "execution_count": 52,
     "metadata": {},
     "output_type": "execute_result"
    }
   ],
   "source": [
    "len"
   ]
  },
  {
   "cell_type": "code",
   "execution_count": 94,
   "id": "8e027109-5eea-4cc4-acac-b3512d5b7607",
   "metadata": {},
   "outputs": [],
   "source": [
    "def calc(a, b = 1):\n",
    "    return a+b, a-b, a*b, a/b"
   ]
  },
  {
   "cell_type": "code",
   "execution_count": 82,
   "id": "0012996c-1504-4b40-83f4-9c07e32c935b",
   "metadata": {},
   "outputs": [],
   "source": [
    "# cal = calc(4, 5)"
   ]
  },
  {
   "cell_type": "code",
   "execution_count": 83,
   "id": "90b12817-e6b5-499a-8a17-cfdf8ab9652e",
   "metadata": {},
   "outputs": [
    {
     "name": "stdout",
     "output_type": "stream",
     "text": [
      "(9, -1, 20, 0.8)\n"
     ]
    }
   ],
   "source": [
    "print(calc(4, 5))"
   ]
  },
  {
   "cell_type": "code",
   "execution_count": 84,
   "id": "d853dc42-b9d0-4f9b-b44f-3bca8f5c6ce0",
   "metadata": {},
   "outputs": [
    {
     "name": "stdout",
     "output_type": "stream",
     "text": [
      "(9, -1, 20, 0.8)\n"
     ]
    }
   ],
   "source": [
    "print(calc(4, 5))"
   ]
  },
  {
   "cell_type": "code",
   "execution_count": 85,
   "id": "865a2f3f-9ece-4809-bdb7-129a53d45780",
   "metadata": {},
   "outputs": [],
   "source": [
    "cal = calc(4, 5)"
   ]
  },
  {
   "cell_type": "code",
   "execution_count": 86,
   "id": "b2afabfd-6617-428a-82d4-eb0944d3bbdd",
   "metadata": {},
   "outputs": [
    {
     "data": {
      "text/plain": [
       "(9, -1, 20, 0.8)"
      ]
     },
     "execution_count": 86,
     "metadata": {},
     "output_type": "execute_result"
    }
   ],
   "source": [
    "cal"
   ]
  },
  {
   "cell_type": "code",
   "execution_count": 100,
   "id": "a8ff6147-f839-4227-ab97-a574fde29124",
   "metadata": {},
   "outputs": [],
   "source": [
    "add, sub, mult, div = calc(4, 5)"
   ]
  },
  {
   "cell_type": "code",
   "execution_count": 101,
   "id": "431b62c0-6747-4063-991f-c323feaf7b0c",
   "metadata": {},
   "outputs": [
    {
     "data": {
      "text/plain": [
       "9"
      ]
     },
     "execution_count": 101,
     "metadata": {},
     "output_type": "execute_result"
    }
   ],
   "source": [
    "add"
   ]
  },
  {
   "cell_type": "code",
   "execution_count": 102,
   "id": "e309a471-8471-40a4-a17a-f0c6473ab0c0",
   "metadata": {},
   "outputs": [
    {
     "data": {
      "text/plain": [
       "-1"
      ]
     },
     "execution_count": 102,
     "metadata": {},
     "output_type": "execute_result"
    }
   ],
   "source": [
    "sub"
   ]
  },
  {
   "cell_type": "code",
   "execution_count": 103,
   "id": "2908f3ee-82f6-4682-b342-a66f4e68695e",
   "metadata": {},
   "outputs": [
    {
     "data": {
      "text/plain": [
       "20"
      ]
     },
     "execution_count": 103,
     "metadata": {},
     "output_type": "execute_result"
    }
   ],
   "source": [
    "mult"
   ]
  },
  {
   "cell_type": "code",
   "execution_count": 104,
   "id": "fa680642-9fd6-4615-9026-46a001428699",
   "metadata": {},
   "outputs": [
    {
     "data": {
      "text/plain": [
       "0.8"
      ]
     },
     "execution_count": 104,
     "metadata": {},
     "output_type": "execute_result"
    }
   ],
   "source": [
    "div"
   ]
  },
  {
   "cell_type": "code",
   "execution_count": 106,
   "id": "82b0b861-178a-4125-8e49-633372613ba4",
   "metadata": {},
   "outputs": [
    {
     "name": "stdout",
     "output_type": "stream",
     "text": [
      "asdasd\n"
     ]
    }
   ],
   "source": [
    "print(\"asdasd\")"
   ]
  },
  {
   "cell_type": "code",
   "execution_count": 107,
   "id": "8b3eed0b-278f-4622-b5a1-e72f9b31ab8e",
   "metadata": {},
   "outputs": [],
   "source": [
    "a = print"
   ]
  },
  {
   "cell_type": "code",
   "execution_count": 108,
   "id": "656c1936-eb7e-4ce7-be8c-99ec3c27c059",
   "metadata": {},
   "outputs": [
    {
     "data": {
      "text/plain": [
       "<function print(*args, sep=' ', end='\\n', file=None, flush=False)>"
      ]
     },
     "execution_count": 108,
     "metadata": {},
     "output_type": "execute_result"
    }
   ],
   "source": [
    "a"
   ]
  },
  {
   "cell_type": "code",
   "execution_count": 109,
   "id": "55103945-d1b3-4742-ae11-0cd2ff122671",
   "metadata": {},
   "outputs": [
    {
     "data": {
      "text/plain": [
       "<function print(*args, sep=' ', end='\\n', file=None, flush=False)>"
      ]
     },
     "execution_count": 109,
     "metadata": {},
     "output_type": "execute_result"
    }
   ],
   "source": [
    "print"
   ]
  },
  {
   "cell_type": "code",
   "execution_count": 110,
   "id": "46c3b188-7a44-44b6-a96e-a1eff78d0641",
   "metadata": {},
   "outputs": [
    {
     "name": "stdout",
     "output_type": "stream",
     "text": [
      "hello\n"
     ]
    }
   ],
   "source": [
    "print(\"hello\")"
   ]
  },
  {
   "cell_type": "code",
   "execution_count": 111,
   "id": "7f945156-a477-437b-9e30-3ba9e547fa27",
   "metadata": {},
   "outputs": [
    {
     "name": "stdout",
     "output_type": "stream",
     "text": [
      "hello\n"
     ]
    }
   ],
   "source": [
    "a(\"hello\")"
   ]
  },
  {
   "cell_type": "code",
   "execution_count": 112,
   "id": "754e82e7-4812-4ce0-8b82-11b148c57e0e",
   "metadata": {},
   "outputs": [
    {
     "data": {
      "text/plain": [
       "['1', '2', '3']"
      ]
     },
     "execution_count": 112,
     "metadata": {},
     "output_type": "execute_result"
    }
   ],
   "source": [
    "b"
   ]
  },
  {
   "cell_type": "code",
   "execution_count": 113,
   "id": "eb335426-fed3-45e8-a5fd-66cc86fe47f0",
   "metadata": {},
   "outputs": [],
   "source": [
    "b = list"
   ]
  },
  {
   "cell_type": "code",
   "execution_count": 114,
   "id": "52827970-6962-41c0-9769-a7dcf004f980",
   "metadata": {},
   "outputs": [
    {
     "data": {
      "text/plain": [
       "list"
      ]
     },
     "execution_count": 114,
     "metadata": {},
     "output_type": "execute_result"
    }
   ],
   "source": [
    "b"
   ]
  },
  {
   "cell_type": "code",
   "execution_count": 115,
   "id": "a023cb26-63c7-4ce9-94a2-fffbdcc0194a",
   "metadata": {},
   "outputs": [
    {
     "data": {
      "text/plain": [
       "<function print(*args, sep=' ', end='\\n', file=None, flush=False)>"
      ]
     },
     "execution_count": 115,
     "metadata": {},
     "output_type": "execute_result"
    }
   ],
   "source": [
    "a"
   ]
  },
  {
   "cell_type": "code",
   "execution_count": 120,
   "id": "8bb0393f-b524-433c-814d-b276d6f0fc37",
   "metadata": {},
   "outputs": [
    {
     "data": {
      "text/plain": [
       "['t', 'r', 'a', 'i', 'n', 'i', 'n', 'g', ' ', 'b', 'a', 's', 'k', 'e', 't']"
      ]
     },
     "execution_count": 120,
     "metadata": {},
     "output_type": "execute_result"
    }
   ],
   "source": [
    "b(st)"
   ]
  },
  {
   "cell_type": "code",
   "execution_count": 121,
   "id": "b15d284b-295f-42ad-9455-f9c186207394",
   "metadata": {},
   "outputs": [],
   "source": [
    "def count_unique_numbers(a):\n",
    "    b = []\n",
    "    o = []\n",
    "    for i in str(a):\n",
    "        if i not in b:\n",
    "            b.append(i)\n",
    "    for i in b:\n",
    "        # print(str(a).count(i))\n",
    "        o.append((i, str(a).count(i)))\n",
    "    return o"
   ]
  },
  {
   "cell_type": "code",
   "execution_count": 123,
   "id": "f71ce7b8-7a2c-4684-ac8d-cc5d227987d4",
   "metadata": {},
   "outputs": [
    {
     "data": {
      "text/plain": [
       "[('1', 3), ('2', 3), ('3', 1)]"
      ]
     },
     "execution_count": 123,
     "metadata": {},
     "output_type": "execute_result"
    }
   ],
   "source": [
    "count_unique_numbers(1222311)"
   ]
  },
  {
   "cell_type": "code",
   "execution_count": 125,
   "id": "9971e125-a0a7-40cb-bab8-fe51c59b7d1a",
   "metadata": {},
   "outputs": [],
   "source": [
    "# l = ['vishal', 'archit', 'rajeshwari', 'tushar', 'annu', 23, 48, 90]\n",
    "# print the reverse of this list without using slicing and indexing "
   ]
  },
  {
   "cell_type": "code",
   "execution_count": 127,
   "id": "b354acae-33ca-4415-a047-593f09e6d8d6",
   "metadata": {},
   "outputs": [],
   "source": [
    "# strip and split function piche ka code"
   ]
  },
  {
   "cell_type": "code",
   "execution_count": null,
   "id": "afef1398-ab3a-4973-a2fb-0cad8ed4f638",
   "metadata": {},
   "outputs": [],
   "source": []
  }
 ],
 "metadata": {
  "kernelspec": {
   "display_name": "Python 3 (ipykernel)",
   "language": "python",
   "name": "python3"
  },
  "language_info": {
   "codemirror_mode": {
    "name": "ipython",
    "version": 3
   },
   "file_extension": ".py",
   "mimetype": "text/x-python",
   "name": "python",
   "nbconvert_exporter": "python",
   "pygments_lexer": "ipython3",
   "version": "3.12.7"
  }
 },
 "nbformat": 4,
 "nbformat_minor": 5
}
