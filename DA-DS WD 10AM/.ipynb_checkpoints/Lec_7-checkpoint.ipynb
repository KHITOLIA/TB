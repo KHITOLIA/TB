{
 "cells": [
  {
   "cell_type": "code",
   "execution_count": 1,
   "id": "e34a9ac1-1da0-487b-ac39-e9d1ebbbf99a",
   "metadata": {},
   "outputs": [],
   "source": [
    "# Questions : "
   ]
  },
  {
   "cell_type": "code",
   "execution_count": 2,
   "id": "db25af0a-411a-4150-9474-54b160e44915",
   "metadata": {},
   "outputs": [],
   "source": [
    "a = 'Tushar'\n",
    "# you have to find the count of each unique character in your name"
   ]
  },
  {
   "cell_type": "code",
   "execution_count": 3,
   "id": "5dbd144e-6ff2-483b-8ae6-1f21f3edf497",
   "metadata": {},
   "outputs": [
    {
     "name": "stdout",
     "output_type": "stream",
     "text": [
      "1\n",
      "1\n",
      "1\n",
      "1\n",
      "1\n",
      "1\n"
     ]
    }
   ],
   "source": [
    "print(a.count('T'))\n",
    "print(a.count('u'))\n",
    "print(a.count('s'))\n",
    "print(a.count('h'))\n",
    "print(a.count('a'))\n",
    "print(a.count('r'))"
   ]
  },
  {
   "cell_type": "code",
   "execution_count": 4,
   "id": "b22f87fc-5690-4294-8af2-ae36aa8f86ac",
   "metadata": {},
   "outputs": [],
   "source": [
    "st = 'training basket'"
   ]
  },
  {
   "cell_type": "code",
   "execution_count": 5,
   "id": "07f1fde4-a561-4d3c-ac4e-86df928df4fa",
   "metadata": {},
   "outputs": [
    {
     "data": {
      "text/plain": [
       "''"
      ]
     },
     "execution_count": 5,
     "metadata": {},
     "output_type": "execute_result"
    }
   ],
   "source": [
    "st[-1:0]"
   ]
  },
  {
   "cell_type": "code",
   "execution_count": 6,
   "id": "6bdac3fe-29a8-4b00-9898-8fc32cfc2527",
   "metadata": {},
   "outputs": [
    {
     "data": {
      "text/plain": [
       "'teksab gniniart'"
      ]
     },
     "execution_count": 6,
     "metadata": {},
     "output_type": "execute_result"
    }
   ],
   "source": [
    "st[::-1]"
   ]
  },
  {
   "cell_type": "code",
   "execution_count": 7,
   "id": "f025d00b-dad2-450e-8184-420e46da9db6",
   "metadata": {},
   "outputs": [
    {
     "data": {
      "text/plain": [
       "'Tushar'"
      ]
     },
     "execution_count": 7,
     "metadata": {},
     "output_type": "execute_result"
    }
   ],
   "source": [
    "a"
   ]
  },
  {
   "cell_type": "code",
   "execution_count": 8,
   "id": "3ce39b76-3009-40ca-8f3f-72ef8bb6935e",
   "metadata": {},
   "outputs": [],
   "source": [
    "# nitin"
   ]
  },
  {
   "cell_type": "code",
   "execution_count": 9,
   "id": "bcad64ba-3790-4fc5-87d8-cbd823ba4bdf",
   "metadata": {},
   "outputs": [],
   "source": [
    "# naman"
   ]
  },
  {
   "cell_type": "code",
   "execution_count": 10,
   "id": "cba158f5-5a6f-4863-a482-7bc01c20bfc7",
   "metadata": {},
   "outputs": [],
   "source": [
    "# jahaj"
   ]
  },
  {
   "cell_type": "code",
   "execution_count": 11,
   "id": "e6e8c0a7-8a14-4fa8-9867-62e403e41574",
   "metadata": {},
   "outputs": [],
   "source": [
    "a = 'nitin'"
   ]
  },
  {
   "cell_type": "code",
   "execution_count": 12,
   "id": "73443cef-a52c-40bc-a25b-efcdd7220272",
   "metadata": {},
   "outputs": [],
   "source": [
    "b = a[::-1]"
   ]
  },
  {
   "cell_type": "code",
   "execution_count": 13,
   "id": "ed81798c-1e4c-4ab2-8054-35c677a0b461",
   "metadata": {},
   "outputs": [
    {
     "data": {
      "text/plain": [
       "True"
      ]
     },
     "execution_count": 13,
     "metadata": {},
     "output_type": "execute_result"
    }
   ],
   "source": [
    "a == b # it is a pallindrome "
   ]
  },
  {
   "cell_type": "code",
   "execution_count": 14,
   "id": "4766f705-5ba5-49be-96c8-97dbc30e3022",
   "metadata": {},
   "outputs": [
    {
     "data": {
      "text/plain": [
       "'nitin'"
      ]
     },
     "execution_count": 14,
     "metadata": {},
     "output_type": "execute_result"
    }
   ],
   "source": [
    "a"
   ]
  },
  {
   "cell_type": "code",
   "execution_count": 15,
   "id": "c07df82a-b2ec-43dd-9373-27715a7aaad1",
   "metadata": {},
   "outputs": [
    {
     "data": {
      "text/plain": [
       "'training basket'"
      ]
     },
     "execution_count": 15,
     "metadata": {},
     "output_type": "execute_result"
    }
   ],
   "source": [
    "st # make it's first letter as capital and changes basket with session "
   ]
  },
  {
   "cell_type": "code",
   "execution_count": 16,
   "id": "77ea4fb9-fa96-4833-a704-5d7203402583",
   "metadata": {},
   "outputs": [],
   "source": [
    "st = st.replace(\"basket\", \"session\")"
   ]
  },
  {
   "cell_type": "code",
   "execution_count": 17,
   "id": "ce27bfa5-ddf6-4bac-9888-4e35542e9032",
   "metadata": {},
   "outputs": [],
   "source": [
    "st = st.capitalize()"
   ]
  },
  {
   "cell_type": "code",
   "execution_count": 18,
   "id": "92374827-59dd-4b2f-8870-a12da1697e84",
   "metadata": {},
   "outputs": [
    {
     "name": "stdout",
     "output_type": "stream",
     "text": [
      "Training session\n"
     ]
    }
   ],
   "source": [
    "print(st)"
   ]
  },
  {
   "cell_type": "code",
   "execution_count": 19,
   "id": "54753269-582a-4f14-8e94-f33d28791fdd",
   "metadata": {},
   "outputs": [
    {
     "data": {
      "text/plain": [
       "'Training session'"
      ]
     },
     "execution_count": 19,
     "metadata": {},
     "output_type": "execute_result"
    }
   ],
   "source": [
    "st"
   ]
  },
  {
   "cell_type": "code",
   "execution_count": 20,
   "id": "80c233ea-9910-432a-8d92-df44e931830e",
   "metadata": {},
   "outputs": [],
   "source": [
    "st = st.split()"
   ]
  },
  {
   "cell_type": "code",
   "execution_count": 21,
   "id": "ac60e7d5-cb4a-438b-9f01-0010bc0db436",
   "metadata": {},
   "outputs": [
    {
     "data": {
      "text/plain": [
       "['session', 'Training']"
      ]
     },
     "execution_count": 21,
     "metadata": {},
     "output_type": "execute_result"
    }
   ],
   "source": [
    "st[::-1]"
   ]
  },
  {
   "cell_type": "code",
   "execution_count": 22,
   "id": "a9e0f8ad-8ef0-405b-a24a-afc71f6e17f7",
   "metadata": {},
   "outputs": [],
   "source": [
    "a = 'training'"
   ]
  },
  {
   "cell_type": "code",
   "execution_count": 23,
   "id": "336e9078-13bf-41d1-b3b3-da2a9f39670e",
   "metadata": {},
   "outputs": [
    {
     "data": {
      "text/plain": [
       "'gniniart'"
      ]
     },
     "execution_count": 23,
     "metadata": {},
     "output_type": "execute_result"
    }
   ],
   "source": [
    "a[::-1]"
   ]
  },
  {
   "cell_type": "code",
   "execution_count": 24,
   "id": "f3ebb83f-57eb-40fe-9f40-63e0c11bea69",
   "metadata": {},
   "outputs": [
    {
     "name": "stdout",
     "output_type": "stream",
     "text": [
      "15\n"
     ]
    }
   ],
   "source": [
    "code = ''' \n",
    "x = 5 \n",
    "y = 10\n",
    "print(x+y)'''\n",
    "exec(code)"
   ]
  },
  {
   "cell_type": "code",
   "execution_count": 25,
   "id": "8ef1c7b0-334d-4bd9-9756-d6bd5c1e73bf",
   "metadata": {},
   "outputs": [
    {
     "name": "stdout",
     "output_type": "stream",
     "text": [
      "15\n"
     ]
    }
   ],
   "source": [
    "x = 5\n",
    "y = 10\n",
    "print(x+y)"
   ]
  },
  {
   "cell_type": "code",
   "execution_count": 26,
   "id": "e94ace6b-5455-4b87-86e8-a8f6fc33a41d",
   "metadata": {},
   "outputs": [
    {
     "name": "stdout",
     "output_type": "stream",
     "text": [
      "24\n"
     ]
    }
   ],
   "source": [
    "code = '''\n",
    "a = 12\n",
    "b = 12\n",
    "print(a+b)'''\n",
    "exec(code)"
   ]
  },
  {
   "cell_type": "code",
   "execution_count": 27,
   "id": "92918bc4-9a80-4c38-ac59-bd52d52bde6c",
   "metadata": {},
   "outputs": [
    {
     "name": "stdout",
     "output_type": "stream",
     "text": [
      "24\n"
     ]
    }
   ],
   "source": [
    "exec('''a = 12\n",
    "b = 12\n",
    "print(a+b)''')"
   ]
  },
  {
   "cell_type": "code",
   "execution_count": 28,
   "id": "9f8e0da1-aca3-4699-9b0e-d772ee8daac1",
   "metadata": {},
   "outputs": [
    {
     "name": "stdout",
     "output_type": "stream",
     "text": [
      "olleh\n"
     ]
    }
   ],
   "source": [
    "code = '''\n",
    "a = 'hello'\n",
    "print(a[::-1])\n",
    "'''\n",
    "exec(code)"
   ]
  },
  {
   "cell_type": "code",
   "execution_count": 44,
   "id": "d3c065db-9139-4852-95f5-e01c44da4d3b",
   "metadata": {},
   "outputs": [],
   "source": [
    "# Input:\n",
    "s1 = \"abcd\"\n",
    "s2 = \"cdab\"\n",
    "# Output: true\n",
    "# Explanation: After 2 right rotations, s1 will become equal to s2.\n"
   ]
  },
  {
   "cell_type": "code",
   "execution_count": 45,
   "id": "a00ff633-90d7-4e62-867e-0907e31865f3",
   "metadata": {},
   "outputs": [],
   "source": [
    "# 2\n",
    "# 5-3\n",
    "# 8-6"
   ]
  },
  {
   "cell_type": "code",
   "execution_count": 30,
   "id": "da48d71d-1b0c-443c-8c4e-6f9f9da8e2d1",
   "metadata": {},
   "outputs": [
    {
     "data": {
      "text/plain": [
       "True"
      ]
     },
     "execution_count": 30,
     "metadata": {},
     "output_type": "execute_result"
    }
   ],
   "source": [
    "substring_1= s1[:2]\n",
    "substring_2 = s1[2:]\n",
    "s1 = substring_2 + substring_1\n",
    "# print(substring_1, substring_2)\n",
    "s1 == s2"
   ]
  },
  {
   "cell_type": "code",
   "execution_count": 31,
   "id": "c0dad0b1-e0c5-467d-8003-afa25f3c6a8f",
   "metadata": {},
   "outputs": [],
   "source": [
    "substring_1 = substring_1.replace('a', 'c')"
   ]
  },
  {
   "cell_type": "code",
   "execution_count": 32,
   "id": "3c77db23-8c85-4025-8088-b4c19ee72e93",
   "metadata": {},
   "outputs": [],
   "source": [
    "# print(substring_2.replace('c','a'))\n",
    "substring_1 = substring_1.replace('b', 'd')"
   ]
  },
  {
   "cell_type": "code",
   "execution_count": 33,
   "id": "d616b1c5-9132-4124-93af-f8b657f5d693",
   "metadata": {},
   "outputs": [
    {
     "data": {
      "text/plain": [
       "'cd'"
      ]
     },
     "execution_count": 33,
     "metadata": {},
     "output_type": "execute_result"
    }
   ],
   "source": [
    "substring_1"
   ]
  },
  {
   "cell_type": "code",
   "execution_count": 34,
   "id": "4e92374e-87c9-46a2-b631-2dbccca65939",
   "metadata": {},
   "outputs": [],
   "source": [
    "substring_2 = substring_2.replace('c','a')"
   ]
  },
  {
   "cell_type": "code",
   "execution_count": 35,
   "id": "6f478292-1114-4291-b21b-3a069bd738e5",
   "metadata": {},
   "outputs": [],
   "source": [
    "substring_2 = substring_2.replace('d', 'b')"
   ]
  },
  {
   "cell_type": "code",
   "execution_count": 36,
   "id": "2d9fe393-cd92-4b9a-a791-d8538ca1aed1",
   "metadata": {},
   "outputs": [
    {
     "data": {
      "text/plain": [
       "'ab'"
      ]
     },
     "execution_count": 36,
     "metadata": {},
     "output_type": "execute_result"
    }
   ],
   "source": [
    "substring_2"
   ]
  },
  {
   "cell_type": "code",
   "execution_count": 37,
   "id": "6a3bed5d-25bc-414f-af22-ea72395b0d8e",
   "metadata": {},
   "outputs": [],
   "source": [
    "s1 = substring_1 + substring_2"
   ]
  },
  {
   "cell_type": "code",
   "execution_count": 38,
   "id": "d27ec375-3019-4dd1-b18d-ff70fb77dcf6",
   "metadata": {},
   "outputs": [
    {
     "data": {
      "text/plain": [
       "True"
      ]
     },
     "execution_count": 38,
     "metadata": {},
     "output_type": "execute_result"
    }
   ],
   "source": [
    "s1 == s2"
   ]
  },
  {
   "cell_type": "code",
   "execution_count": 39,
   "id": "e2eddbac-8035-4172-a118-0bb5a6af9a0b",
   "metadata": {},
   "outputs": [
    {
     "data": {
      "text/plain": [
       "4"
      ]
     },
     "execution_count": 39,
     "metadata": {},
     "output_type": "execute_result"
    }
   ],
   "source": [
    "len(s1)"
   ]
  },
  {
   "cell_type": "code",
   "execution_count": 40,
   "id": "30f1518b-ecc4-443d-8c13-d0db8e794480",
   "metadata": {},
   "outputs": [],
   "source": [
    "index_0 = s1[0]"
   ]
  },
  {
   "cell_type": "code",
   "execution_count": 41,
   "id": "ab5b43be-20df-4f84-8875-6fe29fee5b9d",
   "metadata": {},
   "outputs": [],
   "source": [
    "index_2 = s1[2]"
   ]
  },
  {
   "cell_type": "code",
   "execution_count": 42,
   "id": "6903859c-739f-439b-a8c1-478fda833d40",
   "metadata": {},
   "outputs": [],
   "source": [
    "s1 = s1.replace(index_0, index_2)\n",
    "s1 = s1.replace(index_2, index_0)"
   ]
  },
  {
   "cell_type": "code",
   "execution_count": 43,
   "id": "82be4e92-96b6-482c-a2f5-09d27032e503",
   "metadata": {},
   "outputs": [
    {
     "data": {
      "text/plain": [
       "'cdcb'"
      ]
     },
     "execution_count": 43,
     "metadata": {},
     "output_type": "execute_result"
    }
   ],
   "source": [
    "s1"
   ]
  },
  {
   "cell_type": "code",
   "execution_count": 46,
   "id": "7e3d37b3-b7d8-4a55-b34a-df1caf164bf7",
   "metadata": {},
   "outputs": [],
   "source": [
    "s = 'hello'\n"
   ]
  },
  {
   "cell_type": "code",
   "execution_count": 47,
   "id": "f5c7062d-687e-4c8a-9e47-2df07c5adae9",
   "metadata": {},
   "outputs": [],
   "source": [
    "s = s.replace('o', 'O')"
   ]
  },
  {
   "cell_type": "code",
   "execution_count": 48,
   "id": "f5be8888-c15f-487c-96e6-33bad1f22b01",
   "metadata": {},
   "outputs": [
    {
     "data": {
      "text/plain": [
       "'hellO'"
      ]
     },
     "execution_count": 48,
     "metadata": {},
     "output_type": "execute_result"
    }
   ],
   "source": [
    "s"
   ]
  },
  {
   "cell_type": "code",
   "execution_count": null,
   "id": "b5ad098a-e3a6-42d3-882c-a0883a9ce952",
   "metadata": {},
   "outputs": [],
   "source": []
  }
 ],
 "metadata": {
  "kernelspec": {
   "display_name": "Python 3 (ipykernel)",
   "language": "python",
   "name": "python3"
  },
  "language_info": {
   "codemirror_mode": {
    "name": "ipython",
    "version": 3
   },
   "file_extension": ".py",
   "mimetype": "text/x-python",
   "name": "python",
   "nbconvert_exporter": "python",
   "pygments_lexer": "ipython3",
   "version": "3.12.7"
  }
 },
 "nbformat": 4,
 "nbformat_minor": 5
}
