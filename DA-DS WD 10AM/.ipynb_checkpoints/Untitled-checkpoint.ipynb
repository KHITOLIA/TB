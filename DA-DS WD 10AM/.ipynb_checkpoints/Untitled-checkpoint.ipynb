{
 "cells": [
  {
   "cell_type": "code",
   "execution_count": 1,
   "id": "fd9443f9-395a-47b3-baec-570e4934ded5",
   "metadata": {},
   "outputs": [],
   "source": [
    "# Advance methods(Function)\n",
    "# lambda expression\n",
    "# map \n",
    "# filter\n",
    "# reduce"
   ]
  },
  {
   "cell_type": "code",
   "execution_count": 2,
   "id": "23b4afb0-3b76-40d9-9334-8edefde005b4",
   "metadata": {},
   "outputs": [],
   "source": [
    "# HOF : \n",
    "# function -> function"
   ]
  },
  {
   "cell_type": "code",
   "execution_count": 53,
   "id": "4b14432d-5c0d-4438-99f3-52b8c4139a8e",
   "metadata": {},
   "outputs": [],
   "source": [
    "def square(n):\n",
    "    return n**2\n",
    "\n",
    "def modify(f, n):\n",
    "    return f(n)\n",
    "    "
   ]
  },
  {
   "cell_type": "code",
   "execution_count": 4,
   "id": "04149211-6f42-4114-9e4a-93f66ce624a1",
   "metadata": {},
   "outputs": [
    {
     "data": {
      "text/plain": [
       "16"
      ]
     },
     "execution_count": 4,
     "metadata": {},
     "output_type": "execute_result"
    }
   ],
   "source": [
    "modify(square, 4)"
   ]
  },
  {
   "cell_type": "code",
   "execution_count": 10,
   "id": "3a06bedb-85c6-4356-a7e5-8b8df637eda7",
   "metadata": {},
   "outputs": [],
   "source": [
    "l = [2, 3, 4, 5]\n",
    "a = l\n",
    "# lambda x , y : x + y"
   ]
  },
  {
   "cell_type": "code",
   "execution_count": 11,
   "id": "1f637137-f53c-48c0-8e85-b63ac5f444ec",
   "metadata": {},
   "outputs": [],
   "source": [
    "for i in range(len(l)):\n",
    "    l[i] = a[i]**2"
   ]
  },
  {
   "cell_type": "code",
   "execution_count": 12,
   "id": "b44f1cfe-42de-485c-9a4a-56b267a9b402",
   "metadata": {},
   "outputs": [
    {
     "data": {
      "text/plain": [
       "[4, 9, 16, 25]"
      ]
     },
     "execution_count": 12,
     "metadata": {},
     "output_type": "execute_result"
    }
   ],
   "source": [
    "l"
   ]
  },
  {
   "cell_type": "code",
   "execution_count": 13,
   "id": "f818a893-cd90-4baa-934c-92b2c3b8ad90",
   "metadata": {},
   "outputs": [],
   "source": [
    "l1 = lambda x : x**2"
   ]
  },
  {
   "cell_type": "code",
   "execution_count": 18,
   "id": "6a9f887a-0f6c-409a-a4a6-22bd9e8588d3",
   "metadata": {},
   "outputs": [
    {
     "data": {
      "text/plain": [
       "6012304"
      ]
     },
     "execution_count": 18,
     "metadata": {},
     "output_type": "execute_result"
    }
   ],
   "source": [
    "l1(2452)"
   ]
  },
  {
   "cell_type": "code",
   "execution_count": 19,
   "id": "feaabbe1-00cc-4000-a972-fe51647397f4",
   "metadata": {},
   "outputs": [],
   "source": [
    "add = lambda x : x + 3"
   ]
  },
  {
   "cell_type": "code",
   "execution_count": 20,
   "id": "c6e270db-31fd-4bc4-9742-21d77afae472",
   "metadata": {},
   "outputs": [
    {
     "data": {
      "text/plain": [
       "7"
      ]
     },
     "execution_count": 20,
     "metadata": {},
     "output_type": "execute_result"
    }
   ],
   "source": [
    "add(4)"
   ]
  },
  {
   "cell_type": "code",
   "execution_count": 21,
   "id": "8815fe34-dc4d-433d-894f-e197799f4fbc",
   "metadata": {},
   "outputs": [],
   "source": [
    "iseven = lambda x : \"even\" if x%2 == 0 else \"odd\""
   ]
  },
  {
   "cell_type": "code",
   "execution_count": 22,
   "id": "e5602112-042e-4ee7-ad6f-26865fddb1e9",
   "metadata": {},
   "outputs": [
    {
     "data": {
      "text/plain": [
       "'odd'"
      ]
     },
     "execution_count": 22,
     "metadata": {},
     "output_type": "execute_result"
    }
   ],
   "source": [
    "iseven(99)"
   ]
  },
  {
   "cell_type": "code",
   "execution_count": 23,
   "id": "c454a1b6-39c8-4f39-871c-7d48621dc0e2",
   "metadata": {},
   "outputs": [
    {
     "name": "stdout",
     "output_type": "stream",
     "text": [
      "odd\n"
     ]
    }
   ],
   "source": [
    "n = 45\n",
    "if n%2 ==0:\n",
    "    print(\"even\")\n",
    "else:\n",
    "    print(\"odd\")"
   ]
  },
  {
   "cell_type": "code",
   "execution_count": 24,
   "id": "4a34a381-ff47-4325-a2c3-7f1f1510347f",
   "metadata": {},
   "outputs": [
    {
     "data": {
      "text/plain": [
       "81"
      ]
     },
     "execution_count": 24,
     "metadata": {},
     "output_type": "execute_result"
    }
   ],
   "source": [
    "square = lambda x : x**2\n",
    "square(9)"
   ]
  },
  {
   "cell_type": "code",
   "execution_count": 29,
   "id": "afcdd9e2-e769-4c87-aff9-21b6228fce02",
   "metadata": {},
   "outputs": [],
   "source": [
    "l = [1, 2, 3, 4, 5, 6]"
   ]
  },
  {
   "cell_type": "code",
   "execution_count": 30,
   "id": "8708dff5-532e-44cb-9d3d-f271b3a07a4b",
   "metadata": {},
   "outputs": [
    {
     "data": {
      "text/plain": [
       "\u001b[1;31mInit signature:\u001b[0m \u001b[0mmap\u001b[0m\u001b[1;33m(\u001b[0m\u001b[0mself\u001b[0m\u001b[1;33m,\u001b[0m \u001b[1;33m/\u001b[0m\u001b[1;33m,\u001b[0m \u001b[1;33m*\u001b[0m\u001b[0margs\u001b[0m\u001b[1;33m,\u001b[0m \u001b[1;33m**\u001b[0m\u001b[0mkwargs\u001b[0m\u001b[1;33m)\u001b[0m\u001b[1;33m\u001b[0m\u001b[1;33m\u001b[0m\u001b[0m\n",
       "\u001b[1;31mDocstring:\u001b[0m     \n",
       "map(func, *iterables) --> map object\n",
       "\n",
       "Make an iterator that computes the function using arguments from\n",
       "each of the iterables.  Stops when the shortest iterable is exhausted.\n",
       "\u001b[1;31mType:\u001b[0m           type\n",
       "\u001b[1;31mSubclasses:\u001b[0m     "
      ]
     },
     "metadata": {},
     "output_type": "display_data"
    }
   ],
   "source": [
    "map?"
   ]
  },
  {
   "cell_type": "code",
   "execution_count": 34,
   "id": "e082f818-8249-4753-9bd8-6810a2d040e2",
   "metadata": {},
   "outputs": [],
   "source": [
    "l = list(map(lambda x : x**2, l))"
   ]
  },
  {
   "cell_type": "code",
   "execution_count": 35,
   "id": "3e0e4b07-eae2-484a-9645-c19b71011843",
   "metadata": {},
   "outputs": [
    {
     "data": {
      "text/plain": [
       "[1, 4, 9, 16, 25, 36]"
      ]
     },
     "execution_count": 35,
     "metadata": {},
     "output_type": "execute_result"
    }
   ],
   "source": [
    "l"
   ]
  },
  {
   "cell_type": "code",
   "execution_count": 39,
   "id": "9d118f89-22c8-4d4b-add0-5bb9fc68c20f",
   "metadata": {},
   "outputs": [],
   "source": [
    "l = list(map(lambda x : \"even\" if x%2 == 0 else \"odd\", l))"
   ]
  },
  {
   "cell_type": "code",
   "execution_count": 40,
   "id": "83b948f2-5b16-4b79-a353-25f3b27588fb",
   "metadata": {},
   "outputs": [
    {
     "data": {
      "text/plain": [
       "['odd', 'even', 'odd', 'even', 'odd', 'even']"
      ]
     },
     "execution_count": 40,
     "metadata": {},
     "output_type": "execute_result"
    }
   ],
   "source": [
    "l"
   ]
  },
  {
   "cell_type": "code",
   "execution_count": 43,
   "id": "b70330fc-00f2-4666-80f2-604b00d3d27f",
   "metadata": {},
   "outputs": [],
   "source": [
    "l = list(map(lambda x : x.capitalize(), l))"
   ]
  },
  {
   "cell_type": "code",
   "execution_count": 44,
   "id": "c7b5324f-2268-471a-805c-4a1430681d33",
   "metadata": {},
   "outputs": [
    {
     "data": {
      "text/plain": [
       "['Odd', 'Even', 'Odd', 'Even', 'Odd', 'Even']"
      ]
     },
     "execution_count": 44,
     "metadata": {},
     "output_type": "execute_result"
    }
   ],
   "source": [
    "l"
   ]
  },
  {
   "cell_type": "code",
   "execution_count": 45,
   "id": "9b89a283-bed8-4d7f-86f0-bbaa16a61ee9",
   "metadata": {},
   "outputs": [],
   "source": [
    "odd = []\n",
    "even = []\n",
    "for i in l:\n",
    "    if i.lower() == 'odd':\n",
    "        odd.append(i)\n",
    "    else:\n",
    "        even.append(i)\n",
    "        "
   ]
  },
  {
   "cell_type": "code",
   "execution_count": 46,
   "id": "9e91b646-0276-4032-949c-675a317e75f6",
   "metadata": {},
   "outputs": [
    {
     "data": {
      "text/plain": [
       "['Odd', 'Odd', 'Odd']"
      ]
     },
     "execution_count": 46,
     "metadata": {},
     "output_type": "execute_result"
    }
   ],
   "source": [
    "odd"
   ]
  },
  {
   "cell_type": "code",
   "execution_count": 47,
   "id": "7ce0cbd9-c5a9-466f-b654-d7269baa500a",
   "metadata": {},
   "outputs": [
    {
     "data": {
      "text/plain": [
       "['Even', 'Even', 'Even']"
      ]
     },
     "execution_count": 47,
     "metadata": {},
     "output_type": "execute_result"
    }
   ],
   "source": [
    "even"
   ]
  },
  {
   "cell_type": "code",
   "execution_count": 50,
   "id": "da24ea48-6371-4103-b37f-c9a5b2fe7ca7",
   "metadata": {},
   "outputs": [],
   "source": [
    "odd = list(filter(lambda x : x.lower() == 'odd', l))\n",
    "even = list(filter(lambda x : x.lower() == 'even', l))"
   ]
  },
  {
   "cell_type": "code",
   "execution_count": 51,
   "id": "698920a4-e8d2-402b-8c60-4709b20ebc91",
   "metadata": {},
   "outputs": [
    {
     "data": {
      "text/plain": [
       "['Odd', 'Odd', 'Odd']"
      ]
     },
     "execution_count": 51,
     "metadata": {},
     "output_type": "execute_result"
    }
   ],
   "source": [
    "odd"
   ]
  },
  {
   "cell_type": "code",
   "execution_count": 52,
   "id": "4203ed3d-caae-4530-ab85-a8ca562c4277",
   "metadata": {},
   "outputs": [
    {
     "data": {
      "text/plain": [
       "['Even', 'Even', 'Even']"
      ]
     },
     "execution_count": 52,
     "metadata": {},
     "output_type": "execute_result"
    }
   ],
   "source": [
    "even"
   ]
  },
  {
   "cell_type": "code",
   "execution_count": 54,
   "id": "00b1952b-7b10-4271-ac9f-563381da6c6a",
   "metadata": {},
   "outputs": [
    {
     "data": {
      "text/plain": [
       "[4, 9, 16, 25]"
      ]
     },
     "execution_count": 54,
     "metadata": {},
     "output_type": "execute_result"
    }
   ],
   "source": [
    "a"
   ]
  },
  {
   "cell_type": "code",
   "execution_count": 57,
   "id": "b19cd3bc-562f-4093-9aab-586d92582870",
   "metadata": {},
   "outputs": [
    {
     "data": {
      "text/plain": [
       "[16, 81, 256, 625]"
      ]
     },
     "execution_count": 57,
     "metadata": {},
     "output_type": "execute_result"
    }
   ],
   "source": [
    "list(map(square, a))"
   ]
  },
  {
   "cell_type": "code",
   "execution_count": 58,
   "id": "a3177201-a345-41df-87b6-017783e21a9f",
   "metadata": {},
   "outputs": [
    {
     "data": {
      "text/plain": [
       "<function __main__.square(n)>"
      ]
     },
     "execution_count": 58,
     "metadata": {},
     "output_type": "execute_result"
    }
   ],
   "source": [
    "square"
   ]
  },
  {
   "cell_type": "code",
   "execution_count": 59,
   "id": "cb9f728d-9872-4e06-a599-2fd52d95a0ab",
   "metadata": {},
   "outputs": [
    {
     "data": {
      "text/plain": [
       "[4, 9, 16, 25]"
      ]
     },
     "execution_count": 59,
     "metadata": {},
     "output_type": "execute_result"
    }
   ],
   "source": [
    "a "
   ]
  },
  {
   "cell_type": "code",
   "execution_count": 60,
   "id": "5085c150-9d54-4577-b7f3-005dbcb541d1",
   "metadata": {},
   "outputs": [],
   "source": [
    "names = ['Tanuja', 'Annu', 'Vishal', 'Archit', 'Rajeshwari', 'Wasif' ,'Praveen', 'Sanjeev', 'lalit']"
   ]
  },
  {
   "cell_type": "code",
   "execution_count": 61,
   "id": "c445240d-9a98-49b6-8fb0-efb5b3d00f0f",
   "metadata": {},
   "outputs": [],
   "source": [
    "# filter out the students whose name is greater than 6"
   ]
  },
  {
   "cell_type": "code",
   "execution_count": 62,
   "id": "704fe3c9-7ce9-4774-9146-411cee6ce1a7",
   "metadata": {},
   "outputs": [
    {
     "data": {
      "text/plain": [
       "['Tanuja', 'Vishal', 'Archit', 'Rajeshwari', 'Praveen', 'Sanjeev']"
      ]
     },
     "execution_count": 62,
     "metadata": {},
     "output_type": "execute_result"
    }
   ],
   "source": [
    "list(filter(lambda x : len(x) >= 6, names))"
   ]
  },
  {
   "cell_type": "code",
   "execution_count": 63,
   "id": "c1fe0c1c-ef5c-4a1f-95b0-080f0d5e189b",
   "metadata": {},
   "outputs": [
    {
     "data": {
      "text/plain": [
       "[4, 9, 16, 25]"
      ]
     },
     "execution_count": 63,
     "metadata": {},
     "output_type": "execute_result"
    }
   ],
   "source": [
    "a"
   ]
  },
  {
   "cell_type": "code",
   "execution_count": 64,
   "id": "6b1e64b4-05b7-4ca3-8b0b-bc91d2f1fdc9",
   "metadata": {},
   "outputs": [],
   "source": [
    "sum_ = 0\n",
    "for num in a:\n",
    "    sum_ += num"
   ]
  },
  {
   "cell_type": "code",
   "execution_count": 65,
   "id": "f4d21b08-6ff5-4215-abec-50f80236dc82",
   "metadata": {},
   "outputs": [
    {
     "data": {
      "text/plain": [
       "54"
      ]
     },
     "execution_count": 65,
     "metadata": {},
     "output_type": "execute_result"
    }
   ],
   "source": [
    "sum_"
   ]
  },
  {
   "cell_type": "code",
   "execution_count": 71,
   "id": "fa4b7d44-b6b1-47ad-aced-486d9bc86a1e",
   "metadata": {},
   "outputs": [
    {
     "data": {
      "text/plain": [
       "\u001b[1;31mDocstring:\u001b[0m\n",
       "reduce(function, iterable[, initial]) -> value\n",
       "\n",
       "Apply a function of two arguments cumulatively to the items of a sequence\n",
       "or iterable, from left to right, so as to reduce the iterable to a single\n",
       "value.  For example, reduce(lambda x, y: x+y, [1, 2, 3, 4, 5]) calculates\n",
       "((((1+2)+3)+4)+5).  If initial is present, it is placed before the items\n",
       "of the iterable in the calculation, and serves as a default when the\n",
       "iterable is empty.\n",
       "\u001b[1;31mType:\u001b[0m      builtin_function_or_method"
      ]
     },
     "metadata": {},
     "output_type": "display_data"
    }
   ],
   "source": [
    "from functools import reduce\n",
    "reduce?"
   ]
  },
  {
   "cell_type": "code",
   "execution_count": 72,
   "id": "32f1d3a7-82fc-464c-b6a0-1467ec1afc60",
   "metadata": {},
   "outputs": [
    {
     "data": {
      "text/plain": [
       "54"
      ]
     },
     "execution_count": 72,
     "metadata": {},
     "output_type": "execute_result"
    }
   ],
   "source": [
    "reduce(lambda x, y : x+y, a)"
   ]
  },
  {
   "cell_type": "code",
   "execution_count": null,
   "id": "cdca1b75-a036-4886-8008-b04c08a65823",
   "metadata": {},
   "outputs": [],
   "source": []
  }
 ],
 "metadata": {
  "kernelspec": {
   "display_name": "Python 3 (ipykernel)",
   "language": "python",
   "name": "python3"
  },
  "language_info": {
   "codemirror_mode": {
    "name": "ipython",
    "version": 3
   },
   "file_extension": ".py",
   "mimetype": "text/x-python",
   "name": "python",
   "nbconvert_exporter": "python",
   "pygments_lexer": "ipython3",
   "version": "3.12.7"
  }
 },
 "nbformat": 4,
 "nbformat_minor": 5
}
