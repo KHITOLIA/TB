{
 "cells": [
  {
   "cell_type": "code",
   "execution_count": 3,
   "id": "0f41be54-f10c-499a-a5b2-bd3a8a942860",
   "metadata": {},
   "outputs": [
    {
     "name": "stdin",
     "output_type": "stream",
     "text": [
      "enter the number :  1000\n"
     ]
    },
    {
     "name": "stdout",
     "output_type": "stream",
     "text": [
      "positive number : \n"
     ]
    }
   ],
   "source": [
    "n = float(input(\"enter the number : \"))\n",
    "if n < 0:\n",
    "    print(\"negative number : \")\n",
    "elif n > 0:\n",
    "    print(\"positive number : \")\n",
    "else:\n",
    "    print('It is a zero')"
   ]
  },
  {
   "cell_type": "code",
   "execution_count": 4,
   "id": "10c0da67-835e-447e-b402-e4f4056045ad",
   "metadata": {},
   "outputs": [
    {
     "name": "stdin",
     "output_type": "stream",
     "text": [
      "enter the age :  20\n"
     ]
    },
    {
     "name": "stdout",
     "output_type": "stream",
     "text": [
      "you are eligible to vote\n"
     ]
    }
   ],
   "source": [
    "age = int(input(\"enter the age : \"))\n",
    "\n",
    "if age >= 18:\n",
    "    print(\"you are eligible to vote\")\n",
    "else:\n",
    "    print(\"Not eligible\")"
   ]
  },
  {
   "cell_type": "code",
   "execution_count": 6,
   "id": "e608961c-e42c-42d5-aff7-315ada829b90",
   "metadata": {},
   "outputs": [
    {
     "name": "stdin",
     "output_type": "stream",
     "text": [
      "enter the number =  9737829310\n"
     ]
    },
    {
     "name": "stdout",
     "output_type": "stream",
     "text": [
      "Number 9737829310.0 is a multiple of 5\n"
     ]
    }
   ],
   "source": [
    "number = float(input(\"enter the number = \"))\n",
    "\n",
    "if number%5 == 0:\n",
    "    print(f\"Number {number} is a multiple of 5\")\n",
    "else:\n",
    "    print(\"not a multiple of 5\")"
   ]
  },
  {
   "cell_type": "code",
   "execution_count": 11,
   "id": "99b86049-0ca6-4acb-b087-2ca5ea554066",
   "metadata": {},
   "outputs": [
    {
     "name": "stdin",
     "output_type": "stream",
     "text": [
      "enter the marks =  90\n"
     ]
    },
    {
     "name": "stdout",
     "output_type": "stream",
     "text": [
      "A\n"
     ]
    }
   ],
   "source": [
    "marks = float(input(\"enter the marks = \"))\n",
    "grade = ''\n",
    "if marks >= 90:\n",
    "    grade = 'A'\n",
    "    print(grade)\n",
    "elif marks > 80 and marks < 90:\n",
    "    grade = 'B'\n",
    "    print(grade)\n",
    "\n",
    "elif marks > 70 and marks <= 80:\n",
    "    grade = 'C'\n",
    "    print(grade)\n",
    "    \n",
    "elif marks > 60 and marks <= 70:\n",
    "    grade = 'C'\n",
    "    print(grade)\n",
    "else:\n",
    "    print('You are fail')"
   ]
  },
  {
   "cell_type": "code",
   "execution_count": 16,
   "id": "ab47748e-d5de-46f1-83fd-d85dcebde0bc",
   "metadata": {},
   "outputs": [
    {
     "name": "stdin",
     "output_type": "stream",
     "text": [
      "enter the character :  u\n"
     ]
    },
    {
     "name": "stdout",
     "output_type": "stream",
     "text": [
      "it is a vowel\n"
     ]
    }
   ],
   "source": [
    "char = input(\"enter the character : \").lower()\n",
    "\n",
    "vowel = 'aeiou'\n",
    "if char in vowel:\n",
    "    print(\"it is a vowel\")\n",
    "else:\n",
    "    print(\"it is a consonant\")"
   ]
  },
  {
   "cell_type": "code",
   "execution_count": 4,
   "id": "1d1116c9-ddf4-4b51-b7b6-00a8e67ee6b1",
   "metadata": {},
   "outputs": [
    {
     "name": "stdin",
     "output_type": "stream",
     "text": [
      "enter the price of laptop =  78\n"
     ]
    },
    {
     "name": "stdout",
     "output_type": "stream",
     "text": [
      "62400.0\n"
     ]
    }
   ],
   "source": [
    "laptop_price = float(input(\"enter the price of laptop = \"))*1000\n",
    "if laptop_price >= 50000:\n",
    "    dis = 20\n",
    "    laptop_price = laptop_price - (laptop_price*20)/100\n",
    "    print(laptop_price)\n",
    "else:\n",
    "    print(\"no discount\")"
   ]
  },
  {
   "cell_type": "code",
   "execution_count": 6,
   "id": "b98791a8-c8c9-4321-8370-dfd4b8bf9ef5",
   "metadata": {},
   "outputs": [
    {
     "name": "stdin",
     "output_type": "stream",
     "text": [
      "enter first side 12\n",
      "enter second side 1\n",
      "enter third side 22\n"
     ]
    },
    {
     "name": "stdout",
     "output_type": "stream",
     "text": [
      "Not a triangle\n"
     ]
    }
   ],
   "source": [
    "a = int(input(\"enter first side\"))\n",
    "b = int(input(\"enter second side\"))\n",
    "c = int(input(\"enter third side\"))\n",
    "\n",
    "if (a + b > c) and (a + c > b) and (b + c > a):\n",
    "    print(\"triangle can be formed\")\n",
    "else:\n",
    "    print(\"Not a triangle\")"
   ]
  },
  {
   "cell_type": "code",
   "execution_count": null,
   "id": "967616d6-4b6b-4ef9-b971-61042e5270a7",
   "metadata": {},
   "outputs": [],
   "source": []
  }
 ],
 "metadata": {
  "kernelspec": {
   "display_name": "Python 3 (ipykernel)",
   "language": "python",
   "name": "python3"
  },
  "language_info": {
   "codemirror_mode": {
    "name": "ipython",
    "version": 3
   },
   "file_extension": ".py",
   "mimetype": "text/x-python",
   "name": "python",
   "nbconvert_exporter": "python",
   "pygments_lexer": "ipython3",
   "version": "3.12.7"
  }
 },
 "nbformat": 4,
 "nbformat_minor": 5
}
