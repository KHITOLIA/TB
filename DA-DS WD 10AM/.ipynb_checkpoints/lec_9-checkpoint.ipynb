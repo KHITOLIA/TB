{
 "cells": [
  {
   "cell_type": "code",
   "execution_count": 11,
   "id": "e624c8d0-144d-474c-b6e8-89cef5da5967",
   "metadata": {},
   "outputs": [],
   "source": [
    "a = 1\n",
    "\n",
    "d = {\n",
    "    'a' : 123,\n",
    "    'b' : True,\n",
    "    '1' : 'praveen',\n",
    "    '4' : [1, 2, 3, 4],\n",
    "    'e' : type(a),\n",
    "    'f' : {'Ai' : 'Ml',\n",
    "          'hi' : 'hello'}\n",
    "}"
   ]
  },
  {
   "cell_type": "code",
   "execution_count": 12,
   "id": "522a2bcc-e29d-4b78-95b0-ddf3c65f835d",
   "metadata": {},
   "outputs": [
    {
     "name": "stdout",
     "output_type": "stream",
     "text": [
      "<class 'type'>\n"
     ]
    }
   ],
   "source": [
    "print(type)"
   ]
  },
  {
   "cell_type": "code",
   "execution_count": 13,
   "id": "7aa4ae0d-f320-453a-b586-e702559f3a39",
   "metadata": {},
   "outputs": [
    {
     "data": {
      "text/plain": [
       "{'a': 123,\n",
       " 'b': True,\n",
       " '1': 'praveen',\n",
       " '4': [1, 2, 3, 4],\n",
       " 'e': int,\n",
       " 'f': {'Ai': 'Ml', 'hi': 'hello'}}"
      ]
     },
     "execution_count": 13,
     "metadata": {},
     "output_type": "execute_result"
    }
   ],
   "source": [
    "d"
   ]
  },
  {
   "cell_type": "code",
   "execution_count": 15,
   "id": "ad5fbb0e-d478-47f9-b0f4-b7c2f7608bad",
   "metadata": {},
   "outputs": [
    {
     "data": {
      "text/plain": [
       "dict"
      ]
     },
     "execution_count": 15,
     "metadata": {},
     "output_type": "execute_result"
    }
   ],
   "source": [
    "type(d)"
   ]
  },
  {
   "cell_type": "code",
   "execution_count": 16,
   "id": "59e73371-94ba-4123-bf07-199fa26f67d8",
   "metadata": {},
   "outputs": [
    {
     "data": {
      "text/plain": [
       "dict_items([('a', 123), ('b', True), ('1', 'praveen'), ('4', [1, 2, 3, 4]), ('e', <class 'int'>), ('f', {'Ai': 'Ml', 'hi': 'hello'})])"
      ]
     },
     "execution_count": 16,
     "metadata": {},
     "output_type": "execute_result"
    }
   ],
   "source": [
    "d.items()"
   ]
  },
  {
   "cell_type": "code",
   "execution_count": 19,
   "id": "9411f85d-419f-4927-a5e2-3bc14efa8313",
   "metadata": {},
   "outputs": [
    {
     "data": {
      "text/plain": [
       "dict_items([('Ai', 'Ml'), ('hi', 'hello')])"
      ]
     },
     "execution_count": 19,
     "metadata": {},
     "output_type": "execute_result"
    }
   ],
   "source": [
    "d['f'].items()"
   ]
  },
  {
   "cell_type": "code",
   "execution_count": 25,
   "id": "2a635532-34d4-4625-9f81-38e0b56a0b19",
   "metadata": {},
   "outputs": [
    {
     "data": {
      "text/plain": [
       "'hello'"
      ]
     },
     "execution_count": 25,
     "metadata": {},
     "output_type": "execute_result"
    }
   ],
   "source": [
    "d['f']['hi']"
   ]
  },
  {
   "cell_type": "code",
   "execution_count": 28,
   "id": "3f9752f1-06c8-483b-adcd-851c47c17596",
   "metadata": {},
   "outputs": [
    {
     "data": {
      "text/plain": [
       "dict_keys(['a', 'b', '1', '4', 'e', 'f'])"
      ]
     },
     "execution_count": 28,
     "metadata": {},
     "output_type": "execute_result"
    }
   ],
   "source": [
    "d.keys()"
   ]
  },
  {
   "cell_type": "code",
   "execution_count": 29,
   "id": "5edef624-ee50-4c91-bab0-5b8242c70354",
   "metadata": {},
   "outputs": [
    {
     "data": {
      "text/plain": [
       "dict_values([123, True, 'praveen', [1, 2, 3, 4], <class 'int'>, {'Ai': 'Ml', 'hi': 'hello'}])"
      ]
     },
     "execution_count": 29,
     "metadata": {},
     "output_type": "execute_result"
    }
   ],
   "source": [
    "d.values()"
   ]
  },
  {
   "cell_type": "code",
   "execution_count": 30,
   "id": "ce0bda0f-5b0c-4f63-b7c1-579c0bd5ee9a",
   "metadata": {},
   "outputs": [
    {
     "data": {
      "text/plain": [
       "{'Ai': 'Ml', 'hi': 'hello'}"
      ]
     },
     "execution_count": 30,
     "metadata": {},
     "output_type": "execute_result"
    }
   ],
   "source": [
    "d.get('f')"
   ]
  },
  {
   "cell_type": "code",
   "execution_count": 34,
   "id": "e3996b20-91ff-4f07-a40d-71b309da7e81",
   "metadata": {},
   "outputs": [
    {
     "data": {
      "text/plain": [
       "3"
      ]
     },
     "execution_count": 34,
     "metadata": {},
     "output_type": "execute_result"
    }
   ],
   "source": [
    "d['4'][2]"
   ]
  },
  {
   "cell_type": "code",
   "execution_count": 36,
   "id": "6a7b97e9-e299-4b4f-a361-25d27470d683",
   "metadata": {},
   "outputs": [],
   "source": [
    "# Sets : "
   ]
  },
  {
   "cell_type": "code",
   "execution_count": 37,
   "id": "29b43182-60ab-4e7b-a18c-bdae03e9e277",
   "metadata": {},
   "outputs": [],
   "source": [
    "s = {}"
   ]
  },
  {
   "cell_type": "code",
   "execution_count": 38,
   "id": "cc8bc68c-bdd4-4183-81ef-3f62a3ae67fe",
   "metadata": {},
   "outputs": [
    {
     "data": {
      "text/plain": [
       "dict"
      ]
     },
     "execution_count": 38,
     "metadata": {},
     "output_type": "execute_result"
    }
   ],
   "source": [
    "type(s)"
   ]
  },
  {
   "cell_type": "code",
   "execution_count": 41,
   "id": "046fdd18-c85e-460b-8b69-fca6f67a2957",
   "metadata": {},
   "outputs": [],
   "source": [
    "s = {1,2, 3, 4, 5, 5, 6,6 ,7, 7}"
   ]
  },
  {
   "cell_type": "code",
   "execution_count": 42,
   "id": "c7374f96-1d14-4a30-8935-50116aac5e71",
   "metadata": {},
   "outputs": [
    {
     "data": {
      "text/plain": [
       "set"
      ]
     },
     "execution_count": 42,
     "metadata": {},
     "output_type": "execute_result"
    }
   ],
   "source": [
    "type(s)"
   ]
  },
  {
   "cell_type": "code",
   "execution_count": 43,
   "id": "1708e81f-bffc-4f8e-aed2-68bcf6d6a681",
   "metadata": {},
   "outputs": [
    {
     "data": {
      "text/plain": [
       "{1, 2, 3, 4, 5, 6, 7}"
      ]
     },
     "execution_count": 43,
     "metadata": {},
     "output_type": "execute_result"
    }
   ],
   "source": [
    "s"
   ]
  },
  {
   "cell_type": "code",
   "execution_count": 45,
   "id": "e0cf0e1e-8cca-4b29-a509-09a93ee51e0c",
   "metadata": {},
   "outputs": [
    {
     "data": {
      "text/plain": [
       "\u001b[1;31mType:\u001b[0m        set\n",
       "\u001b[1;31mString form:\u001b[0m {1, 2, 3, 4, 5, 6, 7}\n",
       "\u001b[1;31mLength:\u001b[0m      7\n",
       "\u001b[1;31mDocstring:\u001b[0m  \n",
       "set() -> new empty set object\n",
       "set(iterable) -> new set object\n",
       "\n",
       "Build an unordered collection of unique elements."
      ]
     },
     "metadata": {},
     "output_type": "display_data"
    }
   ],
   "source": [
    "s?"
   ]
  },
  {
   "cell_type": "code",
   "execution_count": null,
   "id": "7d501b50-3fb7-4445-b247-8710c9af27ac",
   "metadata": {},
   "outputs": [],
   "source": []
  }
 ],
 "metadata": {
  "kernelspec": {
   "display_name": "Python 3 (ipykernel)",
   "language": "python",
   "name": "python3"
  },
  "language_info": {
   "codemirror_mode": {
    "name": "ipython",
    "version": 3
   },
   "file_extension": ".py",
   "mimetype": "text/x-python",
   "name": "python",
   "nbconvert_exporter": "python",
   "pygments_lexer": "ipython3",
   "version": "3.12.7"
  }
 },
 "nbformat": 4,
 "nbformat_minor": 5
}
