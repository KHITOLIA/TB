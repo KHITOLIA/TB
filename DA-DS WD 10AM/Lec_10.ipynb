{
 "cells": [
  {
   "cell_type": "markdown",
   "id": "5b463880-a680-46b7-9fc5-7e47effa0777",
   "metadata": {},
   "source": [
    "# Conditional statements\n",
    "1. if\n",
    "2. elif\n",
    "3. else"
   ]
  },
  {
   "cell_type": "code",
   "execution_count": 7,
   "id": "c823866c-e469-4b33-9efd-4cb965db264f",
   "metadata": {},
   "outputs": [
    {
     "name": "stdout",
     "output_type": "stream",
     "text": [
      "yes\n",
      "yes1\n"
     ]
    }
   ],
   "source": [
    "a = 10\n",
    "\n",
    "if a > 5:\n",
    "    print(\"yes\")\n",
    "\n",
    "if a < 20:\n",
    "    print(\"yes1\")"
   ]
  },
  {
   "cell_type": "code",
   "execution_count": 10,
   "id": "55cf71e8-073f-4e64-9140-a046707bc5e3",
   "metadata": {},
   "outputs": [
    {
     "name": "stdout",
     "output_type": "stream",
     "text": [
      "hello\n"
     ]
    }
   ],
   "source": [
    "if a == 10:\n",
    "    print('hello')"
   ]
  },
  {
   "cell_type": "code",
   "execution_count": 14,
   "id": "598f9bb4-93ad-4cdb-9b95-7e725714616d",
   "metadata": {},
   "outputs": [],
   "source": [
    "if 11%2 == 0:\n",
    "    print(f\"a is an even number\")"
   ]
  },
  {
   "cell_type": "code",
   "execution_count": 29,
   "id": "e6f4e01c-2892-443b-9dd8-e49386fd594e",
   "metadata": {},
   "outputs": [
    {
     "name": "stdout",
     "output_type": "stream",
     "text": [
      "my name is masiha\n"
     ]
    }
   ],
   "source": [
    "if a > 20:\n",
    "    print(\"yes\")\n",
    "    \n",
    "elif a == 100:\n",
    "    print(\"first elif\")\n",
    "    \n",
    "elif a > 20:\n",
    "    print(\"second elif\")\n",
    "\n",
    "else:\n",
    "    print(\"my name is masiha\")"
   ]
  },
  {
   "cell_type": "code",
   "execution_count": 30,
   "id": "3574a090-bf3c-4980-a7f4-5e5e9f467a28",
   "metadata": {},
   "outputs": [],
   "source": [
    "a = 'tushar'"
   ]
  },
  {
   "cell_type": "code",
   "execution_count": 38,
   "id": "80c6cb46-818d-4dd1-8184-dfe84cfcc1c7",
   "metadata": {},
   "outputs": [
    {
     "name": "stdout",
     "output_type": "stream",
     "text": [
      "yes\n"
     ]
    }
   ],
   "source": [
    "if type(a) == str:\n",
    "    print(\"yes\")"
   ]
  },
  {
   "cell_type": "code",
   "execution_count": 39,
   "id": "c88b5906-6d12-40e4-9c59-1c9352319512",
   "metadata": {},
   "outputs": [
    {
     "name": "stdout",
     "output_type": "stream",
     "text": [
      "yes it is a string\n"
     ]
    }
   ],
   "source": [
    "if isinstance('tushar', str):\n",
    "    print(\"yes it is a string\")\n",
    "    "
   ]
  },
  {
   "cell_type": "code",
   "execution_count": 44,
   "id": "5d7006c5-382f-4b22-a8a6-7219043690ff",
   "metadata": {},
   "outputs": [
    {
     "data": {
      "text/plain": [
       "(5, 10)"
      ]
     },
     "execution_count": 44,
     "metadata": {},
     "output_type": "execute_result"
    }
   ],
   "source": [
    "b = 10\n",
    "b > 3\n",
    "a = 5\n",
    "a, b"
   ]
  },
  {
   "cell_type": "code",
   "execution_count": 48,
   "id": "01d2784e-f04e-4450-a6d7-cdfb5b8b789f",
   "metadata": {},
   "outputs": [
    {
     "name": "stdout",
     "output_type": "stream",
     "text": [
      "a is less than b\n",
      "do nothing\n"
     ]
    }
   ],
   "source": [
    "if a < b:\n",
    "    print(\"a is less than b\")\n",
    "    \n",
    "if b < a:\n",
    "    print(\"b is greater than a\")\n",
    "    \n",
    "elif a == b:\n",
    "    print(\"a is greater than b\")\n",
    "    if a == 5:\n",
    "        print(\"yes you are right\")\n",
    "    else:\n",
    "        print('no you are not')\n",
    "else:\n",
    "    print(\"do nothing\")"
   ]
  },
  {
   "cell_type": "code",
   "execution_count": 53,
   "id": "eadcaacb-e3a9-4a99-90bd-b785280a76f2",
   "metadata": {},
   "outputs": [
    {
     "name": "stdin",
     "output_type": "stream",
     "text": [
      "enter the number :  10\n"
     ]
    }
   ],
   "source": [
    "a = float(input(\"enter the number : \"))"
   ]
  },
  {
   "cell_type": "code",
   "execution_count": 54,
   "id": "9c0c7022-2d94-46d9-a13a-e96240546392",
   "metadata": {},
   "outputs": [
    {
     "data": {
      "text/plain": [
       "float"
      ]
     },
     "execution_count": 54,
     "metadata": {},
     "output_type": "execute_result"
    }
   ],
   "source": [
    "type(a)"
   ]
  },
  {
   "cell_type": "code",
   "execution_count": 57,
   "id": "42a7093b-4784-4614-81d2-cb681a818258",
   "metadata": {},
   "outputs": [],
   "source": [
    "# take an input and find whether it is an even or odd"
   ]
  },
  {
   "cell_type": "code",
   "execution_count": 58,
   "id": "db19b4ba-a659-4a27-bf25-a91bc89edab4",
   "metadata": {},
   "outputs": [],
   "source": [
    "# take two numbers as input and find which of them is greater"
   ]
  },
  {
   "cell_type": "code",
   "execution_count": 61,
   "id": "0e7f2400-3930-4f68-bbba-ee20533c0c70",
   "metadata": {},
   "outputs": [
    {
     "name": "stdin",
     "output_type": "stream",
     "text": [
      "enter the value of a : 99\n"
     ]
    },
    {
     "name": "stdout",
     "output_type": "stream",
     "text": [
      "it is an odd no.\n"
     ]
    }
   ],
   "source": [
    "a = int(input(\"enter the value of a :\"))\n",
    "\n",
    "if a % 2 == 0:\n",
    "    print(\"it is an even no.\")\n",
    "else:\n",
    "    print(\"it is an odd no.\")"
   ]
  },
  {
   "cell_type": "code",
   "execution_count": 62,
   "id": "7d8398f9-3df0-4ac2-a857-d7a33f87494a",
   "metadata": {},
   "outputs": [
    {
     "name": "stdin",
     "output_type": "stream",
     "text": [
      "enter the value of a : 100\n",
      "enter the value of b : 200\n"
     ]
    },
    {
     "name": "stdout",
     "output_type": "stream",
     "text": [
      "b is greater than a\n"
     ]
    }
   ],
   "source": [
    "a = int(input(\"enter the value of a :\"))\n",
    "b = int(input(\"enter the value of b :\"))\n",
    "\n",
    "if a > b:\n",
    "    print(\"a is greater than b\")\n",
    "else:\n",
    "    print(\"b is greater than a\")"
   ]
  },
  {
   "cell_type": "code",
   "execution_count": 68,
   "id": "684807da-050e-4cd5-9335-9b88c1e3ca4a",
   "metadata": {},
   "outputs": [],
   "source": [
    "n = 875\n",
    "n = n//10\n",
    "n = n//10\n",
    "n = n//10"
   ]
  },
  {
   "cell_type": "code",
   "execution_count": 69,
   "id": "e9e0e9a7-29aa-4dfd-9120-abfd3383b44c",
   "metadata": {},
   "outputs": [
    {
     "data": {
      "text/plain": [
       "0"
      ]
     },
     "execution_count": 69,
     "metadata": {},
     "output_type": "execute_result"
    }
   ],
   "source": [
    "n"
   ]
  },
  {
   "cell_type": "code",
   "execution_count": 70,
   "id": "e08f7bad-ee96-42ba-94b4-bef0846692aa",
   "metadata": {},
   "outputs": [
    {
     "name": "stdin",
     "output_type": "stream",
     "text": [
      "enter first number: 6\n",
      "enter second number: 5\n",
      "enter third number: 9\n"
     ]
    },
    {
     "name": "stdout",
     "output_type": "stream",
     "text": [
      "third number is greatest\n"
     ]
    }
   ],
   "source": [
    "num_1 = int(input(\"enter first number:\"))\n",
    "\n",
    "num_2 = int(input(\"enter second number:\"))\n",
    "\n",
    "num_3 = int(input(\"enter third number:\"))\n",
    "\n",
    " \n",
    "\n",
    "if num_1> num_2 and num_1 >num_3:\n",
    "\n",
    "    print(\"first number is greatest\")\n",
    "\n",
    "elif num_2 > num_1 and num_2 > num_3:\n",
    "\n",
    "    print(\"second number is greatest\")\n",
    "\n",
    "else:\n",
    "\n",
    "    print(\"third number is greatest\")"
   ]
  },
  {
   "cell_type": "code",
   "execution_count": null,
   "id": "5751fd68-5377-46ff-aa6c-646e3a7e0b2a",
   "metadata": {},
   "outputs": [],
   "source": []
  }
 ],
 "metadata": {
  "kernelspec": {
   "display_name": "Python 3 (ipykernel)",
   "language": "python",
   "name": "python3"
  },
  "language_info": {
   "codemirror_mode": {
    "name": "ipython",
    "version": 3
   },
   "file_extension": ".py",
   "mimetype": "text/x-python",
   "name": "python",
   "nbconvert_exporter": "python",
   "pygments_lexer": "ipython3",
   "version": "3.12.7"
  }
 },
 "nbformat": 4,
 "nbformat_minor": 5
}
