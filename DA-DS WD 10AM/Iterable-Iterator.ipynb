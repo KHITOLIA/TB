{
 "cells": [
  {
   "cell_type": "code",
   "execution_count": 1,
   "id": "bd63f4a3-7cf4-4b8a-8468-02b649b36860",
   "metadata": {},
   "outputs": [],
   "source": [
    "l = [1, 2, 3, 4, 5]"
   ]
  },
  {
   "cell_type": "code",
   "execution_count": 2,
   "id": "58ef43a1-34cb-437a-a0ed-a46ef6552a5a",
   "metadata": {},
   "outputs": [
    {
     "name": "stdout",
     "output_type": "stream",
     "text": [
      "1\n",
      "2\n",
      "3\n",
      "4\n",
      "5\n"
     ]
    }
   ],
   "source": [
    "for i  in l:\n",
    "    print(i)"
   ]
  },
  {
   "cell_type": "code",
   "execution_count": 3,
   "id": "89a9a4e0-bf23-4f42-8ce7-8bd7258664ec",
   "metadata": {},
   "outputs": [
    {
     "data": {
      "text/plain": [
       "5"
      ]
     },
     "execution_count": 3,
     "metadata": {},
     "output_type": "execute_result"
    }
   ],
   "source": [
    "i"
   ]
  },
  {
   "cell_type": "code",
   "execution_count": 5,
   "id": "822c02cf-455c-466e-8cb9-f7788597ebe0",
   "metadata": {},
   "outputs": [
    {
     "data": {
      "text/plain": [
       "0.1015625"
      ]
     },
     "execution_count": 5,
     "metadata": {},
     "output_type": "execute_result"
    }
   ],
   "source": [
    "import sys\n",
    "sys.getsizeof(l)/1024"
   ]
  },
  {
   "cell_type": "code",
   "execution_count": 6,
   "id": "497e919d-a70d-45fd-9078-d6082752011d",
   "metadata": {},
   "outputs": [
    {
     "data": {
      "text/plain": [
       "0.02734375"
      ]
     },
     "execution_count": 6,
     "metadata": {},
     "output_type": "execute_result"
    }
   ],
   "source": [
    "sys.getsizeof(i)/1024"
   ]
  },
  {
   "cell_type": "code",
   "execution_count": 7,
   "id": "a7a5a05a-64cc-4b1d-b720-04a518419b39",
   "metadata": {},
   "outputs": [
    {
     "data": {
      "text/plain": [
       "[1, 2, 3, 4, 5]"
      ]
     },
     "execution_count": 7,
     "metadata": {},
     "output_type": "execute_result"
    }
   ],
   "source": [
    "l"
   ]
  },
  {
   "cell_type": "code",
   "execution_count": 46,
   "id": "f3ac5342-b636-4e9f-8632-b7723b267918",
   "metadata": {},
   "outputs": [],
   "source": [
    "# dir(l)"
   ]
  },
  {
   "cell_type": "code",
   "execution_count": 14,
   "id": "76cecef2-1772-4668-bfd3-675d7f0cc777",
   "metadata": {},
   "outputs": [
    {
     "name": "stdout",
     "output_type": "stream",
     "text": [
      "<class 'list_iterator'> <class 'list'>\n"
     ]
    }
   ],
   "source": [
    "l1 = iter(l)\n",
    "print(type(l1), type(l))"
   ]
  },
  {
   "cell_type": "code",
   "execution_count": 15,
   "id": "44c625ee-8915-4143-9e3c-8c424edba05f",
   "metadata": {},
   "outputs": [
    {
     "data": {
      "text/plain": [
       "[1, 2, 3, 4, 5]"
      ]
     },
     "execution_count": 15,
     "metadata": {},
     "output_type": "execute_result"
    }
   ],
   "source": [
    "l"
   ]
  },
  {
   "cell_type": "code",
   "execution_count": 16,
   "id": "a656fa0f-ba1a-4490-b063-0128b5133e8b",
   "metadata": {},
   "outputs": [
    {
     "data": {
      "text/plain": [
       "<list_iterator at 0x23236634fd0>"
      ]
     },
     "execution_count": 16,
     "metadata": {},
     "output_type": "execute_result"
    }
   ],
   "source": [
    "l1"
   ]
  },
  {
   "cell_type": "code",
   "execution_count": 17,
   "id": "7d260a3a-c895-4051-abef-d943c9107b88",
   "metadata": {},
   "outputs": [
    {
     "name": "stdout",
     "output_type": "stream",
     "text": [
      "1\n",
      "2\n",
      "3\n",
      "4\n",
      "5\n"
     ]
    }
   ],
   "source": [
    "for i in l:\n",
    "    print(i)"
   ]
  },
  {
   "cell_type": "code",
   "execution_count": 18,
   "id": "66f5a826-61f0-4151-aaa9-eb37d1d44c16",
   "metadata": {},
   "outputs": [
    {
     "name": "stdout",
     "output_type": "stream",
     "text": [
      "1\n",
      "2\n",
      "3\n",
      "4\n",
      "5\n"
     ]
    }
   ],
   "source": [
    "for i in l:\n",
    "    print(i)"
   ]
  },
  {
   "cell_type": "code",
   "execution_count": 45,
   "id": "20f52c55-c2d0-42f6-a35f-6cfa1b8a24b6",
   "metadata": {},
   "outputs": [],
   "source": [
    "# for i in l:\n",
    "#     print(i)"
   ]
  },
  {
   "cell_type": "code",
   "execution_count": 20,
   "id": "5a73c63e-8067-4725-af53-13115c44e196",
   "metadata": {},
   "outputs": [
    {
     "name": "stdout",
     "output_type": "stream",
     "text": [
      "1\n",
      "2\n",
      "3\n",
      "4\n",
      "5\n"
     ]
    }
   ],
   "source": [
    "for i in l1:\n",
    "    print(i)"
   ]
  },
  {
   "cell_type": "code",
   "execution_count": 23,
   "id": "c55229bb-0cbd-4593-8d45-bd2732571d35",
   "metadata": {},
   "outputs": [
    {
     "name": "stdout",
     "output_type": "stream",
     "text": [
      "1\n",
      "2\n",
      "3\n",
      "4\n",
      "5\n"
     ]
    }
   ],
   "source": [
    "for i in iter(l):\n",
    "    print(i)"
   ]
  },
  {
   "cell_type": "code",
   "execution_count": 24,
   "id": "e06ce154-4f7c-4d47-aaa3-4b8766f0f124",
   "metadata": {},
   "outputs": [],
   "source": [
    "l1 = iter(l)"
   ]
  },
  {
   "cell_type": "code",
   "execution_count": 25,
   "id": "9248f8b4-88eb-4309-aeb7-e943adbf89ec",
   "metadata": {},
   "outputs": [
    {
     "name": "stdout",
     "output_type": "stream",
     "text": [
      "1\n",
      "2\n",
      "3\n",
      "4\n",
      "5\n"
     ]
    }
   ],
   "source": [
    "for i in l1:\n",
    "    print(i)"
   ]
  },
  {
   "cell_type": "code",
   "execution_count": 26,
   "id": "6dcaf8e2-1606-4d8b-b108-b62b0accc7b2",
   "metadata": {},
   "outputs": [],
   "source": [
    "for i in l1:\n",
    "    print(i)"
   ]
  },
  {
   "cell_type": "code",
   "execution_count": 44,
   "id": "34118753-9bc4-40e2-a9ae-c98fc19c0563",
   "metadata": {},
   "outputs": [],
   "source": [
    "# dir(l1)"
   ]
  },
  {
   "cell_type": "code",
   "execution_count": 28,
   "id": "053a2c50-ac77-4fb1-b236-e614540023ae",
   "metadata": {},
   "outputs": [],
   "source": [
    "l1 = iter(l)"
   ]
  },
  {
   "cell_type": "code",
   "execution_count": 29,
   "id": "bafac433-10a5-4ebb-a1ae-fe60ecdd8dec",
   "metadata": {},
   "outputs": [
    {
     "data": {
      "text/plain": [
       "<list_iterator at 0x23235fd5ab0>"
      ]
     },
     "execution_count": 29,
     "metadata": {},
     "output_type": "execute_result"
    }
   ],
   "source": [
    "l1"
   ]
  },
  {
   "cell_type": "code",
   "execution_count": 35,
   "id": "c16c40a2-079d-4201-9a39-e460e371d4fd",
   "metadata": {},
   "outputs": [
    {
     "ename": "StopIteration",
     "evalue": "",
     "output_type": "error",
     "traceback": [
      "\u001b[1;31m---------------------------------------------------------------------------\u001b[0m",
      "\u001b[1;31mStopIteration\u001b[0m                             Traceback (most recent call last)",
      "Cell \u001b[1;32mIn[35], line 1\u001b[0m\n\u001b[1;32m----> 1\u001b[0m \u001b[38;5;28mnext\u001b[39m(l1)\n",
      "\u001b[1;31mStopIteration\u001b[0m: "
     ]
    }
   ],
   "source": [
    "next(l1)"
   ]
  },
  {
   "cell_type": "code",
   "execution_count": 36,
   "id": "ab519013-1eac-48b5-a6a1-484ac9090ae9",
   "metadata": {},
   "outputs": [],
   "source": [
    "# generator : \n",
    "# yield"
   ]
  },
  {
   "cell_type": "code",
   "execution_count": 37,
   "id": "a508d77b-429a-4ad1-bdb5-72cb05b9ae1f",
   "metadata": {},
   "outputs": [],
   "source": [
    "def random_func():\n",
    "    yield 1\n",
    "    yield 2\n",
    "    yield 3"
   ]
  },
  {
   "cell_type": "code",
   "execution_count": 38,
   "id": "548e23fc-bb9e-45df-9e7c-aa15a4c65726",
   "metadata": {},
   "outputs": [],
   "source": [
    "gen = random_func()"
   ]
  },
  {
   "cell_type": "code",
   "execution_count": 43,
   "id": "19ddf1ac-479b-4c37-9582-ab2154356f29",
   "metadata": {},
   "outputs": [
    {
     "ename": "StopIteration",
     "evalue": "",
     "output_type": "error",
     "traceback": [
      "\u001b[1;31m---------------------------------------------------------------------------\u001b[0m",
      "\u001b[1;31mStopIteration\u001b[0m                             Traceback (most recent call last)",
      "Cell \u001b[1;32mIn[43], line 1\u001b[0m\n\u001b[1;32m----> 1\u001b[0m \u001b[38;5;28mnext\u001b[39m(gen)\n",
      "\u001b[1;31mStopIteration\u001b[0m: "
     ]
    }
   ],
   "source": [
    "next(gen)"
   ]
  },
  {
   "cell_type": "code",
   "execution_count": 47,
   "id": "2111f2d7-f51d-4c3e-84b4-16188712c04d",
   "metadata": {},
   "outputs": [
    {
     "name": "stdout",
     "output_type": "stream",
     "text": [
      "1\n",
      "2\n",
      "4\n",
      "8\n",
      "16\n",
      "32\n",
      "64\n",
      "128\n",
      "256\n",
      "512\n"
     ]
    }
   ],
   "source": [
    "for i in range(10):\n",
    "    print(2**i)"
   ]
  },
  {
   "cell_type": "code",
   "execution_count": 68,
   "id": "dc0fc537-33aa-4867-b6d6-21d9029ce37f",
   "metadata": {},
   "outputs": [],
   "source": [
    "def power_gen():\n",
    "    for num in range(10):\n",
    "        yield 2**num"
   ]
  },
  {
   "cell_type": "code",
   "execution_count": 49,
   "id": "ba8b3372-2e33-4f1f-92a1-741efd093521",
   "metadata": {},
   "outputs": [],
   "source": [
    "gen = power_gen()"
   ]
  },
  {
   "cell_type": "code",
   "execution_count": 54,
   "id": "b04e7c03-f916-4b22-ab27-7b5c43c8c122",
   "metadata": {},
   "outputs": [
    {
     "data": {
      "text/plain": [
       "8"
      ]
     },
     "execution_count": 54,
     "metadata": {},
     "output_type": "execute_result"
    }
   ],
   "source": [
    "next(gen)"
   ]
  },
  {
   "cell_type": "code",
   "execution_count": 55,
   "id": "ae739bd1-1262-4e98-b746-987ca358daaa",
   "metadata": {},
   "outputs": [
    {
     "name": "stdout",
     "output_type": "stream",
     "text": [
      "16\n",
      "32\n",
      "64\n",
      "128\n",
      "256\n",
      "512\n"
     ]
    }
   ],
   "source": [
    "for i in gen:\n",
    "    print(i)"
   ]
  },
  {
   "cell_type": "code",
   "execution_count": 63,
   "id": "01081164-b8fd-4204-86e1-edbd76745627",
   "metadata": {},
   "outputs": [],
   "source": [
    "a = (i for i in range(5))  # list comprehension"
   ]
  },
  {
   "cell_type": "code",
   "execution_count": 64,
   "id": "492bdf3b-c2ff-46a1-b06c-016017e9a677",
   "metadata": {},
   "outputs": [
    {
     "data": {
      "text/plain": [
       "<generator object <genexpr> at 0x0000023235B4E200>"
      ]
     },
     "execution_count": 64,
     "metadata": {},
     "output_type": "execute_result"
    }
   ],
   "source": [
    "a"
   ]
  },
  {
   "cell_type": "code",
   "execution_count": 65,
   "id": "700723e8-a398-4541-bbbd-561b38fbfad2",
   "metadata": {},
   "outputs": [
    {
     "name": "stdout",
     "output_type": "stream",
     "text": [
      "0\n",
      "1\n",
      "2\n",
      "3\n",
      "4\n"
     ]
    }
   ],
   "source": [
    "for i in a:\n",
    "    print(i)"
   ]
  },
  {
   "cell_type": "code",
   "execution_count": 80,
   "id": "0664bd7d-034d-490a-984c-018ca12d2ca8",
   "metadata": {},
   "outputs": [],
   "source": [
    "a1 = 4\n",
    "def sum():\n",
    "    global a2 \n",
    "    a2 = 6\n",
    "    b = 10\n",
    "    print(a2, b)"
   ]
  },
  {
   "cell_type": "code",
   "execution_count": 81,
   "id": "5a92c564-7495-4753-a987-deff0bec5769",
   "metadata": {},
   "outputs": [
    {
     "name": "stdout",
     "output_type": "stream",
     "text": [
      "6 10\n"
     ]
    }
   ],
   "source": [
    "sum()"
   ]
  },
  {
   "cell_type": "code",
   "execution_count": 82,
   "id": "f8f4c8f9-a7ec-4fcd-886c-6af2f7a02f28",
   "metadata": {},
   "outputs": [
    {
     "data": {
      "text/plain": [
       "4"
      ]
     },
     "execution_count": 82,
     "metadata": {},
     "output_type": "execute_result"
    }
   ],
   "source": [
    "a1"
   ]
  },
  {
   "cell_type": "code",
   "execution_count": 83,
   "id": "349d9355-4caa-4267-892c-b92574a6e36d",
   "metadata": {},
   "outputs": [
    {
     "data": {
      "text/plain": [
       "6"
      ]
     },
     "execution_count": 83,
     "metadata": {},
     "output_type": "execute_result"
    }
   ],
   "source": [
    "a2"
   ]
  },
  {
   "cell_type": "code",
   "execution_count": 84,
   "id": "a92a450b-18db-4d30-aadb-5273ab798141",
   "metadata": {},
   "outputs": [],
   "source": [
    "a2 = 5"
   ]
  },
  {
   "cell_type": "code",
   "execution_count": 85,
   "id": "28a334aa-43de-4981-b629-211f7cc96717",
   "metadata": {},
   "outputs": [
    {
     "name": "stdout",
     "output_type": "stream",
     "text": [
      "6 10\n"
     ]
    }
   ],
   "source": [
    "sum()"
   ]
  },
  {
   "cell_type": "code",
   "execution_count": 95,
   "id": "6dce8213-93ba-4ce5-93c3-ff81e3232236",
   "metadata": {},
   "outputs": [],
   "source": [
    "def f1():\n",
    "    a_ = 5\n",
    "    def f2():\n",
    "        return a_\n",
    "    return f2"
   ]
  },
  {
   "cell_type": "code",
   "execution_count": 96,
   "id": "d507b63b-c1ec-4231-9186-ac3fc38cf97d",
   "metadata": {},
   "outputs": [
    {
     "name": "stdout",
     "output_type": "stream",
     "text": [
      "<function f1.<locals>.f2 at 0x0000023235E8AC00>\n"
     ]
    }
   ],
   "source": [
    "print(f1())"
   ]
  },
  {
   "cell_type": "code",
   "execution_count": 97,
   "id": "07814fed-bc98-445a-a4cc-e3605a3563c9",
   "metadata": {},
   "outputs": [],
   "source": [
    "first = f1()"
   ]
  },
  {
   "cell_type": "code",
   "execution_count": 98,
   "id": "dfe7ed53-8f9a-490a-9ed5-9f6f3388eb16",
   "metadata": {},
   "outputs": [
    {
     "data": {
      "text/plain": [
       "5"
      ]
     },
     "execution_count": 98,
     "metadata": {},
     "output_type": "execute_result"
    }
   ],
   "source": [
    "first()"
   ]
  },
  {
   "cell_type": "code",
   "execution_count": 99,
   "id": "683ddf87-5a54-47ae-990c-c1238b6981bc",
   "metadata": {},
   "outputs": [
    {
     "ename": "NameError",
     "evalue": "name 'a_' is not defined",
     "output_type": "error",
     "traceback": [
      "\u001b[1;31m---------------------------------------------------------------------------\u001b[0m",
      "\u001b[1;31mNameError\u001b[0m                                 Traceback (most recent call last)",
      "Cell \u001b[1;32mIn[99], line 1\u001b[0m\n\u001b[1;32m----> 1\u001b[0m a_\n",
      "\u001b[1;31mNameError\u001b[0m: name 'a_' is not defined"
     ]
    }
   ],
   "source": [
    "a_"
   ]
  },
  {
   "cell_type": "code",
   "execution_count": 106,
   "id": "186be1cb-325c-4467-8029-acd6105126cc",
   "metadata": {},
   "outputs": [],
   "source": [
    "def archit():\n",
    "    apples = 10\n",
    "    def vishal():\n",
    "        return apples\n",
    "    return vishal"
   ]
  },
  {
   "cell_type": "code",
   "execution_count": 107,
   "id": "b8531bea-240b-4e22-9b77-251fb5d4ea94",
   "metadata": {},
   "outputs": [],
   "source": [
    "vishal = archit()"
   ]
  },
  {
   "cell_type": "code",
   "execution_count": 108,
   "id": "749c4c19-c11f-4ff6-8f4a-4868dacb2033",
   "metadata": {},
   "outputs": [
    {
     "data": {
      "text/plain": [
       "10"
      ]
     },
     "execution_count": 108,
     "metadata": {},
     "output_type": "execute_result"
    }
   ],
   "source": [
    "vishal()"
   ]
  },
  {
   "cell_type": "code",
   "execution_count": 109,
   "id": "08be3150-c03a-4195-aabc-daea4caf80fd",
   "metadata": {},
   "outputs": [],
   "source": [
    "# decorator is a function that takes another function as input by adding some \n",
    "# more functionality to it and return the same input function\n",
    "\n",
    "# builtin dec : @staticmethod, @classmethod , @abstractmethod, @property"
   ]
  },
  {
   "cell_type": "code",
   "execution_count": 133,
   "id": "4929b062-8b6d-4d93-9a07-0d0e9665b9c6",
   "metadata": {},
   "outputs": [],
   "source": [
    "def modify(f, num):\n",
    "    return f(num)\n",
    "\n",
    "def square(num):\n",
    "    print(num**2)"
   ]
  },
  {
   "cell_type": "code",
   "execution_count": 111,
   "id": "bf88cba1-c0b7-4709-a975-a75891bbaa1f",
   "metadata": {},
   "outputs": [
    {
     "data": {
      "text/plain": [
       "4"
      ]
     },
     "execution_count": 111,
     "metadata": {},
     "output_type": "execute_result"
    }
   ],
   "source": [
    "square(2)"
   ]
  },
  {
   "cell_type": "code",
   "execution_count": 112,
   "id": "f5da4aae-9d34-4dc3-81f1-9fed7a605065",
   "metadata": {},
   "outputs": [
    {
     "data": {
      "text/plain": [
       "4"
      ]
     },
     "execution_count": 112,
     "metadata": {},
     "output_type": "execute_result"
    }
   ],
   "source": [
    "modify(square, 2)"
   ]
  },
  {
   "cell_type": "code",
   "execution_count": 134,
   "id": "bcae22b1-3839-4704-b0f9-671518a88ab9",
   "metadata": {},
   "outputs": [],
   "source": [
    "def my_decorator(func):\n",
    "    \n",
    "    def wrapper(*args):\n",
    "        print(\"*\"*10)\n",
    "        func(*args)\n",
    "        print(\"*\"*10)\n",
    "    return wrapper"
   ]
  },
  {
   "cell_type": "code",
   "execution_count": 127,
   "id": "94471ba2-57db-4a17-8210-9d3efff56ed9",
   "metadata": {},
   "outputs": [],
   "source": [
    "def hello():\n",
    "    print(\"Hello class good morning\")"
   ]
  },
  {
   "cell_type": "code",
   "execution_count": 128,
   "id": "1fbafe53-afc5-4ab3-9de4-d8d13ed2dfcc",
   "metadata": {},
   "outputs": [],
   "source": [
    "wrp = my_decorator(hello)"
   ]
  },
  {
   "cell_type": "code",
   "execution_count": 129,
   "id": "cde66d03-c9cd-48d7-8d7c-693401b3d454",
   "metadata": {},
   "outputs": [
    {
     "name": "stdout",
     "output_type": "stream",
     "text": [
      "**********\n",
      "Hello class good morning\n",
      "**********\n"
     ]
    }
   ],
   "source": [
    "wrp()"
   ]
  },
  {
   "cell_type": "code",
   "execution_count": 135,
   "id": "32e7339a-93a0-4325-a877-f455d96cd838",
   "metadata": {},
   "outputs": [],
   "source": [
    "wrp = my_decorator(square)"
   ]
  },
  {
   "cell_type": "code",
   "execution_count": 136,
   "id": "cc428455-5cf7-4e16-a3cb-ef8d8649666f",
   "metadata": {},
   "outputs": [
    {
     "name": "stdout",
     "output_type": "stream",
     "text": [
      "**********\n",
      "9\n",
      "**********\n"
     ]
    }
   ],
   "source": [
    "wrp(3)"
   ]
  },
  {
   "cell_type": "code",
   "execution_count": 137,
   "id": "0a1b557e-ac7e-41da-8f45-1ffc345f76cd",
   "metadata": {},
   "outputs": [],
   "source": [
    "def sum(a, b):\n",
    "    print(a+b)"
   ]
  },
  {
   "cell_type": "code",
   "execution_count": 141,
   "id": "35ef2700-ca44-4b93-a077-ec7d76fe271f",
   "metadata": {},
   "outputs": [],
   "source": [
    "wrp = my_decorator(hello)"
   ]
  },
  {
   "cell_type": "code",
   "execution_count": 142,
   "id": "fbf8cdb3-1498-4cc7-b0ce-6b9b5baf9c6f",
   "metadata": {},
   "outputs": [
    {
     "name": "stdout",
     "output_type": "stream",
     "text": [
      "**********\n",
      "Hello class good morning\n",
      "**********\n"
     ]
    }
   ],
   "source": [
    "wrp()"
   ]
  },
  {
   "cell_type": "code",
   "execution_count": 146,
   "id": "73f8be26-1ec1-48ba-bb6d-edc056c8d4d1",
   "metadata": {},
   "outputs": [
    {
     "name": "stdout",
     "output_type": "stream",
     "text": [
      "**********\n",
      "Hello class good morning\n",
      "**********\n"
     ]
    }
   ],
   "source": [
    "@my_decorator\n",
    "def hello():\n",
    "    print(\"Hello class good morning\")\n",
    "\n",
    "hello()"
   ]
  },
  {
   "cell_type": "code",
   "execution_count": 148,
   "id": "f04c158c-9bfe-4a5d-b1a6-02ae8c1a3a45",
   "metadata": {},
   "outputs": [
    {
     "name": "stdout",
     "output_type": "stream",
     "text": [
      "**********\n",
      "16\n",
      "**********\n"
     ]
    }
   ],
   "source": [
    "@my_decorator\n",
    "def square(num):\n",
    "    print(num**2)\n",
    "\n",
    "square(4)"
   ]
  },
  {
   "cell_type": "code",
   "execution_count": null,
   "id": "714ee9d6-a97e-461d-bb5b-140fdb5be11d",
   "metadata": {},
   "outputs": [],
   "source": []
  }
 ],
 "metadata": {
  "kernelspec": {
   "display_name": "Python 3 (ipykernel)",
   "language": "python",
   "name": "python3"
  },
  "language_info": {
   "codemirror_mode": {
    "name": "ipython",
    "version": 3
   },
   "file_extension": ".py",
   "mimetype": "text/x-python",
   "name": "python",
   "nbconvert_exporter": "python",
   "pygments_lexer": "ipython3",
   "version": "3.12.7"
  }
 },
 "nbformat": 4,
 "nbformat_minor": 5
}
