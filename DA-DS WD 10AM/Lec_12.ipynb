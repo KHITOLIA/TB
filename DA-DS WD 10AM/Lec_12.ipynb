{
 "cells": [
  {
   "cell_type": "code",
   "execution_count": 2,
   "id": "e85c9216-7cdd-4024-a591-98dba9e6dc2e",
   "metadata": {},
   "outputs": [
    {
     "name": "stdin",
     "output_type": "stream",
     "text": [
      "enter the character :  o\n"
     ]
    },
    {
     "name": "stdout",
     "output_type": "stream",
     "text": [
      "No\n"
     ]
    }
   ],
   "source": [
    "char = input(\"enter the character : \")\n",
    "\n",
    "if char.isupper():\n",
    "    print(\"yes\")\n",
    "else:\n",
    "    print(\"No\")"
   ]
  },
  {
   "cell_type": "code",
   "execution_count": 4,
   "id": "a4edf7aa-7330-45c2-8efd-5d60cd0c0a02",
   "metadata": {},
   "outputs": [
    {
     "name": "stdin",
     "output_type": "stream",
     "text": [
      "enter the python marks  =  80\n",
      "enter the DL marks  =  90\n",
      "enter the ML marks  =  100\n"
     ]
    },
    {
     "name": "stdout",
     "output_type": "stream",
     "text": [
      "student has cleared the exam\n"
     ]
    }
   ],
   "source": [
    "python = float(input(\"enter the python marks  = \"))\n",
    "DL = float(input(\"enter the DL marks  = \"))\n",
    "ML = float(input(\"enter the ML marks  = \"))\n",
    "\n",
    "avg = (python + DL + ML)/3\n",
    "if avg > 60:\n",
    "    print(\"student has cleared the exam\")\n",
    "else:\n",
    "    print(\"Student failed in the exam\")"
   ]
  },
  {
   "cell_type": "code",
   "execution_count": 8,
   "id": "4c601af8-4794-4b37-9152-4ae7bb48ed40",
   "metadata": {},
   "outputs": [],
   "source": [
    "st = 'AraininE'"
   ]
  },
  {
   "cell_type": "code",
   "execution_count": 9,
   "id": "87ee022a-264b-44cd-bb31-ac8160574d51",
   "metadata": {},
   "outputs": [
    {
     "data": {
      "text/plain": [
       "('A', 'E')"
      ]
     },
     "execution_count": 9,
     "metadata": {},
     "output_type": "execute_result"
    }
   ],
   "source": [
    "st[0], st[-1]"
   ]
  },
  {
   "cell_type": "code",
   "execution_count": 13,
   "id": "d07a5f2d-55e3-419d-94d3-0e6ba051e7d3",
   "metadata": {},
   "outputs": [
    {
     "name": "stdout",
     "output_type": "stream",
     "text": [
      "yes\n"
     ]
    }
   ],
   "source": [
    "vowel = 'aeiou'\n",
    "if st[0].lower() and st[-1].lower() in vowel:\n",
    "    print(\"yes\")"
   ]
  },
  {
   "cell_type": "code",
   "execution_count": 21,
   "id": "875dd1e1-81ab-4027-9aac-bc127675870f",
   "metadata": {},
   "outputs": [
    {
     "name": "stdin",
     "output_type": "stream",
     "text": [
      "enter the 1st side  7\n",
      "enter the 2nd side  7\n",
      "enter the 3rd side  7\n"
     ]
    },
    {
     "name": "stdout",
     "output_type": "stream",
     "text": [
      "Equilateral ^\n"
     ]
    }
   ],
   "source": [
    "a = int(input(\"enter the 1st side \"))\n",
    "b = int(input(\"enter the 2nd side \"))\n",
    "c = int(input(\"enter the 3rd side \"))\n",
    "\n",
    "if a == b and a == c:\n",
    "    print(\"Equilateral ^\")\n",
    "elif a ==b or b == c and a!= c:\n",
    "    print(\"isoceles ^\")\n",
    "else:\n",
    "    print(\"scalene ^\")"
   ]
  },
  {
   "cell_type": "code",
   "execution_count": 22,
   "id": "aee682b6-2ce5-4091-9266-e89dc8cd1194",
   "metadata": {},
   "outputs": [],
   "source": [
    "t = (1, 2, 3, 4)"
   ]
  },
  {
   "cell_type": "code",
   "execution_count": 23,
   "id": "1817c6cf-cbaf-4216-aba3-887e328dd541",
   "metadata": {},
   "outputs": [
    {
     "data": {
      "text/plain": [
       "1"
      ]
     },
     "execution_count": 23,
     "metadata": {},
     "output_type": "execute_result"
    }
   ],
   "source": [
    "t[0]"
   ]
  },
  {
   "cell_type": "code",
   "execution_count": 24,
   "id": "dce4215f-1cf9-4997-bd55-21367e49bbc6",
   "metadata": {},
   "outputs": [],
   "source": [
    "# for Loop"
   ]
  },
  {
   "cell_type": "code",
   "execution_count": 30,
   "id": "6399b2b8-b9dc-4d45-8aeb-76c0f1a21ab2",
   "metadata": {},
   "outputs": [
    {
     "name": "stdout",
     "output_type": "stream",
     "text": [
      "hello 0\n",
      "hello 1\n",
      "hello 2\n",
      "hello 3\n",
      "hello 4\n"
     ]
    }
   ],
   "source": [
    "n = 5\n",
    "for i in range(n):\n",
    "    print(\"hello\", i)"
   ]
  },
  {
   "cell_type": "code",
   "execution_count": 26,
   "id": "d299d1c9-ea4d-4388-911d-9945e12100fa",
   "metadata": {},
   "outputs": [
    {
     "data": {
      "text/plain": [
       "4"
      ]
     },
     "execution_count": 26,
     "metadata": {},
     "output_type": "execute_result"
    }
   ],
   "source": [
    "i"
   ]
  },
  {
   "cell_type": "code",
   "execution_count": 35,
   "id": "65c392af-ba0c-4d8a-af0d-c64f00d4f952",
   "metadata": {},
   "outputs": [],
   "source": [
    "l = []\n",
    "for i in range(5):\n",
    "    l.append(i**2)"
   ]
  },
  {
   "cell_type": "code",
   "execution_count": 36,
   "id": "5e7a8740-5c8e-49af-ae43-d0d46148f548",
   "metadata": {},
   "outputs": [
    {
     "data": {
      "text/plain": [
       "[0, 1, 4, 9, 16]"
      ]
     },
     "execution_count": 36,
     "metadata": {},
     "output_type": "execute_result"
    }
   ],
   "source": [
    "l"
   ]
  },
  {
   "cell_type": "code",
   "execution_count": 37,
   "id": "28e3ae77-fdc4-4e19-b3a1-f5da9d692e96",
   "metadata": {},
   "outputs": [
    {
     "data": {
      "text/plain": [
       "[0, 1, 4, 9, 16]"
      ]
     },
     "execution_count": 37,
     "metadata": {},
     "output_type": "execute_result"
    }
   ],
   "source": [
    "l"
   ]
  },
  {
   "cell_type": "code",
   "execution_count": 38,
   "id": "766d22ff-efae-460f-889e-6a10690fab35",
   "metadata": {},
   "outputs": [
    {
     "name": "stdout",
     "output_type": "stream",
     "text": [
      "0\n",
      "1\n",
      "4\n",
      "9\n",
      "16\n"
     ]
    }
   ],
   "source": [
    "for i in l:\n",
    "    print(i)"
   ]
  },
  {
   "cell_type": "code",
   "execution_count": 39,
   "id": "d3511171-4780-4350-8485-a3cefdd07600",
   "metadata": {},
   "outputs": [
    {
     "name": "stdout",
     "output_type": "stream",
     "text": [
      "0\n",
      "1\n",
      "4\n",
      "9\n",
      "16\n"
     ]
    }
   ],
   "source": [
    "for i in l:\n",
    "    print(i)"
   ]
  },
  {
   "cell_type": "code",
   "execution_count": 40,
   "id": "47288a43-6406-4d85-bf3f-b7a8b4840673",
   "metadata": {},
   "outputs": [
    {
     "data": {
      "text/plain": [
       "16"
      ]
     },
     "execution_count": 40,
     "metadata": {},
     "output_type": "execute_result"
    }
   ],
   "source": [
    "modiji"
   ]
  },
  {
   "cell_type": "code",
   "execution_count": 41,
   "id": "f5af3f78-4414-41c0-8659-dc3eb39c6968",
   "metadata": {},
   "outputs": [],
   "source": [
    "st = 'training'"
   ]
  },
  {
   "cell_type": "code",
   "execution_count": 43,
   "id": "5cd86fa0-00a0-416d-a213-dd68cf95580f",
   "metadata": {},
   "outputs": [
    {
     "name": "stdout",
     "output_type": "stream",
     "text": [
      "t\n",
      "r\n",
      "a\n",
      "i\n",
      "n\n",
      "i\n",
      "n\n",
      "g\n"
     ]
    }
   ],
   "source": [
    "for char in st:\n",
    "    print(char)"
   ]
  },
  {
   "cell_type": "code",
   "execution_count": 44,
   "id": "c6367c6a-5a46-43d5-9614-6f14272a616a",
   "metadata": {},
   "outputs": [],
   "source": [
    "sentences = ['asadasdadd', 'asdasdasddas', 'asdasdasd']"
   ]
  },
  {
   "cell_type": "code",
   "execution_count": 45,
   "id": "9b7ca44f-d237-4e05-8815-0f9b4b20bc21",
   "metadata": {},
   "outputs": [
    {
     "name": "stdout",
     "output_type": "stream",
     "text": [
      "asadasdadd\n",
      "asdasdasddas\n",
      "asdasdasd\n"
     ]
    }
   ],
   "source": [
    "for sentence in sentences:\n",
    "    print(sentence)"
   ]
  },
  {
   "cell_type": "code",
   "execution_count": 46,
   "id": "68946449-c18b-4e25-bfe3-41f1d8fa7b2d",
   "metadata": {},
   "outputs": [],
   "source": [
    "words = ['train', 'rain', 'dam', 'water']"
   ]
  },
  {
   "cell_type": "code",
   "execution_count": 47,
   "id": "650ad223-da82-4ee4-9ee7-f3b2d2da2bb9",
   "metadata": {},
   "outputs": [
    {
     "name": "stdout",
     "output_type": "stream",
     "text": [
      "train\n",
      "rain\n",
      "dam\n",
      "water\n"
     ]
    }
   ],
   "source": [
    "for word in words:\n",
    "    print(word)"
   ]
  },
  {
   "cell_type": "code",
   "execution_count": 50,
   "id": "98384564-087c-47bc-83eb-d8c79d14fed7",
   "metadata": {},
   "outputs": [
    {
     "name": "stdout",
     "output_type": "stream",
     "text": [
      "train\n",
      "rain\n",
      "dam\n",
      "water\n"
     ]
    }
   ],
   "source": [
    "for i in words:\n",
    "    print(i)\n",
    "    "
   ]
  },
  {
   "cell_type": "code",
   "execution_count": 51,
   "id": "96c213b6-bc5c-4305-bb62-f7397efce3af",
   "metadata": {},
   "outputs": [
    {
     "data": {
      "text/plain": [
       "[0, 1, 4, 9, 16]"
      ]
     },
     "execution_count": 51,
     "metadata": {},
     "output_type": "execute_result"
    }
   ],
   "source": [
    "l"
   ]
  },
  {
   "cell_type": "code",
   "execution_count": 52,
   "id": "7fdbefab-40a6-4bd7-9bda-e8f45af857f7",
   "metadata": {},
   "outputs": [
    {
     "data": {
      "text/plain": [
       "5"
      ]
     },
     "execution_count": 52,
     "metadata": {},
     "output_type": "execute_result"
    }
   ],
   "source": [
    "len(l)"
   ]
  },
  {
   "cell_type": "code",
   "execution_count": 62,
   "id": "0659424e-5a39-43b1-9706-1d3dff3ed6fe",
   "metadata": {},
   "outputs": [
    {
     "name": "stdout",
     "output_type": "stream",
     "text": [
      "0\n",
      "1\n",
      "4\n",
      "9\n",
      "16\n"
     ]
    }
   ],
   "source": [
    "for i in range(len(l)):\n",
    "    print(l[i])"
   ]
  },
  {
   "cell_type": "code",
   "execution_count": 55,
   "id": "8c36ee3a-9f5d-42ad-9ac1-3a48260cdb49",
   "metadata": {},
   "outputs": [
    {
     "data": {
      "text/plain": [
       "0"
      ]
     },
     "execution_count": 55,
     "metadata": {},
     "output_type": "execute_result"
    }
   ],
   "source": [
    "l[0]"
   ]
  },
  {
   "cell_type": "code",
   "execution_count": 56,
   "id": "11719cce-04ef-4ccc-9c0a-d0412ae487d5",
   "metadata": {},
   "outputs": [
    {
     "data": {
      "text/plain": [
       "1"
      ]
     },
     "execution_count": 56,
     "metadata": {},
     "output_type": "execute_result"
    }
   ],
   "source": [
    "l[1]"
   ]
  },
  {
   "cell_type": "code",
   "execution_count": 57,
   "id": "96899550-a4f2-454c-85a3-c1df760c80d1",
   "metadata": {},
   "outputs": [
    {
     "data": {
      "text/plain": [
       "4"
      ]
     },
     "execution_count": 57,
     "metadata": {},
     "output_type": "execute_result"
    }
   ],
   "source": [
    "l[2]"
   ]
  },
  {
   "cell_type": "code",
   "execution_count": 58,
   "id": "6a92f7fa-c779-401a-96c9-8f45a034a44a",
   "metadata": {},
   "outputs": [
    {
     "data": {
      "text/plain": [
       "9"
      ]
     },
     "execution_count": 58,
     "metadata": {},
     "output_type": "execute_result"
    }
   ],
   "source": [
    "l[3]"
   ]
  },
  {
   "cell_type": "code",
   "execution_count": 59,
   "id": "b91aa912-7a11-4eb9-907e-7cd72b3a1050",
   "metadata": {},
   "outputs": [
    {
     "data": {
      "text/plain": [
       "16"
      ]
     },
     "execution_count": 59,
     "metadata": {},
     "output_type": "execute_result"
    }
   ],
   "source": [
    "l[4]"
   ]
  },
  {
   "cell_type": "code",
   "execution_count": 75,
   "id": "60b0d86f-0ea0-4d1e-baf2-67ac91d982b6",
   "metadata": {},
   "outputs": [],
   "source": [
    "l = [2, 3, 4,5, 6, 7]"
   ]
  },
  {
   "cell_type": "code",
   "execution_count": 72,
   "id": "f0fbdd4f-977a-4a78-ae1e-03037137bee6",
   "metadata": {},
   "outputs": [
    {
     "name": "stdout",
     "output_type": "stream",
     "text": [
      "(2, 0)\n",
      "(3, 1)\n",
      "(4, 2)\n",
      "(' kh', 3)\n",
      "(5, 4)\n",
      "(6, 5)\n",
      "(7, 6)\n"
     ]
    }
   ],
   "source": [
    "for item in range(len(l)):\n",
    "    print((l[item], item))"
   ]
  },
  {
   "cell_type": "code",
   "execution_count": 73,
   "id": "ed5f85c4-aff0-4e1c-9759-0d7630cd06d9",
   "metadata": {},
   "outputs": [
    {
     "data": {
      "text/plain": [
       "[2, 3, 4, ' kh', 5, 6, 7]"
      ]
     },
     "execution_count": 73,
     "metadata": {},
     "output_type": "execute_result"
    }
   ],
   "source": [
    "l"
   ]
  },
  {
   "cell_type": "code",
   "execution_count": 76,
   "id": "46937399-dc4f-4972-a046-acbb83a25207",
   "metadata": {},
   "outputs": [
    {
     "name": "stdout",
     "output_type": "stream",
     "text": [
      "yes\n",
      "yes\n",
      "yes\n",
      "yes\n",
      "yes\n",
      "yes\n"
     ]
    }
   ],
   "source": [
    "for item in l:\n",
    "    if item.is_integer():\n",
    "        print(\"yes\")\n",
    "    else:\n",
    "        print(\"No\")"
   ]
  },
  {
   "cell_type": "code",
   "execution_count": 85,
   "id": "a5c79215-a110-447d-9cc5-e44dd6a48896",
   "metadata": {},
   "outputs": [
    {
     "name": "stdout",
     "output_type": "stream",
     "text": [
      "hello\n",
      "hello\n",
      "hello\n",
      "3th iteration completed\n",
      "very tough concept\n"
     ]
    }
   ],
   "source": [
    "for i in range(5):\n",
    "    if i == 3:    \n",
    "        print(f\"{i}th iteration completed\")\n",
    "    elif i == 4:\n",
    "        print(\"very tough concept\")\n",
    "    else:\n",
    "        print(\"hello\")"
   ]
  },
  {
   "cell_type": "code",
   "execution_count": 87,
   "id": "f5a39e8f-05dc-4914-93ec-3c607c897265",
   "metadata": {},
   "outputs": [
    {
     "name": "stdout",
     "output_type": "stream",
     "text": [
      "3\n",
      "5\n",
      "7\n"
     ]
    },
    {
     "ename": "IndexError",
     "evalue": "list index out of range",
     "output_type": "error",
     "traceback": [
      "\u001b[1;31m---------------------------------------------------------------------------\u001b[0m",
      "\u001b[1;31mIndexError\u001b[0m                                Traceback (most recent call last)",
      "Cell \u001b[1;32mIn[87], line 2\u001b[0m\n\u001b[0;32m      1\u001b[0m \u001b[38;5;28;01mfor\u001b[39;00m i \u001b[38;5;129;01min\u001b[39;00m \u001b[38;5;28mrange\u001b[39m(\u001b[38;5;241m1\u001b[39m, \u001b[38;5;241m10\u001b[39m, \u001b[38;5;241m2\u001b[39m):  \u001b[38;5;66;03m# 1, 3, 5, 7, 9\u001b[39;00m\n\u001b[1;32m----> 2\u001b[0m     \u001b[38;5;28mprint\u001b[39m(l[i])\n",
      "\u001b[1;31mIndexError\u001b[0m: list index out of range"
     ]
    }
   ],
   "source": [
    "for i in range(1, 10, 2):  # 1, 3, 5, 7, 9\n",
    "    print(l[i])"
   ]
  },
  {
   "cell_type": "code",
   "execution_count": 91,
   "id": "325c994d-e697-4b51-910a-101ce7160d40",
   "metadata": {},
   "outputs": [],
   "source": [
    "l = [2, 3, 4, 5, 6, 7]"
   ]
  },
  {
   "cell_type": "code",
   "execution_count": 92,
   "id": "2efc54ed-e20b-47b5-846f-69d926d0c0a6",
   "metadata": {},
   "outputs": [
    {
     "data": {
      "text/plain": [
       "[2, 3, 4, 5, 6, 7]"
      ]
     },
     "execution_count": 92,
     "metadata": {},
     "output_type": "execute_result"
    }
   ],
   "source": [
    "l"
   ]
  },
  {
   "cell_type": "code",
   "execution_count": null,
   "id": "da83c6cd-fd4a-46ab-b05b-adcfe7d6fc0b",
   "metadata": {},
   "outputs": [],
   "source": []
  }
 ],
 "metadata": {
  "kernelspec": {
   "display_name": "Python 3 (ipykernel)",
   "language": "python",
   "name": "python3"
  },
  "language_info": {
   "codemirror_mode": {
    "name": "ipython",
    "version": 3
   },
   "file_extension": ".py",
   "mimetype": "text/x-python",
   "name": "python",
   "nbconvert_exporter": "python",
   "pygments_lexer": "ipython3",
   "version": "3.12.7"
  }
 },
 "nbformat": 4,
 "nbformat_minor": 5
}
