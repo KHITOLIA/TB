{
 "cells": [
  {
   "cell_type": "code",
   "execution_count": 6,
   "metadata": {
    "colab": {
     "base_uri": "https://localhost:8080/"
    },
    "executionInfo": {
     "elapsed": 50,
     "status": "ok",
     "timestamp": 1760591176942,
     "user": {
      "displayName": "Tushar Khitoliya",
      "userId": "14090559258689245076"
     },
     "user_tz": -330
    },
    "id": "HmhpBuRyVLdu",
    "outputId": "fbb3495f-9c68-4db8-9958-499ed9b00f55"
   },
   "outputs": [
    {
     "data": {
      "text/plain": [
       "['programming', 'is', 'awesome']"
      ]
     },
     "execution_count": 6,
     "metadata": {},
     "output_type": "execute_result"
    }
   ],
   "source": [
    "b = 'programming is awesome'\n",
    "\n",
    "s  = b.split()\n",
    "s"
   ]
  },
  {
   "cell_type": "code",
   "execution_count": 10,
   "metadata": {
    "colab": {
     "base_uri": "https://localhost:8080/"
    },
    "executionInfo": {
     "elapsed": 8077,
     "status": "ok",
     "timestamp": 1760591285812,
     "user": {
      "displayName": "Tushar Khitoliya",
      "userId": "14090559258689245076"
     },
     "user_tz": -330
    },
    "id": "fksVOjtzXhig",
    "outputId": "9063c840-df3a-4b47-97b2-631da4e2319e"
   },
   "outputs": [
    {
     "name": "stdout",
     "output_type": "stream",
     "text": [
      "enter the string : programming is awesome\n",
      "Score of this  programming is awesome {4}\n"
     ]
    }
   ],
   "source": [
    "b = input(\"enter the string : \")\n",
    "s  = b.split()\n",
    "a = 'aeiou'\n",
    "total_score = 0\n",
    "for word in s:\n",
    "  vowel_count_per_word = 0\n",
    "  for char in word.lower():\n",
    "    if char in a:\n",
    "      vowel_count_per_word += 1\n",
    "  if vowel_count_per_word%2 == 0:\n",
    "    score = 2\n",
    "  else:\n",
    "    score = 1\n",
    "  total_score = total_score + score\n",
    "print(f\"Score of this {b} is {total_score}\")"
   ]
  },
  {
   "cell_type": "code",
   "execution_count": 13,
   "metadata": {
    "colab": {
     "base_uri": "https://localhost:8080/"
    },
    "executionInfo": {
     "elapsed": 24,
     "status": "ok",
     "timestamp": 1760592069502,
     "user": {
      "displayName": "Tushar Khitoliya",
      "userId": "14090559258689245076"
     },
     "user_tz": -330
    },
    "id": "qPy4IldNZ0t2",
    "outputId": "001e05f8-abb0-49a4-c86d-6add0d245d79"
   },
   "outputs": [
    {
     "name": "stdout",
     "output_type": "stream",
     "text": [
      "-0.9880316240928618\n"
     ]
    }
   ],
   "source": [
    "import math\n",
    "print(math.sin(30))"
   ]
  },
  {
   "cell_type": "code",
   "execution_count": 14,
   "metadata": {
    "executionInfo": {
     "elapsed": 10,
     "status": "ok",
     "timestamp": 1760592152500,
     "user": {
      "displayName": "Tushar Khitoliya",
      "userId": "14090559258689245076"
     },
     "user_tz": -330
    },
    "id": "Pom3N8cpdqQI"
   },
   "outputs": [],
   "source": [
    "# Functions : mapping of input to output by some set of statements"
   ]
  },
  {
   "cell_type": "code",
   "execution_count": 30,
   "metadata": {
    "executionInfo": {
     "elapsed": 11,
     "status": "ok",
     "timestamp": 1760593204856,
     "user": {
      "displayName": "Tushar Khitoliya",
      "userId": "14090559258689245076"
     },
     "user_tz": -330
    },
    "id": "QqnZe-y8eEXl"
   },
   "outputs": [],
   "source": [
    "def score():\n",
    "  st = input(\"enter the string\")\n",
    "  '''This is a function to calculate the score of any string'''\n",
    "  s  = st.split()\n",
    "  a = 'aeiou'\n",
    "  total_score = 0\n",
    "  for word in s:\n",
    "    vowel_count_per_word = 0\n",
    "    for char in word.lower():\n",
    "      if char in a:\n",
    "        vowel_count_per_word += 1\n",
    "    if vowel_count_per_word%2 == 0:\n",
    "      score = 2\n",
    "    else:\n",
    "      score = 1\n",
    "    total_score = total_score + score\n",
    "  print(f\"Score of this {st} is {total_score}\")"
   ]
  },
  {
   "cell_type": "code",
   "execution_count": 19,
   "metadata": {
    "colab": {
     "base_uri": "https://localhost:8080/"
    },
    "executionInfo": {
     "elapsed": 39,
     "status": "ok",
     "timestamp": 1760592825520,
     "user": {
      "displayName": "Tushar Khitoliya",
      "userId": "14090559258689245076"
     },
     "user_tz": -330
    },
    "id": "t16h8Z6hgdah",
    "outputId": "2f8ffb00-9e86-41d1-df41-71ad78e12061"
   },
   "outputs": [
    {
     "data": {
      "text/plain": [
       "140657630603328"
      ]
     },
     "execution_count": 19,
     "metadata": {},
     "output_type": "execute_result"
    }
   ],
   "source": [
    "id(score)"
   ]
  },
  {
   "cell_type": "code",
   "execution_count": 20,
   "metadata": {
    "executionInfo": {
     "elapsed": 22,
     "status": "ok",
     "timestamp": 1760592826305,
     "user": {
      "displayName": "Tushar Khitoliya",
      "userId": "14090559258689245076"
     },
     "user_tz": -330
    },
    "id": "XJKTjMBcgfui"
   },
   "outputs": [],
   "source": [
    "score?"
   ]
  },
  {
   "cell_type": "code",
   "execution_count": 22,
   "metadata": {
    "colab": {
     "base_uri": "https://localhost:8080/"
    },
    "executionInfo": {
     "elapsed": 22,
     "status": "ok",
     "timestamp": 1760592930472,
     "user": {
      "displayName": "Tushar Khitoliya",
      "userId": "14090559258689245076"
     },
     "user_tz": -330
    },
    "id": "FBVA9vsogg7-",
    "outputId": "d7d7deaa-dcf3-431e-b359-6b432965e2de"
   },
   "outputs": [
    {
     "name": "stdout",
     "output_type": "stream",
     "text": [
      "<function score at 0x7fed681b6840>\n"
     ]
    }
   ],
   "source": [
    "print(score)"
   ]
  },
  {
   "cell_type": "code",
   "execution_count": 25,
   "metadata": {
    "colab": {
     "base_uri": "https://localhost:8080/"
    },
    "executionInfo": {
     "elapsed": 32,
     "status": "ok",
     "timestamp": 1760593070709,
     "user": {
      "displayName": "Tushar Khitoliya",
      "userId": "14090559258689245076"
     },
     "user_tz": -330
    },
    "id": "jxG_mhxgg9wc",
    "outputId": "eb87c3d5-74b8-4af2-d0c3-caca7a6905bb"
   },
   "outputs": [
    {
     "name": "stdout",
     "output_type": "stream",
     "text": [
      "<built-in function len>\n"
     ]
    }
   ],
   "source": [
    "print(len)"
   ]
  },
  {
   "cell_type": "code",
   "execution_count": 26,
   "metadata": {
    "colab": {
     "base_uri": "https://localhost:8080/"
    },
    "executionInfo": {
     "elapsed": 13,
     "status": "ok",
     "timestamp": 1760593084485,
     "user": {
      "displayName": "Tushar Khitoliya",
      "userId": "14090559258689245076"
     },
     "user_tz": -330
    },
    "id": "w4SH9ybLhhne",
    "outputId": "061f7e58-25f8-4107-85c2-d632e1c7ee20"
   },
   "outputs": [
    {
     "data": {
      "text/plain": [
       "5"
      ]
     },
     "execution_count": 26,
     "metadata": {},
     "output_type": "execute_result"
    }
   ],
   "source": [
    "len(a)"
   ]
  },
  {
   "cell_type": "code",
   "execution_count": 31,
   "metadata": {
    "colab": {
     "base_uri": "https://localhost:8080/"
    },
    "executionInfo": {
     "elapsed": 1448,
     "status": "ok",
     "timestamp": 1760593211500,
     "user": {
      "displayName": "Tushar Khitoliya",
      "userId": "14090559258689245076"
     },
     "user_tz": -330
    },
    "id": "bcoXhVtBhn4i",
    "outputId": "5a2649fb-53ec-4496-e9d3-9ede464e81c4"
   },
   "outputs": [
    {
     "name": "stdout",
     "output_type": "stream",
     "text": [
      "enter the stringprogrammins is easy\n",
      "Score of this programmins is easy is 4\n"
     ]
    }
   ],
   "source": [
    "# b = 'programming is awesome'\n",
    "score()"
   ]
  },
  {
   "cell_type": "code",
   "execution_count": 32,
   "metadata": {
    "executionInfo": {
     "elapsed": 26,
     "status": "ok",
     "timestamp": 1760593250536,
     "user": {
      "displayName": "Tushar Khitoliya",
      "userId": "14090559258689245076"
     },
     "user_tz": -330
    },
    "id": "vNe37IL6h20S"
   },
   "outputs": [],
   "source": [
    "def add(a, b):\n",
    "  print(a+b)"
   ]
  },
  {
   "cell_type": "code",
   "execution_count": 34,
   "metadata": {
    "colab": {
     "base_uri": "https://localhost:8080/"
    },
    "executionInfo": {
     "elapsed": 33,
     "status": "ok",
     "timestamp": 1760593261116,
     "user": {
      "displayName": "Tushar Khitoliya",
      "userId": "14090559258689245076"
     },
     "user_tz": -330
    },
    "id": "BuMR13lXiQb9",
    "outputId": "c342416e-d819-4645-e360-17a7b5eae44d"
   },
   "outputs": [
    {
     "name": "stdout",
     "output_type": "stream",
     "text": [
      "<function add at 0x7fed6834cae0>\n"
     ]
    }
   ],
   "source": [
    "print(add)"
   ]
  },
  {
   "cell_type": "code",
   "execution_count": 35,
   "metadata": {
    "colab": {
     "base_uri": "https://localhost:8080/"
    },
    "executionInfo": {
     "elapsed": 21,
     "status": "ok",
     "timestamp": 1760593283491,
     "user": {
      "displayName": "Tushar Khitoliya",
      "userId": "14090559258689245076"
     },
     "user_tz": -330
    },
    "id": "EnLD2rGqiRz2",
    "outputId": "90b2ca74-47f8-40d3-b426-f1e8659f11c9"
   },
   "outputs": [
    {
     "name": "stdout",
     "output_type": "stream",
     "text": [
      "9\n"
     ]
    }
   ],
   "source": [
    "add(4, 5)"
   ]
  },
  {
   "cell_type": "code",
   "execution_count": 36,
   "metadata": {
    "colab": {
     "base_uri": "https://localhost:8080/"
    },
    "executionInfo": {
     "elapsed": 52,
     "status": "ok",
     "timestamp": 1760593293690,
     "user": {
      "displayName": "Tushar Khitoliya",
      "userId": "14090559258689245076"
     },
     "user_tz": -330
    },
    "id": "7NQzpysqiYfQ",
    "outputId": "cb97f07f-e715-42ed-e903-70dfa6248a3f"
   },
   "outputs": [
    {
     "name": "stdout",
     "output_type": "stream",
     "text": [
      "-1\n"
     ]
    }
   ],
   "source": [
    "add(-1, 0)"
   ]
  },
  {
   "cell_type": "code",
   "execution_count": 47,
   "metadata": {
    "colab": {
     "base_uri": "https://localhost:8080/"
    },
    "executionInfo": {
     "elapsed": 38,
     "status": "ok",
     "timestamp": 1760593722520,
     "user": {
      "displayName": "Tushar Khitoliya",
      "userId": "14090559258689245076"
     },
     "user_tz": -330
    },
    "id": "NOLmNLa5ia-A",
    "outputId": "be1057d7-776f-4b21-b3ae-82def3ab8436"
   },
   "outputs": [
    {
     "data": {
      "text/plain": [
       "80"
      ]
     },
     "execution_count": 47,
     "metadata": {},
     "output_type": "execute_result"
    }
   ],
   "source": [
    "c = 80\n",
    "def sub(a1, b1):\n",
    "  c = 90\n",
    "  print(b1 - a1)\n",
    "  print(c)\n",
    "c"
   ]
  },
  {
   "cell_type": "code",
   "execution_count": 44,
   "metadata": {
    "colab": {
     "base_uri": "https://localhost:8080/"
    },
    "executionInfo": {
     "elapsed": 70,
     "status": "ok",
     "timestamp": 1760593618608,
     "user": {
      "displayName": "Tushar Khitoliya",
      "userId": "14090559258689245076"
     },
     "user_tz": -330
    },
    "id": "KUDspy1wijY9",
    "outputId": "fd8ce5a4-8522-405d-a62b-5083e05f1e1e"
   },
   "outputs": [
    {
     "name": "stdout",
     "output_type": "stream",
     "text": [
      "9\n",
      "90\n"
     ]
    }
   ],
   "source": [
    "sub(10, 19)"
   ]
  },
  {
   "cell_type": "code",
   "execution_count": 42,
   "metadata": {
    "colab": {
     "base_uri": "https://localhost:8080/"
    },
    "executionInfo": {
     "elapsed": 55,
     "status": "ok",
     "timestamp": 1760593579038,
     "user": {
      "displayName": "Tushar Khitoliya",
      "userId": "14090559258689245076"
     },
     "user_tz": -330
    },
    "id": "6MXfIYbvinGI",
    "outputId": "236fd29e-cc52-461f-d4eb-7571121cfb74"
   },
   "outputs": [
    {
     "name": "stdout",
     "output_type": "stream",
     "text": [
      "9\n"
     ]
    }
   ],
   "source": [
    "a1 = 10\n",
    "b1 = 19\n",
    "sub(a1, b1)"
   ]
  },
  {
   "cell_type": "code",
   "execution_count": null,
   "metadata": {
    "id": "V1gXiRt5jWGX"
   },
   "outputs": [],
   "source": [
    "c"
   ]
  }
 ],
 "metadata": {
  "colab": {
   "authorship_tag": "ABX9TyOzPe8Jo+UsPsa9/x+m8Aa8",
   "provenance": []
  },
  "kernelspec": {
   "display_name": "Python 3 (ipykernel)",
   "language": "python",
   "name": "python3"
  },
  "language_info": {
   "codemirror_mode": {
    "name": "ipython",
    "version": 3
   },
   "file_extension": ".py",
   "mimetype": "text/x-python",
   "name": "python",
   "nbconvert_exporter": "python",
   "pygments_lexer": "ipython3",
   "version": "3.12.7"
  }
 },
 "nbformat": 4,
 "nbformat_minor": 4
}
