{
 "cells": [
  {
   "cell_type": "code",
   "execution_count": 11,
   "id": "e624c8d0-144d-474c-b6e8-89cef5da5967",
   "metadata": {},
   "outputs": [],
   "source": [
    "a = 1\n",
    "\n",
    "d = {\n",
    "    'a' : 123,\n",
    "    'b' : True,\n",
    "    '1' : 'praveen',\n",
    "    '4' : [1, 2, 3, 4],\n",
    "    'e' : type(a),\n",
    "    'f' : {'Ai' : 'Ml',\n",
    "          'hi' : 'hello'}\n",
    "}"
   ]
  },
  {
   "cell_type": "code",
   "execution_count": 12,
   "id": "522a2bcc-e29d-4b78-95b0-ddf3c65f835d",
   "metadata": {},
   "outputs": [
    {
     "name": "stdout",
     "output_type": "stream",
     "text": [
      "<class 'type'>\n"
     ]
    }
   ],
   "source": [
    "print(type)"
   ]
  },
  {
   "cell_type": "code",
   "execution_count": 13,
   "id": "7aa4ae0d-f320-453a-b586-e702559f3a39",
   "metadata": {},
   "outputs": [
    {
     "data": {
      "text/plain": [
       "{'a': 123,\n",
       " 'b': True,\n",
       " '1': 'praveen',\n",
       " '4': [1, 2, 3, 4],\n",
       " 'e': int,\n",
       " 'f': {'Ai': 'Ml', 'hi': 'hello'}}"
      ]
     },
     "execution_count": 13,
     "metadata": {},
     "output_type": "execute_result"
    }
   ],
   "source": [
    "d"
   ]
  },
  {
   "cell_type": "code",
   "execution_count": 15,
   "id": "ad5fbb0e-d478-47f9-b0f4-b7c2f7608bad",
   "metadata": {},
   "outputs": [
    {
     "data": {
      "text/plain": [
       "dict"
      ]
     },
     "execution_count": 15,
     "metadata": {},
     "output_type": "execute_result"
    }
   ],
   "source": [
    "type(d)"
   ]
  },
  {
   "cell_type": "code",
   "execution_count": 16,
   "id": "59e73371-94ba-4123-bf07-199fa26f67d8",
   "metadata": {},
   "outputs": [
    {
     "data": {
      "text/plain": [
       "dict_items([('a', 123), ('b', True), ('1', 'praveen'), ('4', [1, 2, 3, 4]), ('e', <class 'int'>), ('f', {'Ai': 'Ml', 'hi': 'hello'})])"
      ]
     },
     "execution_count": 16,
     "metadata": {},
     "output_type": "execute_result"
    }
   ],
   "source": [
    "d.items()"
   ]
  },
  {
   "cell_type": "code",
   "execution_count": 19,
   "id": "9411f85d-419f-4927-a5e2-3bc14efa8313",
   "metadata": {},
   "outputs": [
    {
     "data": {
      "text/plain": [
       "dict_items([('Ai', 'Ml'), ('hi', 'hello')])"
      ]
     },
     "execution_count": 19,
     "metadata": {},
     "output_type": "execute_result"
    }
   ],
   "source": [
    "d['f'].items()"
   ]
  },
  {
   "cell_type": "code",
   "execution_count": 25,
   "id": "2a635532-34d4-4625-9f81-38e0b56a0b19",
   "metadata": {},
   "outputs": [
    {
     "data": {
      "text/plain": [
       "'hello'"
      ]
     },
     "execution_count": 25,
     "metadata": {},
     "output_type": "execute_result"
    }
   ],
   "source": [
    "d['f']['hi']"
   ]
  },
  {
   "cell_type": "code",
   "execution_count": 28,
   "id": "3f9752f1-06c8-483b-adcd-851c47c17596",
   "metadata": {},
   "outputs": [
    {
     "data": {
      "text/plain": [
       "dict_keys(['a', 'b', '1', '4', 'e', 'f'])"
      ]
     },
     "execution_count": 28,
     "metadata": {},
     "output_type": "execute_result"
    }
   ],
   "source": [
    "d.keys()"
   ]
  },
  {
   "cell_type": "code",
   "execution_count": 29,
   "id": "5edef624-ee50-4c91-bab0-5b8242c70354",
   "metadata": {},
   "outputs": [
    {
     "data": {
      "text/plain": [
       "dict_values([123, True, 'praveen', [1, 2, 3, 4], <class 'int'>, {'Ai': 'Ml', 'hi': 'hello'}])"
      ]
     },
     "execution_count": 29,
     "metadata": {},
     "output_type": "execute_result"
    }
   ],
   "source": [
    "d.values()"
   ]
  },
  {
   "cell_type": "code",
   "execution_count": 30,
   "id": "ce0bda0f-5b0c-4f63-b7c1-579c0bd5ee9a",
   "metadata": {},
   "outputs": [
    {
     "data": {
      "text/plain": [
       "{'Ai': 'Ml', 'hi': 'hello'}"
      ]
     },
     "execution_count": 30,
     "metadata": {},
     "output_type": "execute_result"
    }
   ],
   "source": [
    "d.get('f')"
   ]
  },
  {
   "cell_type": "code",
   "execution_count": 34,
   "id": "e3996b20-91ff-4f07-a40d-71b309da7e81",
   "metadata": {},
   "outputs": [
    {
     "data": {
      "text/plain": [
       "3"
      ]
     },
     "execution_count": 34,
     "metadata": {},
     "output_type": "execute_result"
    }
   ],
   "source": [
    "d['4'][2]"
   ]
  },
  {
   "cell_type": "code",
   "execution_count": 36,
   "id": "6a7b97e9-e299-4b4f-a361-25d27470d683",
   "metadata": {},
   "outputs": [],
   "source": [
    "# Sets : "
   ]
  },
  {
   "cell_type": "code",
   "execution_count": 37,
   "id": "29b43182-60ab-4e7b-a18c-bdae03e9e277",
   "metadata": {},
   "outputs": [],
   "source": [
    "s = {}"
   ]
  },
  {
   "cell_type": "code",
   "execution_count": 38,
   "id": "cc8bc68c-bdd4-4183-81ef-3f62a3ae67fe",
   "metadata": {},
   "outputs": [
    {
     "data": {
      "text/plain": [
       "dict"
      ]
     },
     "execution_count": 38,
     "metadata": {},
     "output_type": "execute_result"
    }
   ],
   "source": [
    "type(s)"
   ]
  },
  {
   "cell_type": "code",
   "execution_count": 59,
   "id": "046fdd18-c85e-460b-8b69-fca6f67a2957",
   "metadata": {},
   "outputs": [],
   "source": [
    "s = {1,2, 3, 4, 5, 5, 6,6 ,7, 7}"
   ]
  },
  {
   "cell_type": "code",
   "execution_count": 42,
   "id": "c7374f96-1d14-4a30-8935-50116aac5e71",
   "metadata": {},
   "outputs": [
    {
     "data": {
      "text/plain": [
       "set"
      ]
     },
     "execution_count": 42,
     "metadata": {},
     "output_type": "execute_result"
    }
   ],
   "source": [
    "type(s)"
   ]
  },
  {
   "cell_type": "code",
   "execution_count": 43,
   "id": "1708e81f-bffc-4f8e-aed2-68bcf6d6a681",
   "metadata": {},
   "outputs": [
    {
     "data": {
      "text/plain": [
       "{1, 2, 3, 4, 5, 6, 7}"
      ]
     },
     "execution_count": 43,
     "metadata": {},
     "output_type": "execute_result"
    }
   ],
   "source": [
    "s"
   ]
  },
  {
   "cell_type": "code",
   "execution_count": 45,
   "id": "e0cf0e1e-8cca-4b29-a509-09a93ee51e0c",
   "metadata": {},
   "outputs": [
    {
     "data": {
      "text/plain": [
       "\u001b[1;31mType:\u001b[0m        set\n",
       "\u001b[1;31mString form:\u001b[0m {1, 2, 3, 4, 5, 6, 7}\n",
       "\u001b[1;31mLength:\u001b[0m      7\n",
       "\u001b[1;31mDocstring:\u001b[0m  \n",
       "set() -> new empty set object\n",
       "set(iterable) -> new set object\n",
       "\n",
       "Build an unordered collection of unique elements."
      ]
     },
     "metadata": {},
     "output_type": "display_data"
    }
   ],
   "source": [
    "s?"
   ]
  },
  {
   "cell_type": "code",
   "execution_count": 47,
   "id": "7d501b50-3fb7-4445-b247-8710c9af27ac",
   "metadata": {},
   "outputs": [],
   "source": [
    "s.add(19)"
   ]
  },
  {
   "cell_type": "code",
   "execution_count": 48,
   "id": "343eb491-8d8e-43da-8b28-babb980500b3",
   "metadata": {},
   "outputs": [
    {
     "data": {
      "text/plain": [
       "{1, 2, 3, 4, 5, 6, 7, 19}"
      ]
     },
     "execution_count": 48,
     "metadata": {},
     "output_type": "execute_result"
    }
   ],
   "source": [
    "s"
   ]
  },
  {
   "cell_type": "code",
   "execution_count": 49,
   "id": "98867035-d200-4d19-8478-8442cf57185c",
   "metadata": {},
   "outputs": [],
   "source": [
    "s.add(1)"
   ]
  },
  {
   "cell_type": "code",
   "execution_count": 50,
   "id": "157f2de5-b913-46f8-9422-bd95381601eb",
   "metadata": {},
   "outputs": [
    {
     "data": {
      "text/plain": [
       "{1, 2, 3, 4, 5, 6, 7, 19}"
      ]
     },
     "execution_count": 50,
     "metadata": {},
     "output_type": "execute_result"
    }
   ],
   "source": [
    "s"
   ]
  },
  {
   "cell_type": "code",
   "execution_count": 51,
   "id": "6d9f84d8-503d-411f-a433-aabb04524af1",
   "metadata": {},
   "outputs": [],
   "source": [
    "s.clear()"
   ]
  },
  {
   "cell_type": "code",
   "execution_count": 52,
   "id": "cd124c12-cb9d-4127-b941-fa02e51c9452",
   "metadata": {},
   "outputs": [
    {
     "data": {
      "text/plain": [
       "set()"
      ]
     },
     "execution_count": 52,
     "metadata": {},
     "output_type": "execute_result"
    }
   ],
   "source": [
    "s"
   ]
  },
  {
   "cell_type": "code",
   "execution_count": 54,
   "id": "37f84666-e9bb-4f8c-99a3-6a56d91a3d72",
   "metadata": {},
   "outputs": [
    {
     "data": {
      "text/plain": [
       "{1, 2, 3, 4, 5, 6, 7}"
      ]
     },
     "execution_count": 54,
     "metadata": {},
     "output_type": "execute_result"
    }
   ],
   "source": [
    "s"
   ]
  },
  {
   "cell_type": "code",
   "execution_count": 55,
   "id": "3e162a18-52df-4e30-bce9-87bcdd22312c",
   "metadata": {},
   "outputs": [
    {
     "data": {
      "text/plain": [
       "1"
      ]
     },
     "execution_count": 55,
     "metadata": {},
     "output_type": "execute_result"
    }
   ],
   "source": [
    "s.pop()"
   ]
  },
  {
   "cell_type": "code",
   "execution_count": 56,
   "id": "71e48da9-2a51-4ebe-b591-68ae200a7d86",
   "metadata": {},
   "outputs": [
    {
     "data": {
      "text/plain": [
       "2"
      ]
     },
     "execution_count": 56,
     "metadata": {},
     "output_type": "execute_result"
    }
   ],
   "source": [
    "s.pop()"
   ]
  },
  {
   "cell_type": "code",
   "execution_count": 57,
   "id": "a06b8955-207e-4c12-b1d9-72304a286541",
   "metadata": {},
   "outputs": [
    {
     "data": {
      "text/plain": [
       "3"
      ]
     },
     "execution_count": 57,
     "metadata": {},
     "output_type": "execute_result"
    }
   ],
   "source": [
    "s.pop()"
   ]
  },
  {
   "cell_type": "code",
   "execution_count": 58,
   "id": "4a7f5f27-b2d7-49d3-b96d-fae330df73fb",
   "metadata": {},
   "outputs": [
    {
     "data": {
      "text/plain": [
       "4"
      ]
     },
     "execution_count": 58,
     "metadata": {},
     "output_type": "execute_result"
    }
   ],
   "source": [
    "s.pop()"
   ]
  },
  {
   "cell_type": "code",
   "execution_count": 66,
   "id": "4c986167-deed-4112-9b8b-eb042c8f3385",
   "metadata": {},
   "outputs": [
    {
     "data": {
      "text/plain": [
       "\u001b[1;31mDocstring:\u001b[0m\n",
       "Remove an element from a set; it must be a member.\n",
       "\n",
       "If the element is not a member, raise a KeyError.\n",
       "\u001b[1;31mType:\u001b[0m      builtin_function_or_method"
      ]
     },
     "metadata": {},
     "output_type": "display_data"
    }
   ],
   "source": [
    "s.remove?"
   ]
  },
  {
   "cell_type": "code",
   "execution_count": 63,
   "id": "dbffc48e-7c41-46c1-a89a-4b7354af2c34",
   "metadata": {},
   "outputs": [],
   "source": [
    "s.remove(1)"
   ]
  },
  {
   "cell_type": "code",
   "execution_count": 64,
   "id": "64ccfcc3-248e-4eb5-a7f9-9b507b3f5d41",
   "metadata": {},
   "outputs": [
    {
     "data": {
      "text/plain": [
       "{2, 3, 4, 5, 6, 7}"
      ]
     },
     "execution_count": 64,
     "metadata": {},
     "output_type": "execute_result"
    }
   ],
   "source": [
    "s"
   ]
  },
  {
   "cell_type": "code",
   "execution_count": 67,
   "id": "f8ef1822-cceb-44e2-a121-c81d4591e6e8",
   "metadata": {},
   "outputs": [],
   "source": [
    "s.discard(20)"
   ]
  },
  {
   "cell_type": "code",
   "execution_count": 68,
   "id": "92bdcae3-a1e4-4df8-b423-cdd2eed4bbf7",
   "metadata": {},
   "outputs": [
    {
     "data": {
      "text/plain": [
       "{2, 3, 4, 5, 6, 7}"
      ]
     },
     "execution_count": 68,
     "metadata": {},
     "output_type": "execute_result"
    }
   ],
   "source": [
    "s"
   ]
  },
  {
   "cell_type": "code",
   "execution_count": 69,
   "id": "daf1f601-7b3a-4744-aa16-15d81b7506da",
   "metadata": {},
   "outputs": [],
   "source": [
    "s1 = {1, 2, 4, 5, 7}\n",
    "s2 = {2, 3, 6, 7}"
   ]
  },
  {
   "cell_type": "code",
   "execution_count": 70,
   "id": "64af0a1c-8fbb-4963-85b1-7e4e247df7c9",
   "metadata": {},
   "outputs": [
    {
     "data": {
      "text/plain": [
       "{1, 2, 3, 4, 5, 6, 7}"
      ]
     },
     "execution_count": 70,
     "metadata": {},
     "output_type": "execute_result"
    }
   ],
   "source": [
    "s1.union(s2)"
   ]
  },
  {
   "cell_type": "code",
   "execution_count": 71,
   "id": "9159081c-7c40-4846-83fa-c8ef55fd1d22",
   "metadata": {},
   "outputs": [
    {
     "data": {
      "text/plain": [
       "{2, 7}"
      ]
     },
     "execution_count": 71,
     "metadata": {},
     "output_type": "execute_result"
    }
   ],
   "source": [
    "s1.intersection(s2) "
   ]
  },
  {
   "cell_type": "code",
   "execution_count": 73,
   "id": "b29ca93b-5953-4868-941a-c3979b6a2b35",
   "metadata": {},
   "outputs": [
    {
     "data": {
      "text/plain": [
       "({1, 2, 4, 5, 7}, {2, 3, 6, 7})"
      ]
     },
     "execution_count": 73,
     "metadata": {},
     "output_type": "execute_result"
    }
   ],
   "source": [
    "s1,s2"
   ]
  },
  {
   "cell_type": "code",
   "execution_count": 74,
   "id": "192460bd-5ce9-4790-a997-97c075a2ce60",
   "metadata": {},
   "outputs": [
    {
     "data": {
      "text/plain": [
       "{1, 4, 5}"
      ]
     },
     "execution_count": 74,
     "metadata": {},
     "output_type": "execute_result"
    }
   ],
   "source": [
    "s1 - s2"
   ]
  },
  {
   "cell_type": "code",
   "execution_count": 75,
   "id": "07b46b4b-98ca-4fca-a07a-525fed014afe",
   "metadata": {},
   "outputs": [
    {
     "data": {
      "text/plain": [
       "{1, 4, 5}"
      ]
     },
     "execution_count": 75,
     "metadata": {},
     "output_type": "execute_result"
    }
   ],
   "source": [
    "s1 - s1.intersection(s2)"
   ]
  },
  {
   "cell_type": "code",
   "execution_count": 76,
   "id": "eb939e11-2fc0-4ec8-8e6f-c10c734756bd",
   "metadata": {},
   "outputs": [
    {
     "data": {
      "text/plain": [
       "{3, 6}"
      ]
     },
     "execution_count": 76,
     "metadata": {},
     "output_type": "execute_result"
    }
   ],
   "source": [
    "s2 - s1"
   ]
  },
  {
   "cell_type": "code",
   "execution_count": 79,
   "id": "33e4161f-468e-49b1-83cf-ad6f85472a6e",
   "metadata": {},
   "outputs": [
    {
     "data": {
      "text/plain": [
       "{3, 6}"
      ]
     },
     "execution_count": 79,
     "metadata": {},
     "output_type": "execute_result"
    }
   ],
   "source": [
    "s2 - s2.intersection(s1)"
   ]
  },
  {
   "cell_type": "code",
   "execution_count": 80,
   "id": "11b652ec-e631-492e-a3d7-87dab7fc4b14",
   "metadata": {},
   "outputs": [
    {
     "data": {
      "text/plain": [
       "{1, 3, 4, 5, 6}"
      ]
     },
     "execution_count": 80,
     "metadata": {},
     "output_type": "execute_result"
    }
   ],
   "source": [
    "s1.symmetric_difference(s2)"
   ]
  },
  {
   "cell_type": "code",
   "execution_count": 81,
   "id": "26bee87d-0613-428d-9b08-3c1d89530339",
   "metadata": {},
   "outputs": [
    {
     "data": {
      "text/plain": [
       "{1, 2, 4, 5, 7}"
      ]
     },
     "execution_count": 81,
     "metadata": {},
     "output_type": "execute_result"
    }
   ],
   "source": [
    "s1"
   ]
  },
  {
   "cell_type": "code",
   "execution_count": 82,
   "id": "46c41bd6-628a-4768-be7f-e6a29fe93f4a",
   "metadata": {},
   "outputs": [
    {
     "data": {
      "text/plain": [
       "{2, 3, 6, 7}"
      ]
     },
     "execution_count": 82,
     "metadata": {},
     "output_type": "execute_result"
    }
   ],
   "source": [
    "s2"
   ]
  },
  {
   "cell_type": "code",
   "execution_count": null,
   "id": "60079f72-c9e5-43e2-afed-9cca6f964a16",
   "metadata": {},
   "outputs": [],
   "source": []
  }
 ],
 "metadata": {
  "kernelspec": {
   "display_name": "Python 3 (ipykernel)",
   "language": "python",
   "name": "python3"
  },
  "language_info": {
   "codemirror_mode": {
    "name": "ipython",
    "version": 3
   },
   "file_extension": ".py",
   "mimetype": "text/x-python",
   "name": "python",
   "nbconvert_exporter": "python",
   "pygments_lexer": "ipython3",
   "version": "3.12.7"
  }
 },
 "nbformat": 4,
 "nbformat_minor": 5
}
