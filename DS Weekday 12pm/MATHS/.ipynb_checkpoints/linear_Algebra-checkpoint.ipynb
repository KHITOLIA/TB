{
 "cells": [
  {
   "cell_type": "code",
   "execution_count": 1,
   "id": "1476b377-dba7-4a96-8410-edd161251bbf",
   "metadata": {},
   "outputs": [],
   "source": [
    "# !pip install numpy"
   ]
  },
  {
   "cell_type": "code",
   "execution_count": 1,
   "id": "61eb24d6-4994-4ae2-bcbe-6988b64827e0",
   "metadata": {},
   "outputs": [],
   "source": [
    "import numpy as np"
   ]
  },
  {
   "cell_type": "code",
   "execution_count": 8,
   "id": "e6cf8f15-e5b6-45d2-b4f5-5b61cd5a21a0",
   "metadata": {},
   "outputs": [
    {
     "data": {
      "text/plain": [
       "array([1, 2, 4])"
      ]
     },
     "execution_count": 8,
     "metadata": {},
     "output_type": "execute_result"
    }
   ],
   "source": [
    "a = np.array([1, \n",
    "              2,\n",
    "             4 ])\n",
    "a"
   ]
  },
  {
   "cell_type": "code",
   "execution_count": 9,
   "id": "d2c96452-a9d0-432a-9769-7786fcebf1c8",
   "metadata": {},
   "outputs": [
    {
     "data": {
      "text/plain": [
       "(3,)"
      ]
     },
     "execution_count": 9,
     "metadata": {},
     "output_type": "execute_result"
    }
   ],
   "source": [
    "a.shape"
   ]
  },
  {
   "cell_type": "code",
   "execution_count": 10,
   "id": "6b89771c-4183-47b8-9b70-0da4bd06e3cb",
   "metadata": {},
   "outputs": [],
   "source": [
    "d = np.linalg.norm(a)"
   ]
  },
  {
   "cell_type": "code",
   "execution_count": 11,
   "id": "2e61a325-ac0e-4a25-a99a-74062570357b",
   "metadata": {},
   "outputs": [],
   "source": [
    "distance_from_origin = ((1-0)**2 + (2-0)**2)**0.5"
   ]
  },
  {
   "cell_type": "code",
   "execution_count": 12,
   "id": "58332e88-e3d7-4de2-9e15-bd5534855dee",
   "metadata": {},
   "outputs": [
    {
     "data": {
      "text/plain": [
       "False"
      ]
     },
     "execution_count": 12,
     "metadata": {},
     "output_type": "execute_result"
    }
   ],
   "source": [
    "distance_from_origin == d"
   ]
  },
  {
   "cell_type": "code",
   "execution_count": 13,
   "id": "a8c8794c-6a60-46f4-a6c4-190cb49b6894",
   "metadata": {},
   "outputs": [],
   "source": [
    "b = np.array([3, 4])\n",
    "a = np.array([7, 1])"
   ]
  },
  {
   "cell_type": "code",
   "execution_count": 14,
   "id": "6e425865-f2b2-42a5-af20-b769956ff8c5",
   "metadata": {},
   "outputs": [],
   "source": [
    "x1 , y1 = b[0],b[1]"
   ]
  },
  {
   "cell_type": "code",
   "execution_count": 15,
   "id": "472d76ff-e74d-424e-ab78-3a03b414a499",
   "metadata": {},
   "outputs": [],
   "source": [
    "x2 , y2 = a[0], a[1]"
   ]
  },
  {
   "cell_type": "code",
   "execution_count": 16,
   "id": "3b49c05c-05df-4420-a17b-c41d396afa29",
   "metadata": {},
   "outputs": [],
   "source": [
    "distance_between_a_b = ((x2 - x1)**2 + (y2 - y1)**2)**0.5"
   ]
  },
  {
   "cell_type": "code",
   "execution_count": 17,
   "id": "b6734cd5-e289-4945-ba6a-4f3d17b7fca0",
   "metadata": {},
   "outputs": [
    {
     "data": {
      "text/plain": [
       "5.0"
      ]
     },
     "execution_count": 17,
     "metadata": {},
     "output_type": "execute_result"
    }
   ],
   "source": [
    "distance_between_a_b"
   ]
  },
  {
   "cell_type": "code",
   "execution_count": 18,
   "id": "407b7c06-d350-4f5d-b74f-1da92975371c",
   "metadata": {},
   "outputs": [],
   "source": [
    "c = a-b"
   ]
  },
  {
   "cell_type": "code",
   "execution_count": 19,
   "id": "8463a85d-45cd-4ec3-832d-f53917f2e869",
   "metadata": {},
   "outputs": [
    {
     "data": {
      "text/plain": [
       "5.0"
      ]
     },
     "execution_count": 19,
     "metadata": {},
     "output_type": "execute_result"
    }
   ],
   "source": [
    "np.linalg.norm(c)"
   ]
  },
  {
   "cell_type": "code",
   "execution_count": 20,
   "id": "276f81c2-d163-4cce-bd07-036f636e2094",
   "metadata": {},
   "outputs": [
    {
     "data": {
      "text/plain": [
       "array([7, 1])"
      ]
     },
     "execution_count": 20,
     "metadata": {},
     "output_type": "execute_result"
    }
   ],
   "source": [
    "a"
   ]
  },
  {
   "cell_type": "code",
   "execution_count": 21,
   "id": "471e260d-e6ad-4e52-ad48-21ba590c0ff1",
   "metadata": {},
   "outputs": [
    {
     "data": {
      "text/plain": [
       "array([3, 4])"
      ]
     },
     "execution_count": 21,
     "metadata": {},
     "output_type": "execute_result"
    }
   ],
   "source": [
    "b"
   ]
  },
  {
   "cell_type": "code",
   "execution_count": 22,
   "id": "7207c738-2b4e-46ca-a6a6-8bffc660c8a2",
   "metadata": {},
   "outputs": [
    {
     "data": {
      "text/plain": [
       "array([10,  5])"
      ]
     },
     "execution_count": 22,
     "metadata": {},
     "output_type": "execute_result"
    }
   ],
   "source": [
    "a + b"
   ]
  },
  {
   "cell_type": "code",
   "execution_count": 23,
   "id": "0d1793ed-bf6a-4ca1-8e59-c93bbdd3e055",
   "metadata": {},
   "outputs": [
    {
     "data": {
      "text/plain": [
       "array([7, 1])"
      ]
     },
     "execution_count": 23,
     "metadata": {},
     "output_type": "execute_result"
    }
   ],
   "source": [
    "a"
   ]
  },
  {
   "cell_type": "code",
   "execution_count": null,
   "id": "0ac38015-ab42-4f01-845b-a00aaa9de30d",
   "metadata": {},
   "outputs": [],
   "source": []
  }
 ],
 "metadata": {
  "kernelspec": {
   "display_name": "Python 3 (ipykernel)",
   "language": "python",
   "name": "python3"
  },
  "language_info": {
   "codemirror_mode": {
    "name": "ipython",
    "version": 3
   },
   "file_extension": ".py",
   "mimetype": "text/x-python",
   "name": "python",
   "nbconvert_exporter": "python",
   "pygments_lexer": "ipython3",
   "version": "3.12.7"
  }
 },
 "nbformat": 4,
 "nbformat_minor": 5
}
