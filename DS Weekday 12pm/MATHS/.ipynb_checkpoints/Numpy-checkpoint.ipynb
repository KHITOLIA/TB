{
 "cells": [
  {
   "cell_type": "code",
   "execution_count": 64,
   "id": "97d52b5f-0f10-4831-8040-dd1c1c641aab",
   "metadata": {},
   "outputs": [
    {
     "data": {
      "text/plain": [
       "(1, 2, 3, 1)"
      ]
     },
     "execution_count": 64,
     "metadata": {},
     "output_type": "execute_result"
    }
   ],
   "source": [
    "tup = (1, 2, 3)\n",
    "tup = tup + (1,)\n",
    "tup"
   ]
  },
  {
   "cell_type": "code",
   "execution_count": 58,
   "id": "950700d5-19e2-4942-a1e9-7fd9ee30f721",
   "metadata": {},
   "outputs": [],
   "source": [
    "import numpy as np\n"
   ]
  },
  {
   "cell_type": "code",
   "execution_count": 60,
   "id": "784a0516-7cde-4811-a0fa-25ccc9813f81",
   "metadata": {},
   "outputs": [],
   "source": [
    "a = np.array([1, 2, 3])"
   ]
  },
  {
   "cell_type": "code",
   "execution_count": 61,
   "id": "7984da1e-dd2e-4c7e-912b-daaae6122042",
   "metadata": {},
   "outputs": [
    {
     "data": {
      "text/plain": [
       "(3,)"
      ]
     },
     "execution_count": 61,
     "metadata": {},
     "output_type": "execute_result"
    }
   ],
   "source": [
    "a.shape"
   ]
  },
  {
   "cell_type": "code",
   "execution_count": 65,
   "id": "0db0002d-d28e-49aa-a60a-5fb092605b6e",
   "metadata": {},
   "outputs": [],
   "source": [
    "b = np.array([[1, 2], \n",
    "              [3, 4]])"
   ]
  },
  {
   "cell_type": "code",
   "execution_count": 66,
   "id": "079022e6-3c26-4317-ad8f-03353e737189",
   "metadata": {},
   "outputs": [
    {
     "data": {
      "text/plain": [
       "array([[1, 2],\n",
       "       [3, 4]])"
      ]
     },
     "execution_count": 66,
     "metadata": {},
     "output_type": "execute_result"
    }
   ],
   "source": [
    "b"
   ]
  },
  {
   "cell_type": "code",
   "execution_count": 67,
   "id": "cb9a1464-5498-4c7f-a705-8db7f38b7cd7",
   "metadata": {},
   "outputs": [
    {
     "data": {
      "text/plain": [
       "2"
      ]
     },
     "execution_count": 67,
     "metadata": {},
     "output_type": "execute_result"
    }
   ],
   "source": [
    "b.ndim"
   ]
  },
  {
   "cell_type": "code",
   "execution_count": 70,
   "id": "b743c456-2360-41b9-8616-3df496a72ac5",
   "metadata": {},
   "outputs": [
    {
     "data": {
      "text/plain": [
       "(2, 2)"
      ]
     },
     "execution_count": 70,
     "metadata": {},
     "output_type": "execute_result"
    }
   ],
   "source": [
    "b.shape"
   ]
  },
  {
   "cell_type": "code",
   "execution_count": 71,
   "id": "fc99e49f-c7b6-4c3b-9b06-86d2064dd692",
   "metadata": {},
   "outputs": [],
   "source": [
    "b = np.array([[-4, 5], \n",
    "              [0,0 ]])"
   ]
  },
  {
   "cell_type": "code",
   "execution_count": 72,
   "id": "77746659-64e3-4cdb-abf7-6354629a89a3",
   "metadata": {},
   "outputs": [
    {
     "data": {
      "text/plain": [
       "array([[-4,  5],\n",
       "       [ 0,  0]])"
      ]
     },
     "execution_count": 72,
     "metadata": {},
     "output_type": "execute_result"
    }
   ],
   "source": [
    "b"
   ]
  },
  {
   "cell_type": "code",
   "execution_count": 73,
   "id": "8201145a-541d-499c-a09f-da6b6fd2c3ee",
   "metadata": {},
   "outputs": [
    {
     "data": {
      "text/plain": [
       "0.0"
      ]
     },
     "execution_count": 73,
     "metadata": {},
     "output_type": "execute_result"
    }
   ],
   "source": [
    "np.linalg.det(b)"
   ]
  },
  {
   "cell_type": "code",
   "execution_count": 74,
   "id": "f15beb49-69ef-4366-8dd3-d6b11a569ce5",
   "metadata": {},
   "outputs": [
    {
     "ename": "LinAlgError",
     "evalue": "Singular matrix",
     "output_type": "error",
     "traceback": [
      "\u001b[1;31m---------------------------------------------------------------------------\u001b[0m",
      "\u001b[1;31mLinAlgError\u001b[0m                               Traceback (most recent call last)",
      "Cell \u001b[1;32mIn[74], line 1\u001b[0m\n\u001b[1;32m----> 1\u001b[0m np\u001b[38;5;241m.\u001b[39mlinalg\u001b[38;5;241m.\u001b[39minv(b)\n",
      "File \u001b[1;32m~\\anaconda3\\Lib\\site-packages\\numpy\\linalg\\linalg.py:561\u001b[0m, in \u001b[0;36minv\u001b[1;34m(a)\u001b[0m\n\u001b[0;32m    559\u001b[0m signature \u001b[38;5;241m=\u001b[39m \u001b[38;5;124m'\u001b[39m\u001b[38;5;124mD->D\u001b[39m\u001b[38;5;124m'\u001b[39m \u001b[38;5;28;01mif\u001b[39;00m isComplexType(t) \u001b[38;5;28;01melse\u001b[39;00m \u001b[38;5;124m'\u001b[39m\u001b[38;5;124md->d\u001b[39m\u001b[38;5;124m'\u001b[39m\n\u001b[0;32m    560\u001b[0m extobj \u001b[38;5;241m=\u001b[39m get_linalg_error_extobj(_raise_linalgerror_singular)\n\u001b[1;32m--> 561\u001b[0m ainv \u001b[38;5;241m=\u001b[39m _umath_linalg\u001b[38;5;241m.\u001b[39minv(a, signature\u001b[38;5;241m=\u001b[39msignature, extobj\u001b[38;5;241m=\u001b[39mextobj)\n\u001b[0;32m    562\u001b[0m \u001b[38;5;28;01mreturn\u001b[39;00m wrap(ainv\u001b[38;5;241m.\u001b[39mastype(result_t, copy\u001b[38;5;241m=\u001b[39m\u001b[38;5;28;01mFalse\u001b[39;00m))\n",
      "File \u001b[1;32m~\\anaconda3\\Lib\\site-packages\\numpy\\linalg\\linalg.py:112\u001b[0m, in \u001b[0;36m_raise_linalgerror_singular\u001b[1;34m(err, flag)\u001b[0m\n\u001b[0;32m    111\u001b[0m \u001b[38;5;28;01mdef\u001b[39;00m \u001b[38;5;21m_raise_linalgerror_singular\u001b[39m(err, flag):\n\u001b[1;32m--> 112\u001b[0m     \u001b[38;5;28;01mraise\u001b[39;00m LinAlgError(\u001b[38;5;124m\"\u001b[39m\u001b[38;5;124mSingular matrix\u001b[39m\u001b[38;5;124m\"\u001b[39m)\n",
      "\u001b[1;31mLinAlgError\u001b[0m: Singular matrix"
     ]
    }
   ],
   "source": [
    "np.linalg.inv(b)"
   ]
  },
  {
   "cell_type": "code",
   "execution_count": 7,
   "id": "8664ad73-83ae-4c4e-93e0-8a15479b88e8",
   "metadata": {},
   "outputs": [],
   "source": [
    "b = np.array([[-1, 0], [3, 0]])"
   ]
  },
  {
   "cell_type": "code",
   "execution_count": 8,
   "id": "f1b7c6b5-34ca-4c67-ab95-11d6f193eef7",
   "metadata": {},
   "outputs": [
    {
     "data": {
      "text/plain": [
       "0.0"
      ]
     },
     "execution_count": 8,
     "metadata": {},
     "output_type": "execute_result"
    }
   ],
   "source": [
    "np.linalg.det(b)"
   ]
  },
  {
   "cell_type": "code",
   "execution_count": 9,
   "id": "eb52b3c3-7efe-4ccc-991a-b59169279528",
   "metadata": {},
   "outputs": [],
   "source": [
    "# np.linalg.inv(b)"
   ]
  },
  {
   "cell_type": "code",
   "execution_count": 10,
   "id": "154ea9aa-7531-4f70-b804-2c15e8c68b8e",
   "metadata": {},
   "outputs": [
    {
     "data": {
      "text/plain": [
       "array([[-1,  0],\n",
       "       [ 3,  0]])"
      ]
     },
     "execution_count": 10,
     "metadata": {},
     "output_type": "execute_result"
    }
   ],
   "source": [
    "b"
   ]
  },
  {
   "cell_type": "code",
   "execution_count": 11,
   "id": "22934ae1-16b8-4aa8-8f43-29df4e18845c",
   "metadata": {},
   "outputs": [
    {
     "data": {
      "text/plain": [
       "array([[-1,  0],\n",
       "       [ 3,  0]])"
      ]
     },
     "execution_count": 11,
     "metadata": {},
     "output_type": "execute_result"
    }
   ],
   "source": [
    "b"
   ]
  },
  {
   "cell_type": "code",
   "execution_count": 12,
   "id": "d4767993-23e0-4c92-914c-3d3e4c912e60",
   "metadata": {},
   "outputs": [],
   "source": [
    "b = np.array([[10, 1], [0, 5]])"
   ]
  },
  {
   "cell_type": "code",
   "execution_count": 13,
   "id": "3bb6f3d7-04d7-49a7-9ea8-73ffa55837f4",
   "metadata": {},
   "outputs": [
    {
     "data": {
      "text/plain": [
       "50.000000000000014"
      ]
     },
     "execution_count": 13,
     "metadata": {},
     "output_type": "execute_result"
    }
   ],
   "source": [
    "np.linalg.det(b)"
   ]
  },
  {
   "cell_type": "code",
   "execution_count": 14,
   "id": "5bcf3361-2d47-4ef1-8f9f-382a9c8d6299",
   "metadata": {},
   "outputs": [
    {
     "data": {
      "text/plain": [
       "array([[10,  1],\n",
       "       [ 0,  5]])"
      ]
     },
     "execution_count": 14,
     "metadata": {},
     "output_type": "execute_result"
    }
   ],
   "source": [
    "b"
   ]
  },
  {
   "cell_type": "code",
   "execution_count": 15,
   "id": "d32ae991-50d5-429a-9e2d-d5326768805e",
   "metadata": {},
   "outputs": [],
   "source": [
    "value, vectors = np.linalg.eig(b)"
   ]
  },
  {
   "cell_type": "code",
   "execution_count": 16,
   "id": "6f0258b9-f306-4809-92bb-67b0636f44c8",
   "metadata": {},
   "outputs": [
    {
     "data": {
      "text/plain": [
       "array([[ 1.        , -0.19611614],\n",
       "       [ 0.        ,  0.98058068]])"
      ]
     },
     "execution_count": 16,
     "metadata": {},
     "output_type": "execute_result"
    }
   ],
   "source": [
    "vectors"
   ]
  },
  {
   "cell_type": "code",
   "execution_count": 17,
   "id": "f6b9f42d-d9e0-4ba8-b0ac-4d4d1cf13233",
   "metadata": {},
   "outputs": [
    {
     "data": {
      "text/plain": [
       "array([10.,  5.])"
      ]
     },
     "execution_count": 17,
     "metadata": {},
     "output_type": "execute_result"
    }
   ],
   "source": [
    "value"
   ]
  },
  {
   "cell_type": "code",
   "execution_count": 18,
   "id": "2a8e2144-3429-45a0-b78e-ca6f857731d1",
   "metadata": {},
   "outputs": [],
   "source": [
    "b = np.array([[-1, 0], [3, 0]])"
   ]
  },
  {
   "cell_type": "code",
   "execution_count": 19,
   "id": "11d4e38f-e2d0-48ab-9b7c-71eb5566db14",
   "metadata": {},
   "outputs": [
    {
     "data": {
      "text/plain": [
       "array([[-1,  0],\n",
       "       [ 3,  0]])"
      ]
     },
     "execution_count": 19,
     "metadata": {},
     "output_type": "execute_result"
    }
   ],
   "source": [
    "b"
   ]
  },
  {
   "cell_type": "code",
   "execution_count": 20,
   "id": "91ea306d-d6ff-4de4-84ed-8ec6f63ca83e",
   "metadata": {},
   "outputs": [
    {
     "data": {
      "text/plain": [
       "0.0"
      ]
     },
     "execution_count": 20,
     "metadata": {},
     "output_type": "execute_result"
    }
   ],
   "source": [
    "np.linalg.det(b)"
   ]
  },
  {
   "cell_type": "code",
   "execution_count": 21,
   "id": "ae428e48-4353-4b63-be6f-e884ea06cf21",
   "metadata": {},
   "outputs": [],
   "source": [
    "value, vectors = np.linalg.eig(b)"
   ]
  },
  {
   "cell_type": "code",
   "execution_count": 22,
   "id": "74690ddb-6286-41eb-8f49-cd073ed1cb78",
   "metadata": {},
   "outputs": [
    {
     "data": {
      "text/plain": [
       "array([ 0., -1.])"
      ]
     },
     "execution_count": 22,
     "metadata": {},
     "output_type": "execute_result"
    }
   ],
   "source": [
    "value"
   ]
  },
  {
   "cell_type": "code",
   "execution_count": 23,
   "id": "40c456f1-0853-4597-97cf-7e54eb7470c5",
   "metadata": {},
   "outputs": [
    {
     "data": {
      "text/plain": [
       "array([[ 0.        ,  0.31622777],\n",
       "       [ 1.        , -0.9486833 ]])"
      ]
     },
     "execution_count": 23,
     "metadata": {},
     "output_type": "execute_result"
    }
   ],
   "source": [
    "vectors"
   ]
  },
  {
   "cell_type": "code",
   "execution_count": 24,
   "id": "7bab426e-5e06-4ebc-880b-90db64fdbdaf",
   "metadata": {},
   "outputs": [],
   "source": [
    "a = np.array([[[1, 2], \n",
    "               [3, 4], \n",
    "               [5, 6], \n",
    "               [7, 8]]])"
   ]
  },
  {
   "cell_type": "code",
   "execution_count": 25,
   "id": "1af433c2-02c8-4b08-8312-5c42eef87107",
   "metadata": {},
   "outputs": [
    {
     "data": {
      "text/plain": [
       "array([[[1, 2],\n",
       "        [3, 4],\n",
       "        [5, 6],\n",
       "        [7, 8]]])"
      ]
     },
     "execution_count": 25,
     "metadata": {},
     "output_type": "execute_result"
    }
   ],
   "source": [
    "a"
   ]
  },
  {
   "cell_type": "code",
   "execution_count": 26,
   "id": "153fc54f-fbae-4b74-9c6a-845c0c833486",
   "metadata": {},
   "outputs": [
    {
     "data": {
      "text/plain": [
       "3"
      ]
     },
     "execution_count": 26,
     "metadata": {},
     "output_type": "execute_result"
    }
   ],
   "source": [
    "a.ndim"
   ]
  },
  {
   "cell_type": "code",
   "execution_count": 27,
   "id": "5a18e38c-3555-4876-b14f-4854ad5d6b40",
   "metadata": {},
   "outputs": [],
   "source": [
    "a = np.array([1, 2, 3])"
   ]
  },
  {
   "cell_type": "code",
   "execution_count": 28,
   "id": "6a7b6c50-6928-4ace-bf50-cc11abad6105",
   "metadata": {},
   "outputs": [
    {
     "data": {
      "text/plain": [
       "1"
      ]
     },
     "execution_count": 28,
     "metadata": {},
     "output_type": "execute_result"
    }
   ],
   "source": [
    "a.ndim"
   ]
  },
  {
   "cell_type": "code",
   "execution_count": 29,
   "id": "698778cc-f48b-421b-ac86-f8eea03a598d",
   "metadata": {},
   "outputs": [
    {
     "data": {
      "text/plain": [
       "(3,)"
      ]
     },
     "execution_count": 29,
     "metadata": {},
     "output_type": "execute_result"
    }
   ],
   "source": [
    "a.shape"
   ]
  },
  {
   "cell_type": "code",
   "execution_count": 30,
   "id": "32d9ef3c-722e-4158-96f2-d5655fd78c12",
   "metadata": {},
   "outputs": [
    {
     "data": {
      "text/plain": [
       "array([[-1,  0],\n",
       "       [ 3,  0]])"
      ]
     },
     "execution_count": 30,
     "metadata": {},
     "output_type": "execute_result"
    }
   ],
   "source": [
    "b"
   ]
  },
  {
   "cell_type": "code",
   "execution_count": 31,
   "id": "84a08fd1-12d6-4dab-a4d4-9a26498340f5",
   "metadata": {},
   "outputs": [
    {
     "data": {
      "text/plain": [
       "2"
      ]
     },
     "execution_count": 31,
     "metadata": {},
     "output_type": "execute_result"
    }
   ],
   "source": [
    "b.ndim"
   ]
  },
  {
   "cell_type": "code",
   "execution_count": 32,
   "id": "f6e92e5e-a6ad-4808-a6d9-613683e28d99",
   "metadata": {},
   "outputs": [
    {
     "data": {
      "text/plain": [
       "(2, 2)"
      ]
     },
     "execution_count": 32,
     "metadata": {},
     "output_type": "execute_result"
    }
   ],
   "source": [
    "b.shape"
   ]
  },
  {
   "cell_type": "code",
   "execution_count": 77,
   "id": "9c963258-8054-4ee0-a130-53dd6466234c",
   "metadata": {},
   "outputs": [],
   "source": [
    "c = np.array([[[1, 2], \n",
    "               [3, 4], \n",
    "               [5, 6], \n",
    "               [7, 8]]])"
   ]
  },
  {
   "cell_type": "code",
   "execution_count": 78,
   "id": "93894dee-44b0-4998-b593-4feda75dbda4",
   "metadata": {},
   "outputs": [
    {
     "data": {
      "text/plain": [
       "3"
      ]
     },
     "execution_count": 78,
     "metadata": {},
     "output_type": "execute_result"
    }
   ],
   "source": [
    "c.ndim"
   ]
  },
  {
   "cell_type": "code",
   "execution_count": 79,
   "id": "68d0ee8b-c399-49e7-8ab1-648e2752149a",
   "metadata": {},
   "outputs": [
    {
     "data": {
      "text/plain": [
       "(1, 4, 2)"
      ]
     },
     "execution_count": 79,
     "metadata": {},
     "output_type": "execute_result"
    }
   ],
   "source": [
    "c.shape"
   ]
  },
  {
   "cell_type": "code",
   "execution_count": 36,
   "id": "34f57c8b-f400-4f04-8012-840516de8be9",
   "metadata": {},
   "outputs": [
    {
     "data": {
      "text/plain": [
       "array([[-1,  0],\n",
       "       [ 3,  0]])"
      ]
     },
     "execution_count": 36,
     "metadata": {},
     "output_type": "execute_result"
    }
   ],
   "source": [
    "b"
   ]
  },
  {
   "cell_type": "code",
   "execution_count": 80,
   "id": "8757b418-d1d1-475e-96ce-968ebaf26777",
   "metadata": {},
   "outputs": [
    {
     "name": "stdout",
     "output_type": "stream",
     "text": [
      "1\n",
      "2\n",
      "3\n",
      "4\n",
      "5\n",
      "6\n",
      "7\n",
      "8\n"
     ]
    }
   ],
   "source": [
    "for i in np.nditer(c):\n",
    "    print(i)"
   ]
  },
  {
   "cell_type": "code",
   "execution_count": 38,
   "id": "949136a4-26c0-434b-bb0d-2ad3a5e65973",
   "metadata": {},
   "outputs": [],
   "source": [
    "# random generation of matrix"
   ]
  },
  {
   "cell_type": "code",
   "execution_count": 39,
   "id": "317e2ff7-bf12-4e4e-9ec7-5848e0f861ae",
   "metadata": {},
   "outputs": [
    {
     "data": {
      "text/plain": [
       "array([[0.12043988, 0.69981998, 0.31966904],\n",
       "       [0.13356432, 0.37729107, 0.71015373]])"
      ]
     },
     "execution_count": 39,
     "metadata": {},
     "output_type": "execute_result"
    }
   ],
   "source": [
    "np.random.random((2, 3))"
   ]
  },
  {
   "cell_type": "code",
   "execution_count": 81,
   "id": "cf9ef8f2-317d-414b-af8d-272b21ea2498",
   "metadata": {},
   "outputs": [
    {
     "data": {
      "text/plain": [
       "array([[18,  6, 16],\n",
       "       [ 1,  5,  6]])"
      ]
     },
     "execution_count": 81,
     "metadata": {},
     "output_type": "execute_result"
    }
   ],
   "source": [
    "np.random.randint(-1, 20, (2,3))"
   ]
  },
  {
   "cell_type": "code",
   "execution_count": 82,
   "id": "56dcbe74-cf52-49a4-a50d-b0d80d600386",
   "metadata": {},
   "outputs": [
    {
     "data": {
      "text/plain": [
       "array([[ 0.16257014,  0.97227954],\n",
       "       [ 0.93256767,  0.86447226],\n",
       "       [ 0.33915471,  1.55599975],\n",
       "       [ 0.64716425,  0.03966677],\n",
       "       [-0.56028785, -1.77614979],\n",
       "       [ 0.27823449, -1.45674073]])"
      ]
     },
     "execution_count": 82,
     "metadata": {},
     "output_type": "execute_result"
    }
   ],
   "source": [
    "np.random.randn(6, 2)"
   ]
  },
  {
   "cell_type": "code",
   "execution_count": 42,
   "id": "95de9ba5-d520-4f9a-8f17-1e58237ebbb7",
   "metadata": {},
   "outputs": [
    {
     "data": {
      "text/plain": [
       "\u001b[1;31mDocstring:\u001b[0m\n",
       "randn(d0, d1, ..., dn)\n",
       "\n",
       "Return a sample (or samples) from the \"standard normal\" distribution.\n",
       "\n",
       ".. note::\n",
       "    This is a convenience function for users porting code from Matlab,\n",
       "    and wraps `standard_normal`. That function takes a\n",
       "    tuple to specify the size of the output, which is consistent with\n",
       "    other NumPy functions like `numpy.zeros` and `numpy.ones`.\n",
       "\n",
       ".. note::\n",
       "    New code should use the\n",
       "    `~numpy.random.Generator.standard_normal`\n",
       "    method of a `~numpy.random.Generator` instance instead;\n",
       "    please see the :ref:`random-quick-start`.\n",
       "\n",
       "If positive int_like arguments are provided, `randn` generates an array\n",
       "of shape ``(d0, d1, ..., dn)``, filled\n",
       "with random floats sampled from a univariate \"normal\" (Gaussian)\n",
       "distribution of mean 0 and variance 1. A single float randomly sampled\n",
       "from the distribution is returned if no argument is provided.\n",
       "\n",
       "Parameters\n",
       "----------\n",
       "d0, d1, ..., dn : int, optional\n",
       "    The dimensions of the returned array, must be non-negative.\n",
       "    If no argument is given a single Python float is returned.\n",
       "\n",
       "Returns\n",
       "-------\n",
       "Z : ndarray or float\n",
       "    A ``(d0, d1, ..., dn)``-shaped array of floating-point samples from\n",
       "    the standard normal distribution, or a single such float if\n",
       "    no parameters were supplied.\n",
       "\n",
       "See Also\n",
       "--------\n",
       "standard_normal : Similar, but takes a tuple as its argument.\n",
       "normal : Also accepts mu and sigma arguments.\n",
       "random.Generator.standard_normal: which should be used for new code.\n",
       "\n",
       "Notes\n",
       "-----\n",
       "For random samples from the normal distribution with mean ``mu`` and\n",
       "standard deviation ``sigma``, use::\n",
       "\n",
       "    sigma * np.random.randn(...) + mu\n",
       "\n",
       "Examples\n",
       "--------\n",
       ">>> np.random.randn()\n",
       "2.1923875335537315  # random\n",
       "\n",
       "Two-by-four array of samples from the normal distribution with\n",
       "mean 3 and standard deviation 2.5:\n",
       "\n",
       ">>> 3 + 2.5 * np.random.randn(2, 4)\n",
       "array([[-4.49401501,  4.00950034, -1.81814867,  7.29718677],   # random\n",
       "       [ 0.39924804,  4.68456316,  4.99394529,  4.84057254]])  # random\n",
       "\u001b[1;31mType:\u001b[0m      builtin_function_or_method"
      ]
     },
     "metadata": {},
     "output_type": "display_data"
    }
   ],
   "source": [
    "np.random.randn?"
   ]
  },
  {
   "cell_type": "code",
   "execution_count": 85,
   "id": "31ba58f3-eacc-49e6-bac7-a34b3cf10995",
   "metadata": {},
   "outputs": [
    {
     "data": {
      "text/plain": [
       "array([[0, 0, 0],\n",
       "       [0, 0, 0]])"
      ]
     },
     "execution_count": 85,
     "metadata": {},
     "output_type": "execute_result"
    }
   ],
   "source": [
    "np.zeros((2, 3), dtype = int)"
   ]
  },
  {
   "cell_type": "code",
   "execution_count": 44,
   "id": "63d86aed-7c5f-4764-9da4-c4a1a92c0609",
   "metadata": {},
   "outputs": [
    {
     "data": {
      "text/plain": [
       "array([[1., 0., 0., 0., 0., 0.],\n",
       "       [0., 1., 0., 0., 0., 0.],\n",
       "       [0., 0., 1., 0., 0., 0.],\n",
       "       [0., 0., 0., 1., 0., 0.],\n",
       "       [0., 0., 0., 0., 1., 0.],\n",
       "       [0., 0., 0., 0., 0., 1.]])"
      ]
     },
     "execution_count": 44,
     "metadata": {},
     "output_type": "execute_result"
    }
   ],
   "source": [
    "np.eye(6)"
   ]
  },
  {
   "cell_type": "code",
   "execution_count": 45,
   "id": "fd49a93d-debd-4f8e-8d6c-242e1dcc3d0f",
   "metadata": {},
   "outputs": [
    {
     "data": {
      "text/plain": [
       "array([[1, 1, 1, 1],\n",
       "       [1, 1, 1, 1],\n",
       "       [1, 1, 1, 1],\n",
       "       [1, 1, 1, 1],\n",
       "       [1, 1, 1, 1]])"
      ]
     },
     "execution_count": 45,
     "metadata": {},
     "output_type": "execute_result"
    }
   ],
   "source": [
    "np.ones((5, 4), dtype=int)"
   ]
  },
  {
   "cell_type": "code",
   "execution_count": 46,
   "id": "2a4491db-70b7-4d56-b63c-c3d3663abaa5",
   "metadata": {},
   "outputs": [
    {
     "data": {
      "text/plain": [
       "array([[4, 4, 4, 4, 4],\n",
       "       [4, 4, 4, 4, 4],\n",
       "       [4, 4, 4, 4, 4]])"
      ]
     },
     "execution_count": 46,
     "metadata": {},
     "output_type": "execute_result"
    }
   ],
   "source": [
    "np.full((3, 5), 4)"
   ]
  },
  {
   "cell_type": "code",
   "execution_count": 47,
   "id": "6ff8a6ef-6121-4211-8805-9b975a7f0448",
   "metadata": {},
   "outputs": [],
   "source": [
    "rn_mat = np.eye(6)"
   ]
  },
  {
   "cell_type": "code",
   "execution_count": 48,
   "id": "9b0ac181-0f5f-4e63-9554-5ff3f8b633b3",
   "metadata": {},
   "outputs": [
    {
     "data": {
      "text/plain": [
       "(6, 6)"
      ]
     },
     "execution_count": 48,
     "metadata": {},
     "output_type": "execute_result"
    }
   ],
   "source": [
    "rn_mat.shape"
   ]
  },
  {
   "cell_type": "code",
   "execution_count": 49,
   "id": "c74d5de8-72b7-4912-a54b-f92c3dbc9803",
   "metadata": {},
   "outputs": [
    {
     "data": {
      "text/plain": [
       "2"
      ]
     },
     "execution_count": 49,
     "metadata": {},
     "output_type": "execute_result"
    }
   ],
   "source": [
    "rn_mat.ndim"
   ]
  },
  {
   "cell_type": "code",
   "execution_count": 50,
   "id": "2281a5f8-c639-4bb6-80f4-3f1d4bb4c11e",
   "metadata": {},
   "outputs": [
    {
     "data": {
      "text/plain": [
       "array([[1., 0., 0., 0., 0., 0.],\n",
       "       [0., 1., 0., 0., 0., 0.],\n",
       "       [0., 0., 1., 0., 0., 0.],\n",
       "       [0., 0., 0., 1., 0., 0.],\n",
       "       [0., 0., 0., 0., 1., 0.],\n",
       "       [0., 0., 0., 0., 0., 1.]])"
      ]
     },
     "execution_count": 50,
     "metadata": {},
     "output_type": "execute_result"
    }
   ],
   "source": [
    "rn_mat"
   ]
  },
  {
   "cell_type": "code",
   "execution_count": 51,
   "id": "119f8592-1450-4ecd-bd7d-6216a0025088",
   "metadata": {},
   "outputs": [
    {
     "data": {
      "text/plain": [
       "array([[1., 0., 0.],\n",
       "       [0., 1., 0.],\n",
       "       [0., 0., 1.]])"
      ]
     },
     "execution_count": 51,
     "metadata": {},
     "output_type": "execute_result"
    }
   ],
   "source": [
    "rn_mat[:3, :3]"
   ]
  },
  {
   "cell_type": "code",
   "execution_count": 52,
   "id": "6d3f9f0a-b716-4a99-bc8f-d35494718c44",
   "metadata": {},
   "outputs": [
    {
     "data": {
      "text/plain": [
       "array([0., 0., 0.])"
      ]
     },
     "execution_count": 52,
     "metadata": {},
     "output_type": "execute_result"
    }
   ],
   "source": [
    "rn_mat[[0, 1, 5], [2, 3, 1]]"
   ]
  },
  {
   "cell_type": "code",
   "execution_count": 55,
   "id": "60ff2180-72b8-4cb7-9f65-862ecab48208",
   "metadata": {},
   "outputs": [],
   "source": [
    "a = np.array([[[1, 2, 4,3]]])"
   ]
  },
  {
   "cell_type": "code",
   "execution_count": 56,
   "id": "3c7f9403-9afd-4a1a-a67a-ae67abf8e964",
   "metadata": {},
   "outputs": [
    {
     "data": {
      "text/plain": [
       "3"
      ]
     },
     "execution_count": 56,
     "metadata": {},
     "output_type": "execute_result"
    }
   ],
   "source": [
    "a.ndim"
   ]
  },
  {
   "cell_type": "code",
   "execution_count": 57,
   "id": "b82d8ce9-2a70-47c0-9267-20446ec6d248",
   "metadata": {},
   "outputs": [
    {
     "data": {
      "text/plain": [
       "(1, 1, 4)"
      ]
     },
     "execution_count": 57,
     "metadata": {},
     "output_type": "execute_result"
    }
   ],
   "source": [
    "a.shape"
   ]
  },
  {
   "cell_type": "code",
   "execution_count": 96,
   "id": "0c73cc9e-6cfb-408b-bf13-3af9fe8c2f47",
   "metadata": {},
   "outputs": [],
   "source": [
    "# np.arange(100000, 1000000, 998)"
   ]
  },
  {
   "cell_type": "code",
   "execution_count": 94,
   "id": "64ad8076-41ad-4c7b-80a5-a0dce224c6b2",
   "metadata": {},
   "outputs": [
    {
     "data": {
      "text/plain": [
       "1"
      ]
     },
     "execution_count": 94,
     "metadata": {},
     "output_type": "execute_result"
    }
   ],
   "source": [
    "np.arange(-5,10,1).ndim"
   ]
  },
  {
   "cell_type": "code",
   "execution_count": 90,
   "id": "9ccff99d-dac9-46b4-bfcb-737cf319bd56",
   "metadata": {},
   "outputs": [
    {
     "data": {
      "text/plain": [
       "(902,)"
      ]
     },
     "execution_count": 90,
     "metadata": {},
     "output_type": "execute_result"
    }
   ],
   "source": [
    "a.shape"
   ]
  },
  {
   "cell_type": "code",
   "execution_count": 91,
   "id": "0a9e2cd4-895d-4d41-b090-48ddb8dcc131",
   "metadata": {},
   "outputs": [
    {
     "data": {
      "text/plain": [
       "1"
      ]
     },
     "execution_count": 91,
     "metadata": {},
     "output_type": "execute_result"
    }
   ],
   "source": [
    "a.ndim"
   ]
  },
  {
   "cell_type": "code",
   "execution_count": 99,
   "id": "b3338970-97c2-4e05-a7ed-b894628c675c",
   "metadata": {},
   "outputs": [],
   "source": [
    "a = np.linspace(-10, 10, 10)"
   ]
  },
  {
   "cell_type": "code",
   "execution_count": 100,
   "id": "c5ec8775-be51-407a-90c0-d59181b3d195",
   "metadata": {},
   "outputs": [
    {
     "data": {
      "text/plain": [
       "array([-10.        ,  -7.77777778,  -5.55555556,  -3.33333333,\n",
       "        -1.11111111,   1.11111111,   3.33333333,   5.55555556,\n",
       "         7.77777778,  10.        ])"
      ]
     },
     "execution_count": 100,
     "metadata": {},
     "output_type": "execute_result"
    }
   ],
   "source": [
    "a"
   ]
  },
  {
   "cell_type": "code",
   "execution_count": 101,
   "id": "ce4b2998-b859-45bc-87c2-1dbc371d4da4",
   "metadata": {},
   "outputs": [
    {
     "data": {
      "text/plain": [
       "array([-20.        , -15.55555556, -11.11111111,  -6.66666667,\n",
       "        -2.22222222,   2.22222222,   6.66666667,  11.11111111,\n",
       "        15.55555556,  20.        ])"
      ]
     },
     "execution_count": 101,
     "metadata": {},
     "output_type": "execute_result"
    }
   ],
   "source": [
    "a*2"
   ]
  },
  {
   "cell_type": "code",
   "execution_count": 102,
   "id": "8ea0b95a-3d6f-43ae-8f8e-4d09a3fedaea",
   "metadata": {},
   "outputs": [
    {
     "data": {
      "text/plain": [
       "array([-8.        , -5.77777778, -3.55555556, -1.33333333,  0.88888889,\n",
       "        3.11111111,  5.33333333,  7.55555556,  9.77777778, 12.        ])"
      ]
     },
     "execution_count": 102,
     "metadata": {},
     "output_type": "execute_result"
    }
   ],
   "source": [
    "a + 2"
   ]
  },
  {
   "cell_type": "code",
   "execution_count": 103,
   "id": "822f92fd-3e5a-4cf5-b52d-b5843cfae4a6",
   "metadata": {},
   "outputs": [],
   "source": [
    "a = np.eye(4)"
   ]
  },
  {
   "cell_type": "code",
   "execution_count": 104,
   "id": "8c173df5-81c7-4498-87ab-7ac9962aabc0",
   "metadata": {},
   "outputs": [
    {
     "data": {
      "text/plain": [
       "array([[1., 0., 0., 0.],\n",
       "       [0., 1., 0., 0.],\n",
       "       [0., 0., 1., 0.],\n",
       "       [0., 0., 0., 1.]])"
      ]
     },
     "execution_count": 104,
     "metadata": {},
     "output_type": "execute_result"
    }
   ],
   "source": [
    "a"
   ]
  },
  {
   "cell_type": "code",
   "execution_count": 106,
   "id": "916b0d33-303b-4ae6-9e06-258b2fb37233",
   "metadata": {},
   "outputs": [
    {
     "data": {
      "text/plain": [
       "[array([[1., 0.],\n",
       "        [0., 1.],\n",
       "        [0., 0.],\n",
       "        [0., 0.]]),\n",
       " array([[0., 0.],\n",
       "        [0., 0.],\n",
       "        [1., 0.],\n",
       "        [0., 1.]])]"
      ]
     },
     "execution_count": 106,
     "metadata": {},
     "output_type": "execute_result"
    }
   ],
   "source": [
    "np.hsplit(a, 2)"
   ]
  },
  {
   "cell_type": "code",
   "execution_count": 107,
   "id": "c4f44a47-5a34-4319-909a-d4fccca3a560",
   "metadata": {},
   "outputs": [
    {
     "data": {
      "text/plain": [
       "[array([[1., 0., 0., 0.],\n",
       "        [0., 1., 0., 0.]]),\n",
       " array([[0., 0., 1., 0.],\n",
       "        [0., 0., 0., 1.]])]"
      ]
     },
     "execution_count": 107,
     "metadata": {},
     "output_type": "execute_result"
    }
   ],
   "source": [
    "np.vsplit(a, 2)"
   ]
  },
  {
   "cell_type": "code",
   "execution_count": 108,
   "id": "6d7fdb35-bdf4-4a05-8dc0-d3d6d39f395b",
   "metadata": {},
   "outputs": [
    {
     "data": {
      "text/plain": [
       "array([[1., 0., 0., 0.],\n",
       "       [0., 1., 0., 0.],\n",
       "       [0., 0., 1., 0.],\n",
       "       [0., 0., 0., 1.]])"
      ]
     },
     "execution_count": 108,
     "metadata": {},
     "output_type": "execute_result"
    }
   ],
   "source": [
    "a"
   ]
  },
  {
   "cell_type": "code",
   "execution_count": 109,
   "id": "52f995a0-085a-4082-8f0a-ba41d742fe65",
   "metadata": {},
   "outputs": [],
   "source": [
    "b = np.full((4, 4), 4)"
   ]
  },
  {
   "cell_type": "code",
   "execution_count": 110,
   "id": "658c135c-6327-4a98-8f66-1585b0c898a0",
   "metadata": {},
   "outputs": [
    {
     "data": {
      "text/plain": [
       "array([[4, 4, 4, 4],\n",
       "       [4, 4, 4, 4],\n",
       "       [4, 4, 4, 4],\n",
       "       [4, 4, 4, 4]])"
      ]
     },
     "execution_count": 110,
     "metadata": {},
     "output_type": "execute_result"
    }
   ],
   "source": [
    "b"
   ]
  },
  {
   "cell_type": "code",
   "execution_count": 112,
   "id": "ac8b73cc-22c7-4bf0-a43f-4e5455424a04",
   "metadata": {},
   "outputs": [
    {
     "data": {
      "text/plain": [
       "array([[4., 4., 4., 4.],\n",
       "       [4., 4., 4., 4.],\n",
       "       [4., 4., 4., 4.],\n",
       "       [4., 4., 4., 4.]])"
      ]
     },
     "execution_count": 112,
     "metadata": {},
     "output_type": "execute_result"
    }
   ],
   "source": [
    "a.dot(b)"
   ]
  },
  {
   "cell_type": "code",
   "execution_count": 113,
   "id": "61b00330-d4e2-4f1b-86d2-1b039a2b366e",
   "metadata": {},
   "outputs": [],
   "source": [
    "a = np.array([1, 2])\n",
    "b = np.array([3, 4])"
   ]
  },
  {
   "cell_type": "code",
   "execution_count": 114,
   "id": "86058759-71f4-41f1-9c06-872abc7488d1",
   "metadata": {},
   "outputs": [
    {
     "data": {
      "text/plain": [
       "11"
      ]
     },
     "execution_count": 114,
     "metadata": {},
     "output_type": "execute_result"
    }
   ],
   "source": [
    "np.dot(a, b)"
   ]
  },
  {
   "cell_type": "code",
   "execution_count": 115,
   "id": "44c7bcb2-c6bb-441d-9791-1fad379b584f",
   "metadata": {},
   "outputs": [],
   "source": [
    "a = np.array([[1, 2], \n",
    "              [3, 4]])\n",
    "b = np.array([[5, 6],\n",
    "              [7, 8]])"
   ]
  },
  {
   "cell_type": "code",
   "execution_count": 116,
   "id": "5c846267-2e8c-4dea-b917-8eabb84f2306",
   "metadata": {},
   "outputs": [
    {
     "data": {
      "text/plain": [
       "array([[ 6,  8],\n",
       "       [10, 12]])"
      ]
     },
     "execution_count": 116,
     "metadata": {},
     "output_type": "execute_result"
    }
   ],
   "source": [
    "a + b"
   ]
  },
  {
   "cell_type": "code",
   "execution_count": 117,
   "id": "22ff9fd9-9640-4069-8464-1c55e1e41d55",
   "metadata": {},
   "outputs": [
    {
     "data": {
      "text/plain": [
       "array([[-4, -4],\n",
       "       [-4, -4]])"
      ]
     },
     "execution_count": 117,
     "metadata": {},
     "output_type": "execute_result"
    }
   ],
   "source": [
    "a - b"
   ]
  },
  {
   "cell_type": "code",
   "execution_count": 118,
   "id": "29b848df-3e22-4b1f-8606-5387c6292893",
   "metadata": {},
   "outputs": [
    {
     "data": {
      "text/plain": [
       "array([[ 5, 12],\n",
       "       [21, 32]])"
      ]
     },
     "execution_count": 118,
     "metadata": {},
     "output_type": "execute_result"
    }
   ],
   "source": [
    "a * b"
   ]
  },
  {
   "cell_type": "code",
   "execution_count": 119,
   "id": "393b9cd5-3899-44c3-8dd9-0135f599b496",
   "metadata": {},
   "outputs": [
    {
     "data": {
      "text/plain": [
       "array([[0.2       , 0.33333333],\n",
       "       [0.42857143, 0.5       ]])"
      ]
     },
     "execution_count": 119,
     "metadata": {},
     "output_type": "execute_result"
    }
   ],
   "source": [
    "a / b"
   ]
  },
  {
   "cell_type": "code",
   "execution_count": 120,
   "id": "5178c7c8-66b6-49e6-b378-bb5ab852bc10",
   "metadata": {},
   "outputs": [
    {
     "data": {
      "text/plain": [
       "array([[19, 22],\n",
       "       [43, 50]])"
      ]
     },
     "execution_count": 120,
     "metadata": {},
     "output_type": "execute_result"
    }
   ],
   "source": [
    "np.dot(a, b)"
   ]
  },
  {
   "cell_type": "code",
   "execution_count": 122,
   "id": "c9c748f6-c4cd-4603-8d64-29a9f2b5a30a",
   "metadata": {},
   "outputs": [],
   "source": [
    "a = np.random.random((5, 9))"
   ]
  },
  {
   "cell_type": "code",
   "execution_count": 129,
   "id": "63bfd931-60d4-44f9-ab7e-aba2b9dd67f8",
   "metadata": {},
   "outputs": [
    {
     "data": {
      "text/plain": [
       "array([[0.27635284, 0.57769191, 0.16944667, 0.14517059, 0.89621823,\n",
       "        0.72912604, 0.24394917, 0.93003642, 0.76773879],\n",
       "       [0.40173454, 0.67034388, 0.15902938, 0.34919599, 0.57073746,\n",
       "        0.9772454 , 0.00433831, 0.97562046, 0.78535046],\n",
       "       [0.12619515, 0.97441996, 0.11708195, 0.22324222, 0.09275058,\n",
       "        0.51454489, 0.47737043, 0.18738272, 0.97232879],\n",
       "       [0.89693588, 0.67599231, 0.95716076, 0.98541233, 0.45040808,\n",
       "        0.04925157, 0.55387408, 0.95495511, 0.01402058],\n",
       "       [0.62107699, 0.37737737, 0.93998473, 0.65011549, 0.81818314,\n",
       "        0.15641264, 0.47214582, 0.77962594, 0.2164344 ]])"
      ]
     },
     "execution_count": 129,
     "metadata": {},
     "output_type": "execute_result"
    }
   ],
   "source": [
    "a"
   ]
  },
  {
   "cell_type": "code",
   "execution_count": 128,
   "id": "5dfd04fc-ea6d-4040-839f-33258431a0e2",
   "metadata": {},
   "outputs": [
    {
     "data": {
      "text/plain": [
       "array([[0.27635284, 0.40173454, 0.12619515, 0.89693588, 0.62107699],\n",
       "       [0.57769191, 0.67034388, 0.97441996, 0.67599231, 0.37737737],\n",
       "       [0.16944667, 0.15902938, 0.11708195, 0.95716076, 0.93998473],\n",
       "       [0.14517059, 0.34919599, 0.22324222, 0.98541233, 0.65011549],\n",
       "       [0.89621823, 0.57073746, 0.09275058, 0.45040808, 0.81818314],\n",
       "       [0.72912604, 0.9772454 , 0.51454489, 0.04925157, 0.15641264],\n",
       "       [0.24394917, 0.00433831, 0.47737043, 0.55387408, 0.47214582],\n",
       "       [0.93003642, 0.97562046, 0.18738272, 0.95495511, 0.77962594],\n",
       "       [0.76773879, 0.78535046, 0.97232879, 0.01402058, 0.2164344 ]])"
      ]
     },
     "execution_count": 128,
     "metadata": {},
     "output_type": "execute_result"
    }
   ],
   "source": [
    "a.T"
   ]
  },
  {
   "cell_type": "code",
   "execution_count": 138,
   "id": "0fda0c49-1843-4097-8a4c-c863c2a10ffd",
   "metadata": {},
   "outputs": [],
   "source": [
    "a = np.random.random((3, 4))"
   ]
  },
  {
   "cell_type": "code",
   "execution_count": 139,
   "id": "00e79334-318d-44c0-aa7f-19082cee99c1",
   "metadata": {},
   "outputs": [
    {
     "data": {
      "text/plain": [
       "array([[0.08216119, 0.98781014, 0.6760194 , 0.54046219],\n",
       "       [0.09992767, 0.52896665, 0.81208382, 0.15669746],\n",
       "       [0.2591196 , 0.65277733, 0.15640891, 0.56023423]])"
      ]
     },
     "execution_count": 139,
     "metadata": {},
     "output_type": "execute_result"
    }
   ],
   "source": [
    "a"
   ]
  },
  {
   "cell_type": "code",
   "execution_count": 140,
   "id": "a27a33e1-1091-4405-a9a4-f919e5c9fe93",
   "metadata": {},
   "outputs": [
    {
     "data": {
      "text/plain": [
       "array([[0.08216119, 0.09992767, 0.2591196 ],\n",
       "       [0.98781014, 0.52896665, 0.65277733],\n",
       "       [0.6760194 , 0.81208382, 0.15640891],\n",
       "       [0.54046219, 0.15669746, 0.56023423]])"
      ]
     },
     "execution_count": 140,
     "metadata": {},
     "output_type": "execute_result"
    }
   ],
   "source": [
    "a.T"
   ]
  },
  {
   "cell_type": "code",
   "execution_count": 145,
   "id": "0e24c819-0551-4434-8811-09aaf7ac3aef",
   "metadata": {},
   "outputs": [
    {
     "data": {
      "text/plain": [
       "array([[0.08216119, 0.98781014, 0.6760194 ],\n",
       "       [0.54046219, 0.09992767, 0.52896665],\n",
       "       [0.81208382, 0.15669746, 0.2591196 ],\n",
       "       [0.65277733, 0.15640891, 0.56023423]])"
      ]
     },
     "execution_count": 145,
     "metadata": {},
     "output_type": "execute_result"
    }
   ],
   "source": [
    "a.reshape((4, 3))"
   ]
  },
  {
   "cell_type": "code",
   "execution_count": 146,
   "id": "ba4bb81b-df6a-48a8-bdb1-56517bf9122e",
   "metadata": {},
   "outputs": [
    {
     "data": {
      "text/plain": [
       "array([0.08216119, 0.98781014, 0.6760194 , 0.54046219, 0.09992767,\n",
       "       0.52896665, 0.81208382, 0.15669746, 0.2591196 , 0.65277733,\n",
       "       0.15640891, 0.56023423])"
      ]
     },
     "execution_count": 146,
     "metadata": {},
     "output_type": "execute_result"
    }
   ],
   "source": [
    "a.ravel()"
   ]
  },
  {
   "cell_type": "code",
   "execution_count": 147,
   "id": "2f80f9f8-0c7f-405b-b51b-ce94e37ad59d",
   "metadata": {},
   "outputs": [],
   "source": [
    "a = np.array([[[1, 2, 3, 4] ,[1, 2, 2, 3]]])"
   ]
  },
  {
   "cell_type": "code",
   "execution_count": 148,
   "id": "cf17ab9d-c395-46a9-a768-6d7db38cfc20",
   "metadata": {},
   "outputs": [
    {
     "data": {
      "text/plain": [
       "array([[[1, 2, 3, 4],\n",
       "        [1, 2, 2, 3]]])"
      ]
     },
     "execution_count": 148,
     "metadata": {},
     "output_type": "execute_result"
    }
   ],
   "source": [
    "a"
   ]
  },
  {
   "cell_type": "code",
   "execution_count": 149,
   "id": "0b1ddcd5-a91d-4b16-a3a0-a247429690b0",
   "metadata": {},
   "outputs": [
    {
     "data": {
      "text/plain": [
       "3"
      ]
     },
     "execution_count": 149,
     "metadata": {},
     "output_type": "execute_result"
    }
   ],
   "source": [
    "a.ndim"
   ]
  },
  {
   "cell_type": "code",
   "execution_count": 150,
   "id": "350d03c8-66ed-49f5-a640-3466c64cdace",
   "metadata": {},
   "outputs": [
    {
     "data": {
      "text/plain": [
       "(1, 2, 4)"
      ]
     },
     "execution_count": 150,
     "metadata": {},
     "output_type": "execute_result"
    }
   ],
   "source": [
    "a.shape"
   ]
  },
  {
   "cell_type": "code",
   "execution_count": 153,
   "id": "dbe3342a-bc86-45ad-bac9-bde33e2c31f9",
   "metadata": {},
   "outputs": [
    {
     "data": {
      "text/plain": [
       "(8,)"
      ]
     },
     "execution_count": 153,
     "metadata": {},
     "output_type": "execute_result"
    }
   ],
   "source": [
    "a.ravel().shape"
   ]
  },
  {
   "cell_type": "code",
   "execution_count": null,
   "id": "8f9f5b49-58d6-40a2-8eb3-4587069ecb11",
   "metadata": {},
   "outputs": [],
   "source": []
  }
 ],
 "metadata": {
  "kernelspec": {
   "display_name": "Python 3 (ipykernel)",
   "language": "python",
   "name": "python3"
  },
  "language_info": {
   "codemirror_mode": {
    "name": "ipython",
    "version": 3
   },
   "file_extension": ".py",
   "mimetype": "text/x-python",
   "name": "python",
   "nbconvert_exporter": "python",
   "pygments_lexer": "ipython3",
   "version": "3.12.7"
  }
 },
 "nbformat": 4,
 "nbformat_minor": 5
}
