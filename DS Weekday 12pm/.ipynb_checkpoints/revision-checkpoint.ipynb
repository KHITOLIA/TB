{
 "cells": [
  {
   "cell_type": "code",
   "execution_count": 5,
   "id": "ae915d69-3aab-492c-a5b6-937dd4aaa750",
   "metadata": {},
   "outputs": [],
   "source": [
    "l = [1, 2, 3, 4, 5, 6]"
   ]
  },
  {
   "cell_type": "code",
   "execution_count": 6,
   "id": "f6771541-ebc1-4a6a-8fc2-8009376f5556",
   "metadata": {},
   "outputs": [
    {
     "name": "stdout",
     "output_type": "stream",
     "text": [
      "1\n",
      "2\n",
      "3\n",
      "4\n",
      "5\n",
      "6\n"
     ]
    }
   ],
   "source": [
    "for i in l:\n",
    "    print(i)"
   ]
  },
  {
   "cell_type": "code",
   "execution_count": 7,
   "id": "023c683c-4ea3-4265-b896-a179ed41c825",
   "metadata": {},
   "outputs": [
    {
     "data": {
      "text/plain": [
       "[1, 2, 3, 4, 5, 6]"
      ]
     },
     "execution_count": 7,
     "metadata": {},
     "output_type": "execute_result"
    }
   ],
   "source": [
    "l"
   ]
  },
  {
   "cell_type": "code",
   "execution_count": 8,
   "id": "d96736db-9bd6-4e2a-b0f8-3b597402ff10",
   "metadata": {},
   "outputs": [
    {
     "data": {
      "text/plain": [
       "6"
      ]
     },
     "execution_count": 8,
     "metadata": {},
     "output_type": "execute_result"
    }
   ],
   "source": [
    "i"
   ]
  },
  {
   "cell_type": "code",
   "execution_count": 9,
   "id": "4496a351-8bea-43ba-b1e5-8541020a0f75",
   "metadata": {},
   "outputs": [
    {
     "name": "stdout",
     "output_type": "stream",
     "text": [
      "1\n",
      "2\n",
      "3\n",
      "4\n",
      "5\n",
      "6\n"
     ]
    }
   ],
   "source": [
    "for i in l:\n",
    "    print(i)"
   ]
  },
  {
   "cell_type": "code",
   "execution_count": 10,
   "id": "fe6de548-7e74-4bea-80e8-848a8f0e07b1",
   "metadata": {},
   "outputs": [
    {
     "name": "stdout",
     "output_type": "stream",
     "text": [
      "1\n",
      "2\n",
      "3\n",
      "4\n",
      "5\n",
      "6\n"
     ]
    }
   ],
   "source": [
    "for i in l:\n",
    "    print(i)"
   ]
  },
  {
   "cell_type": "code",
   "execution_count": 11,
   "id": "dbf7c80d-17f6-4980-8890-a663893fa880",
   "metadata": {},
   "outputs": [
    {
     "data": {
      "text/plain": [
       "[1, 2, 3, 4, 5, 6]"
      ]
     },
     "execution_count": 11,
     "metadata": {},
     "output_type": "execute_result"
    }
   ],
   "source": [
    "l"
   ]
  },
  {
   "cell_type": "code",
   "execution_count": 12,
   "id": "cb5b8a40-d3c5-49b8-99c2-a1ce809c8809",
   "metadata": {},
   "outputs": [
    {
     "data": {
      "text/plain": [
       "['__add__',\n",
       " '__class__',\n",
       " '__class_getitem__',\n",
       " '__contains__',\n",
       " '__delattr__',\n",
       " '__delitem__',\n",
       " '__dir__',\n",
       " '__doc__',\n",
       " '__eq__',\n",
       " '__format__',\n",
       " '__ge__',\n",
       " '__getattribute__',\n",
       " '__getitem__',\n",
       " '__getstate__',\n",
       " '__gt__',\n",
       " '__hash__',\n",
       " '__iadd__',\n",
       " '__imul__',\n",
       " '__init__',\n",
       " '__init_subclass__',\n",
       " '__iter__',\n",
       " '__le__',\n",
       " '__len__',\n",
       " '__lt__',\n",
       " '__mul__',\n",
       " '__ne__',\n",
       " '__new__',\n",
       " '__reduce__',\n",
       " '__reduce_ex__',\n",
       " '__repr__',\n",
       " '__reversed__',\n",
       " '__rmul__',\n",
       " '__setattr__',\n",
       " '__setitem__',\n",
       " '__sizeof__',\n",
       " '__str__',\n",
       " '__subclasshook__',\n",
       " 'append',\n",
       " 'clear',\n",
       " 'copy',\n",
       " 'count',\n",
       " 'extend',\n",
       " 'index',\n",
       " 'insert',\n",
       " 'pop',\n",
       " 'remove',\n",
       " 'reverse',\n",
       " 'sort']"
      ]
     },
     "execution_count": 12,
     "metadata": {},
     "output_type": "execute_result"
    }
   ],
   "source": [
    "dir(l)"
   ]
  },
  {
   "cell_type": "code",
   "execution_count": 13,
   "id": "d5a1cb05-1591-4f39-8f87-ec9e87931dd6",
   "metadata": {},
   "outputs": [],
   "source": [
    "iter_num = iter(l)"
   ]
  },
  {
   "cell_type": "code",
   "execution_count": 14,
   "id": "60b62ae6-8208-4d51-b026-1dd32b243d71",
   "metadata": {},
   "outputs": [
    {
     "data": {
      "text/plain": [
       "<list_iterator at 0x1d555200340>"
      ]
     },
     "execution_count": 14,
     "metadata": {},
     "output_type": "execute_result"
    }
   ],
   "source": [
    "iter_num"
   ]
  },
  {
   "cell_type": "code",
   "execution_count": 15,
   "id": "1a372d3a-8b5d-498f-b321-923bf0ff4fc1",
   "metadata": {},
   "outputs": [],
   "source": [
    "s = 'safafasf'\n",
    "iter_s = iter(s)"
   ]
  },
  {
   "cell_type": "code",
   "execution_count": 16,
   "id": "055f4251-951d-4c1c-8437-576a3e9240d0",
   "metadata": {},
   "outputs": [
    {
     "data": {
      "text/plain": [
       "<str_ascii_iterator at 0x1d5554403d0>"
      ]
     },
     "execution_count": 16,
     "metadata": {},
     "output_type": "execute_result"
    }
   ],
   "source": [
    "iter_s"
   ]
  },
  {
   "cell_type": "code",
   "execution_count": 17,
   "id": "cb0d128f-a608-43e9-92ce-1b29903b4aef",
   "metadata": {},
   "outputs": [
    {
     "data": {
      "text/plain": [
       "<list_iterator at 0x1d555200340>"
      ]
     },
     "execution_count": 17,
     "metadata": {},
     "output_type": "execute_result"
    }
   ],
   "source": [
    "iter_num"
   ]
  },
  {
   "cell_type": "code",
   "execution_count": 24,
   "id": "46415b7a-15be-4ac1-9246-295987a62d28",
   "metadata": {},
   "outputs": [
    {
     "ename": "StopIteration",
     "evalue": "",
     "output_type": "error",
     "traceback": [
      "\u001b[1;31m---------------------------------------------------------------------------\u001b[0m",
      "\u001b[1;31mStopIteration\u001b[0m                             Traceback (most recent call last)",
      "Cell \u001b[1;32mIn[24], line 1\u001b[0m\n\u001b[1;32m----> 1\u001b[0m \u001b[38;5;28mnext\u001b[39m(iter_num)\n",
      "\u001b[1;31mStopIteration\u001b[0m: "
     ]
    }
   ],
   "source": [
    "next(iter_num)"
   ]
  },
  {
   "cell_type": "code",
   "execution_count": 36,
   "id": "afa4770d-53f1-47b9-9b81-6b481406fd82",
   "metadata": {},
   "outputs": [],
   "source": [
    "iter_num = iter(l)"
   ]
  },
  {
   "cell_type": "code",
   "execution_count": 26,
   "id": "917a003b-3a9b-4a09-8a63-fe9f14b27dfd",
   "metadata": {},
   "outputs": [
    {
     "name": "stdout",
     "output_type": "stream",
     "text": [
      "1\n",
      "2\n",
      "3\n",
      "4\n",
      "5\n",
      "6\n"
     ]
    }
   ],
   "source": [
    "for i in l:\n",
    "    print(i)"
   ]
  },
  {
   "cell_type": "code",
   "execution_count": 27,
   "id": "75895140-ce9d-436e-8d02-cd876b81bc93",
   "metadata": {},
   "outputs": [
    {
     "name": "stdout",
     "output_type": "stream",
     "text": [
      "1\n",
      "2\n",
      "3\n",
      "4\n",
      "5\n",
      "6\n"
     ]
    }
   ],
   "source": [
    "for i in l:\n",
    "    print(i)"
   ]
  },
  {
   "cell_type": "code",
   "execution_count": 28,
   "id": "7601bb50-b2cf-468f-964b-879661012a03",
   "metadata": {},
   "outputs": [
    {
     "name": "stdout",
     "output_type": "stream",
     "text": [
      "1\n",
      "2\n",
      "3\n",
      "4\n",
      "5\n",
      "6\n"
     ]
    }
   ],
   "source": [
    "for i in iter_num:\n",
    "    print(i)"
   ]
  },
  {
   "cell_type": "code",
   "execution_count": 30,
   "id": "94bd5d9c-9466-43f1-b1da-984fb692d61d",
   "metadata": {},
   "outputs": [],
   "source": [
    "for i in iter_num:\n",
    "    print(i)"
   ]
  },
  {
   "cell_type": "code",
   "execution_count": 31,
   "id": "be2c767f-b238-4b94-a314-71677046b419",
   "metadata": {},
   "outputs": [
    {
     "data": {
      "text/plain": [
       "6"
      ]
     },
     "execution_count": 31,
     "metadata": {},
     "output_type": "execute_result"
    }
   ],
   "source": [
    "i"
   ]
  },
  {
   "cell_type": "code",
   "execution_count": 37,
   "id": "0f5ca572-2e01-4613-be6a-8bd5f5e4a2cd",
   "metadata": {},
   "outputs": [
    {
     "data": {
      "text/plain": [
       "3"
      ]
     },
     "execution_count": 37,
     "metadata": {},
     "output_type": "execute_result"
    }
   ],
   "source": [
    "next(iter_num)\n",
    "next(iter_num)\n",
    "next(iter_num)"
   ]
  },
  {
   "cell_type": "code",
   "execution_count": 38,
   "id": "73093fa4-68a3-4e59-8f8a-396aa9313668",
   "metadata": {},
   "outputs": [],
   "source": [
    "def gen_demo():\n",
    "    yield 'first'\n",
    "    yield 'second'\n",
    "    yield 'third'\n"
   ]
  },
  {
   "cell_type": "code",
   "execution_count": 39,
   "id": "8354d519-0bca-497e-bcfc-f8ad8e3ec907",
   "metadata": {},
   "outputs": [],
   "source": [
    "gen = gen_demo()"
   ]
  },
  {
   "cell_type": "code",
   "execution_count": 40,
   "id": "cf43b2ff-9b69-49e5-aea2-36f697380c19",
   "metadata": {},
   "outputs": [
    {
     "data": {
      "text/plain": [
       "['__class__',\n",
       " '__del__',\n",
       " '__delattr__',\n",
       " '__dir__',\n",
       " '__doc__',\n",
       " '__eq__',\n",
       " '__format__',\n",
       " '__ge__',\n",
       " '__getattribute__',\n",
       " '__getstate__',\n",
       " '__gt__',\n",
       " '__hash__',\n",
       " '__init__',\n",
       " '__init_subclass__',\n",
       " '__iter__',\n",
       " '__le__',\n",
       " '__lt__',\n",
       " '__name__',\n",
       " '__ne__',\n",
       " '__new__',\n",
       " '__next__',\n",
       " '__qualname__',\n",
       " '__reduce__',\n",
       " '__reduce_ex__',\n",
       " '__repr__',\n",
       " '__setattr__',\n",
       " '__sizeof__',\n",
       " '__str__',\n",
       " '__subclasshook__',\n",
       " 'close',\n",
       " 'gi_code',\n",
       " 'gi_frame',\n",
       " 'gi_running',\n",
       " 'gi_suspended',\n",
       " 'gi_yieldfrom',\n",
       " 'send',\n",
       " 'throw']"
      ]
     },
     "execution_count": 40,
     "metadata": {},
     "output_type": "execute_result"
    }
   ],
   "source": [
    "dir(gen)"
   ]
  },
  {
   "cell_type": "code",
   "execution_count": 41,
   "id": "cbacd575-7226-4c99-bf40-de80993765d5",
   "metadata": {},
   "outputs": [
    {
     "data": {
      "text/plain": [
       "'first'"
      ]
     },
     "execution_count": 41,
     "metadata": {},
     "output_type": "execute_result"
    }
   ],
   "source": [
    "next(gen)"
   ]
  },
  {
   "cell_type": "code",
   "execution_count": 42,
   "id": "e02c1024-7329-48e6-84a4-76eed906eda4",
   "metadata": {},
   "outputs": [],
   "source": [
    "gen = gen_demo()"
   ]
  },
  {
   "cell_type": "code",
   "execution_count": 43,
   "id": "b75cf51b-7eba-4648-947a-ca04e374d97c",
   "metadata": {},
   "outputs": [
    {
     "name": "stdout",
     "output_type": "stream",
     "text": [
      "first\n",
      "second\n",
      "third\n"
     ]
    }
   ],
   "source": [
    "for i in gen:\n",
    "    print(i)"
   ]
  },
  {
   "cell_type": "code",
   "execution_count": 44,
   "id": "34e1be85-98c8-4faf-97bf-2ff4ec6b4b20",
   "metadata": {},
   "outputs": [
    {
     "data": {
      "text/plain": [
       "<generator object gen_demo at 0x000001D556153B60>"
      ]
     },
     "execution_count": 44,
     "metadata": {},
     "output_type": "execute_result"
    }
   ],
   "source": [
    "gen"
   ]
  },
  {
   "cell_type": "code",
   "execution_count": 45,
   "id": "024a4d35-7760-45b5-a13b-a02c7be5ba5e",
   "metadata": {},
   "outputs": [],
   "source": [
    "def square(num):\n",
    "\n",
    "    for i in range(1, num+1):\n",
    "\n",
    "        yield i**2\n",
    "\n",
    "gen = square(10)\n"
   ]
  },
  {
   "cell_type": "code",
   "execution_count": 47,
   "id": "a4d64b5d-7021-480b-a82e-063799f43e34",
   "metadata": {},
   "outputs": [
    {
     "data": {
      "text/plain": [
       "<generator object square at 0x000001D556B34BA0>"
      ]
     },
     "execution_count": 47,
     "metadata": {},
     "output_type": "execute_result"
    }
   ],
   "source": [
    "gen"
   ]
  },
  {
   "cell_type": "code",
   "execution_count": 51,
   "id": "96fa6991-03c5-4a56-aada-9591b48aa635",
   "metadata": {},
   "outputs": [
    {
     "data": {
      "text/plain": [
       "16"
      ]
     },
     "execution_count": 51,
     "metadata": {},
     "output_type": "execute_result"
    }
   ],
   "source": [
    "next(gen)"
   ]
  },
  {
   "cell_type": "code",
   "execution_count": 53,
   "id": "ed2f0001-20f0-43ec-8680-9f6c92927a9e",
   "metadata": {},
   "outputs": [
    {
     "data": {
      "text/plain": [
       "0.1015625"
      ]
     },
     "execution_count": 53,
     "metadata": {},
     "output_type": "execute_result"
    }
   ],
   "source": [
    "import sys\n",
    "\n",
    "sys.getsizeof(l)/1024"
   ]
  },
  {
   "cell_type": "code",
   "execution_count": 56,
   "id": "a71ee781-3908-49f5-9e28-ee3b00109ff2",
   "metadata": {},
   "outputs": [
    {
     "data": {
      "text/plain": [
       "0.046875"
      ]
     },
     "execution_count": 56,
     "metadata": {},
     "output_type": "execute_result"
    }
   ],
   "source": [
    "sys.getsizeof(iter_num)/1024"
   ]
  },
  {
   "cell_type": "code",
   "execution_count": 57,
   "id": "2c391a6f-23ca-4305-9f9b-a35519fe4c3c",
   "metadata": {},
   "outputs": [],
   "source": [
    "def sqaure(num):\n",
    "    yield num**2"
   ]
  },
  {
   "cell_type": "code",
   "execution_count": 59,
   "id": "527e3f55-fb02-4fdb-b604-40bac7739c11",
   "metadata": {},
   "outputs": [
    {
     "data": {
      "text/plain": [
       "225"
      ]
     },
     "execution_count": 59,
     "metadata": {},
     "output_type": "execute_result"
    }
   ],
   "source": [
    "next(sqaure(15))"
   ]
  },
  {
   "cell_type": "code",
   "execution_count": 77,
   "id": "5d63ae43-7d87-4461-a5ef-ecc9b3ffbb39",
   "metadata": {},
   "outputs": [],
   "source": [
    "l = [x for x in range(10)]"
   ]
  },
  {
   "cell_type": "code",
   "execution_count": 61,
   "id": "ecfabef6-1dee-44e4-bb3e-4daca705867b",
   "metadata": {},
   "outputs": [
    {
     "data": {
      "text/plain": [
       "[0, 1, 2, 3, 4, 5, 6, 7, 8, 9]"
      ]
     },
     "execution_count": 61,
     "metadata": {},
     "output_type": "execute_result"
    }
   ],
   "source": [
    "l"
   ]
  },
  {
   "cell_type": "code",
   "execution_count": 62,
   "id": "58025005-3c24-47fb-b3ff-f69fe63ed310",
   "metadata": {},
   "outputs": [],
   "source": [
    "l = (x for x in range(10))"
   ]
  },
  {
   "cell_type": "code",
   "execution_count": 63,
   "id": "02b0389b-91f7-48f2-9a5d-a35415857be2",
   "metadata": {},
   "outputs": [
    {
     "data": {
      "text/plain": [
       "<generator object <genexpr> at 0x000001D554F97D00>"
      ]
     },
     "execution_count": 63,
     "metadata": {},
     "output_type": "execute_result"
    }
   ],
   "source": [
    "l"
   ]
  },
  {
   "cell_type": "markdown",
   "id": "b832526c-ccc9-4307-a79b-b46924555aa2",
   "metadata": {},
   "source": [
    "# Advance method\n",
    "1. lambda\n",
    "2. map\n",
    "3. filter\n",
    "4. reduce"
   ]
  },
  {
   "cell_type": "code",
   "execution_count": 67,
   "id": "a7c33895-7ac0-4fe1-8a6c-66249b1c8937",
   "metadata": {},
   "outputs": [],
   "source": [
    "# Higher order function : "
   ]
  },
  {
   "cell_type": "code",
   "execution_count": 68,
   "id": "03dca17d-e9e1-4448-b550-057f3dfe2c3a",
   "metadata": {},
   "outputs": [],
   "source": [
    "table = lambda x : x*2"
   ]
  },
  {
   "cell_type": "code",
   "execution_count": 71,
   "id": "b86a3271-985f-4306-8ca3-7859f87dfe4d",
   "metadata": {},
   "outputs": [
    {
     "data": {
      "text/plain": [
       "12"
      ]
     },
     "execution_count": 71,
     "metadata": {},
     "output_type": "execute_result"
    }
   ],
   "source": [
    "table(6)"
   ]
  },
  {
   "cell_type": "code",
   "execution_count": 72,
   "id": "a14dfa4c-95f0-46e0-95bf-0ba712a6e08c",
   "metadata": {},
   "outputs": [
    {
     "name": "stdout",
     "output_type": "stream",
     "text": [
      "2\n",
      "4\n",
      "6\n",
      "8\n",
      "10\n",
      "12\n",
      "14\n",
      "16\n",
      "18\n",
      "20\n"
     ]
    }
   ],
   "source": [
    "for i in range(1, 11):\n",
    "    print(table(i))"
   ]
  },
  {
   "cell_type": "code",
   "execution_count": 73,
   "id": "31bbc666-564b-43c5-a4a9-66e4188e32d1",
   "metadata": {},
   "outputs": [],
   "source": [
    "iseven = lambda x : 'even' if x%2 == 0 else 'odd'"
   ]
  },
  {
   "cell_type": "code",
   "execution_count": 74,
   "id": "55cff672-9c03-4e37-b9e0-e1981d2ced23",
   "metadata": {},
   "outputs": [
    {
     "data": {
      "text/plain": [
       "'odd'"
      ]
     },
     "execution_count": 74,
     "metadata": {},
     "output_type": "execute_result"
    }
   ],
   "source": [
    "iseven(23)"
   ]
  },
  {
   "cell_type": "code",
   "execution_count": 75,
   "id": "76eab60e-ba68-4647-92b8-a4e9b3d6e554",
   "metadata": {},
   "outputs": [
    {
     "data": {
      "text/plain": [
       "\u001b[1;31mInit signature:\u001b[0m \u001b[0mmap\u001b[0m\u001b[1;33m(\u001b[0m\u001b[0mself\u001b[0m\u001b[1;33m,\u001b[0m \u001b[1;33m/\u001b[0m\u001b[1;33m,\u001b[0m \u001b[1;33m*\u001b[0m\u001b[0margs\u001b[0m\u001b[1;33m,\u001b[0m \u001b[1;33m**\u001b[0m\u001b[0mkwargs\u001b[0m\u001b[1;33m)\u001b[0m\u001b[1;33m\u001b[0m\u001b[1;33m\u001b[0m\u001b[0m\n",
       "\u001b[1;31mDocstring:\u001b[0m     \n",
       "map(func, *iterables) --> map object\n",
       "\n",
       "Make an iterator that computes the function using arguments from\n",
       "each of the iterables.  Stops when the shortest iterable is exhausted.\n",
       "\u001b[1;31mType:\u001b[0m           type\n",
       "\u001b[1;31mSubclasses:\u001b[0m     "
      ]
     },
     "metadata": {},
     "output_type": "display_data"
    }
   ],
   "source": [
    "map?"
   ]
  },
  {
   "cell_type": "code",
   "execution_count": 78,
   "id": "21c8a3c4-b6e1-4328-94ac-942a7c76ded7",
   "metadata": {},
   "outputs": [
    {
     "data": {
      "text/plain": [
       "[0, 1, 2, 3, 4, 5, 6, 7, 8, 9]"
      ]
     },
     "execution_count": 78,
     "metadata": {},
     "output_type": "execute_result"
    }
   ],
   "source": [
    "l"
   ]
  },
  {
   "cell_type": "code",
   "execution_count": 81,
   "id": "8f039336-1464-4395-9500-8e2ca515635e",
   "metadata": {},
   "outputs": [],
   "source": [
    "l = list(map(lambda x : 'even' if x%2 == 0 else 'odd', l ))"
   ]
  },
  {
   "cell_type": "code",
   "execution_count": 82,
   "id": "bab6d0b0-005e-4254-abe9-b5ee6a9dab9f",
   "metadata": {},
   "outputs": [
    {
     "data": {
      "text/plain": [
       "['even', 'odd', 'even', 'odd', 'even', 'odd', 'even', 'odd', 'even', 'odd']"
      ]
     },
     "execution_count": 82,
     "metadata": {},
     "output_type": "execute_result"
    }
   ],
   "source": [
    "l"
   ]
  },
  {
   "cell_type": "code",
   "execution_count": 83,
   "id": "ef139386-887b-448b-8165-c0c400214457",
   "metadata": {},
   "outputs": [],
   "source": [
    "l = list(map(lambda x : x.upper(), l))"
   ]
  },
  {
   "cell_type": "code",
   "execution_count": 84,
   "id": "3f979853-4daf-4651-99d7-f38657c740df",
   "metadata": {},
   "outputs": [
    {
     "data": {
      "text/plain": [
       "['EVEN', 'ODD', 'EVEN', 'ODD', 'EVEN', 'ODD', 'EVEN', 'ODD', 'EVEN', 'ODD']"
      ]
     },
     "execution_count": 84,
     "metadata": {},
     "output_type": "execute_result"
    }
   ],
   "source": [
    "l"
   ]
  },
  {
   "cell_type": "code",
   "execution_count": 87,
   "id": "d6d7999a-7433-4e01-90cb-e3f2d9b98034",
   "metadata": {},
   "outputs": [],
   "source": [
    "even_list = list(filter(lambda x : x == 'EVEN', l))"
   ]
  },
  {
   "cell_type": "code",
   "execution_count": 88,
   "id": "8c3d1a49-e122-4d96-9fd3-85e81d5a9ae1",
   "metadata": {},
   "outputs": [],
   "source": [
    "odd_list = list(filter(lambda x : x == 'ODD', l))"
   ]
  },
  {
   "cell_type": "code",
   "execution_count": 89,
   "id": "64620fb7-1a6a-4b8f-81d9-91d96f673711",
   "metadata": {},
   "outputs": [],
   "source": [
    "name = 'programmming is awesome'"
   ]
  },
  {
   "cell_type": "code",
   "execution_count": 99,
   "id": "3b560dfa-68c6-478c-982f-f6430ae5ed24",
   "metadata": {},
   "outputs": [],
   "source": [
    "def vowel():\n",
    "    v = 'aeiou'\n",
    "    name = name.lower()\n",
    "    for i in name:\n",
    "        if i in v:\n",
    "            print(i)"
   ]
  },
  {
   "cell_type": "code",
   "execution_count": 105,
   "id": "32ab293c-1101-459d-9a35-3aff7802b314",
   "metadata": {},
   "outputs": [],
   "source": [
    "# vowel(name)"
   ]
  },
  {
   "cell_type": "code",
   "execution_count": 104,
   "id": "1b34b839-9539-4292-9226-4bff218f7f54",
   "metadata": {},
   "outputs": [],
   "source": [
    "# filter(vowel(), name)"
   ]
  },
  {
   "cell_type": "code",
   "execution_count": 102,
   "id": "db580517-955e-4b46-8559-ffc77c279b9c",
   "metadata": {},
   "outputs": [
    {
     "data": {
      "text/plain": [
       "'programmming is awesome'"
      ]
     },
     "execution_count": 102,
     "metadata": {},
     "output_type": "execute_result"
    }
   ],
   "source": [
    "name"
   ]
  },
  {
   "cell_type": "code",
   "execution_count": 103,
   "id": "e64caa01-c23a-45eb-83a2-08083c9b429d",
   "metadata": {},
   "outputs": [],
   "source": [
    "# using filter method filter the string where you have to access the vowels only"
   ]
  },
  {
   "cell_type": "code",
   "execution_count": 106,
   "id": "155ca94b-6da3-46bb-98d9-8c037eba3822",
   "metadata": {},
   "outputs": [],
   "source": [
    "st = name.split()"
   ]
  },
  {
   "cell_type": "code",
   "execution_count": 107,
   "id": "3763b898-afa0-41b0-b437-e835f6ec7f8c",
   "metadata": {},
   "outputs": [
    {
     "data": {
      "text/plain": [
       "['programmming', 'is', 'awesome']"
      ]
     },
     "execution_count": 107,
     "metadata": {},
     "output_type": "execute_result"
    }
   ],
   "source": [
    "st"
   ]
  },
  {
   "cell_type": "code",
   "execution_count": 113,
   "id": "e9748d99-966a-4f2a-bc1f-8b00617fe505",
   "metadata": {},
   "outputs": [
    {
     "data": {
      "text/plain": [
       "['programmming', 'is']"
      ]
     },
     "execution_count": 113,
     "metadata": {},
     "output_type": "execute_result"
    }
   ],
   "source": [
    "list(filter(lambda x : len(x)%2 == 0, st))"
   ]
  },
  {
   "cell_type": "code",
   "execution_count": 114,
   "id": "f90c5e59-3b7e-4e32-b85f-be07772d2521",
   "metadata": {},
   "outputs": [
    {
     "data": {
      "text/plain": [
       "12345"
      ]
     },
     "execution_count": 114,
     "metadata": {},
     "output_type": "execute_result"
    }
   ],
   "source": [
    "l = [1, 2, 3, 4, 5]\n",
    "12345"
   ]
  },
  {
   "cell_type": "code",
   "execution_count": 115,
   "id": "99710e85-b1b8-4557-8889-153caa95740c",
   "metadata": {},
   "outputs": [],
   "source": [
    "from functools import reduce"
   ]
  },
  {
   "cell_type": "code",
   "execution_count": 116,
   "id": "9cece43a-50ac-4341-bc03-7fcda0b128f1",
   "metadata": {},
   "outputs": [
    {
     "data": {
      "text/plain": [
       "12345"
      ]
     },
     "execution_count": 116,
     "metadata": {},
     "output_type": "execute_result"
    }
   ],
   "source": [
    "reduce(lambda x, y : x*10 + y, l)"
   ]
  },
  {
   "cell_type": "code",
   "execution_count": 117,
   "id": "3b765644-9fda-40c1-a214-84aafdf6ba27",
   "metadata": {},
   "outputs": [],
   "source": [
    "# find the minumum value from l using reduce method"
   ]
  },
  {
   "cell_type": "code",
   "execution_count": null,
   "id": "db4ada2d-9f95-4338-909d-1422725a8691",
   "metadata": {},
   "outputs": [],
   "source": []
  }
 ],
 "metadata": {
  "kernelspec": {
   "display_name": "Python 3 (ipykernel)",
   "language": "python",
   "name": "python3"
  },
  "language_info": {
   "codemirror_mode": {
    "name": "ipython",
    "version": 3
   },
   "file_extension": ".py",
   "mimetype": "text/x-python",
   "name": "python",
   "nbconvert_exporter": "python",
   "pygments_lexer": "ipython3",
   "version": "3.12.7"
  }
 },
 "nbformat": 4,
 "nbformat_minor": 5
}
