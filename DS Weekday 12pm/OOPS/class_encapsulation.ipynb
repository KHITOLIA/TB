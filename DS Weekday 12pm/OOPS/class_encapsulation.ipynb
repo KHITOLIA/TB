{
 "cells": [
  {
   "cell_type": "code",
   "execution_count": 2,
   "id": "4df55dd7-2dea-443a-b788-ecf9f2cc38a6",
   "metadata": {},
   "outputs": [],
   "source": [
    "class Person:\n",
    "    def __init__(self, name, country):\n",
    "        self.name = name\n",
    "        self.country = country\n",
    "\n",
    "    def greet(self):\n",
    "        if self.country == 'India':\n",
    "            print(\"Radhe Radhe\", self.name)\n",
    "        else:\n",
    "            print(\"hello\", self.name)"
   ]
  },
  {
   "cell_type": "code",
   "execution_count": 3,
   "id": "9c68d19a-f77e-4cc3-b8fd-48e6a7658b4b",
   "metadata": {},
   "outputs": [],
   "source": [
    "p = Person('tushar', 'India')"
   ]
  },
  {
   "cell_type": "code",
   "execution_count": 4,
   "id": "4c0eccb2-27e2-4e6d-90b5-d74f4f790937",
   "metadata": {},
   "outputs": [
    {
     "data": {
      "text/plain": [
       "'tushar'"
      ]
     },
     "execution_count": 4,
     "metadata": {},
     "output_type": "execute_result"
    }
   ],
   "source": [
    "p.name"
   ]
  },
  {
   "cell_type": "code",
   "execution_count": 5,
   "id": "401554cb-4779-40e6-9a91-1f37b335f8e9",
   "metadata": {},
   "outputs": [
    {
     "name": "stdout",
     "output_type": "stream",
     "text": [
      "Radhe Radhe tushar\n"
     ]
    }
   ],
   "source": [
    "p.greet()"
   ]
  },
  {
   "cell_type": "code",
   "execution_count": 6,
   "id": "40824d1a-6f8b-45a8-8266-1bf690dc2ce1",
   "metadata": {},
   "outputs": [],
   "source": [
    "p.gender = 'male'"
   ]
  },
  {
   "cell_type": "code",
   "execution_count": 18,
   "id": "70041509-c575-43c8-8f11-73a9ce0d445f",
   "metadata": {},
   "outputs": [],
   "source": [
    "class Person:\n",
    "    def __init__(self):\n",
    "        self.name = 'tushar'\n",
    "        self.gender = 'male'\n",
    "p = Person()"
   ]
  },
  {
   "cell_type": "code",
   "execution_count": 22,
   "id": "0bfaf941-966d-4e24-8962-d3fbf40bfca2",
   "metadata": {},
   "outputs": [],
   "source": [
    "q = p"
   ]
  },
  {
   "cell_type": "code",
   "execution_count": 23,
   "id": "b96f7d68-270d-4b49-b2be-11e39b00bd25",
   "metadata": {},
   "outputs": [
    {
     "data": {
      "text/plain": [
       "<__main__.Person at 0x282d6760f20>"
      ]
     },
     "execution_count": 23,
     "metadata": {},
     "output_type": "execute_result"
    }
   ],
   "source": [
    "q"
   ]
  },
  {
   "cell_type": "code",
   "execution_count": 12,
   "id": "7c3de10f-2245-4c31-ad8c-2de4d16c64c6",
   "metadata": {},
   "outputs": [
    {
     "data": {
      "text/plain": [
       "2760967630688"
      ]
     },
     "execution_count": 12,
     "metadata": {},
     "output_type": "execute_result"
    }
   ],
   "source": [
    "id(p)"
   ]
  },
  {
   "cell_type": "code",
   "execution_count": 13,
   "id": "517c6be2-a14c-4235-ab5f-1195f0054734",
   "metadata": {},
   "outputs": [
    {
     "data": {
      "text/plain": [
       "2760967630688"
      ]
     },
     "execution_count": 13,
     "metadata": {},
     "output_type": "execute_result"
    }
   ],
   "source": [
    "id(q)"
   ]
  },
  {
   "cell_type": "code",
   "execution_count": 16,
   "id": "54857143-93a0-49c7-956f-313ef4127ff2",
   "metadata": {},
   "outputs": [],
   "source": [
    "q.name = 'aditya'"
   ]
  },
  {
   "cell_type": "code",
   "execution_count": 15,
   "id": "b6a453a4-4941-4a38-bb8e-f74e30d1df48",
   "metadata": {},
   "outputs": [
    {
     "data": {
      "text/plain": [
       "'tushar'"
      ]
     },
     "execution_count": 15,
     "metadata": {},
     "output_type": "execute_result"
    }
   ],
   "source": [
    "p.name"
   ]
  },
  {
   "cell_type": "code",
   "execution_count": 17,
   "id": "551b19ff-67dd-443c-964b-099134f2f20e",
   "metadata": {},
   "outputs": [
    {
     "data": {
      "text/plain": [
       "'aditya'"
      ]
     },
     "execution_count": 17,
     "metadata": {},
     "output_type": "execute_result"
    }
   ],
   "source": [
    "q.name"
   ]
  },
  {
   "cell_type": "code",
   "execution_count": 12,
   "id": "5455e466-802e-412e-ba07-c219f947890b",
   "metadata": {},
   "outputs": [],
   "source": [
    "# p-1\n",
    "class Atm:\n",
    "    def __init__(self):  # constructor\n",
    "        print(id(self))\n",
    "        self.__pin = '' # attribute\n",
    "        self.__balance = 0 \n",
    "        self.menu()\n",
    "        \n",
    "    def menu(self):\n",
    "        user_input = input(\"\"\"\n",
    "        How cani help your sir\n",
    "        1. press 1 to create your pin\n",
    "        2. press 2 to change your pin\n",
    "        3. press 3 to check balance\n",
    "        4. press 4 to withdraw money\n",
    "        5. anything else to exit\"\"\")\n",
    "        if user_input == '1':\n",
    "            self.create_pin()\n",
    "        elif user_input == '2':\n",
    "            self.change_pin()\n",
    "        elif user_input == '3':\n",
    "            self.__check_balance()\n",
    "        elif user_input == '4':\n",
    "            self.withdaw_money()\n",
    "        else:\n",
    "            pass\n",
    "            \n",
    "    def create_pin(self):\n",
    "        user_pin = input(\"enter your pin : \")\n",
    "        self.__pin = user_pin\n",
    "\n",
    "        user_balance = int(input('enter your balance : '))\n",
    "        self.__balance = user_balance\n",
    "        print(\"PIN CREATED SUCCESSFULLY\")\n",
    "        self.menu()\n",
    "\n",
    "    def change_pin(self):\n",
    "        old_pin = input(\"enter your old pin : \")\n",
    "\n",
    "        if old_pin == self.__pin:\n",
    "            # new pin\n",
    "            new_pin = input(\"Enter your new pin : \")\n",
    "            self.__pin = new_pin\n",
    "            print(\"PIN CHANGED SUCCESSFULLY\")\n",
    "        else:\n",
    "            print(\"WRONG PIN ENTERED\")\n",
    "        self.menu()\n",
    "\n",
    "    def __check_balance(self):\n",
    "        user_pin = input(\"enter your pin : \")\n",
    "\n",
    "        if user_pin == self.__pin:\n",
    "            print(f\"your balance is ₹{self.__balance}\")\n",
    "        else:\n",
    "           print(\"WRONG PIN ENTERED\")\n",
    "        self.menu()\n",
    "\n",
    "    def withdaw_money(self):\n",
    "        amount = int(input(\"enter the amount you want to withdraw : \"))\n",
    "        user_pin = input(\"enter your pin : \")\n",
    "\n",
    "        if user_pin == self.__pin:\n",
    "            if amount <= self.__balance:\n",
    "                self.__balance = self.__balance - amount\n",
    "                print(f\"withdrawl successfully and your balance is {self.__balance}\")\n",
    "            else:\n",
    "                print(\"chla ja gareeb yaha se\")\n",
    "        else:\n",
    "            print('chor sala')\n",
    "        self.menu()"
   ]
  },
  {
   "cell_type": "code",
   "execution_count": 13,
   "id": "5dc0ee1d-7370-486b-93d3-cd5d2262a378",
   "metadata": {},
   "outputs": [
    {
     "name": "stdout",
     "output_type": "stream",
     "text": [
      "2688337742112\n"
     ]
    },
    {
     "name": "stdin",
     "output_type": "stream",
     "text": [
      "\n",
      "        How cani help your sir\n",
      "        1. press 1 to create your pin\n",
      "        2. press 2 to change your pin\n",
      "        3. press 3 to check balance\n",
      "        4. press 4 to withdraw money\n",
      "        5. anything else to exit 1\n",
      "enter your pin :  1123\n",
      "enter your balance :  100\n"
     ]
    },
    {
     "name": "stdout",
     "output_type": "stream",
     "text": [
      "PIN CREATED SUCCESSFULLY\n"
     ]
    },
    {
     "name": "stdin",
     "output_type": "stream",
     "text": [
      "\n",
      "        How cani help your sir\n",
      "        1. press 1 to create your pin\n",
      "        2. press 2 to change your pin\n",
      "        3. press 3 to check balance\n",
      "        4. press 4 to withdraw money\n",
      "        5. anything else to exit 3\n",
      "enter your pin :  1123\n"
     ]
    },
    {
     "name": "stdout",
     "output_type": "stream",
     "text": [
      "your balance is ₹100\n"
     ]
    },
    {
     "name": "stdin",
     "output_type": "stream",
     "text": [
      "\n",
      "        How cani help your sir\n",
      "        1. press 1 to create your pin\n",
      "        2. press 2 to change your pin\n",
      "        3. press 3 to check balance\n",
      "        4. press 4 to withdraw money\n",
      "        5. anything else to exit 8\n"
     ]
    }
   ],
   "source": [
    "aditya = Atm()"
   ]
  },
  {
   "cell_type": "code",
   "execution_count": 17,
   "id": "2485f322-f831-4fea-bb33-943dec867e82",
   "metadata": {},
   "outputs": [
    {
     "name": "stdin",
     "output_type": "stream",
     "text": [
      "enter your pin :  1123\n"
     ]
    },
    {
     "name": "stdout",
     "output_type": "stream",
     "text": [
      "your balance is ₹100\n"
     ]
    },
    {
     "name": "stdin",
     "output_type": "stream",
     "text": [
      "\n",
      "        How cani help your sir\n",
      "        1. press 1 to create your pin\n",
      "        2. press 2 to change your pin\n",
      "        3. press 3 to check balance\n",
      "        4. press 4 to withdraw money\n",
      "        5. anything else to exit 8\n"
     ]
    }
   ],
   "source": [
    "aditya._Atm__check_balance()"
   ]
  },
  {
   "cell_type": "code",
   "execution_count": 6,
   "id": "27881f93-aad5-42c6-a355-5b0cdcb9a030",
   "metadata": {},
   "outputs": [
    {
     "data": {
      "text/plain": [
       "1000"
      ]
     },
     "execution_count": 6,
     "metadata": {},
     "output_type": "execute_result"
    }
   ],
   "source": [
    "aditya.balance"
   ]
  },
  {
   "cell_type": "code",
   "execution_count": 21,
   "id": "d1b4262e-d458-40ab-bfd4-1e00637c8a7c",
   "metadata": {},
   "outputs": [],
   "source": [
    "class Intro:\n",
    "\n",
    "  def __init__(self,name, age, course, location):\n",
    "\n",
    "    self.name = name\n",
    "\n",
    "    self.age = age\n",
    "\n",
    "    self.course = course\n",
    "\n",
    "    self.__location = location\n",
    "      \n",
    "\n",
    "  def name(self):\n",
    "\n",
    "    print(f\"my name is {self.name}\")\n",
    "\n",
    "  def age(self):\n",
    "\n",
    "    print(f\"Age : {self.age}\")\n",
    "\n",
    "  def course(self):\n",
    "\n",
    "    print(f\"course : {self.course}\")\n",
    "\n",
    "  def locate_me(self):\n",
    "\n",
    "    print(f\"location : {self.__location}\") \n",
    "\n",
    "detail = Intro(\"kanhaiya\",18, \" data science\", \"Barsana\")"
   ]
  },
  {
   "cell_type": "code",
   "execution_count": 22,
   "id": "9c94b7bd-f99a-4fe5-924b-2f16e6def721",
   "metadata": {},
   "outputs": [
    {
     "name": "stdout",
     "output_type": "stream",
     "text": [
      "location : Barsana\n"
     ]
    }
   ],
   "source": [
    "detail.locate_me()"
   ]
  },
  {
   "cell_type": "code",
   "execution_count": 28,
   "id": "d9a90b1c-40ff-4dc8-9fd7-938e366cc0d1",
   "metadata": {},
   "outputs": [
    {
     "name": "stdin",
     "output_type": "stream",
     "text": [
      "Enter your name:  etret\n",
      "Enter course you want to join:  ertert\n",
      "Enter contact number:  erter\n"
     ]
    },
    {
     "name": "stdout",
     "output_type": "stream",
     "text": [
      "Name   : etret\n",
      "Course : ertert\n",
      "Contact: erter\n"
     ]
    }
   ],
   "source": [
    "class CoachingEnquiry:\n",
    "\n",
    "    def __init__(self):\n",
    "\n",
    "        self.__name = \"\"\n",
    "\n",
    "        self.__course = \"\"\n",
    "\n",
    "        self.__contact = \"\"\n",
    "        # self.get_contact()\n",
    "\n",
    "    \n",
    "    def set_details(self, name, course, contact):\n",
    "\n",
    "        self.__name = name\n",
    "\n",
    "        self.__course = course\n",
    "\n",
    "        self.__contact = contact\n",
    "\n",
    "    def get_name(self):\n",
    "\n",
    "        return self.__name\n",
    "\n",
    "    def get_course(self):\n",
    "\n",
    "        return self.__course\n",
    "\n",
    "    def get_contact(self):\n",
    "\n",
    "        return self.__contact\n",
    "\n",
    "    def show_enquiry(self):\n",
    "\n",
    "        print(\"Name   :\", self.__name)\n",
    "\n",
    "        print(\"Course :\", self.__course)\n",
    "\n",
    "        print(\"Contact:\", self.__contact)\n",
    "\n",
    "student = CoachingEnquiry()\n",
    "\n",
    "name = input(\"Enter your name: \")\n",
    "\n",
    "course = input(\"Enter course you want to join: \")\n",
    "\n",
    "contact = input(\"Enter contact number: \")\n",
    "\n",
    "student.set_details(name, course, contact)\n",
    "\n",
    "student.show_enquiry()"
   ]
  },
  {
   "cell_type": "code",
   "execution_count": 30,
   "id": "526bad28-76ef-4576-9135-1261cce04cca",
   "metadata": {},
   "outputs": [
    {
     "name": "stdout",
     "output_type": "stream",
     "text": [
      "student(Aditya,23)\n"
     ]
    }
   ],
   "source": [
    "class student:\n",
    "\n",
    "  def __init__(self, name, age,):\n",
    "\n",
    "    self.__name = \"\"\n",
    "\n",
    "    self.__age = \"\"\n",
    "\n",
    "  def man(self):\n",
    "\n",
    "    print(f\"student({self.__name},{self. __age})\")\n",
    "\n",
    "s1 = student(\"Aditya\",23)\n",
    "\n",
    "s1. man()"
   ]
  },
  {
   "cell_type": "code",
   "execution_count": null,
   "id": "7f2e5ca4-b3c7-4cb7-8014-14ce26754fe3",
   "metadata": {},
   "outputs": [],
   "source": [
    "s1.man()"
   ]
  }
 ],
 "metadata": {
  "kernelspec": {
   "display_name": "Python 3 (ipykernel)",
   "language": "python",
   "name": "python3"
  },
  "language_info": {
   "codemirror_mode": {
    "name": "ipython",
    "version": 3
   },
   "file_extension": ".py",
   "mimetype": "text/x-python",
   "name": "python",
   "nbconvert_exporter": "python",
   "pygments_lexer": "ipython3",
   "version": "3.12.7"
  }
 },
 "nbformat": 4,
 "nbformat_minor": 5
}
