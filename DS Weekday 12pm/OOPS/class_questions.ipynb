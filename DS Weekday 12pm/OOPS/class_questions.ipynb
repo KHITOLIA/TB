{
 "cells": [
  {
   "cell_type": "markdown",
   "id": "b5d13346-427a-4b3b-8c9d-737ecf6f2cd3",
   "metadata": {},
   "source": [
    "# Write OOP classes to handle the following scenarios:\n",
    "\n",
    "1. - A user can create and view 2D coordinates\n",
    "2. - A user can find out the distance between 2 coordinates\n",
    "3. - A user can find find the distance of a coordinate from origin\n",
    "4. - A user can check if a point lies on a given line\n",
    "5. - A user can find the distance between a given 2D point and a given line\n",
    "\n"
   ]
  },
  {
   "cell_type": "code",
   "execution_count": 137,
   "id": "dc680225-7764-4492-afc4-5f30c58d5879",
   "metadata": {},
   "outputs": [],
   "source": [
    "class Point:\n",
    "    def __init__(self, x, y):\n",
    "        self.x_cod = x\n",
    "        self.y_cod = y\n",
    "\n",
    "    def __str__(self):\n",
    "        return '({},{})'.format(self.x_cod, self.y_cod)\n",
    "\n",
    "    def euclidean_distance(self, other):\n",
    "            return ((other.x_cod - self.x_cod)**2 + (other.y_cod - self.y_cod)**2)**0.5"
   ]
  },
  {
   "cell_type": "code",
   "execution_count": 141,
   "id": "992518b3-9a4b-4f37-9600-465aa55ae838",
   "metadata": {},
   "outputs": [],
   "source": [
    "p1 = Point(3, 3)"
   ]
  },
  {
   "cell_type": "code",
   "execution_count": 142,
   "id": "091a9e31-a9a9-4f3a-b9cb-a4dcd41178f6",
   "metadata": {},
   "outputs": [
    {
     "name": "stdout",
     "output_type": "stream",
     "text": [
      "(3,3)\n"
     ]
    }
   ],
   "source": [
    "print(p1)"
   ]
  },
  {
   "cell_type": "code",
   "execution_count": 143,
   "id": "3e2283e1-b6cd-4c80-b1a1-952eb2072270",
   "metadata": {},
   "outputs": [],
   "source": [
    "p2 = Point(0, 0)"
   ]
  },
  {
   "cell_type": "code",
   "execution_count": 144,
   "id": "7835c841-00f4-4271-b53d-923aa0c994e1",
   "metadata": {},
   "outputs": [
    {
     "name": "stdout",
     "output_type": "stream",
     "text": [
      "(0,0)\n"
     ]
    }
   ],
   "source": [
    "print(p2)"
   ]
  },
  {
   "cell_type": "code",
   "execution_count": 145,
   "id": "866a6157-c8ea-4b79-acec-491ee4f46799",
   "metadata": {},
   "outputs": [
    {
     "data": {
      "text/plain": [
       "4.242640687119285"
      ]
     },
     "execution_count": 145,
     "metadata": {},
     "output_type": "execute_result"
    }
   ],
   "source": [
    "p1.euclidean_distance(p2)"
   ]
  },
  {
   "cell_type": "code",
   "execution_count": 133,
   "id": "1eeeebd8-252c-4be0-8833-3d6b6aa7ae7b",
   "metadata": {},
   "outputs": [
    {
     "name": "stdout",
     "output_type": "stream",
     "text": [
      "Point: (3, 4)\n",
      "Point: (6, 8)\n",
      "Distance between p1 and p2: 5.0\n",
      "Distance of p1 from origin: 5.0\n",
      "Is p1 on line? False\n",
      "Distance of p2 from line: 2.82842712474619\n"
     ]
    }
   ],
   "source": [
    "import math\n",
    "\n",
    "class Point:\n",
    "\n",
    "    def __init__(self, x, y):\n",
    "\n",
    "        self.x, self.y = x, y\n",
    "\n",
    "    def show(self):\n",
    "\n",
    "        print(f\"Point: ({self.x}, {self.y})\")\n",
    "\n",
    "    def distance(self, other): \n",
    "\n",
    "        return math.sqrt((self.x - other.x)**2 + (self.y - other.y)**2)\n",
    "\n",
    "    def distance_from_origin(self): \n",
    "\n",
    "        return math.sqrt(self.x**2 + self.y**2)\n",
    "\n",
    " \n",
    "\n",
    "class Line:\n",
    "\n",
    "    def __init__(self, a, b, c):  \n",
    "\n",
    "        self.a, self.b, self.c = a, b, c\n",
    "\n",
    "    def point_on_line(self, p):  \n",
    "\n",
    "        return self.a * p.x + self.b * p.y + self.c == 0\n",
    "\n",
    "    def distance_from_point(self, p): \n",
    "\n",
    "        return abs(self.a * p.x + self.b * p.y + self.c) / math.sqrt(self.a**2 + self.b**2)\n",
    "\n",
    " \n",
    "\n",
    "p1 = Point(3, 4)\n",
    "\n",
    "p2 = Point(6, 8)\n",
    "\n",
    "line = Line(1, -1, -2)   \n",
    "\n",
    "p1.show()\n",
    "\n",
    "p2.show()\n",
    "\n",
    "print(\"Distance between p1 and p2:\", p1.distance(p2))\n",
    "\n",
    "print(\"Distance of p1 from origin:\", p1.distance_from_origin())\n",
    "\n",
    "print(\"Is p1 on line?\", line.point_on_line(p1))\n",
    "\n",
    "print(\"Distance of p2 from line:\", line.distance_from_point(p2))"
   ]
  },
  {
   "cell_type": "code",
   "execution_count": 128,
   "id": "dcabc1fc-dbc6-4b79-bbba-ba3252498ccd",
   "metadata": {},
   "outputs": [
    {
     "data": {
      "text/plain": [
       "2.8284271247461903"
      ]
     },
     "execution_count": 128,
     "metadata": {},
     "output_type": "execute_result"
    }
   ],
   "source": [
    "((2)**2 + 2**2)**0.5"
   ]
  },
  {
   "cell_type": "code",
   "execution_count": null,
   "id": "78535acf-b4da-4b91-b576-e5695fa0c309",
   "metadata": {},
   "outputs": [],
   "source": []
  },
  {
   "cell_type": "code",
   "execution_count": 4,
   "id": "9c9bfb08-55ed-4280-8b88-ef57e79b54e5",
   "metadata": {},
   "outputs": [],
   "source": [
    "class Point:\n",
    "    def __init__(self, x, y):\n",
    "        self.x_cod = x\n",
    "        self.y_cod = y\n",
    "    def __str__(self):\n",
    "        return f\"({self.x_cod}, {self.y_cod})\""
   ]
  },
  {
   "cell_type": "code",
   "execution_count": 5,
   "id": "a590683b-8706-446e-8db3-fbb5198151e1",
   "metadata": {},
   "outputs": [],
   "source": [
    "p1 = Point(2, 3)"
   ]
  },
  {
   "cell_type": "code",
   "execution_count": 7,
   "id": "46d9de9b-079c-4a9b-9455-23028db8363d",
   "metadata": {},
   "outputs": [
    {
     "name": "stdout",
     "output_type": "stream",
     "text": [
      "(2, 3)\n"
     ]
    }
   ],
   "source": [
    "print(p1)"
   ]
  },
  {
   "cell_type": "code",
   "execution_count": 8,
   "id": "f18cc191-710b-43c5-8874-ae47b5d2025d",
   "metadata": {},
   "outputs": [],
   "source": [
    "import numpy as np\n"
   ]
  },
  {
   "cell_type": "markdown",
   "id": "6e83ce43-9eb6-454e-87e9-e87b5aead85a",
   "metadata": {},
   "source": [
    "# Q-1: Rectangle Class\n",
    "\n",
    "1. Write a Rectangle class in Python language, allowing you to build a rectangle with length and width attributes.\n",
    "\n",
    "2. Create a Perimeter() method to calculate the perimeter of the rectangle and a Area() method to calculate the area of ​​the rectangle.\n",
    "\n",
    "3. Create a method display() that display the length, width, perimeter and area of an object created using an instantiation on rectangle class"
   ]
  },
  {
   "cell_type": "code",
   "execution_count": 107,
   "id": "2b461875-efe8-485e-af6a-65df4897bba8",
   "metadata": {},
   "outputs": [],
   "source": [
    "class Rectangle:\n",
    "    def __init__(self, length, width ):\n",
    "        self.length = length\n",
    "        self.width = width\n",
    "        self.display()\n",
    "    def perimeter(self):\n",
    "        self.perimeter = 2*(self.length + self.width)\n",
    "        print(f\"perimeter of this rectangle of length {self.length}cm and width {self.width}cm is {self.perimeter}\")\n",
    "    \n",
    "    def area(self):\n",
    "        self.area = self.length*self.width\n",
    "        print(f\"area of this rectangle of length {self.length}cm and width {self.width}cm is {self.area}\")\n",
    "\n",
    "    def display(self):\n",
    "        print(f'Length of this rectangle {self.length}cm and width {self.width}cm')\n",
    "        self.perimeter()\n",
    "        self.area()"
   ]
  },
  {
   "cell_type": "code",
   "execution_count": 108,
   "id": "fae89455-0c6e-4ec8-85e0-8829c3095f41",
   "metadata": {},
   "outputs": [
    {
     "name": "stdout",
     "output_type": "stream",
     "text": [
      "Length of this rectangle 3cm and width 4cm\n",
      "perimeter of this rectangle of length 3cm and width 4cm is 14\n",
      "area of this rectangle of length 3cm and width 4cm is 12\n"
     ]
    }
   ],
   "source": [
    "a = Rectangle(3, 4)"
   ]
  },
  {
   "cell_type": "code",
   "execution_count": 103,
   "id": "0dbe259c-2078-43ae-a9c9-8aef54b46f8b",
   "metadata": {},
   "outputs": [],
   "source": [
    "b = Rectangle(10, 20)"
   ]
  },
  {
   "cell_type": "code",
   "execution_count": 48,
   "id": "6ddddab7-3e0c-41b8-a01e-0863df26b452",
   "metadata": {},
   "outputs": [
    {
     "data": {
      "text/plain": [
       "10"
      ]
     },
     "execution_count": 48,
     "metadata": {},
     "output_type": "execute_result"
    }
   ],
   "source": [
    "b.length"
   ]
  },
  {
   "cell_type": "code",
   "execution_count": 49,
   "id": "3a4a9aec-d6ae-4e5b-adb9-661400c6d3a8",
   "metadata": {},
   "outputs": [
    {
     "data": {
      "text/plain": [
       "20"
      ]
     },
     "execution_count": 49,
     "metadata": {},
     "output_type": "execute_result"
    }
   ],
   "source": [
    "b.width"
   ]
  },
  {
   "cell_type": "code",
   "execution_count": 11,
   "id": "37a66131-6317-48fc-8163-aa3ee4aeeb32",
   "metadata": {},
   "outputs": [],
   "source": [
    "class Ractangle:\n",
    "\n",
    "  def __init__(self):\n",
    "\n",
    "    self.width = 0\n",
    "\n",
    "    self.length = 0\n",
    "  def attribute(self):\n",
    "\n",
    "    self.width = int(input(\"please enter the width of rectangle\"))\n",
    "\n",
    "    self.length = int(input(\"please enter the length of rectangle\"))\n",
    "\n",
    "    self.perimeter = 2*(self.width + self.length)\n",
    "\n",
    "    self.area = (self.width * self.length)\n",
    "\n",
    "    print(\"width  : = \",self.width)\n",
    "\n",
    "    print(\"length  : = \",self.length)\n",
    "\n",
    "    print(\"perimeter : = \",self.perimeter)\n",
    "\n",
    "    print(\"Area : = \",self.area)"
   ]
  },
  {
   "cell_type": "code",
   "execution_count": 12,
   "id": "fd0462f1-2b7f-4746-ab76-22c243792994",
   "metadata": {},
   "outputs": [],
   "source": [
    "a = Ractangle()"
   ]
  },
  {
   "cell_type": "code",
   "execution_count": 13,
   "id": "1f4382ab-5316-4eb0-bbb5-edea58c39054",
   "metadata": {},
   "outputs": [
    {
     "name": "stdin",
     "output_type": "stream",
     "text": [
      "please enter the width of rectangle 3\n",
      "please enter the length of rectangle 5\n"
     ]
    },
    {
     "name": "stdout",
     "output_type": "stream",
     "text": [
      "width  : =  3\n",
      "length  : =  5\n",
      "perimeter : =  16\n",
      "Area : =  15\n"
     ]
    }
   ],
   "source": [
    "a.attribute()"
   ]
  },
  {
   "cell_type": "code",
   "execution_count": 8,
   "id": "3bc34085-8188-40c5-b025-6fa9361feb3a",
   "metadata": {},
   "outputs": [],
   "source": [
    "l = [12]"
   ]
  },
  {
   "cell_type": "code",
   "execution_count": null,
   "id": "47fa2069-8b46-492e-ba21-074fa1470482",
   "metadata": {},
   "outputs": [],
   "source": []
  },
  {
   "cell_type": "code",
   "execution_count": null,
   "id": "e9d6d3c3-6002-453a-a0b7-423bbeebb619",
   "metadata": {},
   "outputs": [],
   "source": []
  },
  {
   "cell_type": "code",
   "execution_count": null,
   "id": "228ff80e-392c-46af-8277-a266351ee3bb",
   "metadata": {},
   "outputs": [],
   "source": []
  },
  {
   "cell_type": "code",
   "execution_count": 109,
   "id": "05ab036c-fea4-4b42-ae66-457b6c29bb56",
   "metadata": {},
   "outputs": [],
   "source": [
    "# class Rectangle:\n",
    "\n",
    "#   def __init__(self, length, width):\n",
    "\n",
    "#     self.length = length\n",
    "\n",
    "#     self.width = width\n",
    "\n",
    "#     def area(self):\n",
    "#         return self.length * self.width\n",
    "\n",
    "#     def perimeter(self):\n",
    "#         return 2 * (self. length + self. width)\n",
    "\n",
    "# rect1 = Rectangle(10, 5)\n",
    "\n",
    "# # print(\"Lenght\", rect1.length)\n",
    "\n",
    "# # print(\"Widht\", rect1.width)\n",
    "\n",
    "# print(\"Area of rectangle\",rect1.area())\n",
    "\n",
    "# print(\"perimeter of rectangle\",rect1.perimeter())"
   ]
  },
  {
   "cell_type": "code",
   "execution_count": 24,
   "id": "ccc020db-6e9a-44a6-9f28-bb690e142bac",
   "metadata": {},
   "outputs": [
    {
     "name": "stdout",
     "output_type": "stream",
     "text": [
      "Length: 10\n",
      "Width: 5\n",
      "Perimeter: 30\n",
      "Area: 50\n"
     ]
    }
   ],
   "source": [
    "class Rectangle:\n",
    "\n",
    "    def __init__(self, l, w):\n",
    "\n",
    "        self.l = l\n",
    "\n",
    "        self.w = w\n",
    "\n",
    "    def Perimeter(self):\n",
    "\n",
    "        return 2 * (self.l + self.w)\n",
    "\n",
    "    def Area(self):\n",
    "\n",
    "        return self.l * self.w\n",
    "\n",
    "    def display(self):\n",
    "\n",
    "        print(\"Length:\", self.l)\n",
    "\n",
    "        print(\"Width:\", self.w)\n",
    "\n",
    "        print(\"Perimeter:\", self.Perimeter())\n",
    "\n",
    "        print(\"Area:\", self.Area())\n",
    "\n",
    "r = Rectangle(10, 5)\n",
    "\n",
    "r.display()"
   ]
  },
  {
   "cell_type": "code",
   "execution_count": 26,
   "id": "b82f11cb-a37f-469f-a4cd-5b1a98571b6f",
   "metadata": {},
   "outputs": [
    {
     "data": {
      "text/plain": [
       "50"
      ]
     },
     "execution_count": 26,
     "metadata": {},
     "output_type": "execute_result"
    }
   ],
   "source": [
    "r.Area()"
   ]
  },
  {
   "cell_type": "code",
   "execution_count": null,
   "id": "e6610ecf-d72f-4470-9ad6-314176088aa7",
   "metadata": {},
   "outputs": [],
   "source": []
  }
 ],
 "metadata": {
  "kernelspec": {
   "display_name": "Python 3 (ipykernel)",
   "language": "python",
   "name": "python3"
  },
  "language_info": {
   "codemirror_mode": {
    "name": "ipython",
    "version": 3
   },
   "file_extension": ".py",
   "mimetype": "text/x-python",
   "name": "python",
   "nbconvert_exporter": "python",
   "pygments_lexer": "ipython3",
   "version": "3.12.7"
  }
 },
 "nbformat": 4,
 "nbformat_minor": 5
}
