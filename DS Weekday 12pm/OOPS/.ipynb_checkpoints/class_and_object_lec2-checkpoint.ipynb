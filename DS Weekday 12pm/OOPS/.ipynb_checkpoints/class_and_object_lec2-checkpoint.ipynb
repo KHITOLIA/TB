{
 "cells": [
  {
   "cell_type": "code",
   "execution_count": 1,
   "id": "5a7a12ef-30ce-49c2-8130-39d551f536b0",
   "metadata": {},
   "outputs": [],
   "source": [
    "# p-1\n",
    "class Atm:\n",
    "    def __init__(self):  # constructor\n",
    "        print(id(self))\n",
    "        self.pin = '' # attribute\n",
    "        self.balance = 0 \n",
    "        self.menu()\n",
    "        \n",
    "    def menu(self):\n",
    "        user_input = input(\"\"\"\n",
    "        How cani help your sir\n",
    "        1. press 1 to create your pin\n",
    "        2. press 2 to change your pin\n",
    "        3. press 3 to check balance\n",
    "        4. press 4 to withdraw money\n",
    "        5. anything else to exit\"\"\")\n",
    "        if user_input == '1':\n",
    "            self.create_pin()\n",
    "        elif user_input == '2':\n",
    "            self.change_pin()\n",
    "        elif user_input == '3':\n",
    "            self.check_balance()\n",
    "        elif user_input == '4':\n",
    "            self.withdaw_money()\n",
    "        else:\n",
    "            exit()\n",
    "\n",
    "    def create_pin(self):\n",
    "        user_pin = input(\"enter your pin : \")\n",
    "        self.pin = user_pin\n",
    "\n",
    "        user_balance = int(input('enter your balance : '))\n",
    "        self.balance = user_balance\n",
    "        print(\"PIN CREATED SUCCESSFULLY\")\n",
    "        self.menu()\n",
    "\n",
    "    def change_pin(self):\n",
    "        old_pin = input(\"enter your old pin : \")\n",
    "\n",
    "        if old_pin == self.pin:\n",
    "            # new pin\n",
    "            new_pin = input(\"Enter your new pin : \")\n",
    "            self.pin = new_pin\n",
    "            print(\"PIN CHANGED SUCCESSFULLY\")\n",
    "        else:\n",
    "            print(\"WRONG PIN ENTERED\")\n",
    "        self.menu()\n",
    "\n",
    "    def check_balance(self):\n",
    "        user_pin = input(\"enter your pin : \")\n",
    "\n",
    "        if user_pin == self.pin:\n",
    "            print(f\"your balance is ₹{self.balance}\")\n",
    "        else:\n",
    "           print(\"WRONG PIN ENTERED\")\n",
    "        self.menu()\n",
    "\n",
    "    def withdaw_money(self):\n",
    "        amount = int(input(\"enter the amount you want to withdraw : \"))\n",
    "        user_pin = input(\"enter your pin : \")\n",
    "\n",
    "        if user_pin == self.pin:\n",
    "            if amount <= self.balance:\n",
    "                self.balance = self.balance - amount\n",
    "                print(f\"withdrawl successfully and your balance is {self.balance}\")\n",
    "            else:\n",
    "                print(\"chla ja gareeb yaha se\")\n",
    "        else:\n",
    "            print('chor sala')\n",
    "        self.menu()"
   ]
  },
  {
   "cell_type": "code",
   "execution_count": 2,
   "id": "1795ff4e-d235-47c1-9ee0-2757e17c21c8",
   "metadata": {},
   "outputs": [
    {
     "name": "stdout",
     "output_type": "stream",
     "text": [
      "1685360291488\n"
     ]
    },
    {
     "name": "stdin",
     "output_type": "stream",
     "text": [
      "\n",
      "        How cani help your sir\n",
      "        1. press 1 to create your pin\n",
      "        2. press 2 to change your pin\n",
      "        3. press 3 to check balance\n",
      "        4. press 4 to withdraw money\n",
      "        5. anything else to exit 987\n"
     ]
    }
   ],
   "source": [
    "aditya = Atm()"
   ]
  },
  {
   "cell_type": "code",
   "execution_count": null,
   "id": "7e1681c1-793d-476b-b397-6b0cfa9406ab",
   "metadata": {},
   "outputs": [],
   "source": [
    "aditya.pin"
   ]
  },
  {
   "cell_type": "code",
   "execution_count": null,
   "id": "5d2187e6-f715-4603-bca1-0e8dc0959aba",
   "metadata": {},
   "outputs": [],
   "source": [
    "aditya.balance"
   ]
  },
  {
   "cell_type": "code",
   "execution_count": null,
   "id": "6fe888e5-31a5-4852-9991-2998e7974839",
   "metadata": {},
   "outputs": [],
   "source": [
    "l = [1,2, 3, 4]"
   ]
  },
  {
   "cell_type": "code",
   "execution_count": null,
   "id": "ca0b1e55-962d-48a1-8bc7-f0cebfe07f85",
   "metadata": {},
   "outputs": [],
   "source": [
    "3/4"
   ]
  },
  {
   "cell_type": "code",
   "execution_count": 1,
   "id": "81ee1600-60f4-43f9-89b4-1d8a414a2a7c",
   "metadata": {},
   "outputs": [],
   "source": [
    "class Fraction:\n",
    "    def __init__(self, x, y, x1, y1):\n",
    "        self.num = x\n",
    "        self.den = y\n",
    "        self.num1 = x1s\n",
    "        self.den1 = y1\n",
    "        \n",
    "    def __str__(self):\n",
    "        return 'first fraction = {}/{} and second fraction = {}/{}'.format(self.num, self.den,self.num1, self.den1) \n",
    "\n",
    "    def addition(self):\n",
    "        num = self.num*self.den1 + self.den * self.num1\n",
    "        den = self.den * self.den1\n",
    "        print(f\"added fraction = {num}/{den}\")\n",
    "\n",
    "    # def subtraction():\n",
    "    # def multiplication():\n",
    "        "
   ]
  },
  {
   "cell_type": "code",
   "execution_count": 2,
   "id": "3759437e-ed16-4762-98d4-294cf2c0dcfb",
   "metadata": {},
   "outputs": [
    {
     "ename": "NameError",
     "evalue": "name 'x1s' is not defined",
     "output_type": "error",
     "traceback": [
      "\u001b[1;31m---------------------------------------------------------------------------\u001b[0m",
      "\u001b[1;31mNameError\u001b[0m                                 Traceback (most recent call last)",
      "Cell \u001b[1;32mIn[2], line 1\u001b[0m\n\u001b[1;32m----> 1\u001b[0m fract \u001b[38;5;241m=\u001b[39m Fraction(\u001b[38;5;241m3\u001b[39m, \u001b[38;5;241m4\u001b[39m , \u001b[38;5;241m2\u001b[39m, \u001b[38;5;241m3\u001b[39m)\n",
      "Cell \u001b[1;32mIn[1], line 5\u001b[0m, in \u001b[0;36mFraction.__init__\u001b[1;34m(self, x, y, x1, y1)\u001b[0m\n\u001b[0;32m      3\u001b[0m \u001b[38;5;28mself\u001b[39m\u001b[38;5;241m.\u001b[39mnum \u001b[38;5;241m=\u001b[39m x\n\u001b[0;32m      4\u001b[0m \u001b[38;5;28mself\u001b[39m\u001b[38;5;241m.\u001b[39mden \u001b[38;5;241m=\u001b[39m y\n\u001b[1;32m----> 5\u001b[0m \u001b[38;5;28mself\u001b[39m\u001b[38;5;241m.\u001b[39mnum1 \u001b[38;5;241m=\u001b[39m x1s\n\u001b[0;32m      6\u001b[0m \u001b[38;5;28mself\u001b[39m\u001b[38;5;241m.\u001b[39mden1 \u001b[38;5;241m=\u001b[39m y1\n",
      "\u001b[1;31mNameError\u001b[0m: name 'x1s' is not defined"
     ]
    }
   ],
   "source": [
    "fract = Fraction(3, 4 , 2, 3)"
   ]
  },
  {
   "cell_type": "code",
   "execution_count": null,
   "id": "635805b6-0096-4239-b640-ca5ae6653028",
   "metadata": {},
   "outputs": [],
   "source": [
    "type(fract)"
   ]
  },
  {
   "cell_type": "code",
   "execution_count": null,
   "id": "0dba12c4-2c50-403d-a909-d2c219880e34",
   "metadata": {},
   "outputs": [],
   "source": [
    "str(fract)"
   ]
  },
  {
   "cell_type": "code",
   "execution_count": null,
   "id": "181378fc-3d46-48d2-82e7-44752a0ce09d",
   "metadata": {},
   "outputs": [],
   "source": [
    "fract.addition()"
   ]
  },
  {
   "cell_type": "code",
   "execution_count": null,
   "id": "bd835826-9547-455b-afbe-eaf7097dfc72",
   "metadata": {},
   "outputs": [],
   "source": [
    "l.append(8)"
   ]
  },
  {
   "cell_type": "code",
   "execution_count": 4,
   "id": "52198a2b-f97c-48e2-af06-ef9a9746b18d",
   "metadata": {},
   "outputs": [
    {
     "name": "stdout",
     "output_type": "stream",
     "text": [
      "[bold blue]Interviewer:[/bold blue] : How do you remove duplicate values from a column in Excel?\n",
      "[bold blue]Interviewer:[/bold blue] : Speak up ypur answer  \n",
      "listening...\n",
      "Recognizing...\n",
      "[bold red]Interviewer:[/bold red] Not a bad try, but let’s refine your answer a little more.\n",
      "[bold blue]Interviewer:[/bold blue] : What does VLOOKUP do in Excel?\n",
      "[bold blue]Interviewer:[/bold blue] : Speak up ypur answer  \n",
      "listening...\n",
      "Recognizing...\n",
      "[bold red]Interviewer:[/bold red] I appreciate your effort, but that doesn’t fully address the question. Would you like to try again?\n",
      "[bold red]Interviewer:[/bold red] Try to take your commands on these topics carefully...\n",
      "Data Cleaning\n",
      "Lookup & Reference\n"
     ]
    }
   ],
   "source": [
    "# from rich import print\n",
    "import numpy as np\n",
    "import warnings\n",
    "warnings.filterwarnings('ignore')\n",
    "from sklearn.metrics.pairwise import cosine_similarity\n",
    "from langchain_huggingface.embeddings import HuggingFaceEmbeddings\n",
    "import random\n",
    "import pyttsx3\n",
    "import speech_recognition as sr\n",
    "# from googletrans import Translator\n",
    "# from speak import tts\n",
    "\n",
    "engine = pyttsx3.init('sapi5')\n",
    "voices = engine.getProperty('voices')\n",
    "engine.setProperty('voices', id(voices[0]))\n",
    "engine.setProperty('rate', 150)\n",
    "\n",
    "def tts(text):\n",
    "    engine.say(text)\n",
    "    engine.runAndWait()\n",
    "\n",
    "\n",
    "\n",
    "# lIsten.py\n",
    "def listen():\n",
    "    r = sr.Recognizer()\n",
    "    with sr.Microphone() as source:\n",
    "        print(\"listening...\")\n",
    "        r.pause_threshold = 1\n",
    "        audio = r.listen(source, 0, 60)\n",
    "\n",
    "    try:\n",
    "        print(\"Recognizing...\")\n",
    "        query = r.recognize_google(audio, language='en-en')\n",
    "        tts(f\"User said: {query}\")\n",
    "        return query\n",
    "    except Exception as e:\n",
    "        tts(\"Sorry, I could not understand the audio.\")\n",
    "        return None\n",
    "    \n",
    "# listen()    \n",
    "\n",
    "model_name = 'sentence-transformers/all-mpnet-base-v2'\n",
    "\n",
    "embedding_model = HuggingFaceEmbeddings(model_name = model_name)\n",
    "\n",
    "positive_response = [\n",
    "    \"That’s a good answer, you explained it well.\",\n",
    "\"Correct, your response is relevant to the question.\",\n",
    "\"Good point, that’s exactly what I was expecting.\",\n",
    "\"Yes, that’s the right direction.\",\n",
    "\"Your explanation makes sense, let’s move ahead.\",\n",
    "\"Well done, you addressed the question properly.\",\n",
    "\"That’s relevant, let me ask you a related question.\",\n",
    "\"You’re correct, now can you go a bit deeper?\",\n",
    "\"Nice explanation, it shows you understand the topic.\",\n",
    "\"Good, that’s aligned with the expected answer.\"\n",
    "]\n",
    "\n",
    "negative_response = [\"I appreciate your effort, but that doesn’t fully address the question. Would you like to try again?\",\n",
    "\"That’s an interesting perspective, though it’s not exactly what I was looking for. Let me guide you a bit.\",\n",
    "\"Good attempt, but your answer is slightly off. Maybe think about it from another angle.\",\n",
    "\"You’re on the right track, but something important is missing. Can you expand on it?\",\n",
    "\"Thanks for sharing, though it doesn’t quite match the question. Shall I rephrase it for you?\",\n",
    "\"Not a bad try, but let’s refine your answer a little more.\",\n",
    "\"I see where you’re going, but that’s not fully correct. Want me to give a small hint?\",\n",
    "\"That’s a thoughtful response, but not entirely relevant. Let’s revisit the question together.\",\n",
    "\"Nice attempt, though the answer isn’t complete. Can you think of another example?\",\n",
    "\"Good try, but let’s adjust the focus a bit to match the question.\"]\n",
    "\n",
    "excel_qna = {\n",
    "    # \"What is the shortcut to create a new worksheet in Excel?\": {\n",
    "    #     \"answer\": \"The shortcut is Shift + F11.\",\n",
    "    #     \"topic\": \"Shortcuts\"\n",
    "    # }\n",
    "    # \"How do you freeze the top row in Excel?\": {\n",
    "    #     \"answer\": \"Go to the View tab > Freeze Panes > Freeze Top Row.\",\n",
    "    #     \"topic\": \"Data Navigation\"\n",
    "    # },\n",
    "    # \"What is the function to calculate the average in Excel?\": {\n",
    "    #     \"answer\": \"The function is =AVERAGE(range).\",\n",
    "    #     \"topic\": \"Functions\"\n",
    "    # },\n",
    "    \"How do you remove duplicate values from a column in Excel?\": {\n",
    "        \"answer\": \"Select the column > Data tab > Remove Duplicates.\",\n",
    "        \"topic\": \"Data Cleaning\"\n",
    "    },\n",
    "    \"What does VLOOKUP do in Excel?\": {\n",
    "        \"answer\": \"VLOOKUP searches for a value in the first column of a range and returns a value in the same row from another column.\",\n",
    "        \"topic\": \"Lookup & Reference\"\n",
    "    }\n",
    "}\n",
    "\n",
    "summary = []\n",
    "\n",
    "tts(\"Hello! and Welcome to this AI-powered Excel assessment. \" \\\n",
    "\"I am your AI interviewer, designed to evaluate your knowledge and skills in Microsoft Excel. \" \\\n",
    "\"During this session, I will ask you questions covering various topics such as formulas and functions, data analysis, data cleaning, shortcuts, and lookup & reference techniques.\")\n",
    "\n",
    "for question , value in excel_qna.items():\n",
    "    print(f\"[bold blue]Interviewer:[/bold blue] : {question}\")\n",
    "    tts(question)\n",
    "\n",
    "\n",
    "    print(f\"[bold blue]Interviewer:[/bold blue] : Speak up ypur answer  \")\n",
    "    user_input = listen()\n",
    "    # user_input = input(\"enter your answer ? \")\n",
    "    user_embedding = embedding_model.embed_query(user_input)\n",
    "\n",
    "    answer_embedding = embedding_model.embed_query(value['answer'])\n",
    "    similarity = cosine_similarity([user_embedding], [answer_embedding])[0][0]*100\n",
    "\n",
    "    if similarity>80:\n",
    "        print(f\"[bold green]Interviewer:[/bold green] {random.choice(positive_response)}\")\n",
    "        print(f\"[bold green]Your score:[/bold green] {int(np.round(similarity))}\")\n",
    "\n",
    "    else:\n",
    "        print(f\"[bold red]Interviewer:[/bold red] {random.choice(negative_response)}\")\n",
    "        summary.append(value['topic']) \n",
    "if summary != []:\n",
    "    print(f\"[bold red]Interviewer:[/bold red] Try to take your commands on these topics carefully...\")\n",
    "    for topics in summary:\n",
    "        print(topics)\n"
   ]
  },
  {
   "cell_type": "code",
   "execution_count": null,
   "id": "38a477f6-4cc0-41eb-8cf6-97784059a1aa",
   "metadata": {},
   "outputs": [],
   "source": []
  },
  {
   "cell_type": "code",
   "execution_count": null,
   "id": "0823781a-eaa6-406e-a485-e553d98abec4",
   "metadata": {},
   "outputs": [],
   "source": []
  },
  {
   "cell_type": "code",
   "execution_count": null,
   "id": "ecddcea6-19e0-41d1-996b-09d948edd780",
   "metadata": {},
   "outputs": [],
   "source": []
  },
  {
   "cell_type": "code",
   "execution_count": null,
   "id": "8fd8d288-3916-4e89-aaa7-61a71ff486e5",
   "metadata": {},
   "outputs": [],
   "source": []
  }
 ],
 "metadata": {
  "kernelspec": {
   "display_name": "Python 3 (ipykernel)",
   "language": "python",
   "name": "python3"
  },
  "language_info": {
   "codemirror_mode": {
    "name": "ipython",
    "version": 3
   },
   "file_extension": ".py",
   "mimetype": "text/x-python",
   "name": "python",
   "nbconvert_exporter": "python",
   "pygments_lexer": "ipython3",
   "version": "3.12.7"
  }
 },
 "nbformat": 4,
 "nbformat_minor": 5
}
