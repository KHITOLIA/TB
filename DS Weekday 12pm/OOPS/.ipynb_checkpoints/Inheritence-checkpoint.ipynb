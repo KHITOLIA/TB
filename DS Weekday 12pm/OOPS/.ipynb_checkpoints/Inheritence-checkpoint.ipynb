{
 "cells": [
  {
   "cell_type": "code",
   "execution_count": 43,
   "id": "a7b2cbcc-72f3-4470-bd7c-3252189e7dcf",
   "metadata": {},
   "outputs": [],
   "source": [
    "class User:\n",
    "    def __init__(self):\n",
    "        self.__name = 'tushar'\n",
    "        self.gender = 'male'\n",
    "    def __login(self):\n",
    "        print(\"login\")\n",
    "\n",
    "class Student(User):\n",
    "    def enroll(self):\n",
    "        print(\"enroll into the data science course \")"
   ]
  },
  {
   "cell_type": "code",
   "execution_count": 44,
   "id": "9a9c5e87-fa09-4f3e-a184-e274b382a73c",
   "metadata": {},
   "outputs": [],
   "source": [
    "u = User()\n",
    "s = Student()"
   ]
  },
  {
   "cell_type": "code",
   "execution_count": 33,
   "id": "f710b9a3-e6db-4589-a79e-adc3e3bf97ef",
   "metadata": {},
   "outputs": [
    {
     "data": {
      "text/plain": [
       "'male'"
      ]
     },
     "execution_count": 33,
     "metadata": {},
     "output_type": "execute_result"
    }
   ],
   "source": [
    "u.gender"
   ]
  },
  {
   "cell_type": "code",
   "execution_count": 34,
   "id": "41cf3d21-6e18-4d8a-a1bf-51295a6c51eb",
   "metadata": {},
   "outputs": [
    {
     "data": {
      "text/plain": [
       "'tushar'"
      ]
     },
     "execution_count": 34,
     "metadata": {},
     "output_type": "execute_result"
    }
   ],
   "source": [
    "u._User__name"
   ]
  },
  {
   "cell_type": "code",
   "execution_count": 37,
   "id": "291e5a19-63ab-4d9c-b519-f2fd2fd8ddfb",
   "metadata": {},
   "outputs": [],
   "source": [
    "# s."
   ]
  },
  {
   "cell_type": "code",
   "execution_count": 38,
   "id": "447eed2c-8dfa-46c9-83d5-8a151570a1f8",
   "metadata": {},
   "outputs": [
    {
     "name": "stdout",
     "output_type": "stream",
     "text": [
      "enroll into the data science course \n"
     ]
    }
   ],
   "source": [
    "s.enroll()"
   ]
  },
  {
   "cell_type": "code",
   "execution_count": 64,
   "id": "fdc23ff9-4321-4aa6-ace3-e09dc3af4256",
   "metadata": {},
   "outputs": [],
   "source": [
    "class Phone:\n",
    "    def __init__(self, price, brand, ram):\n",
    "        print(\"aditya is my constructor\")\n",
    "        self.__price = price\n",
    "        self.__brand = brand\n",
    "        self.__ram = ram\n",
    "\n",
    "    def details(self):\n",
    "        print(self.__price)"
   ]
  },
  {
   "cell_type": "code",
   "execution_count": 65,
   "id": "290936a2-dd33-48b4-9f0c-1c76673708dc",
   "metadata": {},
   "outputs": [],
   "source": [
    "class Samsung(Phone):\n",
    "    pass"
   ]
  },
  {
   "cell_type": "code",
   "execution_count": 66,
   "id": "d02aea28-260c-4300-af89-c0ed85af6ff6",
   "metadata": {},
   "outputs": [
    {
     "name": "stdout",
     "output_type": "stream",
     "text": [
      "aditya is my constructor\n"
     ]
    }
   ],
   "source": [
    "P = Samsung(50000, 'samsung', '8gb')"
   ]
  },
  {
   "cell_type": "code",
   "execution_count": 67,
   "id": "6cec5794-e718-4be2-9d86-c60e376eaef3",
   "metadata": {},
   "outputs": [
    {
     "name": "stdout",
     "output_type": "stream",
     "text": [
      "50000\n"
     ]
    }
   ],
   "source": [
    "P.details()"
   ]
  },
  {
   "cell_type": "code",
   "execution_count": 79,
   "id": "1cff937b-1524-44b8-a085-945f5d273f92",
   "metadata": {},
   "outputs": [],
   "source": [
    "class Parent:\n",
    "    def __init__(self, num):\n",
    "        self.__num = num\n",
    "\n",
    "    def get_details(self, val,num):\n",
    "        return self.__num\n",
    "\n",
    "class Child(Parent):\n",
    "    def __init__(self, value1, num):\n",
    "        self.__val = value1\n",
    "\n",
    "    def get_value(self):\n",
    "        return self.__val"
   ]
  },
  {
   "cell_type": "code",
   "execution_count": 80,
   "id": "80fe95bc-7b38-400a-8e38-2a70b228585c",
   "metadata": {},
   "outputs": [],
   "source": [
    "son = Child(10, 20)"
   ]
  },
  {
   "cell_type": "code",
   "execution_count": 83,
   "id": "1731c1f5-7eb4-4f9b-9a4a-2d2b54cef89f",
   "metadata": {},
   "outputs": [
    {
     "data": {
      "text/plain": [
       "10"
      ]
     },
     "execution_count": 83,
     "metadata": {},
     "output_type": "execute_result"
    }
   ],
   "source": [
    "son.get_value()"
   ]
  },
  {
   "cell_type": "code",
   "execution_count": 84,
   "id": "a893f5da-8f75-4e28-acbc-0942e1d965e2",
   "metadata": {},
   "outputs": [
    {
     "ename": "SyntaxError",
     "evalue": "invalid syntax (2539272214.py, line 1)",
     "output_type": "error",
     "traceback": [
      "\u001b[1;36m  Cell \u001b[1;32mIn[84], line 1\u001b[1;36m\u001b[0m\n\u001b[1;33m    son.\u001b[0m\n\u001b[1;37m        ^\u001b[0m\n\u001b[1;31mSyntaxError\u001b[0m\u001b[1;31m:\u001b[0m invalid syntax\n"
     ]
    }
   ],
   "source": [
    "son."
   ]
  },
  {
   "cell_type": "code",
   "execution_count": 97,
   "id": "82b570ef-dafd-4333-9e8e-a9d2175d6329",
   "metadata": {},
   "outputs": [],
   "source": [
    "class A:\n",
    "    def __init__(self):\n",
    "        self.var = 100\n",
    "    def display(self, var):\n",
    "        print(\"class A : \", self.var)"
   ]
  },
  {
   "cell_type": "code",
   "execution_count": 98,
   "id": "0892a55b-9113-4d16-b283-354ddc0301f5",
   "metadata": {},
   "outputs": [],
   "source": [
    "class B(A):\n",
    "    def display(self, var):\n",
    "        print(\"class B :\", self.var)"
   ]
  },
  {
   "cell_type": "code",
   "execution_count": 99,
   "id": "24d93adb-e3be-45fd-93d0-f38454330161",
   "metadata": {},
   "outputs": [],
   "source": [
    "b = B()"
   ]
  },
  {
   "cell_type": "code",
   "execution_count": 100,
   "id": "3a51b5a5-96d5-4cb7-9d03-cd5af7654cf8",
   "metadata": {},
   "outputs": [
    {
     "data": {
      "text/plain": [
       "100"
      ]
     },
     "execution_count": 100,
     "metadata": {},
     "output_type": "execute_result"
    }
   ],
   "source": [
    "b.var"
   ]
  },
  {
   "cell_type": "code",
   "execution_count": 101,
   "id": "95c35640-68d8-4c17-9f28-387d11c572dd",
   "metadata": {},
   "outputs": [
    {
     "name": "stdout",
     "output_type": "stream",
     "text": [
      "class B : 100\n"
     ]
    }
   ],
   "source": [
    "b.display(200)"
   ]
  },
  {
   "cell_type": "code",
   "execution_count": 140,
   "id": "2401b3d8-bac6-4650-bf9a-0aeabb5062af",
   "metadata": {},
   "outputs": [],
   "source": [
    "class Phone:\n",
    "    def __init__(self, price1, brand1, ram1):\n",
    "        self.__price = price1\n",
    "        self.__brand = brand1\n",
    "        self.__ram = ram1\n",
    "\n",
    "    def display(self):\n",
    "        print(self.__price)\n",
    "\n",
    "class Samsung(Phone):\n",
    "    def __init__(self, price, brand, ram):\n",
    "        super().__init__(price, brand, ram)\n",
    "\n",
    "    def show(self):\n",
    "        super().display()\n"
   ]
  },
  {
   "cell_type": "code",
   "execution_count": 141,
   "id": "5ef670ca-e854-4499-b3e1-f3134265b1ed",
   "metadata": {},
   "outputs": [],
   "source": [
    "P = Samsung(1000, 'nokia', '500mb')"
   ]
  },
  {
   "cell_type": "code",
   "execution_count": 142,
   "id": "ddf92a86-b274-4edf-aad7-de778cd889d9",
   "metadata": {},
   "outputs": [
    {
     "name": "stdout",
     "output_type": "stream",
     "text": [
      "1000\n"
     ]
    }
   ],
   "source": [
    "P.display()"
   ]
  },
  {
   "cell_type": "code",
   "execution_count": 143,
   "id": "e6866a94-bd28-4fd4-a97f-804d98013e91",
   "metadata": {},
   "outputs": [
    {
     "name": "stdout",
     "output_type": "stream",
     "text": [
      "1000\n"
     ]
    }
   ],
   "source": [
    "P.show()"
   ]
  },
  {
   "cell_type": "code",
   "execution_count": null,
   "id": "6f4a51a9-75ba-4a48-bc38-af015aea02d2",
   "metadata": {},
   "outputs": [],
   "source": []
  }
 ],
 "metadata": {
  "kernelspec": {
   "display_name": "Python 3 (ipykernel)",
   "language": "python",
   "name": "python3"
  },
  "language_info": {
   "codemirror_mode": {
    "name": "ipython",
    "version": 3
   },
   "file_extension": ".py",
   "mimetype": "text/x-python",
   "name": "python",
   "nbconvert_exporter": "python",
   "pygments_lexer": "ipython3",
   "version": "3.12.7"
  }
 },
 "nbformat": 4,
 "nbformat_minor": 5
}
