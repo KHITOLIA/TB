{
 "cells": [
  {
   "cell_type": "code",
   "execution_count": 1,
   "id": "070d018a-6ded-4849-8d54-5981889fec65",
   "metadata": {},
   "outputs": [],
   "source": [
    "# Error Handling"
   ]
  },
  {
   "cell_type": "code",
   "execution_count": 2,
   "id": "ab6d295c-bbb3-4248-ad40-3f60d7fa832f",
   "metadata": {},
   "outputs": [],
   "source": [
    "# try and except"
   ]
  },
  {
   "cell_type": "code",
   "execution_count": 3,
   "id": "8c5d91a8-9b3c-43f9-abae-6307f8b3d540",
   "metadata": {},
   "outputs": [
    {
     "ename": "NameError",
     "evalue": "name 'a' is not defined",
     "output_type": "error",
     "traceback": [
      "\u001b[1;31m---------------------------------------------------------------------------\u001b[0m",
      "\u001b[1;31mNameError\u001b[0m                                 Traceback (most recent call last)",
      "Cell \u001b[1;32mIn[3], line 1\u001b[0m\n\u001b[1;32m----> 1\u001b[0m a\n",
      "\u001b[1;31mNameError\u001b[0m: name 'a' is not defined"
     ]
    }
   ],
   "source": [
    "a"
   ]
  },
  {
   "cell_type": "code",
   "execution_count": 4,
   "id": "b7381136-2420-4899-8b74-067c858917df",
   "metadata": {},
   "outputs": [],
   "source": [
    "def divider(a , b):\n",
    "    return a/b"
   ]
  },
  {
   "cell_type": "code",
   "execution_count": 5,
   "id": "080579e7-447e-4790-b0c7-0f2ed671989c",
   "metadata": {},
   "outputs": [
    {
     "name": "stdout",
     "output_type": "stream",
     "text": [
      "5.0\n"
     ]
    }
   ],
   "source": [
    "print(divider(10, 2))"
   ]
  },
  {
   "cell_type": "code",
   "execution_count": 6,
   "id": "19b266df-ce4c-4573-a47f-2350a8e5d066",
   "metadata": {},
   "outputs": [
    {
     "ename": "ZeroDivisionError",
     "evalue": "division by zero",
     "output_type": "error",
     "traceback": [
      "\u001b[1;31m---------------------------------------------------------------------------\u001b[0m",
      "\u001b[1;31mZeroDivisionError\u001b[0m                         Traceback (most recent call last)",
      "Cell \u001b[1;32mIn[6], line 1\u001b[0m\n\u001b[1;32m----> 1\u001b[0m \u001b[38;5;28mprint\u001b[39m(divider(\u001b[38;5;241m10\u001b[39m, \u001b[38;5;241m0\u001b[39m))\n",
      "Cell \u001b[1;32mIn[4], line 2\u001b[0m, in \u001b[0;36mdivider\u001b[1;34m(a, b)\u001b[0m\n\u001b[0;32m      1\u001b[0m \u001b[38;5;28;01mdef\u001b[39;00m \u001b[38;5;21mdivider\u001b[39m(a , b):\n\u001b[1;32m----> 2\u001b[0m     \u001b[38;5;28;01mreturn\u001b[39;00m a\u001b[38;5;241m/\u001b[39mb\n",
      "\u001b[1;31mZeroDivisionError\u001b[0m: division by zero"
     ]
    }
   ],
   "source": [
    "print(divider(10, 0))"
   ]
  },
  {
   "cell_type": "code",
   "execution_count": 7,
   "id": "719c14fa-03b3-4484-8ed1-224c326a1b8d",
   "metadata": {},
   "outputs": [],
   "source": [
    "l = [1, 2, 3]"
   ]
  },
  {
   "cell_type": "code",
   "execution_count": 8,
   "id": "18e9b58f-a1e6-4f45-b609-fd908a41567a",
   "metadata": {},
   "outputs": [
    {
     "ename": "IndexError",
     "evalue": "list index out of range",
     "output_type": "error",
     "traceback": [
      "\u001b[1;31m---------------------------------------------------------------------------\u001b[0m",
      "\u001b[1;31mIndexError\u001b[0m                                Traceback (most recent call last)",
      "Cell \u001b[1;32mIn[8], line 1\u001b[0m\n\u001b[1;32m----> 1\u001b[0m l[\u001b[38;5;241m4\u001b[39m]\n",
      "\u001b[1;31mIndexError\u001b[0m: list index out of range"
     ]
    }
   ],
   "source": [
    "l[4]"
   ]
  },
  {
   "cell_type": "code",
   "execution_count": null,
   "id": "14b19331-3152-4b20-9b59-deee7265ba38",
   "metadata": {},
   "outputs": [],
   "source": []
  }
 ],
 "metadata": {
  "kernelspec": {
   "display_name": "Python 3 (ipykernel)",
   "language": "python",
   "name": "python3"
  },
  "language_info": {
   "codemirror_mode": {
    "name": "ipython",
    "version": 3
   },
   "file_extension": ".py",
   "mimetype": "text/x-python",
   "name": "python",
   "nbconvert_exporter": "python",
   "pygments_lexer": "ipython3",
   "version": "3.12.7"
  }
 },
 "nbformat": 4,
 "nbformat_minor": 5
}
