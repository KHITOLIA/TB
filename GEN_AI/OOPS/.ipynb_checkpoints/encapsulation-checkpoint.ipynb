{
  "nbformat": 4,
  "nbformat_minor": 0,
  "metadata": {
    "colab": {
      "provenance": []
    },
    "kernelspec": {
      "name": "python3",
      "display_name": "Python 3"
    },
    "language_info": {
      "name": "python"
    }
  },
  "cells": [
    {
      "cell_type": "code",
      "execution_count": 1,
      "metadata": {
        "id": "u6oCQPtc79Vl"
      },
      "outputs": [],
      "source": [
        "class Person:\n",
        "  def __init__(self, name, age):\n",
        "    self.name = name\n",
        "    self.age = age\n",
        ""
      ]
    },
    {
      "cell_type": "code",
      "source": [
        "p1 = Person('Vansh', 20)\n",
        "q1 = p1"
      ],
      "metadata": {
        "id": "R6ikTj0G8Xbm"
      },
      "execution_count": 3,
      "outputs": []
    },
    {
      "cell_type": "code",
      "source": [
        "p1.name == q1.name"
      ],
      "metadata": {
        "id": "HWWLF2my9vv6",
        "colab": {
          "base_uri": "https://localhost:8080/"
        },
        "outputId": "33f366e2-3df7-478f-98a8-84a79dd8096d"
      },
      "execution_count": 4,
      "outputs": [
        {
          "output_type": "execute_result",
          "data": {
            "text/plain": [
              "True"
            ]
          },
          "metadata": {},
          "execution_count": 4
        }
      ]
    },
    {
      "cell_type": "code",
      "source": [
        "q1.name = 'Manish'\n"
      ],
      "metadata": {
        "id": "rqOSYbkBVgsg"
      },
      "execution_count": 7,
      "outputs": []
    },
    {
      "cell_type": "code",
      "source": [
        "p1.name == q1.name"
      ],
      "metadata": {
        "colab": {
          "base_uri": "https://localhost:8080/"
        },
        "id": "-2r1ddDDVktQ",
        "outputId": "c8fbeb35-d011-479e-e20b-d7be239cd955"
      },
      "execution_count": 8,
      "outputs": [
        {
          "output_type": "execute_result",
          "data": {
            "text/plain": [
              "True"
            ]
          },
          "metadata": {},
          "execution_count": 8
        }
      ]
    },
    {
      "cell_type": "code",
      "source": [
        "p1.name"
      ],
      "metadata": {
        "colab": {
          "base_uri": "https://localhost:8080/",
          "height": 35
        },
        "id": "5yEal8VXVmSR",
        "outputId": "35e9ff54-5b00-466c-b35a-0784306fa93e"
      },
      "execution_count": 9,
      "outputs": [
        {
          "output_type": "execute_result",
          "data": {
            "text/plain": [
              "'Manish'"
            ],
            "application/vnd.google.colaboratory.intrinsic+json": {
              "type": "string"
            }
          },
          "metadata": {},
          "execution_count": 9
        }
      ]
    },
    {
      "cell_type": "code",
      "source": [
        "q1.name"
      ],
      "metadata": {
        "colab": {
          "base_uri": "https://localhost:8080/",
          "height": 35
        },
        "id": "T1mol2LOVusS",
        "outputId": "65c2e3b9-4819-42b2-fbb0-1fb5bbd322b0"
      },
      "execution_count": 10,
      "outputs": [
        {
          "output_type": "execute_result",
          "data": {
            "text/plain": [
              "'Manish'"
            ],
            "application/vnd.google.colaboratory.intrinsic+json": {
              "type": "string"
            }
          },
          "metadata": {},
          "execution_count": 10
        }
      ]
    },
    {
      "cell_type": "code",
      "source": [
        "def greet(Person):\n",
        "  p1 = Person('Vansh', 20)\n",
        "  return p1"
      ],
      "metadata": {
        "id": "ZgcMeZOXVvlL"
      },
      "execution_count": 11,
      "outputs": []
    },
    {
      "cell_type": "code",
      "source": [
        "print(greet(Person))"
      ],
      "metadata": {
        "colab": {
          "base_uri": "https://localhost:8080/"
        },
        "id": "Q6ZRTEvpWUSZ",
        "outputId": "c42ecf81-0f22-4ae0-863f-61d19a5b3e5b"
      },
      "execution_count": 12,
      "outputs": [
        {
          "output_type": "stream",
          "name": "stdout",
          "text": [
            "<__main__.Person object at 0x79a189adbb60>\n"
          ]
        }
      ]
    },
    {
      "cell_type": "code",
      "source": [
        "class Atm:\n",
        "\n",
        "    def __init__(self):\n",
        "\n",
        "        self.pin = 0\n",
        "\n",
        "        self.balance = 0\n",
        "\n",
        "    def menu(self):\n",
        "\n",
        "        user_input = input('''enter your choice :\n",
        "\n",
        "        1. Press 1 to set your pin\n",
        "\n",
        "        2. Press 2 to change your pin\n",
        "\n",
        "        3. Press 3 to withdraw money\n",
        "\n",
        "        4. Press 4 to check balance\n",
        "\n",
        "        5. Type 'stop' to exit''')\n",
        "\n",
        "        if user_input == '1':\n",
        "\n",
        "            self.set_pin()\n",
        "\n",
        "        elif user_input == '2':\n",
        "\n",
        "            self.change_pin()\n",
        "\n",
        "        elif user_input == '3':\n",
        "\n",
        "            pass\n",
        "\n",
        "        elif user_input == '4':\n",
        "\n",
        "            self.check_balance()\n",
        "\n",
        "        elif user_input == 'stop':\n",
        "\n",
        "            pass\n",
        "\n",
        "    def set_pin(self):\n",
        "\n",
        "        user_pin = input(\" Please enter your pin :\")\n",
        "\n",
        "        self.pin = user_pin\n",
        "\n",
        "        user_balance = input(\"Please enter your balance : \")\n",
        "\n",
        "        self.balance = user_balance\n",
        "\n",
        "        print(\"Your pin has been generated !\")\n",
        "\n",
        "        self.menu()\n",
        "\n",
        "    def change_pin(self):\n",
        "\n",
        "        pin=input(\"Enter previous pin:\")\n",
        "\n",
        "        if(pin==self.pin):\n",
        "\n",
        "            newpin = input(\"Enter the pin\")\n",
        "\n",
        "            self.pin = newpin\n",
        "\n",
        "            print(\"pin has been changed\")\n",
        "\n",
        "        else:\n",
        "\n",
        "            print(\"can't change\")\n",
        "\n",
        "        self.menu()\n",
        "\n",
        "\n",
        "\n",
        "    def check_balance(self):\n",
        "\n",
        "        user_pin = input(\"Enter the pin\")\n",
        "\n",
        "        if user_pin == self.pin:\n",
        "\n",
        "            print(self.balance)\n",
        "\n",
        "        else:\n",
        "\n",
        "            print(\"Bhag yha te\")\n",
        "\n",
        "        self.menu()"
      ],
      "metadata": {
        "id": "XTmE3OfeWXv0"
      },
      "execution_count": 27,
      "outputs": []
    },
    {
      "cell_type": "code",
      "source": [
        "class Person:\n",
        "  def __init__(self, name, age):\n",
        "    self.name = name\n",
        "    self.age = age\n",
        "\n",
        "  def __str__(self):\n",
        "    return f\"hello my name is {self.name} and i'm {self.age} yr old\""
      ],
      "metadata": {
        "id": "8i5FW6c9Wluc"
      },
      "execution_count": 19,
      "outputs": []
    },
    {
      "cell_type": "code",
      "source": [
        "print(p1)"
      ],
      "metadata": {
        "colab": {
          "base_uri": "https://localhost:8080/"
        },
        "id": "N1gFuERkXC0W",
        "outputId": "aa7eae37-21e6-4ee3-c1f1-fd107adc8e6d"
      },
      "execution_count": 18,
      "outputs": [
        {
          "output_type": "stream",
          "name": "stdout",
          "text": [
            "<__main__.Person object at 0x79a1897f7740>\n"
          ]
        }
      ]
    },
    {
      "cell_type": "code",
      "source": [
        "p2 = Person(\"vansh\", 20)"
      ],
      "metadata": {
        "id": "j3FDxLPYXEW5"
      },
      "execution_count": 20,
      "outputs": []
    },
    {
      "cell_type": "code",
      "source": [
        "p2"
      ],
      "metadata": {
        "colab": {
          "base_uri": "https://localhost:8080/"
        },
        "id": "nPl1JiG3XL0f",
        "outputId": "025ff201-5164-4b45-cad1-4682fff48af6"
      },
      "execution_count": 21,
      "outputs": [
        {
          "output_type": "execute_result",
          "data": {
            "text/plain": [
              "<__main__.Person at 0x79a18982f740>"
            ]
          },
          "metadata": {},
          "execution_count": 21
        }
      ]
    },
    {
      "cell_type": "code",
      "source": [
        "print(p2)"
      ],
      "metadata": {
        "colab": {
          "base_uri": "https://localhost:8080/"
        },
        "id": "D91PwlAnXNwk",
        "outputId": "ae60e042-d0f6-443b-e40e-fa8ae4edd5e3"
      },
      "execution_count": 22,
      "outputs": [
        {
          "output_type": "stream",
          "name": "stdout",
          "text": [
            "hello my name is vansh and i'm 20 yr old\n"
          ]
        }
      ]
    },
    {
      "cell_type": "code",
      "source": [
        "class Fraction:\n",
        "  def __init__(self, num1, den1):\n",
        "    self.p1 = num1\n",
        "    self.q1 = den1\n",
        "\n",
        "  def __str__(self):\n",
        "    return f\"Fraction : {self.p1}/{self.q1}\"\n",
        "\n",
        "  def add(self,num2, den2):\n",
        "    num = self.p1*den2 + num2*self.q1\n",
        "    den = self.q1*den2\n",
        "    return f\"Addition of two fraction values : {num}/{den}\""
      ],
      "metadata": {
        "id": "e1c0uNztXOuE"
      },
      "execution_count": 32,
      "outputs": []
    },
    {
      "cell_type": "code",
      "source": [
        "p = Fraction(3, 2)\n",
        "print(p)"
      ],
      "metadata": {
        "colab": {
          "base_uri": "https://localhost:8080/"
        },
        "id": "RB0dAGTlX-TB",
        "outputId": "6b035795-9d60-47c4-a898-abe65f23dc53"
      },
      "execution_count": 33,
      "outputs": [
        {
          "output_type": "stream",
          "name": "stdout",
          "text": [
            "Fraction : 3/2\n"
          ]
        }
      ]
    },
    {
      "cell_type": "code",
      "source": [
        "p.add(5, 4)"
      ],
      "metadata": {
        "colab": {
          "base_uri": "https://localhost:8080/",
          "height": 35
        },
        "id": "uyYoPyXjYCyh",
        "outputId": "e5a60961-719c-4122-a115-90b4859539d4"
      },
      "execution_count": 34,
      "outputs": [
        {
          "output_type": "execute_result",
          "data": {
            "text/plain": [
              "'Addition of two fraction values : 22/8'"
            ],
            "application/vnd.google.colaboratory.intrinsic+json": {
              "type": "string"
            }
          },
          "metadata": {},
          "execution_count": 34
        }
      ]
    },
    {
      "cell_type": "code",
      "source": [
        "import numpy as np"
      ],
      "metadata": {
        "id": "AOU8RtIXfTEd"
      },
      "execution_count": 51,
      "outputs": []
    },
    {
      "cell_type": "code",
      "source": [
        "class Coordinate:\n",
        "  def __init__(self, x1, y1):\n",
        "    self.x1 = x1\n",
        "    self.y1 = y1\n",
        "\n",
        "  def __str__(self):\n",
        "    return f\"coordinate of point A{(self.x1, self.y1)}\"\n",
        "\n",
        "  def distance(self, x2, y2):\n",
        "    dist = np.sqrt(((x2 - self.x1)**2 + (y2 - self.y1)**2))\n",
        "    return f\"distance of A{(self.x1, self.y1)} from {(x2, y2)} = {dist}\""
      ],
      "metadata": {
        "id": "v23YYogrbEcW"
      },
      "execution_count": 52,
      "outputs": []
    },
    {
      "cell_type": "code",
      "source": [
        "A = Coordinate(3, 2)"
      ],
      "metadata": {
        "id": "yydBq5fxd4Pz"
      },
      "execution_count": 53,
      "outputs": []
    },
    {
      "cell_type": "code",
      "source": [
        "print(A)"
      ],
      "metadata": {
        "colab": {
          "base_uri": "https://localhost:8080/"
        },
        "id": "a4aYyCJgd8KV",
        "outputId": "832d2894-78e1-423d-86dd-df5e2e2125a1"
      },
      "execution_count": 54,
      "outputs": [
        {
          "output_type": "stream",
          "name": "stdout",
          "text": [
            "coordinate of point A(3, 2)\n"
          ]
        }
      ]
    },
    {
      "cell_type": "code",
      "source": [
        "A.distance(10, 2)"
      ],
      "metadata": {
        "colab": {
          "base_uri": "https://localhost:8080/",
          "height": 35
        },
        "id": "HLzKq8bPd893",
        "outputId": "433912c9-0403-40f9-e237-1aba7ba569b3"
      },
      "execution_count": 55,
      "outputs": [
        {
          "output_type": "execute_result",
          "data": {
            "text/plain": [
              "'distance of A(3, 2) from (10, 2) = 7.0'"
            ],
            "application/vnd.google.colaboratory.intrinsic+json": {
              "type": "string"
            }
          },
          "metadata": {},
          "execution_count": 55
        }
      ]
    },
    {
      "cell_type": "code",
      "source": [
        "# Encapsulation :"
      ],
      "metadata": {
        "id": "YwFjjo6wedaN"
      },
      "execution_count": 56,
      "outputs": []
    },
    {
      "cell_type": "code",
      "source": [
        "class Atm:\n",
        "\n",
        "    def __init__(self):\n",
        "\n",
        "        self.pin = 0\n",
        "\n",
        "        self.__balance = 0\n",
        "\n",
        "    def get_details(self):\n",
        "      return self.__balance\n",
        "\n",
        "    def set_details(self):\n",
        "\n",
        "      self.__balance = int(input(\"enter the\"))\n",
        "    def menu(self):\n",
        "\n",
        "        user_input = input('''enter your choice :\n",
        "\n",
        "        1. Press 1 to set your pin\n",
        "\n",
        "        2. Press 2 to change your pin\n",
        "\n",
        "        3. Press 3 to withdraw money\n",
        "\n",
        "        4. Press 4 to check balance\n",
        "\n",
        "        5. Type 'stop' to exit''')\n",
        "\n",
        "        if user_input == '1':\n",
        "\n",
        "            self.set_pin()\n",
        "\n",
        "        elif user_input == '2':\n",
        "\n",
        "            self.change_pin()\n",
        "\n",
        "        elif user_input == '3':\n",
        "\n",
        "            pass\n",
        "\n",
        "        elif user_input == '4':\n",
        "\n",
        "            self.check_balance()\n",
        "\n",
        "        elif user_input == 'stop':\n",
        "\n",
        "            pass\n",
        "\n",
        "    def set_pin(self):\n",
        "\n",
        "        user_pin = input(\" Please enter your pin :\")\n",
        "\n",
        "        self.pin = user_pin\n",
        "\n",
        "        user_balance = int(input(\"Please enter your balance : \"))\n",
        "\n",
        "        self.__balance = user_balance\n",
        "\n",
        "        print(\"Your pin has been generated !\")\n",
        "\n",
        "        self.menu()\n",
        "\n",
        "    def change_pin(self):\n",
        "\n",
        "        pin=input(\"Enter previous pin:\")\n",
        "\n",
        "        if(pin==self.pin):\n",
        "\n",
        "            newpin = input(\"Enter the pin\")\n",
        "\n",
        "            self.pin = newpin\n",
        "\n",
        "            print(\"pin has been changed\")\n",
        "\n",
        "        else:\n",
        "\n",
        "            print(\"can't change\")\n",
        "\n",
        "        self.menu()\n",
        "\n",
        "\n",
        "\n",
        "    def check_balance(self):\n",
        "\n",
        "        user_pin = input(\"Enter the pin\")\n",
        "\n",
        "        if user_pin == self.pin:\n",
        "\n",
        "            print(self.__balance)\n",
        "\n",
        "        else:\n",
        "\n",
        "            print(\"Bhag yha te\")\n",
        "\n",
        "        self.menu()\n",
        "\n",
        "    def __withdraw_money(self):\n",
        "      user_pin = input(\"enter your pin : \")\n",
        "      if user_pin == self.pin:\n",
        "        user_amount = int(input(\"enter the amount : \"))\n",
        "        if user_amount <= self.__balance:\n",
        "          self.__balance = self.__balance - user_amount\n",
        "          print(\"your balance = \", self.__balance)\n",
        "        else:\n",
        "          print(\"Insufficient balance\")\n",
        "      else:\n",
        "        print(\"chor ho aap\")"
      ],
      "metadata": {
        "id": "8RuLUW0WeklY"
      },
      "execution_count": 89,
      "outputs": []
    },
    {
      "cell_type": "code",
      "source": [
        "obj = Atm()"
      ],
      "metadata": {
        "id": "IvCgF9k7f4nv"
      },
      "execution_count": 90,
      "outputs": []
    },
    {
      "cell_type": "code",
      "source": [
        "obj.set_pin()"
      ],
      "metadata": {
        "colab": {
          "base_uri": "https://localhost:8080/"
        },
        "id": "azYALXqTgXy-",
        "outputId": "2783f544-acf1-4089-85bc-b8b05c3d1693"
      },
      "execution_count": 91,
      "outputs": [
        {
          "name": "stdout",
          "output_type": "stream",
          "text": [
            " Please enter your pin :123\n",
            "Please enter your balance : 10000\n",
            "Your pin has been generated !\n",
            "enter your choice : \n",
            "\n",
            "        1. Press 1 to set your pin\n",
            "\n",
            "        2. Press 2 to change your pin\n",
            "\n",
            "        3. Press 3 to withdraw money\n",
            "\n",
            "        4. Press 4 to check balance\n",
            "\n",
            "        5. Type 'stop' to exit0\n"
          ]
        }
      ]
    },
    {
      "cell_type": "code",
      "source": [
        "obj.balance = 'anirudh'"
      ],
      "metadata": {
        "id": "6W-9tqm5gdg9"
      },
      "execution_count": 92,
      "outputs": []
    },
    {
      "cell_type": "code",
      "source": [
        "obj.get_details()"
      ],
      "metadata": {
        "colab": {
          "base_uri": "https://localhost:8080/"
        },
        "id": "aAoU2mTzgqMB",
        "outputId": "32263a73-cde1-4a39-a407-24457d43f1ec"
      },
      "execution_count": 94,
      "outputs": [
        {
          "output_type": "execute_result",
          "data": {
            "text/plain": [
              "10000"
            ]
          },
          "metadata": {},
          "execution_count": 94
        }
      ]
    },
    {
      "cell_type": "code",
      "source": [],
      "metadata": {
        "id": "ikCEu8gqhNeB"
      },
      "execution_count": 88,
      "outputs": []
    },
    {
      "cell_type": "code",
      "source": [],
      "metadata": {
        "id": "hMUjHQ24iA_u"
      },
      "execution_count": 88,
      "outputs": []
    },
    {
      "cell_type": "code",
      "source": [],
      "metadata": {
        "id": "aR8pW9FgiIVn"
      },
      "execution_count": 88,
      "outputs": []
    }
  ]
}