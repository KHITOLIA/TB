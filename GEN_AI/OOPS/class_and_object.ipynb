{
 "cells": [
  {
   "cell_type": "code",
   "execution_count": 1,
   "id": "75aa0be9-fec7-4dfa-8266-2de6e2f39731",
   "metadata": {},
   "outputs": [],
   "source": [
    "# OOPS"
   ]
  },
  {
   "cell_type": "code",
   "execution_count": 2,
   "id": "7937d7c7-81a2-47c6-87ea-06789ade4784",
   "metadata": {},
   "outputs": [],
   "source": [
    "s = 'training basket'"
   ]
  },
  {
   "cell_type": "code",
   "execution_count": 3,
   "id": "2f97a105-29b2-477f-8168-e062bfda413b",
   "metadata": {},
   "outputs": [
    {
     "name": "stdout",
     "output_type": "stream",
     "text": [
      "<class 'str'>\n"
     ]
    }
   ],
   "source": [
    "print(type(s))"
   ]
  },
  {
   "cell_type": "code",
   "execution_count": 10,
   "id": "bf7b53d3-dc20-400a-9334-cb109e13717a",
   "metadata": {},
   "outputs": [
    {
     "data": {
      "text/plain": [
       "'rraining basker'"
      ]
     },
     "execution_count": 10,
     "metadata": {},
     "output_type": "execute_result"
    }
   ],
   "source": [
    "s.replace('t', 'r')"
   ]
  },
  {
   "cell_type": "code",
   "execution_count": 5,
   "id": "b29e0f46-16f9-4637-8227-c929fab2db8e",
   "metadata": {},
   "outputs": [],
   "source": [
    "l = [1, 3, 4, 5]"
   ]
  },
  {
   "cell_type": "code",
   "execution_count": 6,
   "id": "b98102c9-0819-4841-8b21-15f729e0c1b0",
   "metadata": {},
   "outputs": [
    {
     "name": "stdout",
     "output_type": "stream",
     "text": [
      "<class 'list'>\n"
     ]
    }
   ],
   "source": [
    "print(type(l))"
   ]
  },
  {
   "cell_type": "code",
   "execution_count": 11,
   "id": "5ae428e4-8b06-491a-9083-402a3478145e",
   "metadata": {},
   "outputs": [],
   "source": [
    "l.append(2)"
   ]
  },
  {
   "cell_type": "code",
   "execution_count": 12,
   "id": "8a1020e8-6be3-4f99-8286-d55d8172703c",
   "metadata": {},
   "outputs": [
    {
     "data": {
      "text/plain": [
       "[1, 3, 4, 5, 2]"
      ]
     },
     "execution_count": 12,
     "metadata": {},
     "output_type": "execute_result"
    }
   ],
   "source": [
    "l"
   ]
  },
  {
   "cell_type": "code",
   "execution_count": 13,
   "id": "afc2d72c-4cdb-4b75-848a-7284c68575c1",
   "metadata": {},
   "outputs": [],
   "source": [
    "d = {}"
   ]
  },
  {
   "cell_type": "code",
   "execution_count": 16,
   "id": "3c50605c-42a4-4405-83d7-b8300a54c853",
   "metadata": {},
   "outputs": [],
   "source": [
    "class Person:\n",
    "    pass"
   ]
  },
  {
   "cell_type": "code",
   "execution_count": 17,
   "id": "522b5cf4-2932-4f25-ae4a-d79834e4dfd5",
   "metadata": {},
   "outputs": [],
   "source": [
    "l = list()"
   ]
  },
  {
   "cell_type": "code",
   "execution_count": 18,
   "id": "33cb1335-f27b-4b98-8dca-14c91e7082f5",
   "metadata": {},
   "outputs": [
    {
     "data": {
      "text/plain": [
       "[]"
      ]
     },
     "execution_count": 18,
     "metadata": {},
     "output_type": "execute_result"
    }
   ],
   "source": [
    "l"
   ]
  },
  {
   "cell_type": "code",
   "execution_count": 19,
   "id": "8b835257-ccb4-45fe-9c22-96e63a0b44c6",
   "metadata": {},
   "outputs": [],
   "source": [
    "l = []"
   ]
  },
  {
   "cell_type": "code",
   "execution_count": 20,
   "id": "a2e1281f-87e1-4cfa-81af-d51dc2de992a",
   "metadata": {},
   "outputs": [],
   "source": [
    "p1 = Person()"
   ]
  },
  {
   "cell_type": "code",
   "execution_count": 21,
   "id": "c0dab233-8e1c-4c2a-a3f4-1c3c587ce0e5",
   "metadata": {},
   "outputs": [
    {
     "name": "stdout",
     "output_type": "stream",
     "text": [
      "<class '__main__.Person'>\n"
     ]
    }
   ],
   "source": [
    "print(type(p1))"
   ]
  },
  {
   "cell_type": "code",
   "execution_count": 22,
   "id": "fe035fed-839c-4fec-9dd9-27ea934a60ba",
   "metadata": {},
   "outputs": [
    {
     "data": {
      "text/plain": [
       "<__main__.Person at 0x2190ebe0aa0>"
      ]
     },
     "execution_count": 22,
     "metadata": {},
     "output_type": "execute_result"
    }
   ],
   "source": [
    "Person()"
   ]
  },
  {
   "cell_type": "code",
   "execution_count": 32,
   "id": "429c1ebb-51c0-4f14-8f40-3fd1fae31681",
   "metadata": {},
   "outputs": [],
   "source": [
    "class Person:\n",
    "    def show(self,name,age):\n",
    "        print(id(self))\n",
    "        print(f\"hello my name is {name} and i'm {age}yr old\")"
   ]
  },
  {
   "cell_type": "code",
   "execution_count": 33,
   "id": "69de6a24-ed2f-41ab-88a7-ee60775d8108",
   "metadata": {},
   "outputs": [],
   "source": [
    "p1 = Person()"
   ]
  },
  {
   "cell_type": "code",
   "execution_count": 34,
   "id": "4e8f659f-84ac-4ba1-92ab-58c23a32ade9",
   "metadata": {},
   "outputs": [
    {
     "name": "stdout",
     "output_type": "stream",
     "text": [
      "2306664995568\n",
      "hello my name is vansh and i'm 30yr old\n"
     ]
    },
    {
     "data": {
      "text/plain": [
       "2306664995568"
      ]
     },
     "execution_count": 34,
     "metadata": {},
     "output_type": "execute_result"
    }
   ],
   "source": [
    "p1.show('vansh', 30)\n",
    "id(p1)"
   ]
  },
  {
   "cell_type": "code",
   "execution_count": 28,
   "id": "35ffd306-f346-410a-a2aa-5ad478186fb2",
   "metadata": {},
   "outputs": [
    {
     "data": {
      "text/plain": [
       "2306660844992"
      ]
     },
     "execution_count": 28,
     "metadata": {},
     "output_type": "execute_result"
    }
   ],
   "source": [
    "id(p1)"
   ]
  },
  {
   "cell_type": "code",
   "execution_count": 35,
   "id": "f4dc21da-9672-440d-80bd-f2a4f942291f",
   "metadata": {},
   "outputs": [],
   "source": [
    "class Person:    \n",
    "    def __init__(self,name,age): # Dunder methods/ constructor\n",
    "        print(id(self))\n",
    "        print(f\"hello my name is {name} and i'm {age}yr old\")"
   ]
  },
  {
   "cell_type": "code",
   "execution_count": 37,
   "id": "a4bc2dcb-57f5-44b8-a2f2-54a7ba899d75",
   "metadata": {},
   "outputs": [
    {
     "name": "stdout",
     "output_type": "stream",
     "text": [
      "2306665532736\n",
      "hello my name is vansh and i'm 30yr old\n"
     ]
    }
   ],
   "source": [
    "p1 = Person('vansh', 30)"
   ]
  },
  {
   "cell_type": "code",
   "execution_count": 45,
   "id": "8edc58e8-c3a9-496e-ae8b-672840d8db7b",
   "metadata": {},
   "outputs": [],
   "source": [
    "class Person:\n",
    "    def __init__(self, name_person):\n",
    "        self.name = name_person # instance variable\n",
    "        # print(name_person)"
   ]
  },
  {
   "cell_type": "code",
   "execution_count": 46,
   "id": "7ddd49fa-6881-4b77-923f-0a0bf653c7ed",
   "metadata": {},
   "outputs": [],
   "source": [
    "p1 = Person('Vansh')"
   ]
  },
  {
   "cell_type": "code",
   "execution_count": 43,
   "id": "fdb9eadd-232d-4e9e-b4d1-a08d0bf7ecb2",
   "metadata": {},
   "outputs": [
    {
     "name": "stdout",
     "output_type": "stream",
     "text": [
      "ANIRUDH\n"
     ]
    }
   ],
   "source": [
    "p2 = Person('ANIRUDH')"
   ]
  },
  {
   "cell_type": "code",
   "execution_count": 47,
   "id": "1fa7cc39-4b2f-4d18-ad3c-bb682d236b35",
   "metadata": {},
   "outputs": [
    {
     "data": {
      "text/plain": [
       "'Vansh'"
      ]
     },
     "execution_count": 47,
     "metadata": {},
     "output_type": "execute_result"
    }
   ],
   "source": [
    "p1.name"
   ]
  },
  {
   "cell_type": "code",
   "execution_count": 50,
   "id": "9bb2fb6b-01e5-49fe-8952-5beacc252b7e",
   "metadata": {},
   "outputs": [
    {
     "data": {
      "text/plain": [
       "'ANIRUDH'"
      ]
     },
     "execution_count": 50,
     "metadata": {},
     "output_type": "execute_result"
    }
   ],
   "source": [
    "p2.name"
   ]
  },
  {
   "cell_type": "code",
   "execution_count": 2,
   "id": "dc897534-0093-40cc-8fad-cbbce30e4aa9",
   "metadata": {},
   "outputs": [],
   "source": [
    "class Atm:\n",
    "    def __init__(self):\n",
    "        self.pin = 0\n",
    "        self.balance = 0\n",
    "        self.menu()\n",
    "\n",
    "    def menu(self):\n",
    "        user_input = input('''enter your choice : \n",
    "        1. Press 1 to set your pin\n",
    "        2. Press 2 to change your pin\n",
    "        3. Press 3 to withdraw money\n",
    "        4. Press 4 to check balance\n",
    "        5. Type 'stop' to exit''')\n",
    "        if user_input == '1':\n",
    "            self.set_pin()\n",
    "        elif user_input == '2':\n",
    "            self.change_pin()\n",
    "        elif user_input == '3':\n",
    "            pass\n",
    "        elif user_input == '4':\n",
    "            pass\n",
    "        elif user_input == 'stop':\n",
    "            pass\n",
    "\n",
    "    def set_pin(self):\n",
    "        user_pin = input(\" Please enter your pin :\")\n",
    "        self.pin = user_pin\n",
    "\n",
    "        user_balance = input(\"Please enter your balance : \")\n",
    "        self.balance = user_balance\n",
    "        print(\"Your pin has been generated !\")\n",
    "        self.menu()\n",
    "\n",
    "    def change_pin(self):\n",
    "        user_pin = input(\" Please enter your old pin :\")\n",
    "        if user_pin == self.pin:\n",
    "            new_pin = input(\" Please enter your new pin :\")\n",
    "            self.pin = new_pin\n",
    "        else:\n",
    "            print(\"You are authorized to change pin!\")\n",
    "        self.menu()"
   ]
  },
  {
   "cell_type": "code",
   "execution_count": 94,
   "id": "1c3c3809-496f-481d-b174-f79f99315080",
   "metadata": {},
   "outputs": [
    {
     "name": "stdin",
     "output_type": "stream",
     "text": [
      "enter your choice : \n",
      "        1. Press 1 to set your pin\n",
      "        2. Press 2 to change your pin\n",
      "        3. Press 3 to withdraw money\n",
      "        4. Press 4 to check balance\n",
      "        5. Type 'stop' to exit stop\n"
     ]
    }
   ],
   "source": [
    "p1 = Atm()"
   ]
  },
  {
   "cell_type": "code",
   "execution_count": 91,
   "id": "703532b5-7a5b-4f7f-884a-83954c9717ea",
   "metadata": {},
   "outputs": [
    {
     "data": {
      "text/plain": [
       "'0987'"
      ]
     },
     "execution_count": 91,
     "metadata": {},
     "output_type": "execute_result"
    }
   ],
   "source": [
    "p1.pin\n",
    "# p1.balance"
   ]
  },
  {
   "cell_type": "code",
   "execution_count": 83,
   "id": "38e174db-f0cf-407c-872a-a46384f73f35",
   "metadata": {},
   "outputs": [
    {
     "name": "stdin",
     "output_type": "stream",
     "text": [
      "enter your choice : \n",
      "        1. Press 1 to set your pin\n",
      "        2. Press 2 to change your pin\n",
      "        3. Press 3 to withdraw money\n",
      "        4. Press 4 to check balance\n",
      "        5. Type 'stop' to exit 1\n",
      " Please enter your pin : 1234\n",
      "Please enter your balance :  10000\n"
     ]
    },
    {
     "name": "stdout",
     "output_type": "stream",
     "text": [
      "Your pin has been generated !\n"
     ]
    }
   ],
   "source": [
    "p1.menu()"
   ]
  },
  {
   "cell_type": "code",
   "execution_count": 77,
   "id": "4079e70a-f16b-4221-a969-b1707691f169",
   "metadata": {},
   "outputs": [
    {
     "data": {
      "text/plain": [
       "'1234'"
      ]
     },
     "execution_count": 77,
     "metadata": {},
     "output_type": "execute_result"
    }
   ],
   "source": [
    "p1.pin"
   ]
  },
  {
   "cell_type": "code",
   "execution_count": 78,
   "id": "62b37c55-8cd4-4c83-9823-9de895d768ac",
   "metadata": {},
   "outputs": [
    {
     "data": {
      "text/plain": [
       "'10000'"
      ]
     },
     "execution_count": 78,
     "metadata": {},
     "output_type": "execute_result"
    }
   ],
   "source": [
    "p1.balance"
   ]
  },
  {
   "cell_type": "code",
   "execution_count": 71,
   "id": "41e6f4d0-f82d-4e59-8344-012df8efb2ca",
   "metadata": {},
   "outputs": [
    {
     "ename": "NameError",
     "evalue": "name 'append' is not defined",
     "output_type": "error",
     "traceback": [
      "\u001b[1;31m---------------------------------------------------------------------------\u001b[0m",
      "\u001b[1;31mNameError\u001b[0m                                 Traceback (most recent call last)",
      "Cell \u001b[1;32mIn[71], line 1\u001b[0m\n\u001b[1;32m----> 1\u001b[0m append(\u001b[38;5;241m10\u001b[39m)\u001b[38;5;241m.\u001b[39mpop()\n",
      "\u001b[1;31mNameError\u001b[0m: name 'append' is not defined"
     ]
    }
   ],
   "source": [
    "append(10).pop()"
   ]
  },
  {
   "cell_type": "code",
   "execution_count": null,
   "id": "5dcb0169-5f3f-4cf9-ae73-674a3a665635",
   "metadata": {},
   "outputs": [],
   "source": []
  }
 ],
 "metadata": {
  "kernelspec": {
   "display_name": "Python 3 (ipykernel)",
   "language": "python",
   "name": "python3"
  },
  "language_info": {
   "codemirror_mode": {
    "name": "ipython",
    "version": 3
   },
   "file_extension": ".py",
   "mimetype": "text/x-python",
   "name": "python",
   "nbconvert_exporter": "python",
   "pygments_lexer": "ipython3",
   "version": "3.12.7"
  }
 },
 "nbformat": 4,
 "nbformat_minor": 5
}
