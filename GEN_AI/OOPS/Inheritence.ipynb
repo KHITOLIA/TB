{
 "cells": [
  {
   "cell_type": "markdown",
   "id": "c99dbb24-d334-4dc6-bed0-7976c5dc4279",
   "metadata": {},
   "source": [
    "# Q-1: Rectangle Class\n",
    "\n",
    "1. Write a Rectangle class in Python language, allowing you to build a rectangle with length and width attributes.\n",
    "\n",
    "2. Create a Perimeter() method to calculate the perimeter of the rectangle and a Area() method to calculate the area of ​​the rectangle.\n",
    "\n",
    "3. Create a method display() that display the length, width, perimeter and area of an object created using an instantiation on rectangle class"
   ]
  },
  {
   "cell_type": "code",
   "execution_count": 21,
   "id": "7d3cb4a5-b591-4494-9fe7-1bfaf9a7a745",
   "metadata": {},
   "outputs": [],
   "source": [
    "class Rectangle:\n",
    "\n",
    "    def __init__(self,l,b):\n",
    "\n",
    "        self.length=l\n",
    "        self.width=b\n",
    "        self.display()\n",
    "    def perimeter(self):\n",
    "        self.perimeter=2*(self.length+self.width)\n",
    "        return self.perimeter\n",
    "    \n",
    "    def area(self):\n",
    "\n",
    "        self.area=self.length*self.width\n",
    "        return self.area\n",
    "\n",
    "    def display(self):\n",
    "        perimeter = self.perimeter()\n",
    "        area = self.area()\n",
    "        print(f\"{self.length}, width={self.width}, perimeter={perimeter}, area = {area}\")"
   ]
  },
  {
   "cell_type": "code",
   "execution_count": 23,
   "id": "3145b3bf-77fb-4326-b9aa-75b9137fdea7",
   "metadata": {},
   "outputs": [
    {
     "name": "stdout",
     "output_type": "stream",
     "text": [
      "398763, width=4993299, perimeter=10784124, area = 1991142889137\n",
      "Execution time : 0.0\n"
     ]
    }
   ],
   "source": [
    "import time\n",
    "start = time.time()\n",
    "obj = Rectangle(398763, 4993299)\n",
    "print(f\"Execution time : {start-time.time()}\")"
   ]
  },
  {
   "cell_type": "code",
   "execution_count": 28,
   "id": "7cf95f80-a8b6-446b-8182-8a41a34cb96d",
   "metadata": {},
   "outputs": [
    {
     "name": "stdout",
     "output_type": "stream",
     "text": [
      "Execution time : 2.12838077545166\n"
     ]
    }
   ],
   "source": [
    "start = time.time()\n",
    "l = []\n",
    "for i in range(100000, 200000):\n",
    "    l.append(i)\n",
    "print(f\"Execution time : {time.time()-start}\")"
   ]
  },
  {
   "cell_type": "code",
   "execution_count": null,
   "id": "6cfd248d-2db3-4484-88f0-2aa7418f93dd",
   "metadata": {},
   "outputs": [],
   "source": []
  },
  {
   "cell_type": "code",
   "execution_count": 61,
   "id": "d9e04ca4-5e72-4901-8863-4218ac28cc91",
   "metadata": {},
   "outputs": [],
   "source": [
    "class Atm:\n",
    "    c = 1\n",
    "    def __init__(self):\n",
    "\n",
    "        self.pin = 0\n",
    "        self.cid = Atm.c\n",
    "        Atm.c = Atm.c + 1\n",
    "        self.__balance = 0\n",
    "\n",
    "    @staticmethod\n",
    "    def get_static_variable():\n",
    "        return Atm.c\n",
    "    \n",
    "    def get_details(self):\n",
    "      return self.__balance\n",
    "\n",
    "    def set_details(self):\n",
    "\n",
    "      self.__balance = int(input(\"enter the\"))\n",
    "    def menu(self):\n",
    "\n",
    "        user_input = input('''enter your choice :\n",
    "\n",
    "        1. Press 1 to set your pin\n",
    "\n",
    "        2. Press 2 to change your pin\n",
    "\n",
    "        3. Press 3 to withdraw money\n",
    "\n",
    "        4. Press 4 to check balance\n",
    "\n",
    "        5. Type 'stop' to exit''')\n",
    "\n",
    "        if user_input == '1':\n",
    "\n",
    "            self.set_pin()\n",
    "\n",
    "        elif user_input == '2':\n",
    "\n",
    "            self.change_pin()\n",
    "\n",
    "        elif user_input == '3':\n",
    "\n",
    "            pass\n",
    "\n",
    "        elif user_input == '4':\n",
    "\n",
    "            self.check_balance()\n",
    "\n",
    "        elif user_input == 'stop':\n",
    "\n",
    "            pass\n",
    "\n",
    "    def set_pin(self):\n",
    "\n",
    "        user_pin = input(\" Please enter your pin :\")\n",
    "\n",
    "        self.pin = user_pin\n",
    "\n",
    "        user_balance = int(input(\"Please enter your balance : \"))\n",
    "\n",
    "        self.__balance = user_balance\n",
    "\n",
    "        print(\"Your pin has been generated !\")\n",
    "\n",
    "        self.menu()\n",
    "\n",
    "    def change_pin(self):\n",
    "\n",
    "        pin=input(\"Enter previous pin:\")\n",
    "\n",
    "        if(pin==self.pin):\n",
    "\n",
    "            newpin = input(\"Enter the pin\")\n",
    "\n",
    "            self.pin = newpin\n",
    "\n",
    "            print(\"pin has been changed\")\n",
    "\n",
    "        else:\n",
    "\n",
    "            print(\"can't change\")\n",
    "\n",
    "        self.menu()\n",
    "\n",
    "\n",
    "\n",
    "    def check_balance(self):\n",
    "\n",
    "        user_pin = input(\"Enter the pin\")\n",
    "\n",
    "        if user_pin == self.pin:\n",
    "\n",
    "            print(self.__balance)\n",
    "\n",
    "        else:\n",
    "\n",
    "            print(\"Bhag yha te\")\n",
    "\n",
    "        self.menu()\n",
    "\n",
    "    def __withdraw_money(self):\n",
    "      user_pin = input(\"enter your pin : \")\n",
    "      if user_pin == self.pin:\n",
    "        user_amount = int(input(\"enter the amount : \"))\n",
    "        if user_amount <= self.__balance:\n",
    "          self.__balance = self.__balance - user_amount\n",
    "          print(\"your balance = \", self.__balance)\n",
    "        else:\n",
    "          print(\"Insufficient balance\")\n",
    "      else:\n",
    "        print(\"chor ho aap\")"
   ]
  },
  {
   "cell_type": "code",
   "execution_count": 62,
   "id": "d694c992-038d-4f1e-b5df-b98653de2a93",
   "metadata": {},
   "outputs": [
    {
     "data": {
      "text/plain": [
       "1"
      ]
     },
     "execution_count": 62,
     "metadata": {},
     "output_type": "execute_result"
    }
   ],
   "source": [
    "obj = Atm()\n",
    "obj.cid"
   ]
  },
  {
   "cell_type": "code",
   "execution_count": 63,
   "id": "d77691f3-da47-4162-8741-cb17026510db",
   "metadata": {},
   "outputs": [
    {
     "data": {
      "text/plain": [
       "2"
      ]
     },
     "execution_count": 63,
     "metadata": {},
     "output_type": "execute_result"
    }
   ],
   "source": [
    "obj1 = Atm()\n",
    "obj1.cid"
   ]
  },
  {
   "cell_type": "code",
   "execution_count": 64,
   "id": "2e1fee54-149b-4b4a-801b-6723a5eb7e8d",
   "metadata": {},
   "outputs": [
    {
     "data": {
      "text/plain": [
       "3"
      ]
     },
     "execution_count": 64,
     "metadata": {},
     "output_type": "execute_result"
    }
   ],
   "source": [
    "obj.get_static_variable()"
   ]
  },
  {
   "cell_type": "code",
   "execution_count": 84,
   "id": "368a2abb-dc5e-4853-a58e-c325ebfdeb00",
   "metadata": {},
   "outputs": [],
   "source": [
    "class Parent:\n",
    "    def __init__(self, name , age):\n",
    "        self.__name = name\n",
    "        self.age = age\n",
    "    def __str__(self):\n",
    "        return f\"my name is {self.__name} and {self.age} yr old\"\n",
    "\n",
    "class Child(Parent):\n",
    "   pass\n",
    "        "
   ]
  },
  {
   "cell_type": "code",
   "execution_count": 85,
   "id": "023fcbe5-f8f4-4811-9ef1-9fbe2e05d154",
   "metadata": {},
   "outputs": [],
   "source": [
    "P = Parent('Manish', 34)"
   ]
  },
  {
   "cell_type": "code",
   "execution_count": 86,
   "id": "b60373e6-c00b-47d4-a50b-1c3f5af26c67",
   "metadata": {},
   "outputs": [
    {
     "name": "stdout",
     "output_type": "stream",
     "text": [
      "my name is Manish and 34 yr old\n"
     ]
    }
   ],
   "source": [
    "print(P)"
   ]
  },
  {
   "cell_type": "code",
   "execution_count": 87,
   "id": "ad39de93-f549-44bd-8694-2817f2a757f8",
   "metadata": {},
   "outputs": [],
   "source": [
    "C = Child('chota manish', 10)"
   ]
  },
  {
   "cell_type": "code",
   "execution_count": 88,
   "id": "1f05d782-f92d-430c-8e39-f1d0952db9f6",
   "metadata": {},
   "outputs": [
    {
     "name": "stdout",
     "output_type": "stream",
     "text": [
      "my name is chota manish and 10 yr old\n"
     ]
    },
    {
     "data": {
      "text/plain": [
       "10"
      ]
     },
     "execution_count": 88,
     "metadata": {},
     "output_type": "execute_result"
    }
   ],
   "source": [
    "print(C)\n",
    "C.age"
   ]
  },
  {
   "cell_type": "code",
   "execution_count": 103,
   "id": "9cab6d26-52d7-4b47-8d86-b885f419b411",
   "metadata": {},
   "outputs": [],
   "source": [
    "class Parent:\n",
    "    def __init__(self, name , age):\n",
    "        self.name = name\n",
    "        self.age = age\n",
    "   \n",
    "class Child(Parent):\n",
    "   def __init__(self, name):\n",
    "       self.name = name\n",
    "    \n",
    "        "
   ]
  },
  {
   "cell_type": "code",
   "execution_count": 99,
   "id": "bc3dc3c5-b20c-41a7-9dfa-f5599ce7520e",
   "metadata": {},
   "outputs": [],
   "source": [
    "P = Parent('Manish', 34)"
   ]
  },
  {
   "cell_type": "code",
   "execution_count": 102,
   "id": "0c5a84cf-2679-4e47-9c83-38bb871b0b94",
   "metadata": {},
   "outputs": [],
   "source": [
    "C = Child('chota manish')"
   ]
  },
  {
   "cell_type": "code",
   "execution_count": 96,
   "id": "42020734-8fd5-4a3a-892d-563e0e16ebf8",
   "metadata": {},
   "outputs": [
    {
     "name": "stdout",
     "output_type": "stream",
     "text": [
      "<__main__.Parent object at 0x0000023CA23CBB60>\n"
     ]
    }
   ],
   "source": [
    "print(P)"
   ]
  },
  {
   "cell_type": "code",
   "execution_count": 97,
   "id": "91491ca8-2c6e-43b9-a097-67b060efeda9",
   "metadata": {},
   "outputs": [
    {
     "name": "stdout",
     "output_type": "stream",
     "text": [
      "<__main__.Child object at 0x0000023CA23C8110>\n"
     ]
    }
   ],
   "source": [
    "print(C)"
   ]
  },
  {
   "cell_type": "code",
   "execution_count": 104,
   "id": "08726b05-2c4d-45e9-a9e4-3af23bc62b58",
   "metadata": {},
   "outputs": [
    {
     "data": {
      "text/plain": [
       "<__main__.Child at 0x23ca23caf60>"
      ]
     },
     "execution_count": 104,
     "metadata": {},
     "output_type": "execute_result"
    }
   ],
   "source": [
    "C"
   ]
  },
  {
   "cell_type": "code",
   "execution_count": 124,
   "id": "d476f618-68d0-4547-b674-60046900b7e6",
   "metadata": {},
   "outputs": [
    {
     "name": "stdout",
     "output_type": "stream",
     "text": [
      "New Phone in the market\n"
     ]
    }
   ],
   "source": [
    "class Phone:\n",
    "    def __init__(self, price, brand, camera):\n",
    "        print(\"New Phone in the market\")\n",
    "        self.__price = price\n",
    "        self.brand = brand\n",
    "        self.camera = camera\n",
    "\n",
    "    def get_details(self):\n",
    "        return self.__price\n",
    "\n",
    "class Smartphone(Phone):\n",
    "    def check(self):\n",
    "        print(self.get_details())\n",
    "        \n",
    "s = Smartphone(70000, 'Apple', '50MP')"
   ]
  },
  {
   "cell_type": "code",
   "execution_count": 125,
   "id": "45a1c201-a5d5-4595-a38d-a348700448ec",
   "metadata": {},
   "outputs": [
    {
     "data": {
      "text/plain": [
       "'Apple'"
      ]
     },
     "execution_count": 125,
     "metadata": {},
     "output_type": "execute_result"
    }
   ],
   "source": [
    "s.brand"
   ]
  },
  {
   "cell_type": "code",
   "execution_count": 126,
   "id": "f6555ea6-44ab-4015-aedf-8336cde6fe70",
   "metadata": {},
   "outputs": [
    {
     "data": {
      "text/plain": [
       "'50MP'"
      ]
     },
     "execution_count": 126,
     "metadata": {},
     "output_type": "execute_result"
    }
   ],
   "source": [
    "s.camera"
   ]
  },
  {
   "cell_type": "code",
   "execution_count": 127,
   "id": "9800cd01-1d6c-4288-9f9c-c1e7b2675c15",
   "metadata": {},
   "outputs": [
    {
     "data": {
      "text/plain": [
       "70000"
      ]
     },
     "execution_count": 127,
     "metadata": {},
     "output_type": "execute_result"
    }
   ],
   "source": [
    "s.get_details()"
   ]
  },
  {
   "cell_type": "code",
   "execution_count": 128,
   "id": "29e4fede-8b8a-441e-ae4b-d52caf381097",
   "metadata": {},
   "outputs": [
    {
     "name": "stdout",
     "output_type": "stream",
     "text": [
      "70000\n"
     ]
    }
   ],
   "source": [
    "s.check()"
   ]
  },
  {
   "cell_type": "code",
   "execution_count": 156,
   "id": "f89d2b7e-b32f-4b61-a173-4aa734c2a7db",
   "metadata": {},
   "outputs": [],
   "source": [
    "class Parent:\n",
    "    def __init__(self, num):\n",
    "        self.num = num\n",
    "\n",
    "    def get_num(self):\n",
    "        print(\"parent\")\n",
    "        print(self.num)\n",
    "\n",
    "class Child(Parent):\n",
    "        \n",
    "    def get_num(self):\n",
    "        print(\"child\")\n",
    "        print(self.num)"
   ]
  },
  {
   "cell_type": "code",
   "execution_count": 154,
   "id": "dd7a93e0-06a2-4a18-bfb9-943b2b54e5dd",
   "metadata": {},
   "outputs": [],
   "source": [
    "parent = Parent(1000)\n",
    "son = Child(100)"
   ]
  },
  {
   "cell_type": "code",
   "execution_count": 155,
   "id": "9f44ab56-72fc-41e6-9c1f-940f5d1bb404",
   "metadata": {},
   "outputs": [
    {
     "name": "stdout",
     "output_type": "stream",
     "text": [
      "child\n",
      "100\n"
     ]
    }
   ],
   "source": [
    "son.get_num()\n"
   ]
  },
  {
   "cell_type": "code",
   "execution_count": 144,
   "id": "5d673d5f-984a-4581-bd93-0019150cc8c9",
   "metadata": {},
   "outputs": [
    {
     "name": "stdout",
     "output_type": "stream",
     "text": [
      "10\n"
     ]
    }
   ],
   "source": [
    "son.get_num()"
   ]
  },
  {
   "cell_type": "code",
   "execution_count": 171,
   "id": "11195249-25a3-4e4a-9787-a0e32e92e814",
   "metadata": {},
   "outputs": [],
   "source": [
    "class Phone:\n",
    "    def __init__(self, price, brand, camera):\n",
    "        print(\"New phone : \")\n",
    "        self.price = price\n",
    "        self.brand = brand\n",
    "        self.camera = camera\n",
    "\n",
    "    def buy(self):\n",
    "        print(\"Buying a phone\")\n",
    "\n",
    "class Smartphone(Phone):\n",
    "    def __init__(self, price, brand, camera, os, ram):\n",
    "        print(\"Smartphone : purchased\")\n",
    "        super().__init__(price, brand, camera)\n",
    "        self.os = os\n",
    "        self.ram = ram \n",
    "        \n",
    "    def buy(self):\n",
    "        print(\"New Smartphone : \")\n",
    "        super().buy()"
   ]
  },
  {
   "cell_type": "code",
   "execution_count": 172,
   "id": "9b0028fd-849c-486a-af16-69a48f129ac8",
   "metadata": {},
   "outputs": [
    {
     "name": "stdout",
     "output_type": "stream",
     "text": [
      "Smartphone : purchased\n",
      "New phone : \n"
     ]
    }
   ],
   "source": [
    "s = Smartphone(20000, 'oppo', 50, 'Andriod', 12)"
   ]
  },
  {
   "cell_type": "code",
   "execution_count": 173,
   "id": "3630107b-44c2-48d3-a2a5-ae3c3ba590a8",
   "metadata": {},
   "outputs": [
    {
     "name": "stdout",
     "output_type": "stream",
     "text": [
      "New Smartphone : \n",
      "Buying a phone\n"
     ]
    }
   ],
   "source": [
    "s.buy()"
   ]
  },
  {
   "cell_type": "code",
   "execution_count": null,
   "id": "418cc470-1f77-481b-89c8-947d9735befe",
   "metadata": {},
   "outputs": [],
   "source": []
  }
 ],
 "metadata": {
  "kernelspec": {
   "display_name": "Python 3 (ipykernel)",
   "language": "python",
   "name": "python3"
  },
  "language_info": {
   "codemirror_mode": {
    "name": "ipython",
    "version": 3
   },
   "file_extension": ".py",
   "mimetype": "text/x-python",
   "name": "python",
   "nbconvert_exporter": "python",
   "pygments_lexer": "ipython3",
   "version": "3.12.7"
  }
 },
 "nbformat": 4,
 "nbformat_minor": 5
}
