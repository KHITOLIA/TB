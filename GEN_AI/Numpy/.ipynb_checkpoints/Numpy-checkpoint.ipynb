{
 "cells": [
  {
   "cell_type": "markdown",
   "id": "f7d28c83-0ee0-443a-961b-02d7a96f5bd6",
   "metadata": {},
   "source": [
    "### Numpy Arrays Vs Python Sequences\n",
    "\n",
    "- NumPy arrays have a fixed size at creation, unlike Python lists (which can grow dynamically). Changing the size of an ndarray will create a new array and delete the original.\n",
    "\n",
    "- The elements in a NumPy array are all required to be of the same data type, and thus will be the same size in memory.\n",
    "\n",
    "- NumPy arrays facilitate advanced mathematical and other types of operations on large numbers of data. Typically, such operations are executed more efficiently and with less code than is possible using Python’s built-in sequences.\n",
    "\n",
    "- A growing plethora of scientific and mathematical Python-based packages are using NumPy arrays; though these typically support Python-sequence input, they convert such input to NumPy arrays prior to processing, and they often output NumPy arrays."
   ]
  },
  {
   "cell_type": "code",
   "execution_count": 1,
   "id": "a55efc59-6474-4a01-9abf-58a327161ba4",
   "metadata": {},
   "outputs": [],
   "source": [
    "l = list()"
   ]
  },
  {
   "cell_type": "code",
   "execution_count": 2,
   "id": "4389fa0c-7002-40c4-ae9c-76af0d80844b",
   "metadata": {},
   "outputs": [],
   "source": [
    "l = []"
   ]
  },
  {
   "cell_type": "code",
   "execution_count": 3,
   "id": "25e36092-3cc2-44aa-bbc2-a7aa1ad6e118",
   "metadata": {},
   "outputs": [],
   "source": [
    "import numpy as np\n",
    "a = np.array([1, \n",
    "              2, \n",
    "              3])"
   ]
  },
  {
   "cell_type": "code",
   "execution_count": 4,
   "id": "5228ca9d-d07a-4cbd-960e-e887fb4d3194",
   "metadata": {},
   "outputs": [
    {
     "data": {
      "text/plain": [
       "1"
      ]
     },
     "execution_count": 4,
     "metadata": {},
     "output_type": "execute_result"
    }
   ],
   "source": [
    "a.ndim"
   ]
  },
  {
   "cell_type": "code",
   "execution_count": 5,
   "id": "3814df1d-c05e-4861-a8b5-e2f373039797",
   "metadata": {},
   "outputs": [
    {
     "data": {
      "text/plain": [
       "(3,)"
      ]
     },
     "execution_count": 5,
     "metadata": {},
     "output_type": "execute_result"
    }
   ],
   "source": [
    "a.shape"
   ]
  },
  {
   "cell_type": "code",
   "execution_count": 6,
   "id": "97978287-5cc4-4130-a90d-1f4b92f7732c",
   "metadata": {},
   "outputs": [],
   "source": [
    "l = [1, 2, 3, 4]"
   ]
  },
  {
   "cell_type": "code",
   "execution_count": 7,
   "id": "ae5da93b-cf53-4b18-94b2-c2f261257d14",
   "metadata": {},
   "outputs": [
    {
     "data": {
      "text/plain": [
       "list"
      ]
     },
     "execution_count": 7,
     "metadata": {},
     "output_type": "execute_result"
    }
   ],
   "source": [
    "type(l)"
   ]
  },
  {
   "cell_type": "code",
   "execution_count": 8,
   "id": "58e9ca44-01c5-4e03-81f9-dfd46a56c858",
   "metadata": {},
   "outputs": [
    {
     "data": {
      "text/plain": [
       "numpy.ndarray"
      ]
     },
     "execution_count": 8,
     "metadata": {},
     "output_type": "execute_result"
    }
   ],
   "source": [
    "l = np.array(l)\n",
    "type(l)"
   ]
  },
  {
   "cell_type": "code",
   "execution_count": 9,
   "id": "183a47d3-b9f9-4155-8f99-8a332d9f9e74",
   "metadata": {},
   "outputs": [],
   "source": [
    "a = np.array([[[1, 2], \n",
    "              [3, 4]]])"
   ]
  },
  {
   "cell_type": "code",
   "execution_count": 10,
   "id": "2c2905bc-d20e-4645-9089-c898bafcc269",
   "metadata": {},
   "outputs": [
    {
     "data": {
      "text/plain": [
       "3"
      ]
     },
     "execution_count": 10,
     "metadata": {},
     "output_type": "execute_result"
    }
   ],
   "source": [
    "a.ndim"
   ]
  },
  {
   "cell_type": "code",
   "execution_count": 11,
   "id": "c59d472d-912c-4b50-a1fe-92a7a1cc2c6a",
   "metadata": {},
   "outputs": [
    {
     "data": {
      "text/plain": [
       "(1, 2, 2)"
      ]
     },
     "execution_count": 11,
     "metadata": {},
     "output_type": "execute_result"
    }
   ],
   "source": [
    "a.shape"
   ]
  },
  {
   "cell_type": "code",
   "execution_count": 12,
   "id": "c0cb3ef8-1222-4ca2-bbbc-01688167d39c",
   "metadata": {},
   "outputs": [],
   "source": [
    "a = np.array([[1, 2], \n",
    "              [3, 4]])\n",
    "b = np.array([[5, 6], \n",
    "              [7, 8]])"
   ]
  },
  {
   "cell_type": "code",
   "execution_count": 13,
   "id": "0b2f20f1-6d19-4c6f-acd2-3d9a66180597",
   "metadata": {},
   "outputs": [
    {
     "data": {
      "text/plain": [
       "(array([[ 6,  8],\n",
       "        [10, 12]]),\n",
       " array([[-4, -4],\n",
       "        [-4, -4]]),\n",
       " array([[ 5, 12],\n",
       "        [21, 32]]),\n",
       " array([[0.2       , 0.33333333],\n",
       "        [0.42857143, 0.5       ]]))"
      ]
     },
     "execution_count": 13,
     "metadata": {},
     "output_type": "execute_result"
    }
   ],
   "source": [
    "a + b, a - b, a*b, a/b"
   ]
  },
  {
   "cell_type": "code",
   "execution_count": 14,
   "id": "6d9567f7-8ba0-44af-a711-b648e4a418e6",
   "metadata": {},
   "outputs": [
    {
     "data": {
      "text/plain": [
       "array([[1, 2],\n",
       "       [3, 4]])"
      ]
     },
     "execution_count": 14,
     "metadata": {},
     "output_type": "execute_result"
    }
   ],
   "source": [
    "a%b"
   ]
  },
  {
   "cell_type": "code",
   "execution_count": 15,
   "id": "95714bfb-6ed3-411f-8d33-47e4988b35a7",
   "metadata": {},
   "outputs": [
    {
     "data": {
      "text/plain": [
       "array([[0, 0],\n",
       "       [0, 0]])"
      ]
     },
     "execution_count": 15,
     "metadata": {},
     "output_type": "execute_result"
    }
   ],
   "source": [
    "a//b"
   ]
  },
  {
   "cell_type": "code",
   "execution_count": 16,
   "id": "284d4365-43f0-40ea-aa0e-279384a6a697",
   "metadata": {},
   "outputs": [
    {
     "data": {
      "text/plain": [
       "array([[ 6,  8],\n",
       "       [10, 12]])"
      ]
     },
     "execution_count": 16,
     "metadata": {},
     "output_type": "execute_result"
    }
   ],
   "source": [
    "np.add(a, b)"
   ]
  },
  {
   "cell_type": "code",
   "execution_count": 17,
   "id": "19ff61be-65eb-4d8b-883f-d7865b553467",
   "metadata": {},
   "outputs": [
    {
     "data": {
      "text/plain": [
       "array([[False, False],\n",
       "       [False, False]])"
      ]
     },
     "execution_count": 17,
     "metadata": {},
     "output_type": "execute_result"
    }
   ],
   "source": [
    "np.subtract(a, b) == np.subtract(b, a)"
   ]
  },
  {
   "cell_type": "code",
   "execution_count": 18,
   "id": "427b759b-8e59-48af-a44e-305ca5b788f5",
   "metadata": {},
   "outputs": [
    {
     "data": {
      "text/plain": [
       "(array([[ 5, 12],\n",
       "        [21, 32]]),\n",
       " array([[0.2       , 0.33333333],\n",
       "        [0.42857143, 0.5       ]]))"
      ]
     },
     "execution_count": 18,
     "metadata": {},
     "output_type": "execute_result"
    }
   ],
   "source": [
    "np.multiply(a, b), np.divide(a, b)"
   ]
  },
  {
   "cell_type": "code",
   "execution_count": 19,
   "id": "2a6fe9af-f50b-4bb6-bb21-cc6488274213",
   "metadata": {},
   "outputs": [
    {
     "data": {
      "text/plain": [
       "array([[1, 2],\n",
       "       [3, 4]])"
      ]
     },
     "execution_count": 19,
     "metadata": {},
     "output_type": "execute_result"
    }
   ],
   "source": [
    "a"
   ]
  },
  {
   "cell_type": "code",
   "execution_count": 20,
   "id": "fbebea10-1d04-49ed-93b2-2c9fbbeef879",
   "metadata": {},
   "outputs": [
    {
     "data": {
      "text/plain": [
       "10"
      ]
     },
     "execution_count": 20,
     "metadata": {},
     "output_type": "execute_result"
    }
   ],
   "source": [
    "np.sum(a)"
   ]
  },
  {
   "cell_type": "code",
   "execution_count": 21,
   "id": "753a09fe-869b-48ab-b15a-193043abda80",
   "metadata": {},
   "outputs": [
    {
     "data": {
      "text/plain": [
       "array([3, 7])"
      ]
     },
     "execution_count": 21,
     "metadata": {},
     "output_type": "execute_result"
    }
   ],
   "source": [
    "np.sum(a, axis  = 1)"
   ]
  },
  {
   "cell_type": "code",
   "execution_count": 22,
   "id": "561b6272-be83-409e-b732-59403a03655a",
   "metadata": {},
   "outputs": [
    {
     "data": {
      "text/plain": [
       "array([12, 14])"
      ]
     },
     "execution_count": 22,
     "metadata": {},
     "output_type": "execute_result"
    }
   ],
   "source": [
    "np.sum(b, axis = 0)"
   ]
  },
  {
   "cell_type": "code",
   "execution_count": 23,
   "id": "a57898af-78b1-483b-98f3-c6ebc824a8fb",
   "metadata": {},
   "outputs": [
    {
     "data": {
      "text/plain": [
       "array([[5, 6],\n",
       "       [7, 8]])"
      ]
     },
     "execution_count": 23,
     "metadata": {},
     "output_type": "execute_result"
    }
   ],
   "source": [
    "b"
   ]
  },
  {
   "cell_type": "code",
   "execution_count": 24,
   "id": "09c25393-37d2-4026-aee1-2cd0e7b03f83",
   "metadata": {},
   "outputs": [
    {
     "data": {
      "text/plain": [
       "array([[0, 0, 0],\n",
       "       [0, 0, 0]])"
      ]
     },
     "execution_count": 24,
     "metadata": {},
     "output_type": "execute_result"
    }
   ],
   "source": [
    "np.zeros((2, 3), dtype = int)"
   ]
  },
  {
   "cell_type": "code",
   "execution_count": 25,
   "id": "bf960f6a-f3fc-4839-9177-4abf286fa558",
   "metadata": {},
   "outputs": [
    {
     "data": {
      "text/plain": [
       "array([[1, 1, 1],\n",
       "       [1, 1, 1]])"
      ]
     },
     "execution_count": 25,
     "metadata": {},
     "output_type": "execute_result"
    }
   ],
   "source": [
    "np.ones((2, 3), dtype = int)"
   ]
  },
  {
   "cell_type": "code",
   "execution_count": 26,
   "id": "6b1ba483-200b-4010-a988-73bd51a30316",
   "metadata": {},
   "outputs": [
    {
     "data": {
      "text/plain": [
       "array([[1., 0., 0.],\n",
       "       [0., 1., 0.],\n",
       "       [0., 0., 1.]])"
      ]
     },
     "execution_count": 26,
     "metadata": {},
     "output_type": "execute_result"
    }
   ],
   "source": [
    "np.identity(3)"
   ]
  },
  {
   "cell_type": "code",
   "execution_count": 27,
   "id": "be3eba71-f255-4fd1-828e-6b3927f8013f",
   "metadata": {},
   "outputs": [
    {
     "data": {
      "text/plain": [
       "array([[7, 7, 7, 7, 7],\n",
       "       [7, 7, 7, 7, 7]])"
      ]
     },
     "execution_count": 27,
     "metadata": {},
     "output_type": "execute_result"
    }
   ],
   "source": [
    "np.full((2, 5), 7)"
   ]
  },
  {
   "cell_type": "code",
   "execution_count": 28,
   "id": "da052e46-f466-41e5-aa1e-f77d3a97075d",
   "metadata": {},
   "outputs": [
    {
     "data": {
      "text/plain": [
       "array([1, 2, 3, 4])"
      ]
     },
     "execution_count": 28,
     "metadata": {},
     "output_type": "execute_result"
    }
   ],
   "source": [
    "l"
   ]
  },
  {
   "cell_type": "code",
   "execution_count": 29,
   "id": "1438a739-92f3-47e3-9802-4889210cb637",
   "metadata": {},
   "outputs": [],
   "source": [
    "l = list(l)"
   ]
  },
  {
   "cell_type": "code",
   "execution_count": 30,
   "id": "b05213e1-b1be-4e5e-aee0-b97c7032d292",
   "metadata": {},
   "outputs": [
    {
     "name": "stdout",
     "output_type": "stream",
     "text": [
      "1\n",
      "2\n",
      "3\n",
      "4\n"
     ]
    }
   ],
   "source": [
    "for i in l:\n",
    "    print(i)"
   ]
  },
  {
   "cell_type": "code",
   "execution_count": 31,
   "id": "e5752444-1be1-4042-a558-0da56a604862",
   "metadata": {},
   "outputs": [
    {
     "data": {
      "text/plain": [
       "array([[1, 2],\n",
       "       [3, 4]])"
      ]
     },
     "execution_count": 31,
     "metadata": {},
     "output_type": "execute_result"
    }
   ],
   "source": [
    "a"
   ]
  },
  {
   "cell_type": "code",
   "execution_count": 32,
   "id": "f0f8ef8b-0c09-409a-965c-1bae128e4e71",
   "metadata": {},
   "outputs": [],
   "source": [
    "l = list(a)"
   ]
  },
  {
   "cell_type": "code",
   "execution_count": 33,
   "id": "5a767d03-43c7-4eff-a408-142ecc0847b6",
   "metadata": {},
   "outputs": [
    {
     "data": {
      "text/plain": [
       "[array([1, 2]), array([3, 4])]"
      ]
     },
     "execution_count": 33,
     "metadata": {},
     "output_type": "execute_result"
    }
   ],
   "source": [
    "l"
   ]
  },
  {
   "cell_type": "code",
   "execution_count": 34,
   "id": "3e30c6c6-2365-488f-88b5-051222d4ed69",
   "metadata": {},
   "outputs": [],
   "source": [
    "l = [1, 2, 3, 4]"
   ]
  },
  {
   "cell_type": "code",
   "execution_count": 35,
   "id": "82b0feca-a6be-4ab6-83a7-eaf79efe1309",
   "metadata": {},
   "outputs": [
    {
     "data": {
      "text/plain": [
       "array([[1, 2],\n",
       "       [3, 4]])"
      ]
     },
     "execution_count": 35,
     "metadata": {},
     "output_type": "execute_result"
    }
   ],
   "source": [
    "a"
   ]
  },
  {
   "cell_type": "code",
   "execution_count": 36,
   "id": "bf1cbabc-d715-45c2-9064-1cf879ee55df",
   "metadata": {},
   "outputs": [
    {
     "name": "stdout",
     "output_type": "stream",
     "text": [
      "1\n",
      "2\n",
      "3\n",
      "4\n"
     ]
    }
   ],
   "source": [
    "for i in list(a.ravel()):\n",
    "    print(i)"
   ]
  },
  {
   "cell_type": "code",
   "execution_count": 37,
   "id": "8c3ae5cc-520e-4ecd-9e26-bd16b26bd6e6",
   "metadata": {},
   "outputs": [
    {
     "name": "stdout",
     "output_type": "stream",
     "text": [
      "1\n",
      "2\n",
      "3\n",
      "4\n"
     ]
    }
   ],
   "source": [
    "for i in np.nditer(a):\n",
    "    print(i)"
   ]
  },
  {
   "cell_type": "code",
   "execution_count": 38,
   "id": "a575dbb0-8add-4332-90e9-f019eeaa1c8f",
   "metadata": {},
   "outputs": [],
   "source": [
    "a = np.random.random((2, 3))"
   ]
  },
  {
   "cell_type": "code",
   "execution_count": 39,
   "id": "73c20bf4-f2aa-44e1-8a5b-8d892e5cb212",
   "metadata": {},
   "outputs": [
    {
     "data": {
      "text/plain": [
       "array([[0.48712144, 0.44818023, 0.69218771],\n",
       "       [0.37006536, 0.87117913, 0.55378116]])"
      ]
     },
     "execution_count": 39,
     "metadata": {},
     "output_type": "execute_result"
    }
   ],
   "source": [
    "a"
   ]
  },
  {
   "cell_type": "code",
   "execution_count": 40,
   "id": "0a77dae9-2392-43d1-8331-c2253dee9f3d",
   "metadata": {},
   "outputs": [],
   "source": [
    "a = np.random.randint(0, 10, (5, 2))"
   ]
  },
  {
   "cell_type": "code",
   "execution_count": 41,
   "id": "2761a1e4-6d92-4ddf-a520-36d510aac51a",
   "metadata": {},
   "outputs": [
    {
     "data": {
      "text/plain": [
       "array([[3, 6],\n",
       "       [9, 1],\n",
       "       [0, 4],\n",
       "       [7, 4],\n",
       "       [0, 9]])"
      ]
     },
     "execution_count": 41,
     "metadata": {},
     "output_type": "execute_result"
    }
   ],
   "source": [
    "a"
   ]
  },
  {
   "cell_type": "code",
   "execution_count": 42,
   "id": "79a35332-5826-437e-84c3-3869dce1c146",
   "metadata": {},
   "outputs": [],
   "source": [
    "a = np.random.randn(3, 2)"
   ]
  },
  {
   "cell_type": "code",
   "execution_count": 43,
   "id": "00683227-d09f-4ef9-abe9-b26c4d6eb0e1",
   "metadata": {},
   "outputs": [
    {
     "data": {
      "text/plain": [
       "array([[ 2.27790459,  0.86574445],\n",
       "       [ 0.30508919,  0.64109578],\n",
       "       [ 1.12138672, -0.32961309]])"
      ]
     },
     "execution_count": 43,
     "metadata": {},
     "output_type": "execute_result"
    }
   ],
   "source": [
    "a"
   ]
  },
  {
   "cell_type": "code",
   "execution_count": 44,
   "id": "9c2352cf-bf47-4af8-a95a-5913eb963074",
   "metadata": {},
   "outputs": [
    {
     "data": {
      "text/plain": [
       "array([[0.51246713, 0.47899979, 0.7756763 ],\n",
       "       [0.15096195, 0.68226025, 0.89654302]])"
      ]
     },
     "execution_count": 44,
     "metadata": {},
     "output_type": "execute_result"
    }
   ],
   "source": [
    "np.random.rand(2, 3)"
   ]
  },
  {
   "cell_type": "code",
   "execution_count": 45,
   "id": "c18554dd-58a4-4c5f-bce0-410e8570b615",
   "metadata": {},
   "outputs": [
    {
     "data": {
      "text/plain": [
       "array([[ 2.27790459,  0.86574445],\n",
       "       [ 0.30508919,  0.64109578],\n",
       "       [ 1.12138672, -0.32961309]])"
      ]
     },
     "execution_count": 45,
     "metadata": {},
     "output_type": "execute_result"
    }
   ],
   "source": [
    "a"
   ]
  },
  {
   "cell_type": "code",
   "execution_count": 46,
   "id": "6855415a-0363-43c1-9b23-cc4a842572b3",
   "metadata": {},
   "outputs": [
    {
     "data": {
      "text/plain": [
       "array([[ 2.27790459,  0.86574445],\n",
       "       [ 0.30508919,  0.64109578],\n",
       "       [ 1.12138672, -0.32961309]])"
      ]
     },
     "execution_count": 46,
     "metadata": {},
     "output_type": "execute_result"
    }
   ],
   "source": [
    "a"
   ]
  },
  {
   "cell_type": "code",
   "execution_count": 47,
   "id": "812d743f-9927-41d6-9787-018f60182bf3",
   "metadata": {},
   "outputs": [
    {
     "data": {
      "text/plain": [
       "array([[5, 6],\n",
       "       [7, 8]])"
      ]
     },
     "execution_count": 47,
     "metadata": {},
     "output_type": "execute_result"
    }
   ],
   "source": [
    "b"
   ]
  },
  {
   "cell_type": "code",
   "execution_count": 48,
   "id": "841f5e0a-a88b-4129-8b0f-57a4a9689e26",
   "metadata": {},
   "outputs": [
    {
     "ename": "ValueError",
     "evalue": "operands could not be broadcast together with shapes (3,2) (2,2) ",
     "output_type": "error",
     "traceback": [
      "\u001b[1;31m---------------------------------------------------------------------------\u001b[0m",
      "\u001b[1;31mValueError\u001b[0m                                Traceback (most recent call last)",
      "Cell \u001b[1;32mIn[48], line 1\u001b[0m\n\u001b[1;32m----> 1\u001b[0m a\u001b[38;5;241m*\u001b[39mb\n",
      "\u001b[1;31mValueError\u001b[0m: operands could not be broadcast together with shapes (3,2) (2,2) "
     ]
    }
   ],
   "source": [
    "a*b"
   ]
  },
  {
   "cell_type": "code",
   "execution_count": 49,
   "id": "db080d18-ea9a-4396-93d2-e24a298907a7",
   "metadata": {},
   "outputs": [
    {
     "data": {
      "text/plain": [
       "array([[17.4497341 , 20.59338314],\n",
       "       [ 6.01311639,  6.95930136],\n",
       "       [ 3.29964199,  4.09141562]])"
      ]
     },
     "execution_count": 49,
     "metadata": {},
     "output_type": "execute_result"
    }
   ],
   "source": [
    "a.dot(b)"
   ]
  },
  {
   "cell_type": "code",
   "execution_count": 50,
   "id": "fa4365d6-b84b-4032-85fa-633e1b30739c",
   "metadata": {},
   "outputs": [
    {
     "ename": "ValueError",
     "evalue": "shapes (2,2) and (3,2) not aligned: 2 (dim 1) != 3 (dim 0)",
     "output_type": "error",
     "traceback": [
      "\u001b[1;31m---------------------------------------------------------------------------\u001b[0m",
      "\u001b[1;31mValueError\u001b[0m                                Traceback (most recent call last)",
      "Cell \u001b[1;32mIn[50], line 1\u001b[0m\n\u001b[1;32m----> 1\u001b[0m np\u001b[38;5;241m.\u001b[39mdot(a, b) \u001b[38;5;241m==\u001b[39m np\u001b[38;5;241m.\u001b[39mdot(b, a)\n",
      "\u001b[1;31mValueError\u001b[0m: shapes (2,2) and (3,2) not aligned: 2 (dim 1) != 3 (dim 0)"
     ]
    }
   ],
   "source": [
    "np.dot(a, b) == np.dot(b, a)"
   ]
  },
  {
   "cell_type": "code",
   "execution_count": 51,
   "id": "3b438633-286f-4d2d-933a-97c67467a8c7",
   "metadata": {},
   "outputs": [
    {
     "data": {
      "text/plain": [
       "array([[17.4497341 , 20.59338314],\n",
       "       [ 6.01311639,  6.95930136],\n",
       "       [ 3.29964199,  4.09141562]])"
      ]
     },
     "execution_count": 51,
     "metadata": {},
     "output_type": "execute_result"
    }
   ],
   "source": [
    "a@b"
   ]
  },
  {
   "cell_type": "code",
   "execution_count": 52,
   "id": "6e75c58d-0736-46a4-b1cb-6fcdc797f66d",
   "metadata": {},
   "outputs": [
    {
     "data": {
      "text/plain": [
       "array([0, 2, 4, 6, 8])"
      ]
     },
     "execution_count": 52,
     "metadata": {},
     "output_type": "execute_result"
    }
   ],
   "source": [
    "np.arange(0, 10, 2)"
   ]
  },
  {
   "cell_type": "code",
   "execution_count": 53,
   "id": "6d33571c-6137-4acd-a42c-d45ef660b2fa",
   "metadata": {},
   "outputs": [],
   "source": [
    "rn_mat = np.random.randint(0, 10, (4, 5))"
   ]
  },
  {
   "cell_type": "code",
   "execution_count": 54,
   "id": "bf777aea-1679-472f-b47c-ddd7b6e83f7c",
   "metadata": {},
   "outputs": [
    {
     "data": {
      "text/plain": [
       "array([[2, 2, 4, 1, 9],\n",
       "       [0, 8, 7, 4, 3],\n",
       "       [3, 6, 4, 5, 4],\n",
       "       [1, 3, 3, 1, 6]])"
      ]
     },
     "execution_count": 54,
     "metadata": {},
     "output_type": "execute_result"
    }
   ],
   "source": [
    "rn_mat"
   ]
  },
  {
   "cell_type": "code",
   "execution_count": 55,
   "id": "ac9f16af-fc4d-4fba-bb78-c9bdcbafc36e",
   "metadata": {},
   "outputs": [
    {
     "data": {
      "text/plain": [
       "array([2, 2, 4, 1, 9])"
      ]
     },
     "execution_count": 55,
     "metadata": {},
     "output_type": "execute_result"
    }
   ],
   "source": [
    "rn_mat[0]"
   ]
  },
  {
   "cell_type": "code",
   "execution_count": 56,
   "id": "08cb0e1e-e4dd-4940-a20e-0682894eee42",
   "metadata": {},
   "outputs": [
    {
     "data": {
      "text/plain": [
       "array([[2, 2, 4],\n",
       "       [0, 8, 7],\n",
       "       [3, 6, 4],\n",
       "       [1, 3, 3]])"
      ]
     },
     "execution_count": 56,
     "metadata": {},
     "output_type": "execute_result"
    }
   ],
   "source": [
    "rn_mat[ : , :3 ]"
   ]
  },
  {
   "cell_type": "code",
   "execution_count": 57,
   "id": "ea384446-9592-401a-b985-44663b1aa87f",
   "metadata": {},
   "outputs": [
    {
     "data": {
      "text/plain": [
       "array([[5, 4],\n",
       "       [1, 6]])"
      ]
     },
     "execution_count": 57,
     "metadata": {},
     "output_type": "execute_result"
    }
   ],
   "source": [
    "rn_mat[2:, 3:]"
   ]
  },
  {
   "cell_type": "code",
   "execution_count": 58,
   "id": "3e7dfc6b-cf72-4c3d-b65c-cfd888cc0a33",
   "metadata": {},
   "outputs": [
    {
     "data": {
      "text/plain": [
       "array([[1, 9],\n",
       "       [1, 6]])"
      ]
     },
     "execution_count": 58,
     "metadata": {},
     "output_type": "execute_result"
    }
   ],
   "source": [
    "rn_mat[[0, 3],3 :]"
   ]
  },
  {
   "cell_type": "code",
   "execution_count": 59,
   "id": "079d7ebc-2989-4760-83b1-2665a3e332ec",
   "metadata": {},
   "outputs": [
    {
     "data": {
      "text/plain": [
       "0.753420111449884"
      ]
     },
     "execution_count": 59,
     "metadata": {},
     "output_type": "execute_result"
    }
   ],
   "source": [
    "np.median(a)"
   ]
  },
  {
   "cell_type": "code",
   "execution_count": 60,
   "id": "753ea073-7fe3-42bf-94c8-969afc87041a",
   "metadata": {},
   "outputs": [
    {
     "data": {
      "text/plain": [
       "0.7996787655701686"
      ]
     },
     "execution_count": 60,
     "metadata": {},
     "output_type": "execute_result"
    }
   ],
   "source": [
    "np.std(a)"
   ]
  },
  {
   "cell_type": "code",
   "execution_count": 61,
   "id": "7f0f7ad5-e437-4fff-bfbb-5b08a820b1ec",
   "metadata": {},
   "outputs": [
    {
     "data": {
      "text/plain": [
       "0.6394861281038287"
      ]
     },
     "execution_count": 61,
     "metadata": {},
     "output_type": "execute_result"
    }
   ],
   "source": [
    "np.var(a)"
   ]
  },
  {
   "cell_type": "code",
   "execution_count": 63,
   "id": "73324f6b-81b3-4e94-ad50-7ed0a1e620e5",
   "metadata": {},
   "outputs": [],
   "source": [
    "# y = 1/(1 + e**(-x))"
   ]
  },
  {
   "cell_type": "code",
   "execution_count": 64,
   "id": "bd9b17d2-23e1-4360-8de3-7e91d20f25ff",
   "metadata": {},
   "outputs": [
    {
     "data": {
      "text/plain": [
       "0.5"
      ]
     },
     "execution_count": 64,
     "metadata": {},
     "output_type": "execute_result"
    }
   ],
   "source": [
    "e = 2.71\n",
    "x = 0\n",
    "1/(1 + e**(-0))"
   ]
  },
  {
   "cell_type": "code",
   "execution_count": 65,
   "id": "5a2659c0-6232-421b-95a5-52de4894c0c0",
   "metadata": {},
   "outputs": [],
   "source": [
    "def sigmoid(x):\n",
    "    return 1/(1 + np.exp(-x))"
   ]
  },
  {
   "cell_type": "code",
   "execution_count": 66,
   "id": "0fbc8ec1-c6de-4fd0-b6eb-60296915ab86",
   "metadata": {},
   "outputs": [
    {
     "name": "stdout",
     "output_type": "stream",
     "text": [
      "0.5\n"
     ]
    }
   ],
   "source": [
    "print(sigmoid(x = 0))"
   ]
  },
  {
   "cell_type": "code",
   "execution_count": 67,
   "id": "55586c0d-4d5d-40ff-b284-4119eaa733eb",
   "metadata": {},
   "outputs": [],
   "source": [
    "x = 1"
   ]
  },
  {
   "cell_type": "code",
   "execution_count": 68,
   "id": "375da930-775a-4efb-9d42-443d3b690e9e",
   "metadata": {},
   "outputs": [
    {
     "data": {
      "text/plain": [
       "0.8414709848078965"
      ]
     },
     "execution_count": 68,
     "metadata": {},
     "output_type": "execute_result"
    }
   ],
   "source": [
    "np.sin(x)"
   ]
  },
  {
   "cell_type": "code",
   "execution_count": 75,
   "id": "7b3a213e-60ca-46db-865e-53094c9307e6",
   "metadata": {},
   "outputs": [],
   "source": [
    "a = np.random.random((5, 4))"
   ]
  },
  {
   "cell_type": "code",
   "execution_count": 77,
   "id": "f9decb3c-77f3-42da-afbc-f230a0869c31",
   "metadata": {},
   "outputs": [
    {
     "data": {
      "text/plain": [
       "(2, (5, 4))"
      ]
     },
     "execution_count": 77,
     "metadata": {},
     "output_type": "execute_result"
    }
   ],
   "source": [
    "a.ndim,a.shape"
   ]
  },
  {
   "cell_type": "code",
   "execution_count": 78,
   "id": "b590655f-3df6-4ed0-b5ec-c7b61f87e4e0",
   "metadata": {},
   "outputs": [
    {
     "data": {
      "text/plain": [
       "array([[0.77751236, 0.19832198, 0.06065784, 0.38929462, 0.79648832],\n",
       "       [0.87822525, 0.24318819, 0.59135279, 0.70079376, 0.95310061],\n",
       "       [0.09567917, 0.58911686, 0.8879243 , 0.95377646, 0.45939588],\n",
       "       [0.86966343, 0.88663932, 0.40406617, 0.5021213 , 0.89008206]])"
      ]
     },
     "execution_count": 78,
     "metadata": {},
     "output_type": "execute_result"
    }
   ],
   "source": [
    "a.transpose()"
   ]
  },
  {
   "cell_type": "code",
   "execution_count": 76,
   "id": "dbe8be21-cda9-4aa2-bd68-3883a2d3065c",
   "metadata": {},
   "outputs": [
    {
     "data": {
      "text/plain": [
       "array([[0.77751236, 0.87822525, 0.09567917, 0.86966343],\n",
       "       [0.19832198, 0.24318819, 0.58911686, 0.88663932],\n",
       "       [0.06065784, 0.59135279, 0.8879243 , 0.40406617],\n",
       "       [0.38929462, 0.70079376, 0.95377646, 0.5021213 ],\n",
       "       [0.79648832, 0.95310061, 0.45939588, 0.89008206]])"
      ]
     },
     "execution_count": 76,
     "metadata": {},
     "output_type": "execute_result"
    }
   ],
   "source": [
    "a"
   ]
  },
  {
   "cell_type": "code",
   "execution_count": 84,
   "id": "bb6e3a10-3189-4831-9c8a-a7550c0177a4",
   "metadata": {},
   "outputs": [
    {
     "data": {
      "text/plain": [
       "array([[0.77751236, 0.87822525, 0.09567917, 0.86966343, 0.19832198,\n",
       "        0.24318819, 0.58911686, 0.88663932, 0.06065784, 0.59135279,\n",
       "        0.8879243 , 0.40406617, 0.38929462, 0.70079376, 0.95377646,\n",
       "        0.5021213 , 0.79648832, 0.95310061, 0.45939588, 0.89008206]])"
      ]
     },
     "execution_count": 84,
     "metadata": {},
     "output_type": "execute_result"
    }
   ],
   "source": [
    "a.reshape(1, 20)"
   ]
  },
  {
   "cell_type": "code",
   "execution_count": 85,
   "id": "2730f082-5a7d-4097-b697-f0e181645da4",
   "metadata": {},
   "outputs": [],
   "source": [
    "x = np.random.random((25, 25))"
   ]
  },
  {
   "cell_type": "code",
   "execution_count": 95,
   "id": "2d77a614-b478-42dc-9f62-390089b9d61e",
   "metadata": {},
   "outputs": [
    {
     "data": {
      "text/plain": [
       "(1, 625)"
      ]
     },
     "execution_count": 95,
     "metadata": {},
     "output_type": "execute_result"
    }
   ],
   "source": [
    "x = x.reshape(-1, 625)"
   ]
  },
  {
   "cell_type": "code",
   "execution_count": 96,
   "id": "98376c8d-9ae7-4a46-9adc-da7abcd473ba",
   "metadata": {},
   "outputs": [
    {
     "data": {
      "text/plain": [
       "(25, 25)"
      ]
     },
     "execution_count": 96,
     "metadata": {},
     "output_type": "execute_result"
    }
   ],
   "source": [
    "x.shape"
   ]
  },
  {
   "cell_type": "code",
   "execution_count": 98,
   "id": "b2d59405-10d1-4980-bc8d-78a60e9c02dd",
   "metadata": {},
   "outputs": [
    {
     "data": {
      "text/plain": [
       "(625,)"
      ]
     },
     "execution_count": 98,
     "metadata": {},
     "output_type": "execute_result"
    }
   ],
   "source": [
    "x.ravel().shape"
   ]
  },
  {
   "cell_type": "code",
   "execution_count": null,
   "id": "dea82ba6-b316-4186-9f73-251679e324fb",
   "metadata": {},
   "outputs": [],
   "source": []
  }
 ],
 "metadata": {
  "kernelspec": {
   "display_name": "Python 3 (ipykernel)",
   "language": "python",
   "name": "python3"
  },
  "language_info": {
   "codemirror_mode": {
    "name": "ipython",
    "version": 3
   },
   "file_extension": ".py",
   "mimetype": "text/x-python",
   "name": "python",
   "nbconvert_exporter": "python",
   "pygments_lexer": "ipython3",
   "version": "3.12.7"
  }
 },
 "nbformat": 4,
 "nbformat_minor": 5
}
