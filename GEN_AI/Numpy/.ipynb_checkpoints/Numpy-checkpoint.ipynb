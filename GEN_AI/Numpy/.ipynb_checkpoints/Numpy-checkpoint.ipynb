{
 "cells": [
  {
   "cell_type": "markdown",
   "id": "f7d28c83-0ee0-443a-961b-02d7a96f5bd6",
   "metadata": {},
   "source": [
    "### Numpy Arrays Vs Python Sequences\n",
    "\n",
    "- NumPy arrays have a fixed size at creation, unlike Python lists (which can grow dynamically). Changing the size of an ndarray will create a new array and delete the original.\n",
    "\n",
    "- The elements in a NumPy array are all required to be of the same data type, and thus will be the same size in memory.\n",
    "\n",
    "- NumPy arrays facilitate advanced mathematical and other types of operations on large numbers of data. Typically, such operations are executed more efficiently and with less code than is possible using Python’s built-in sequences.\n",
    "\n",
    "- A growing plethora of scientific and mathematical Python-based packages are using NumPy arrays; though these typically support Python-sequence input, they convert such input to NumPy arrays prior to processing, and they often output NumPy arrays."
   ]
  },
  {
   "cell_type": "code",
   "execution_count": 1,
   "id": "a55efc59-6474-4a01-9abf-58a327161ba4",
   "metadata": {},
   "outputs": [],
   "source": [
    "l = list()"
   ]
  },
  {
   "cell_type": "code",
   "execution_count": 2,
   "id": "4389fa0c-7002-40c4-ae9c-76af0d80844b",
   "metadata": {},
   "outputs": [],
   "source": [
    "l = []"
   ]
  },
  {
   "cell_type": "code",
   "execution_count": 3,
   "id": "25e36092-3cc2-44aa-bbc2-a7aa1ad6e118",
   "metadata": {},
   "outputs": [],
   "source": [
    "import numpy as np\n",
    "a = np.array([1, \n",
    "              2, \n",
    "              3])"
   ]
  },
  {
   "cell_type": "code",
   "execution_count": 4,
   "id": "5228ca9d-d07a-4cbd-960e-e887fb4d3194",
   "metadata": {},
   "outputs": [
    {
     "data": {
      "text/plain": [
       "1"
      ]
     },
     "execution_count": 4,
     "metadata": {},
     "output_type": "execute_result"
    }
   ],
   "source": [
    "a.ndim"
   ]
  },
  {
   "cell_type": "code",
   "execution_count": 5,
   "id": "3814df1d-c05e-4861-a8b5-e2f373039797",
   "metadata": {},
   "outputs": [
    {
     "data": {
      "text/plain": [
       "(3,)"
      ]
     },
     "execution_count": 5,
     "metadata": {},
     "output_type": "execute_result"
    }
   ],
   "source": [
    "a.shape"
   ]
  },
  {
   "cell_type": "code",
   "execution_count": 6,
   "id": "97978287-5cc4-4130-a90d-1f4b92f7732c",
   "metadata": {},
   "outputs": [],
   "source": [
    "l = [1, 2, 3, 4]"
   ]
  },
  {
   "cell_type": "code",
   "execution_count": 7,
   "id": "ae5da93b-cf53-4b18-94b2-c2f261257d14",
   "metadata": {},
   "outputs": [
    {
     "data": {
      "text/plain": [
       "list"
      ]
     },
     "execution_count": 7,
     "metadata": {},
     "output_type": "execute_result"
    }
   ],
   "source": [
    "type(l)"
   ]
  },
  {
   "cell_type": "code",
   "execution_count": 8,
   "id": "58e9ca44-01c5-4e03-81f9-dfd46a56c858",
   "metadata": {},
   "outputs": [
    {
     "data": {
      "text/plain": [
       "numpy.ndarray"
      ]
     },
     "execution_count": 8,
     "metadata": {},
     "output_type": "execute_result"
    }
   ],
   "source": [
    "l = np.array(l)\n",
    "type(l)"
   ]
  },
  {
   "cell_type": "code",
   "execution_count": 9,
   "id": "183a47d3-b9f9-4155-8f99-8a332d9f9e74",
   "metadata": {},
   "outputs": [],
   "source": [
    "a = np.array([[[1, 2], \n",
    "              [3, 4]]])"
   ]
  },
  {
   "cell_type": "code",
   "execution_count": 10,
   "id": "2c2905bc-d20e-4645-9089-c898bafcc269",
   "metadata": {},
   "outputs": [
    {
     "data": {
      "text/plain": [
       "3"
      ]
     },
     "execution_count": 10,
     "metadata": {},
     "output_type": "execute_result"
    }
   ],
   "source": [
    "a.ndim"
   ]
  },
  {
   "cell_type": "code",
   "execution_count": 11,
   "id": "c59d472d-912c-4b50-a1fe-92a7a1cc2c6a",
   "metadata": {},
   "outputs": [
    {
     "data": {
      "text/plain": [
       "(1, 2, 2)"
      ]
     },
     "execution_count": 11,
     "metadata": {},
     "output_type": "execute_result"
    }
   ],
   "source": [
    "a.shape"
   ]
  },
  {
   "cell_type": "code",
   "execution_count": 12,
   "id": "c0cb3ef8-1222-4ca2-bbbc-01688167d39c",
   "metadata": {},
   "outputs": [],
   "source": [
    "a = np.array([[1, 2], \n",
    "              [3, 4]])\n",
    "b = np.array([[5, 6], \n",
    "              [7, 8]])"
   ]
  },
  {
   "cell_type": "code",
   "execution_count": 13,
   "id": "0b2f20f1-6d19-4c6f-acd2-3d9a66180597",
   "metadata": {},
   "outputs": [
    {
     "data": {
      "text/plain": [
       "(array([[ 6,  8],\n",
       "        [10, 12]]),\n",
       " array([[-4, -4],\n",
       "        [-4, -4]]),\n",
       " array([[ 5, 12],\n",
       "        [21, 32]]),\n",
       " array([[0.2       , 0.33333333],\n",
       "        [0.42857143, 0.5       ]]))"
      ]
     },
     "execution_count": 13,
     "metadata": {},
     "output_type": "execute_result"
    }
   ],
   "source": [
    "a + b, a - b, a*b, a/b"
   ]
  },
  {
   "cell_type": "code",
   "execution_count": 14,
   "id": "6d9567f7-8ba0-44af-a711-b648e4a418e6",
   "metadata": {},
   "outputs": [
    {
     "data": {
      "text/plain": [
       "array([[1, 2],\n",
       "       [3, 4]])"
      ]
     },
     "execution_count": 14,
     "metadata": {},
     "output_type": "execute_result"
    }
   ],
   "source": [
    "a%b"
   ]
  },
  {
   "cell_type": "code",
   "execution_count": 15,
   "id": "95714bfb-6ed3-411f-8d33-47e4988b35a7",
   "metadata": {},
   "outputs": [
    {
     "data": {
      "text/plain": [
       "array([[0, 0],\n",
       "       [0, 0]])"
      ]
     },
     "execution_count": 15,
     "metadata": {},
     "output_type": "execute_result"
    }
   ],
   "source": [
    "a//b"
   ]
  },
  {
   "cell_type": "code",
   "execution_count": 16,
   "id": "284d4365-43f0-40ea-aa0e-279384a6a697",
   "metadata": {},
   "outputs": [
    {
     "data": {
      "text/plain": [
       "array([[ 6,  8],\n",
       "       [10, 12]])"
      ]
     },
     "execution_count": 16,
     "metadata": {},
     "output_type": "execute_result"
    }
   ],
   "source": [
    "np.add(a, b)"
   ]
  },
  {
   "cell_type": "code",
   "execution_count": 17,
   "id": "19ff61be-65eb-4d8b-883f-d7865b553467",
   "metadata": {},
   "outputs": [
    {
     "data": {
      "text/plain": [
       "array([[False, False],\n",
       "       [False, False]])"
      ]
     },
     "execution_count": 17,
     "metadata": {},
     "output_type": "execute_result"
    }
   ],
   "source": [
    "np.subtract(a, b) == np.subtract(b, a)"
   ]
  },
  {
   "cell_type": "code",
   "execution_count": 18,
   "id": "427b759b-8e59-48af-a44e-305ca5b788f5",
   "metadata": {},
   "outputs": [
    {
     "data": {
      "text/plain": [
       "(array([[ 5, 12],\n",
       "        [21, 32]]),\n",
       " array([[0.2       , 0.33333333],\n",
       "        [0.42857143, 0.5       ]]))"
      ]
     },
     "execution_count": 18,
     "metadata": {},
     "output_type": "execute_result"
    }
   ],
   "source": [
    "np.multiply(a, b), np.divide(a, b)"
   ]
  },
  {
   "cell_type": "code",
   "execution_count": 19,
   "id": "2a6fe9af-f50b-4bb6-bb21-cc6488274213",
   "metadata": {},
   "outputs": [
    {
     "data": {
      "text/plain": [
       "array([[1, 2],\n",
       "       [3, 4]])"
      ]
     },
     "execution_count": 19,
     "metadata": {},
     "output_type": "execute_result"
    }
   ],
   "source": [
    "a"
   ]
  },
  {
   "cell_type": "code",
   "execution_count": 20,
   "id": "fbebea10-1d04-49ed-93b2-2c9fbbeef879",
   "metadata": {},
   "outputs": [
    {
     "data": {
      "text/plain": [
       "10"
      ]
     },
     "execution_count": 20,
     "metadata": {},
     "output_type": "execute_result"
    }
   ],
   "source": [
    "np.sum(a)"
   ]
  },
  {
   "cell_type": "code",
   "execution_count": 21,
   "id": "753a09fe-869b-48ab-b15a-193043abda80",
   "metadata": {},
   "outputs": [
    {
     "data": {
      "text/plain": [
       "array([3, 7])"
      ]
     },
     "execution_count": 21,
     "metadata": {},
     "output_type": "execute_result"
    }
   ],
   "source": [
    "np.sum(a, axis  = 1)"
   ]
  },
  {
   "cell_type": "code",
   "execution_count": 22,
   "id": "561b6272-be83-409e-b732-59403a03655a",
   "metadata": {},
   "outputs": [
    {
     "data": {
      "text/plain": [
       "array([12, 14])"
      ]
     },
     "execution_count": 22,
     "metadata": {},
     "output_type": "execute_result"
    }
   ],
   "source": [
    "np.sum(b, axis = 0)"
   ]
  },
  {
   "cell_type": "code",
   "execution_count": 23,
   "id": "a57898af-78b1-483b-98f3-c6ebc824a8fb",
   "metadata": {},
   "outputs": [
    {
     "data": {
      "text/plain": [
       "array([[5, 6],\n",
       "       [7, 8]])"
      ]
     },
     "execution_count": 23,
     "metadata": {},
     "output_type": "execute_result"
    }
   ],
   "source": [
    "b"
   ]
  },
  {
   "cell_type": "code",
   "execution_count": 24,
   "id": "09c25393-37d2-4026-aee1-2cd0e7b03f83",
   "metadata": {},
   "outputs": [
    {
     "data": {
      "text/plain": [
       "array([[0, 0, 0],\n",
       "       [0, 0, 0]])"
      ]
     },
     "execution_count": 24,
     "metadata": {},
     "output_type": "execute_result"
    }
   ],
   "source": [
    "np.zeros((2, 3), dtype = int)"
   ]
  },
  {
   "cell_type": "code",
   "execution_count": 25,
   "id": "bf960f6a-f3fc-4839-9177-4abf286fa558",
   "metadata": {},
   "outputs": [
    {
     "data": {
      "text/plain": [
       "array([[1, 1, 1],\n",
       "       [1, 1, 1]])"
      ]
     },
     "execution_count": 25,
     "metadata": {},
     "output_type": "execute_result"
    }
   ],
   "source": [
    "np.ones((2, 3), dtype = int)"
   ]
  },
  {
   "cell_type": "code",
   "execution_count": 26,
   "id": "6b1ba483-200b-4010-a988-73bd51a30316",
   "metadata": {},
   "outputs": [
    {
     "data": {
      "text/plain": [
       "array([[1., 0., 0.],\n",
       "       [0., 1., 0.],\n",
       "       [0., 0., 1.]])"
      ]
     },
     "execution_count": 26,
     "metadata": {},
     "output_type": "execute_result"
    }
   ],
   "source": [
    "np.identity(3)"
   ]
  },
  {
   "cell_type": "code",
   "execution_count": 27,
   "id": "be3eba71-f255-4fd1-828e-6b3927f8013f",
   "metadata": {},
   "outputs": [
    {
     "data": {
      "text/plain": [
       "array([[7, 7, 7, 7, 7],\n",
       "       [7, 7, 7, 7, 7]])"
      ]
     },
     "execution_count": 27,
     "metadata": {},
     "output_type": "execute_result"
    }
   ],
   "source": [
    "np.full((2, 5), 7)"
   ]
  },
  {
   "cell_type": "code",
   "execution_count": 28,
   "id": "da052e46-f466-41e5-aa1e-f77d3a97075d",
   "metadata": {},
   "outputs": [
    {
     "data": {
      "text/plain": [
       "array([1, 2, 3, 4])"
      ]
     },
     "execution_count": 28,
     "metadata": {},
     "output_type": "execute_result"
    }
   ],
   "source": [
    "l"
   ]
  },
  {
   "cell_type": "code",
   "execution_count": 29,
   "id": "1438a739-92f3-47e3-9802-4889210cb637",
   "metadata": {},
   "outputs": [],
   "source": [
    "l = list(l)"
   ]
  },
  {
   "cell_type": "code",
   "execution_count": 30,
   "id": "b05213e1-b1be-4e5e-aee0-b97c7032d292",
   "metadata": {},
   "outputs": [
    {
     "name": "stdout",
     "output_type": "stream",
     "text": [
      "1\n",
      "2\n",
      "3\n",
      "4\n"
     ]
    }
   ],
   "source": [
    "for i in l:\n",
    "    print(i)"
   ]
  },
  {
   "cell_type": "code",
   "execution_count": 31,
   "id": "e5752444-1be1-4042-a558-0da56a604862",
   "metadata": {},
   "outputs": [
    {
     "data": {
      "text/plain": [
       "array([[1, 2],\n",
       "       [3, 4]])"
      ]
     },
     "execution_count": 31,
     "metadata": {},
     "output_type": "execute_result"
    }
   ],
   "source": [
    "a"
   ]
  },
  {
   "cell_type": "code",
   "execution_count": 32,
   "id": "f0f8ef8b-0c09-409a-965c-1bae128e4e71",
   "metadata": {},
   "outputs": [],
   "source": [
    "l = list(a)"
   ]
  },
  {
   "cell_type": "code",
   "execution_count": 33,
   "id": "5a767d03-43c7-4eff-a408-142ecc0847b6",
   "metadata": {},
   "outputs": [
    {
     "data": {
      "text/plain": [
       "[array([1, 2]), array([3, 4])]"
      ]
     },
     "execution_count": 33,
     "metadata": {},
     "output_type": "execute_result"
    }
   ],
   "source": [
    "l"
   ]
  },
  {
   "cell_type": "code",
   "execution_count": 34,
   "id": "3e30c6c6-2365-488f-88b5-051222d4ed69",
   "metadata": {},
   "outputs": [],
   "source": [
    "l = [1, 2, 3, 4]"
   ]
  },
  {
   "cell_type": "code",
   "execution_count": 35,
   "id": "82b0feca-a6be-4ab6-83a7-eaf79efe1309",
   "metadata": {},
   "outputs": [
    {
     "data": {
      "text/plain": [
       "array([[1, 2],\n",
       "       [3, 4]])"
      ]
     },
     "execution_count": 35,
     "metadata": {},
     "output_type": "execute_result"
    }
   ],
   "source": [
    "a"
   ]
  },
  {
   "cell_type": "code",
   "execution_count": 36,
   "id": "bf1cbabc-d715-45c2-9064-1cf879ee55df",
   "metadata": {},
   "outputs": [
    {
     "name": "stdout",
     "output_type": "stream",
     "text": [
      "1\n",
      "2\n",
      "3\n",
      "4\n"
     ]
    }
   ],
   "source": [
    "for i in list(a.ravel()):\n",
    "    print(i)"
   ]
  },
  {
   "cell_type": "code",
   "execution_count": 37,
   "id": "8c3ae5cc-520e-4ecd-9e26-bd16b26bd6e6",
   "metadata": {},
   "outputs": [
    {
     "name": "stdout",
     "output_type": "stream",
     "text": [
      "1\n",
      "2\n",
      "3\n",
      "4\n"
     ]
    }
   ],
   "source": [
    "for i in np.nditer(a):\n",
    "    print(i)"
   ]
  },
  {
   "cell_type": "code",
   "execution_count": 38,
   "id": "a575dbb0-8add-4332-90e9-f019eeaa1c8f",
   "metadata": {},
   "outputs": [],
   "source": [
    "a = np.random.random((2, 3))"
   ]
  },
  {
   "cell_type": "code",
   "execution_count": 39,
   "id": "73c20bf4-f2aa-44e1-8a5b-8d892e5cb212",
   "metadata": {},
   "outputs": [
    {
     "data": {
      "text/plain": [
       "array([[0.06886416, 0.43771067, 0.71536328],\n",
       "       [0.47297302, 0.82439127, 0.29024604]])"
      ]
     },
     "execution_count": 39,
     "metadata": {},
     "output_type": "execute_result"
    }
   ],
   "source": [
    "a"
   ]
  },
  {
   "cell_type": "code",
   "execution_count": 40,
   "id": "0a77dae9-2392-43d1-8331-c2253dee9f3d",
   "metadata": {},
   "outputs": [],
   "source": [
    "a = np.random.randint(0, 10, (5, 2))"
   ]
  },
  {
   "cell_type": "code",
   "execution_count": 41,
   "id": "2761a1e4-6d92-4ddf-a520-36d510aac51a",
   "metadata": {},
   "outputs": [
    {
     "data": {
      "text/plain": [
       "array([[5, 5],\n",
       "       [4, 2],\n",
       "       [4, 9],\n",
       "       [8, 4],\n",
       "       [9, 7]])"
      ]
     },
     "execution_count": 41,
     "metadata": {},
     "output_type": "execute_result"
    }
   ],
   "source": [
    "a"
   ]
  },
  {
   "cell_type": "code",
   "execution_count": 42,
   "id": "79a35332-5826-437e-84c3-3869dce1c146",
   "metadata": {},
   "outputs": [],
   "source": [
    "a = np.random.randn(3, 2)"
   ]
  },
  {
   "cell_type": "code",
   "execution_count": 43,
   "id": "00683227-d09f-4ef9-abe9-b26c4d6eb0e1",
   "metadata": {},
   "outputs": [
    {
     "data": {
      "text/plain": [
       "array([[ 0.58950716, -0.70142775],\n",
       "       [-0.30993731,  0.29084345],\n",
       "       [-0.40985065,  0.09983839]])"
      ]
     },
     "execution_count": 43,
     "metadata": {},
     "output_type": "execute_result"
    }
   ],
   "source": [
    "a"
   ]
  },
  {
   "cell_type": "code",
   "execution_count": 44,
   "id": "9c2352cf-bf47-4af8-a95a-5913eb963074",
   "metadata": {},
   "outputs": [
    {
     "data": {
      "text/plain": [
       "array([[0.48187787, 0.81545049, 0.89655998],\n",
       "       [0.49823177, 0.46213279, 0.93419461]])"
      ]
     },
     "execution_count": 44,
     "metadata": {},
     "output_type": "execute_result"
    }
   ],
   "source": [
    "np.random.rand(2, 3)"
   ]
  },
  {
   "cell_type": "code",
   "execution_count": 45,
   "id": "c18554dd-58a4-4c5f-bce0-410e8570b615",
   "metadata": {},
   "outputs": [
    {
     "data": {
      "text/plain": [
       "array([[ 0.58950716, -0.70142775],\n",
       "       [-0.30993731,  0.29084345],\n",
       "       [-0.40985065,  0.09983839]])"
      ]
     },
     "execution_count": 45,
     "metadata": {},
     "output_type": "execute_result"
    }
   ],
   "source": [
    "a"
   ]
  },
  {
   "cell_type": "code",
   "execution_count": 46,
   "id": "6855415a-0363-43c1-9b23-cc4a842572b3",
   "metadata": {},
   "outputs": [
    {
     "data": {
      "text/plain": [
       "array([[ 0.58950716, -0.70142775],\n",
       "       [-0.30993731,  0.29084345],\n",
       "       [-0.40985065,  0.09983839]])"
      ]
     },
     "execution_count": 46,
     "metadata": {},
     "output_type": "execute_result"
    }
   ],
   "source": [
    "a"
   ]
  },
  {
   "cell_type": "code",
   "execution_count": 47,
   "id": "812d743f-9927-41d6-9787-018f60182bf3",
   "metadata": {},
   "outputs": [
    {
     "data": {
      "text/plain": [
       "array([[5, 6],\n",
       "       [7, 8]])"
      ]
     },
     "execution_count": 47,
     "metadata": {},
     "output_type": "execute_result"
    }
   ],
   "source": [
    "b"
   ]
  },
  {
   "cell_type": "code",
   "execution_count": 48,
   "id": "841f5e0a-a88b-4129-8b0f-57a4a9689e26",
   "metadata": {},
   "outputs": [
    {
     "ename": "ValueError",
     "evalue": "operands could not be broadcast together with shapes (3,2) (2,2) ",
     "output_type": "error",
     "traceback": [
      "\u001b[1;31m---------------------------------------------------------------------------\u001b[0m",
      "\u001b[1;31mValueError\u001b[0m                                Traceback (most recent call last)",
      "Cell \u001b[1;32mIn[48], line 1\u001b[0m\n\u001b[1;32m----> 1\u001b[0m a\u001b[38;5;241m*\u001b[39mb\n",
      "\u001b[1;31mValueError\u001b[0m: operands could not be broadcast together with shapes (3,2) (2,2) "
     ]
    }
   ],
   "source": [
    "a*b"
   ]
  },
  {
   "cell_type": "code",
   "execution_count": 49,
   "id": "db080d18-ea9a-4396-93d2-e24a298907a7",
   "metadata": {},
   "outputs": [
    {
     "data": {
      "text/plain": [
       "array([[-1.96245843, -2.07437902],\n",
       "       [ 0.48621757,  0.4671237 ],\n",
       "       [-1.35038457, -1.66039684]])"
      ]
     },
     "execution_count": 49,
     "metadata": {},
     "output_type": "execute_result"
    }
   ],
   "source": [
    "a.dot(b)"
   ]
  },
  {
   "cell_type": "code",
   "execution_count": 50,
   "id": "fa4365d6-b84b-4032-85fa-633e1b30739c",
   "metadata": {},
   "outputs": [
    {
     "ename": "ValueError",
     "evalue": "shapes (2,2) and (3,2) not aligned: 2 (dim 1) != 3 (dim 0)",
     "output_type": "error",
     "traceback": [
      "\u001b[1;31m---------------------------------------------------------------------------\u001b[0m",
      "\u001b[1;31mValueError\u001b[0m                                Traceback (most recent call last)",
      "Cell \u001b[1;32mIn[50], line 1\u001b[0m\n\u001b[1;32m----> 1\u001b[0m np\u001b[38;5;241m.\u001b[39mdot(a, b) \u001b[38;5;241m==\u001b[39m np\u001b[38;5;241m.\u001b[39mdot(b, a)\n",
      "\u001b[1;31mValueError\u001b[0m: shapes (2,2) and (3,2) not aligned: 2 (dim 1) != 3 (dim 0)"
     ]
    }
   ],
   "source": [
    "np.dot(a, b) == np.dot(b, a)"
   ]
  },
  {
   "cell_type": "code",
   "execution_count": 51,
   "id": "3b438633-286f-4d2d-933a-97c67467a8c7",
   "metadata": {},
   "outputs": [
    {
     "data": {
      "text/plain": [
       "array([[-1.96245843, -2.07437902],\n",
       "       [ 0.48621757,  0.4671237 ],\n",
       "       [-1.35038457, -1.66039684]])"
      ]
     },
     "execution_count": 51,
     "metadata": {},
     "output_type": "execute_result"
    }
   ],
   "source": [
    "a@b"
   ]
  },
  {
   "cell_type": "code",
   "execution_count": 52,
   "id": "6e75c58d-0736-46a4-b1cb-6fcdc797f66d",
   "metadata": {},
   "outputs": [
    {
     "data": {
      "text/plain": [
       "array([0, 2, 4, 6, 8])"
      ]
     },
     "execution_count": 52,
     "metadata": {},
     "output_type": "execute_result"
    }
   ],
   "source": [
    "np.arange(0, 10, 2)"
   ]
  },
  {
   "cell_type": "code",
   "execution_count": 53,
   "id": "6d33571c-6137-4acd-a42c-d45ef660b2fa",
   "metadata": {},
   "outputs": [],
   "source": [
    "rn_mat = np.random.randint(0, 10, (4, 5))"
   ]
  },
  {
   "cell_type": "code",
   "execution_count": 54,
   "id": "bf777aea-1679-472f-b47c-ddd7b6e83f7c",
   "metadata": {},
   "outputs": [
    {
     "data": {
      "text/plain": [
       "array([[2, 6, 5, 5, 4],\n",
       "       [3, 7, 0, 6, 9],\n",
       "       [2, 8, 3, 1, 4],\n",
       "       [0, 1, 3, 0, 0]])"
      ]
     },
     "execution_count": 54,
     "metadata": {},
     "output_type": "execute_result"
    }
   ],
   "source": [
    "rn_mat"
   ]
  },
  {
   "cell_type": "code",
   "execution_count": 55,
   "id": "ac9f16af-fc4d-4fba-bb78-c9bdcbafc36e",
   "metadata": {},
   "outputs": [
    {
     "data": {
      "text/plain": [
       "array([2, 6, 5, 5, 4])"
      ]
     },
     "execution_count": 55,
     "metadata": {},
     "output_type": "execute_result"
    }
   ],
   "source": [
    "rn_mat[0]"
   ]
  },
  {
   "cell_type": "code",
   "execution_count": 56,
   "id": "08cb0e1e-e4dd-4940-a20e-0682894eee42",
   "metadata": {},
   "outputs": [
    {
     "data": {
      "text/plain": [
       "array([[2, 6, 5],\n",
       "       [3, 7, 0],\n",
       "       [2, 8, 3],\n",
       "       [0, 1, 3]])"
      ]
     },
     "execution_count": 56,
     "metadata": {},
     "output_type": "execute_result"
    }
   ],
   "source": [
    "rn_mat[ : , :3 ]"
   ]
  },
  {
   "cell_type": "code",
   "execution_count": 57,
   "id": "ea384446-9592-401a-b985-44663b1aa87f",
   "metadata": {},
   "outputs": [
    {
     "data": {
      "text/plain": [
       "array([[1, 4],\n",
       "       [0, 0]])"
      ]
     },
     "execution_count": 57,
     "metadata": {},
     "output_type": "execute_result"
    }
   ],
   "source": [
    "rn_mat[2:, 3:]"
   ]
  },
  {
   "cell_type": "code",
   "execution_count": 58,
   "id": "3e7dfc6b-cf72-4c3d-b65c-cfd888cc0a33",
   "metadata": {},
   "outputs": [
    {
     "data": {
      "text/plain": [
       "array([[5, 4],\n",
       "       [0, 0]])"
      ]
     },
     "execution_count": 58,
     "metadata": {},
     "output_type": "execute_result"
    }
   ],
   "source": [
    "rn_mat[[0, 3],3 :]"
   ]
  },
  {
   "cell_type": "code",
   "execution_count": 59,
   "id": "079d7ebc-2989-4760-83b1-2665a3e332ec",
   "metadata": {},
   "outputs": [
    {
     "data": {
      "text/plain": [
       "-0.10504946270612237"
      ]
     },
     "execution_count": 59,
     "metadata": {},
     "output_type": "execute_result"
    }
   ],
   "source": [
    "np.median(a)"
   ]
  },
  {
   "cell_type": "code",
   "execution_count": 60,
   "id": "753ea073-7fe3-42bf-94c8-969afc87041a",
   "metadata": {},
   "outputs": [
    {
     "data": {
      "text/plain": [
       "0.44077553899364574"
      ]
     },
     "execution_count": 60,
     "metadata": {},
     "output_type": "execute_result"
    }
   ],
   "source": [
    "np.std(a)"
   ]
  },
  {
   "cell_type": "code",
   "execution_count": 61,
   "id": "7f0f7ad5-e437-4fff-bfbb-5b08a820b1ec",
   "metadata": {},
   "outputs": [
    {
     "data": {
      "text/plain": [
       "0.19428307577513892"
      ]
     },
     "execution_count": 61,
     "metadata": {},
     "output_type": "execute_result"
    }
   ],
   "source": [
    "np.var(a)"
   ]
  },
  {
   "cell_type": "code",
   "execution_count": 62,
   "id": "73324f6b-81b3-4e94-ad50-7ed0a1e620e5",
   "metadata": {},
   "outputs": [],
   "source": [
    "# y = 1/(1 + e**(-x))"
   ]
  },
  {
   "cell_type": "code",
   "execution_count": 63,
   "id": "bd9b17d2-23e1-4360-8de3-7e91d20f25ff",
   "metadata": {},
   "outputs": [
    {
     "data": {
      "text/plain": [
       "0.5"
      ]
     },
     "execution_count": 63,
     "metadata": {},
     "output_type": "execute_result"
    }
   ],
   "source": [
    "e = 2.71\n",
    "x = 0\n",
    "1/(1 + e**(-0))"
   ]
  },
  {
   "cell_type": "code",
   "execution_count": 64,
   "id": "5a2659c0-6232-421b-95a5-52de4894c0c0",
   "metadata": {},
   "outputs": [],
   "source": [
    "def sigmoid(x):\n",
    "    return 1/(1 + np.exp(-x))"
   ]
  },
  {
   "cell_type": "code",
   "execution_count": 65,
   "id": "0fbc8ec1-c6de-4fd0-b6eb-60296915ab86",
   "metadata": {},
   "outputs": [
    {
     "name": "stdout",
     "output_type": "stream",
     "text": [
      "0.5\n"
     ]
    }
   ],
   "source": [
    "print(sigmoid(x = 0))"
   ]
  },
  {
   "cell_type": "code",
   "execution_count": 66,
   "id": "55586c0d-4d5d-40ff-b284-4119eaa733eb",
   "metadata": {},
   "outputs": [],
   "source": [
    "x = 1"
   ]
  },
  {
   "cell_type": "code",
   "execution_count": 67,
   "id": "375da930-775a-4efb-9d42-443d3b690e9e",
   "metadata": {},
   "outputs": [
    {
     "data": {
      "text/plain": [
       "0.8414709848078965"
      ]
     },
     "execution_count": 67,
     "metadata": {},
     "output_type": "execute_result"
    }
   ],
   "source": [
    "np.sin(x)"
   ]
  },
  {
   "cell_type": "code",
   "execution_count": 68,
   "id": "7b3a213e-60ca-46db-865e-53094c9307e6",
   "metadata": {},
   "outputs": [],
   "source": [
    "a = np.random.random((5, 4))"
   ]
  },
  {
   "cell_type": "code",
   "execution_count": 69,
   "id": "f9decb3c-77f3-42da-afbc-f230a0869c31",
   "metadata": {},
   "outputs": [
    {
     "data": {
      "text/plain": [
       "(2, (5, 4))"
      ]
     },
     "execution_count": 69,
     "metadata": {},
     "output_type": "execute_result"
    }
   ],
   "source": [
    "a.ndim,a.shape"
   ]
  },
  {
   "cell_type": "code",
   "execution_count": 70,
   "id": "b590655f-3df6-4ed0-b5ec-c7b61f87e4e0",
   "metadata": {},
   "outputs": [
    {
     "data": {
      "text/plain": [
       "array([[0.84848894, 0.17848732, 0.51384256, 0.902949  , 0.97074203],\n",
       "       [0.94905042, 0.80642752, 0.8258064 , 0.1372117 , 0.48118811],\n",
       "       [0.84849067, 0.11137061, 0.99838429, 0.41858631, 0.82077619],\n",
       "       [0.13629062, 0.5853448 , 0.75201562, 0.8867089 , 0.59253739]])"
      ]
     },
     "execution_count": 70,
     "metadata": {},
     "output_type": "execute_result"
    }
   ],
   "source": [
    "a.transpose()"
   ]
  },
  {
   "cell_type": "code",
   "execution_count": 71,
   "id": "dbe8be21-cda9-4aa2-bd68-3883a2d3065c",
   "metadata": {},
   "outputs": [
    {
     "data": {
      "text/plain": [
       "array([[0.84848894, 0.94905042, 0.84849067, 0.13629062],\n",
       "       [0.17848732, 0.80642752, 0.11137061, 0.5853448 ],\n",
       "       [0.51384256, 0.8258064 , 0.99838429, 0.75201562],\n",
       "       [0.902949  , 0.1372117 , 0.41858631, 0.8867089 ],\n",
       "       [0.97074203, 0.48118811, 0.82077619, 0.59253739]])"
      ]
     },
     "execution_count": 71,
     "metadata": {},
     "output_type": "execute_result"
    }
   ],
   "source": [
    "a"
   ]
  },
  {
   "cell_type": "code",
   "execution_count": 72,
   "id": "bb6e3a10-3189-4831-9c8a-a7550c0177a4",
   "metadata": {},
   "outputs": [
    {
     "data": {
      "text/plain": [
       "array([[0.84848894, 0.94905042, 0.84849067, 0.13629062, 0.17848732,\n",
       "        0.80642752, 0.11137061, 0.5853448 , 0.51384256, 0.8258064 ,\n",
       "        0.99838429, 0.75201562, 0.902949  , 0.1372117 , 0.41858631,\n",
       "        0.8867089 , 0.97074203, 0.48118811, 0.82077619, 0.59253739]])"
      ]
     },
     "execution_count": 72,
     "metadata": {},
     "output_type": "execute_result"
    }
   ],
   "source": [
    "a.reshape(1, 20)"
   ]
  },
  {
   "cell_type": "code",
   "execution_count": 73,
   "id": "2730f082-5a7d-4097-b697-f0e181645da4",
   "metadata": {},
   "outputs": [],
   "source": [
    "x = np.random.random((25, 25))"
   ]
  },
  {
   "cell_type": "code",
   "execution_count": 74,
   "id": "2d77a614-b478-42dc-9f62-390089b9d61e",
   "metadata": {},
   "outputs": [
    {
     "data": {
      "text/plain": [
       "(1, 625)"
      ]
     },
     "execution_count": 74,
     "metadata": {},
     "output_type": "execute_result"
    }
   ],
   "source": [
    "x.reshape(-1, 625).shape"
   ]
  },
  {
   "cell_type": "code",
   "execution_count": 75,
   "id": "98376c8d-9ae7-4a46-9adc-da7abcd473ba",
   "metadata": {},
   "outputs": [
    {
     "data": {
      "text/plain": [
       "(25, 25)"
      ]
     },
     "execution_count": 75,
     "metadata": {},
     "output_type": "execute_result"
    }
   ],
   "source": [
    "x.shape"
   ]
  },
  {
   "cell_type": "code",
   "execution_count": 76,
   "id": "b2d59405-10d1-4980-bc8d-78a60e9c02dd",
   "metadata": {},
   "outputs": [
    {
     "data": {
      "text/plain": [
       "(625,)"
      ]
     },
     "execution_count": 76,
     "metadata": {},
     "output_type": "execute_result"
    }
   ],
   "source": [
    "x.ravel().shape"
   ]
  },
  {
   "cell_type": "code",
   "execution_count": 77,
   "id": "dea82ba6-b316-4186-9f73-251679e324fb",
   "metadata": {},
   "outputs": [],
   "source": [
    "a = np.array([[1, 2], \n",
    "              [3, 4]])\n",
    "b = np.array([[5, 6], \n",
    "              [7, 8]])"
   ]
  },
  {
   "cell_type": "code",
   "execution_count": 78,
   "id": "9355981d-a662-4377-9d5b-13b947b98a65",
   "metadata": {},
   "outputs": [
    {
     "data": {
      "text/plain": [
       "array([[[1, 2],\n",
       "        [3, 4]],\n",
       "\n",
       "       [[5, 6],\n",
       "        [7, 8]]])"
      ]
     },
     "execution_count": 78,
     "metadata": {},
     "output_type": "execute_result"
    }
   ],
   "source": [
    "np.stack((a, b), axis = 0)"
   ]
  },
  {
   "cell_type": "code",
   "execution_count": 79,
   "id": "c6ca3405-573b-4c56-b499-04e4fcf94140",
   "metadata": {},
   "outputs": [
    {
     "data": {
      "text/plain": [
       "array([[[1, 2],\n",
       "        [5, 6]],\n",
       "\n",
       "       [[3, 4],\n",
       "        [7, 8]]])"
      ]
     },
     "execution_count": 79,
     "metadata": {},
     "output_type": "execute_result"
    }
   ],
   "source": [
    "np.stack((a, b), axis = 1)"
   ]
  },
  {
   "cell_type": "code",
   "execution_count": 80,
   "id": "dcb93a2e-6005-4f99-94db-26fd296d3f29",
   "metadata": {},
   "outputs": [],
   "source": [
    "c = np.random.randint(0, 10, (4,6))\n",
    "# find the max and min values along rows and columns respectively"
   ]
  },
  {
   "cell_type": "code",
   "execution_count": 81,
   "id": "7d50242d-0ed5-4d32-b5bd-bee584082bd5",
   "metadata": {},
   "outputs": [
    {
     "data": {
      "text/plain": [
       "array([[4, 5, 4, 6, 6, 5],\n",
       "       [3, 3, 0, 1, 7, 8],\n",
       "       [6, 4, 2, 9, 1, 9],\n",
       "       [3, 9, 2, 7, 5, 4]])"
      ]
     },
     "execution_count": 81,
     "metadata": {},
     "output_type": "execute_result"
    }
   ],
   "source": [
    "c"
   ]
  },
  {
   "cell_type": "code",
   "execution_count": 82,
   "id": "5d14d78e-6d8e-4161-bf39-b11f400c1056",
   "metadata": {},
   "outputs": [
    {
     "data": {
      "text/plain": [
       "4.708333333333333"
      ]
     },
     "execution_count": 82,
     "metadata": {},
     "output_type": "execute_result"
    }
   ],
   "source": [
    "np.mean(c)"
   ]
  },
  {
   "cell_type": "code",
   "execution_count": 83,
   "id": "d10a9c7f-e711-4ab6-b0c3-d100e3636ee4",
   "metadata": {},
   "outputs": [
    {
     "data": {
      "text/plain": [
       "array([4.  , 5.25, 2.  , 5.75, 4.75, 6.5 ])"
      ]
     },
     "execution_count": 83,
     "metadata": {},
     "output_type": "execute_result"
    }
   ],
   "source": [
    "np.mean(c , axis = 0)"
   ]
  },
  {
   "cell_type": "code",
   "execution_count": 84,
   "id": "68f38e37-f449-41c1-8ab1-924d5a68b166",
   "metadata": {},
   "outputs": [
    {
     "data": {
      "text/plain": [
       "array([5.        , 3.66666667, 5.16666667, 5.        ])"
      ]
     },
     "execution_count": 84,
     "metadata": {},
     "output_type": "execute_result"
    }
   ],
   "source": [
    "np.mean(c, axis = 1)"
   ]
  },
  {
   "cell_type": "code",
   "execution_count": 85,
   "id": "b774e9eb-4be2-45d5-8797-23d9bcfb036d",
   "metadata": {},
   "outputs": [
    {
     "data": {
      "text/plain": [
       "array([[1, 2],\n",
       "       [3, 4]])"
      ]
     },
     "execution_count": 85,
     "metadata": {},
     "output_type": "execute_result"
    }
   ],
   "source": [
    "a"
   ]
  },
  {
   "cell_type": "code",
   "execution_count": 86,
   "id": "5d6edc2f-2572-484a-8556-28bbfe7b4ccf",
   "metadata": {},
   "outputs": [
    {
     "data": {
      "text/plain": [
       "array([[5, 6],\n",
       "       [7, 8]])"
      ]
     },
     "execution_count": 86,
     "metadata": {},
     "output_type": "execute_result"
    }
   ],
   "source": [
    "b"
   ]
  },
  {
   "cell_type": "code",
   "execution_count": 87,
   "id": "6108976a-3c84-432a-a7a0-b131e365709d",
   "metadata": {},
   "outputs": [
    {
     "data": {
      "text/plain": [
       "array([[4, 5, 4, 6, 6, 5],\n",
       "       [3, 3, 0, 1, 7, 8],\n",
       "       [6, 4, 2, 9, 1, 9],\n",
       "       [3, 9, 2, 7, 5, 4]])"
      ]
     },
     "execution_count": 87,
     "metadata": {},
     "output_type": "execute_result"
    }
   ],
   "source": [
    "c"
   ]
  },
  {
   "cell_type": "code",
   "execution_count": 90,
   "id": "c440c74a-0929-4b32-a558-e2200fe99bca",
   "metadata": {},
   "outputs": [],
   "source": [
    "e = 2.71\n",
    "x = 0\n",
    "f = 1/(1 + e**(-x))"
   ]
  },
  {
   "cell_type": "code",
   "execution_count": 91,
   "id": "ccaf4ecb-fefa-430f-9229-6113ce569b6d",
   "metadata": {},
   "outputs": [
    {
     "data": {
      "text/plain": [
       "0.5"
      ]
     },
     "execution_count": 91,
     "metadata": {},
     "output_type": "execute_result"
    }
   ],
   "source": [
    "f"
   ]
  },
  {
   "cell_type": "code",
   "execution_count": 92,
   "id": "1a549787-27a0-4bed-a334-db9189b10266",
   "metadata": {},
   "outputs": [],
   "source": [
    "def sigmoid(x):\n",
    "    return 1/(1 + e**-x)"
   ]
  },
  {
   "cell_type": "code",
   "execution_count": 93,
   "id": "8d487be6-69dd-4a80-bbe2-8df9354d9bba",
   "metadata": {},
   "outputs": [
    {
     "name": "stdout",
     "output_type": "stream",
     "text": [
      "0.7304582210242588\n"
     ]
    }
   ],
   "source": [
    "print(sigmoid(x = 1))"
   ]
  },
  {
   "cell_type": "code",
   "execution_count": 94,
   "id": "c18d315a-98ff-4536-b19f-42112c3a8465",
   "metadata": {},
   "outputs": [
    {
     "data": {
      "text/plain": [
       "0.5"
      ]
     },
     "execution_count": 94,
     "metadata": {},
     "output_type": "execute_result"
    }
   ],
   "source": [
    "x = 0\n",
    "1/(1 + np.exp(-x))"
   ]
  },
  {
   "cell_type": "code",
   "execution_count": 96,
   "id": "46574f9e-19d4-429d-8834-1e27f9098dae",
   "metadata": {},
   "outputs": [
    {
     "data": {
      "text/plain": [
       "(4, 6)"
      ]
     },
     "execution_count": 96,
     "metadata": {},
     "output_type": "execute_result"
    }
   ],
   "source": [
    "c.shape\n"
   ]
  },
  {
   "cell_type": "code",
   "execution_count": 97,
   "id": "b7286035-ed8b-4ec4-80f3-96ca4bcd8ac2",
   "metadata": {},
   "outputs": [
    {
     "data": {
      "text/plain": [
       "2"
      ]
     },
     "execution_count": 97,
     "metadata": {},
     "output_type": "execute_result"
    }
   ],
   "source": [
    "c.ndim"
   ]
  },
  {
   "cell_type": "code",
   "execution_count": 95,
   "id": "84316b6e-9ef3-4e83-b4d7-2c53ca42b3b2",
   "metadata": {},
   "outputs": [
    {
     "data": {
      "text/plain": [
       "array([[4, 5, 4, 6, 6, 5],\n",
       "       [3, 3, 0, 1, 7, 8],\n",
       "       [6, 4, 2, 9, 1, 9],\n",
       "       [3, 9, 2, 7, 5, 4]])"
      ]
     },
     "execution_count": 95,
     "metadata": {},
     "output_type": "execute_result"
    }
   ],
   "source": [
    "c"
   ]
  },
  {
   "cell_type": "code",
   "execution_count": 102,
   "id": "cdbf2f6c-fa9a-4c7b-916b-b42c47982bbb",
   "metadata": {},
   "outputs": [
    {
     "data": {
      "text/plain": [
       "array([[4, 3, 6, 3, 5, 3, 4, 9],\n",
       "       [4, 0, 2, 2, 6, 1, 9, 7],\n",
       "       [6, 7, 1, 5, 5, 8, 9, 4]])"
      ]
     },
     "execution_count": 102,
     "metadata": {},
     "output_type": "execute_result"
    }
   ],
   "source": [
    "c.transpose().reshape(3, 8)"
   ]
  },
  {
   "cell_type": "code",
   "execution_count": 101,
   "id": "abcd3ca5-cbf3-4177-a305-17ead6e2f407",
   "metadata": {},
   "outputs": [
    {
     "data": {
      "text/plain": [
       "array([[4, 5, 4],\n",
       "       [6, 6, 5],\n",
       "       [3, 3, 0],\n",
       "       [1, 7, 8],\n",
       "       [6, 4, 2],\n",
       "       [9, 1, 9],\n",
       "       [3, 9, 2],\n",
       "       [7, 5, 4]])"
      ]
     },
     "execution_count": 101,
     "metadata": {},
     "output_type": "execute_result"
    }
   ],
   "source": [
    "c.reshape(8, 3)"
   ]
  },
  {
   "cell_type": "code",
   "execution_count": 103,
   "id": "a474c965-5c38-4de7-a181-17a6809e9de9",
   "metadata": {},
   "outputs": [
    {
     "data": {
      "text/plain": [
       "array([[4, 5, 4, 6],\n",
       "       [6, 5, 3, 3],\n",
       "       [0, 1, 7, 8],\n",
       "       [6, 4, 2, 9],\n",
       "       [1, 9, 3, 9],\n",
       "       [2, 7, 5, 4]])"
      ]
     },
     "execution_count": 103,
     "metadata": {},
     "output_type": "execute_result"
    }
   ],
   "source": [
    "c.reshape(-1, 4)"
   ]
  },
  {
   "cell_type": "code",
   "execution_count": 104,
   "id": "4058f675-cc4b-4b7b-b3f6-f849ce50e784",
   "metadata": {},
   "outputs": [
    {
     "data": {
      "text/plain": [
       "array([[4, 5, 4, 6, 6, 5, 3, 3, 0, 1, 7, 8],\n",
       "       [6, 4, 2, 9, 1, 9, 3, 9, 2, 7, 5, 4]])"
      ]
     },
     "execution_count": 104,
     "metadata": {},
     "output_type": "execute_result"
    }
   ],
   "source": [
    "c.reshape(2, -1)"
   ]
  },
  {
   "cell_type": "code",
   "execution_count": 106,
   "id": "c1fb5c5c-cb88-4408-8142-f7bfa07f04c1",
   "metadata": {},
   "outputs": [
    {
     "data": {
      "text/plain": [
       "array([[4, 5, 4, 6, 6, 5, 3, 3],\n",
       "       [0, 1, 7, 8, 6, 4, 2, 9],\n",
       "       [1, 9, 3, 9, 2, 7, 5, 4]])"
      ]
     },
     "execution_count": 106,
     "metadata": {},
     "output_type": "execute_result"
    }
   ],
   "source": [
    "c.reshape(-1, 8)"
   ]
  },
  {
   "cell_type": "code",
   "execution_count": 107,
   "id": "d5a3125d-d78f-427d-bc11-be9138b1c4f6",
   "metadata": {},
   "outputs": [
    {
     "data": {
      "text/plain": [
       "array([[4, 5, 4, 6, 6, 5],\n",
       "       [3, 3, 0, 1, 7, 8],\n",
       "       [6, 4, 2, 9, 1, 9],\n",
       "       [3, 9, 2, 7, 5, 4]])"
      ]
     },
     "execution_count": 107,
     "metadata": {},
     "output_type": "execute_result"
    }
   ],
   "source": [
    "c"
   ]
  },
  {
   "cell_type": "code",
   "execution_count": 108,
   "id": "1e1e7b5f-9506-430b-93fb-9d5c601bec40",
   "metadata": {},
   "outputs": [
    {
     "data": {
      "text/plain": [
       "array([4, 5, 4, 6, 6, 5, 3, 3, 0, 1, 7, 8, 6, 4, 2, 9, 1, 9, 3, 9, 2, 7,\n",
       "       5, 4])"
      ]
     },
     "execution_count": 108,
     "metadata": {},
     "output_type": "execute_result"
    }
   ],
   "source": [
    "c.ravel()"
   ]
  },
  {
   "cell_type": "code",
   "execution_count": 109,
   "id": "0265cf5c-a4f2-48fd-8480-452d944db857",
   "metadata": {},
   "outputs": [
    {
     "data": {
      "text/plain": [
       "4.708333333333333"
      ]
     },
     "execution_count": 109,
     "metadata": {},
     "output_type": "execute_result"
    }
   ],
   "source": [
    "np.mean(c)"
   ]
  },
  {
   "cell_type": "code",
   "execution_count": 110,
   "id": "04d00cec-aaa4-4c50-84db-3ad755da3eb2",
   "metadata": {},
   "outputs": [
    {
     "data": {
      "text/plain": [
       "array([[4, 5, 4, 6, 6, 5],\n",
       "       [3, 3, 0, 1, 7, 8],\n",
       "       [6, 4, 2, 9, 1, 9],\n",
       "       [3, 9, 2, 7, 5, 4]])"
      ]
     },
     "execution_count": 110,
     "metadata": {},
     "output_type": "execute_result"
    }
   ],
   "source": [
    "c"
   ]
  },
  {
   "cell_type": "code",
   "execution_count": 111,
   "id": "5bdb3eed-5350-4c51-bd93-678387e4c970",
   "metadata": {},
   "outputs": [
    {
     "data": {
      "text/plain": [
       "array([4.  , 5.25, 2.  , 5.75, 4.75, 6.5 ])"
      ]
     },
     "execution_count": 111,
     "metadata": {},
     "output_type": "execute_result"
    }
   ],
   "source": [
    "np.mean(c, axis = 0)"
   ]
  },
  {
   "cell_type": "code",
   "execution_count": 112,
   "id": "0b729197-42fe-4c20-bff1-4062afe9d5de",
   "metadata": {},
   "outputs": [
    {
     "data": {
      "text/plain": [
       "array([5.        , 3.66666667, 5.16666667, 5.        ])"
      ]
     },
     "execution_count": 112,
     "metadata": {},
     "output_type": "execute_result"
    }
   ],
   "source": [
    "np.mean(c, axis = 1)"
   ]
  },
  {
   "cell_type": "code",
   "execution_count": 113,
   "id": "62216963-b32a-4ce6-bdd9-c4b94a4e11b5",
   "metadata": {},
   "outputs": [
    {
     "data": {
      "text/plain": [
       "4.5"
      ]
     },
     "execution_count": 113,
     "metadata": {},
     "output_type": "execute_result"
    }
   ],
   "source": [
    "np.median(c)"
   ]
  },
  {
   "cell_type": "code",
   "execution_count": 114,
   "id": "20369740-f67b-4702-9cbe-0e385053cb79",
   "metadata": {},
   "outputs": [
    {
     "data": {
      "text/plain": [
       "array([3.5, 4.5, 2. , 6.5, 5.5, 6.5])"
      ]
     },
     "execution_count": 114,
     "metadata": {},
     "output_type": "execute_result"
    }
   ],
   "source": [
    "np.median(c, axis = 0)"
   ]
  },
  {
   "cell_type": "code",
   "execution_count": 117,
   "id": "fbbffdcf-8877-4c19-b44a-d925c3aba0e5",
   "metadata": {},
   "outputs": [
    {
     "data": {
      "text/plain": [
       "6.539930555555555"
      ]
     },
     "execution_count": 117,
     "metadata": {},
     "output_type": "execute_result"
    }
   ],
   "source": [
    "np.std(c)**2"
   ]
  },
  {
   "cell_type": "code",
   "execution_count": 116,
   "id": "b2f1fb5b-84ff-4aa3-bce2-24d6ff5a83b5",
   "metadata": {},
   "outputs": [
    {
     "data": {
      "text/plain": [
       "6.5399305555555545"
      ]
     },
     "execution_count": 116,
     "metadata": {},
     "output_type": "execute_result"
    }
   ],
   "source": [
    "np.var(c)"
   ]
  },
  {
   "cell_type": "code",
   "execution_count": 118,
   "id": "de56b45b-16ca-4727-912b-e93b6ff70af4",
   "metadata": {},
   "outputs": [
    {
     "data": {
      "text/plain": [
       "array([[4, 5, 4, 6, 6, 5],\n",
       "       [3, 3, 0, 1, 7, 8],\n",
       "       [6, 4, 2, 9, 1, 9],\n",
       "       [3, 9, 2, 7, 5, 4]])"
      ]
     },
     "execution_count": 118,
     "metadata": {},
     "output_type": "execute_result"
    }
   ],
   "source": [
    "c"
   ]
  },
  {
   "cell_type": "code",
   "execution_count": 119,
   "id": "f7bd5927-0f67-4749-b696-0151ea2ca987",
   "metadata": {},
   "outputs": [],
   "source": [
    "# find all the numbers greater than 5"
   ]
  },
  {
   "cell_type": "code",
   "execution_count": 123,
   "id": "b10e18db-7202-4b55-8218-b20e7d4b2ae5",
   "metadata": {},
   "outputs": [
    {
     "data": {
      "text/plain": [
       "array([6, 6, 7, 8, 6, 9, 9, 9, 7])"
      ]
     },
     "execution_count": 123,
     "metadata": {},
     "output_type": "execute_result"
    }
   ],
   "source": [
    "c[c>5]"
   ]
  },
  {
   "cell_type": "code",
   "execution_count": 128,
   "id": "20f7ce31-8715-4279-86fe-691298762e9f",
   "metadata": {},
   "outputs": [
    {
     "data": {
      "text/plain": [
       "array([[6, 9, 4, 9, 7, 9],\n",
       "       [4, 5, 2, 7, 6, 8],\n",
       "       [3, 4, 2, 6, 5, 5],\n",
       "       [3, 3, 0, 1, 1, 4]])"
      ]
     },
     "execution_count": 128,
     "metadata": {},
     "output_type": "execute_result"
    }
   ],
   "source": [
    "np.sort(c, axis = 0)[::-1]"
   ]
  },
  {
   "cell_type": "code",
   "execution_count": 129,
   "id": "6b22d6a0-9aa0-466d-aadc-ac622dba165d",
   "metadata": {},
   "outputs": [
    {
     "data": {
      "text/plain": [
       "array([[5, 6],\n",
       "       [7, 8]])"
      ]
     },
     "execution_count": 129,
     "metadata": {},
     "output_type": "execute_result"
    }
   ],
   "source": [
    "b"
   ]
  },
  {
   "cell_type": "code",
   "execution_count": 131,
   "id": "0ae5e99c-f37a-4836-a583-45a436c02b0e",
   "metadata": {},
   "outputs": [],
   "source": [
    "b = np.append(b, 20)"
   ]
  },
  {
   "cell_type": "code",
   "execution_count": 132,
   "id": "eb786b4a-9de6-46f2-9613-1df57df137cd",
   "metadata": {},
   "outputs": [],
   "source": [
    "b = np.append(b, 10)"
   ]
  },
  {
   "cell_type": "code",
   "execution_count": 133,
   "id": "4c5b4893-6812-4d44-8d2d-8058a2f180b2",
   "metadata": {},
   "outputs": [
    {
     "data": {
      "text/plain": [
       "array([ 5,  6,  7,  8, 20, 10])"
      ]
     },
     "execution_count": 133,
     "metadata": {},
     "output_type": "execute_result"
    }
   ],
   "source": [
    "b"
   ]
  },
  {
   "cell_type": "code",
   "execution_count": 137,
   "id": "6dcc7763-e961-4fa1-9407-089544af3dba",
   "metadata": {},
   "outputs": [],
   "source": [
    "b = b.reshape(2, 3)"
   ]
  },
  {
   "cell_type": "code",
   "execution_count": 138,
   "id": "58c90b7a-d800-41da-9aed-b2c53743822e",
   "metadata": {},
   "outputs": [
    {
     "data": {
      "text/plain": [
       "array([[ 5,  6,  7],\n",
       "       [ 8, 20, 10]])"
      ]
     },
     "execution_count": 138,
     "metadata": {},
     "output_type": "execute_result"
    }
   ],
   "source": [
    "b"
   ]
  },
  {
   "cell_type": "code",
   "execution_count": 136,
   "id": "7826bd03-5e5b-48e8-80e8-d64d8ec318a9",
   "metadata": {},
   "outputs": [
    {
     "data": {
      "text/plain": [
       "array([[1, 2],\n",
       "       [3, 4]])"
      ]
     },
     "execution_count": 136,
     "metadata": {},
     "output_type": "execute_result"
    }
   ],
   "source": [
    "a"
   ]
  },
  {
   "cell_type": "code",
   "execution_count": 139,
   "id": "280d466b-d5f7-42a5-9d93-010ff56441e6",
   "metadata": {},
   "outputs": [
    {
     "data": {
      "text/plain": [
       "array([[1, 2],\n",
       "       [3, 4]])"
      ]
     },
     "execution_count": 139,
     "metadata": {},
     "output_type": "execute_result"
    }
   ],
   "source": [
    "a"
   ]
  },
  {
   "cell_type": "code",
   "execution_count": 140,
   "id": "5c680024-9355-40e7-b52a-e16f860f0694",
   "metadata": {},
   "outputs": [
    {
     "data": {
      "text/plain": [
       "array([[ 5,  6,  7],\n",
       "       [ 8, 20, 10]])"
      ]
     },
     "execution_count": 140,
     "metadata": {},
     "output_type": "execute_result"
    }
   ],
   "source": [
    "b"
   ]
  },
  {
   "cell_type": "code",
   "execution_count": 144,
   "id": "ac3cf959-1aab-481e-8f07-4dd50e86a0da",
   "metadata": {},
   "outputs": [],
   "source": [
    "# np.concatenate(a, b)"
   ]
  },
  {
   "cell_type": "code",
   "execution_count": 148,
   "id": "5cb9fe4e-16aa-42ac-b668-ebb7df6f74db",
   "metadata": {},
   "outputs": [],
   "source": [
    "b = np.array([[5, 6], [7, 8]])\n"
   ]
  },
  {
   "cell_type": "code",
   "execution_count": 149,
   "id": "90466676-f9ae-46f3-b691-b6e0320fb3c9",
   "metadata": {},
   "outputs": [
    {
     "data": {
      "text/plain": [
       "array([[1, 2],\n",
       "       [3, 4]])"
      ]
     },
     "execution_count": 149,
     "metadata": {},
     "output_type": "execute_result"
    }
   ],
   "source": [
    "a"
   ]
  },
  {
   "cell_type": "code",
   "execution_count": 150,
   "id": "296c7780-6d6d-40e7-8427-4fbd6008a2a5",
   "metadata": {},
   "outputs": [
    {
     "data": {
      "text/plain": [
       "array([[5, 6],\n",
       "       [7, 8]])"
      ]
     },
     "execution_count": 150,
     "metadata": {},
     "output_type": "execute_result"
    }
   ],
   "source": [
    "b"
   ]
  },
  {
   "cell_type": "code",
   "execution_count": 152,
   "id": "599aa10d-786a-4ae1-8159-b2ac9b70b751",
   "metadata": {},
   "outputs": [
    {
     "data": {
      "text/plain": [
       "array([[1, 2],\n",
       "       [3, 4],\n",
       "       [5, 6],\n",
       "       [7, 8]])"
      ]
     },
     "execution_count": 152,
     "metadata": {},
     "output_type": "execute_result"
    }
   ],
   "source": [
    "np.concatenate((a, b))"
   ]
  },
  {
   "cell_type": "code",
   "execution_count": 153,
   "id": "f0c40045-defb-4c08-b46d-efde97f2ee25",
   "metadata": {},
   "outputs": [
    {
     "data": {
      "text/plain": [
       "array([[5, 6],\n",
       "       [7, 8]])"
      ]
     },
     "execution_count": 153,
     "metadata": {},
     "output_type": "execute_result"
    }
   ],
   "source": [
    "b"
   ]
  },
  {
   "cell_type": "code",
   "execution_count": 154,
   "id": "65f06030-700c-4731-9dfa-6350894e8ed8",
   "metadata": {},
   "outputs": [
    {
     "data": {
      "text/plain": [
       "array([5, 6, 7, 8])"
      ]
     },
     "execution_count": 154,
     "metadata": {},
     "output_type": "execute_result"
    }
   ],
   "source": [
    "np.unique(b)"
   ]
  },
  {
   "cell_type": "code",
   "execution_count": 155,
   "id": "f44eef80-85a6-4022-a640-3ca37d23046d",
   "metadata": {},
   "outputs": [
    {
     "data": {
      "text/plain": [
       "array([[4, 5, 4, 6, 6, 5],\n",
       "       [3, 3, 0, 1, 7, 8],\n",
       "       [6, 4, 2, 9, 1, 9],\n",
       "       [3, 9, 2, 7, 5, 4]])"
      ]
     },
     "execution_count": 155,
     "metadata": {},
     "output_type": "execute_result"
    }
   ],
   "source": [
    "c"
   ]
  },
  {
   "cell_type": "code",
   "execution_count": 156,
   "id": "88274417-0fa1-494b-ab52-9e7edd951853",
   "metadata": {},
   "outputs": [
    {
     "data": {
      "text/plain": [
       "array([0, 1, 2, 3, 4, 5, 6, 7, 8, 9])"
      ]
     },
     "execution_count": 156,
     "metadata": {},
     "output_type": "execute_result"
    }
   ],
   "source": [
    "np.unique(c)"
   ]
  },
  {
   "cell_type": "code",
   "execution_count": 157,
   "id": "c0fa6ce9-2201-42e3-bae5-6b03b350601e",
   "metadata": {},
   "outputs": [
    {
     "data": {
      "text/plain": [
       "array([[4, 5, 4, 6, 6, 5],\n",
       "       [3, 3, 0, 1, 7, 8],\n",
       "       [6, 4, 2, 9, 1, 9],\n",
       "       [3, 9, 2, 7, 5, 4]])"
      ]
     },
     "execution_count": 157,
     "metadata": {},
     "output_type": "execute_result"
    }
   ],
   "source": [
    "c"
   ]
  },
  {
   "cell_type": "code",
   "execution_count": 163,
   "id": "d0eb8fe0-73a5-4b57-b6e0-12a0a863beda",
   "metadata": {},
   "outputs": [
    {
     "name": "stdout",
     "output_type": "stream",
     "text": [
      "4\n",
      "5\n",
      "4\n",
      "6\n",
      "6\n",
      "5\n",
      "3\n",
      "3\n",
      "0\n",
      "1\n",
      "7\n",
      "8\n",
      "6\n",
      "4\n",
      "2\n",
      "9\n",
      "1\n",
      "9\n",
      "3\n",
      "9\n",
      "2\n",
      "7\n",
      "5\n",
      "4\n"
     ]
    }
   ],
   "source": [
    "for numbers in np.nditer(c):\n",
    "    print(numbers)"
   ]
  },
  {
   "cell_type": "code",
   "execution_count": 164,
   "id": "ab1ffed8-5ee3-4cc1-93bd-a0cc65aed3e1",
   "metadata": {},
   "outputs": [
    {
     "data": {
      "text/plain": [
       "array([[4, 5, 4, 6, 6, 5],\n",
       "       [3, 3, 0, 1, 7, 8],\n",
       "       [6, 4, 2, 9, 1, 9],\n",
       "       [3, 9, 2, 7, 5, 4]])"
      ]
     },
     "execution_count": 164,
     "metadata": {},
     "output_type": "execute_result"
    }
   ],
   "source": [
    "c"
   ]
  },
  {
   "cell_type": "code",
   "execution_count": 165,
   "id": "8ce3dc77-584c-4c70-a632-87eb08995ecd",
   "metadata": {},
   "outputs": [
    {
     "data": {
      "text/plain": [
       "(array([0, 0, 1, 1, 2, 2, 2, 3, 3], dtype=int64),\n",
       " array([3, 4, 4, 5, 0, 3, 5, 1, 3], dtype=int64))"
      ]
     },
     "execution_count": 165,
     "metadata": {},
     "output_type": "execute_result"
    }
   ],
   "source": [
    "np.where(c>5)"
   ]
  },
  {
   "cell_type": "code",
   "execution_count": 167,
   "id": "8ad8a64f-8de6-40c7-bb5a-0d0e4bcb7364",
   "metadata": {},
   "outputs": [
    {
     "data": {
      "text/plain": [
       "(array([0, 0, 1, 1], dtype=int64), array([0, 1, 0, 1], dtype=int64))"
      ]
     },
     "execution_count": 167,
     "metadata": {},
     "output_type": "execute_result"
    }
   ],
   "source": [
    "np.where(b>3)"
   ]
  },
  {
   "cell_type": "code",
   "execution_count": 168,
   "id": "3b1d0abe-ffde-490a-8072-f5321b4b49b0",
   "metadata": {},
   "outputs": [
    {
     "data": {
      "text/plain": [
       "3"
      ]
     },
     "execution_count": 168,
     "metadata": {},
     "output_type": "execute_result"
    }
   ],
   "source": [
    "np.argmax(b)"
   ]
  },
  {
   "cell_type": "code",
   "execution_count": 169,
   "id": "23d09d11-2e68-4cbe-8950-ca43de55d96a",
   "metadata": {},
   "outputs": [
    {
     "data": {
      "text/plain": [
       "array([[1, 2],\n",
       "       [3, 4]])"
      ]
     },
     "execution_count": 169,
     "metadata": {},
     "output_type": "execute_result"
    }
   ],
   "source": [
    "a"
   ]
  },
  {
   "cell_type": "code",
   "execution_count": 174,
   "id": "37843caf-5bdf-49a5-bb45-6ae88cfce8cb",
   "metadata": {},
   "outputs": [
    {
     "data": {
      "text/plain": [
       "array([4, 5, 1, 3, 9, 0, 0, 7, 6, 8])"
      ]
     },
     "execution_count": 174,
     "metadata": {},
     "output_type": "execute_result"
    }
   ],
   "source": [
    "a = np.random.randint(0, 10, 10)\n",
    "a"
   ]
  },
  {
   "cell_type": "code",
   "execution_count": 177,
   "id": "5a6a76c7-045f-4b1c-ac71-e8a22dcb82b5",
   "metadata": {},
   "outputs": [],
   "source": [
    "idx = np.argmax(a)"
   ]
  },
  {
   "cell_type": "code",
   "execution_count": 178,
   "id": "74b8acb6-528d-44ea-8fc4-1a23ec492a3d",
   "metadata": {},
   "outputs": [],
   "source": [
    "maximum = a[idx]"
   ]
  },
  {
   "cell_type": "code",
   "execution_count": 179,
   "id": "446bdbcf-00b4-437c-9372-4d01185c1b4f",
   "metadata": {},
   "outputs": [
    {
     "data": {
      "text/plain": [
       "9"
      ]
     },
     "execution_count": 179,
     "metadata": {},
     "output_type": "execute_result"
    }
   ],
   "source": [
    "maximum"
   ]
  },
  {
   "cell_type": "code",
   "execution_count": null,
   "id": "88bfbd1f-1838-4b0a-8996-f06378e840a7",
   "metadata": {},
   "outputs": [],
   "source": []
  }
 ],
 "metadata": {
  "kernelspec": {
   "display_name": "Python 3 (ipykernel)",
   "language": "python",
   "name": "python3"
  },
  "language_info": {
   "codemirror_mode": {
    "name": "ipython",
    "version": 3
   },
   "file_extension": ".py",
   "mimetype": "text/x-python",
   "name": "python",
   "nbconvert_exporter": "python",
   "pygments_lexer": "ipython3",
   "version": "3.12.7"
  }
 },
 "nbformat": 4,
 "nbformat_minor": 5
}
