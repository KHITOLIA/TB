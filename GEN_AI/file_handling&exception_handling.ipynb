{
 "cells": [
  {
   "cell_type": "code",
   "execution_count": 9,
   "id": "070d018a-6ded-4849-8d54-5981889fec65",
   "metadata": {},
   "outputs": [],
   "source": [
    "# Error Handling"
   ]
  },
  {
   "cell_type": "code",
   "execution_count": 10,
   "id": "ab6d295c-bbb3-4248-ad40-3f60d7fa832f",
   "metadata": {},
   "outputs": [],
   "source": [
    "# try and except"
   ]
  },
  {
   "cell_type": "code",
   "execution_count": 11,
   "id": "8c5d91a8-9b3c-43f9-abae-6307f8b3d540",
   "metadata": {},
   "outputs": [
    {
     "ename": "NameError",
     "evalue": "name 'a' is not defined",
     "output_type": "error",
     "traceback": [
      "\u001b[1;31m---------------------------------------------------------------------------\u001b[0m",
      "\u001b[1;31mNameError\u001b[0m                                 Traceback (most recent call last)",
      "Cell \u001b[1;32mIn[11], line 1\u001b[0m\n\u001b[1;32m----> 1\u001b[0m a\n",
      "\u001b[1;31mNameError\u001b[0m: name 'a' is not defined"
     ]
    }
   ],
   "source": [
    "a"
   ]
  },
  {
   "cell_type": "code",
   "execution_count": 12,
   "id": "b7381136-2420-4899-8b74-067c858917df",
   "metadata": {},
   "outputs": [],
   "source": [
    "def divider(a , b):\n",
    "    return a/b"
   ]
  },
  {
   "cell_type": "code",
   "execution_count": 13,
   "id": "080579e7-447e-4790-b0c7-0f2ed671989c",
   "metadata": {},
   "outputs": [
    {
     "name": "stdout",
     "output_type": "stream",
     "text": [
      "5.0\n"
     ]
    }
   ],
   "source": [
    "print(divider(10, 2))"
   ]
  },
  {
   "cell_type": "code",
   "execution_count": 14,
   "id": "19b266df-ce4c-4573-a47f-2350a8e5d066",
   "metadata": {},
   "outputs": [
    {
     "ename": "ZeroDivisionError",
     "evalue": "division by zero",
     "output_type": "error",
     "traceback": [
      "\u001b[1;31m---------------------------------------------------------------------------\u001b[0m",
      "\u001b[1;31mZeroDivisionError\u001b[0m                         Traceback (most recent call last)",
      "Cell \u001b[1;32mIn[14], line 1\u001b[0m\n\u001b[1;32m----> 1\u001b[0m \u001b[38;5;28mprint\u001b[39m(divider(\u001b[38;5;241m10\u001b[39m, \u001b[38;5;241m0\u001b[39m))\n",
      "Cell \u001b[1;32mIn[12], line 2\u001b[0m, in \u001b[0;36mdivider\u001b[1;34m(a, b)\u001b[0m\n\u001b[0;32m      1\u001b[0m \u001b[38;5;28;01mdef\u001b[39;00m \u001b[38;5;21mdivider\u001b[39m(a , b):\n\u001b[1;32m----> 2\u001b[0m     \u001b[38;5;28;01mreturn\u001b[39;00m a\u001b[38;5;241m/\u001b[39mb\n",
      "\u001b[1;31mZeroDivisionError\u001b[0m: division by zero"
     ]
    }
   ],
   "source": [
    "print(divider(10, 0))"
   ]
  },
  {
   "cell_type": "code",
   "execution_count": 15,
   "id": "719c14fa-03b3-4484-8ed1-224c326a1b8d",
   "metadata": {},
   "outputs": [],
   "source": [
    "l = [1, 2, 3]"
   ]
  },
  {
   "cell_type": "code",
   "execution_count": 8,
   "id": "18e9b58f-a1e6-4f45-b609-fd908a41567a",
   "metadata": {},
   "outputs": [
    {
     "ename": "IndexError",
     "evalue": "list index out of range",
     "output_type": "error",
     "traceback": [
      "\u001b[1;31m---------------------------------------------------------------------------\u001b[0m",
      "\u001b[1;31mIndexError\u001b[0m                                Traceback (most recent call last)",
      "Cell \u001b[1;32mIn[8], line 1\u001b[0m\n\u001b[1;32m----> 1\u001b[0m l[\u001b[38;5;241m4\u001b[39m]\n",
      "\u001b[1;31mIndexError\u001b[0m: list index out of range"
     ]
    }
   ],
   "source": [
    "l[4]"
   ]
  },
  {
   "cell_type": "code",
   "execution_count": 23,
   "id": "14b19331-3152-4b20-9b59-deee7265ba38",
   "metadata": {},
   "outputs": [],
   "source": [
    "def divider(a, b):\n",
    "    try:\n",
    "        return a/b\n",
    "    except ZeroDivisionError:\n",
    "        print(\"Not able to divide by zero\")\n",
    "    except TypeError:\n",
    "        print(\"Different data type\")"
   ]
  },
  {
   "cell_type": "code",
   "execution_count": 26,
   "id": "da7ac7b6-00ba-422e-8ff3-f2774c07bd4c",
   "metadata": {},
   "outputs": [
    {
     "name": "stdout",
     "output_type": "stream",
     "text": [
      "Different data type\n"
     ]
    }
   ],
   "source": [
    "divider(10, [10.0])"
   ]
  },
  {
   "cell_type": "code",
   "execution_count": 32,
   "id": "719347b2-dc50-4a22-b422-9656a4aff3d7",
   "metadata": {},
   "outputs": [],
   "source": [
    "def divider(a, b):\n",
    "    try:\n",
    "        return a/b\n",
    "    except Exception as e:\n",
    "        print(e)\n",
    "    finally:\n",
    "        b = int(input(\"enter your number : \"))\n",
    "        return a/b"
   ]
  },
  {
   "cell_type": "code",
   "execution_count": 33,
   "id": "8e71016a-4943-43e6-95e9-a4383ce4d31e",
   "metadata": {},
   "outputs": [
    {
     "name": "stdout",
     "output_type": "stream",
     "text": [
      "unsupported operand type(s) for /: 'int' and 'str'\n"
     ]
    },
    {
     "name": "stdin",
     "output_type": "stream",
     "text": [
      "enter your number :  23\n"
     ]
    },
    {
     "data": {
      "text/plain": [
       "0.43478260869565216"
      ]
     },
     "execution_count": 33,
     "metadata": {},
     "output_type": "execute_result"
    }
   ],
   "source": [
    "divider(10, '23')"
   ]
  },
  {
   "cell_type": "code",
   "execution_count": 29,
   "id": "5f2d44a6-31c9-4055-a4a5-101c8d846672",
   "metadata": {},
   "outputs": [
    {
     "ename": "TypeError",
     "evalue": "unsupported operand type(s) for +: 'int' and 'str'",
     "output_type": "error",
     "traceback": [
      "\u001b[1;31m---------------------------------------------------------------------------\u001b[0m",
      "\u001b[1;31mTypeError\u001b[0m                                 Traceback (most recent call last)",
      "Cell \u001b[1;32mIn[29], line 1\u001b[0m\n\u001b[1;32m----> 1\u001b[0m \u001b[38;5;241m10\u001b[39m \u001b[38;5;241m+\u001b[39m \u001b[38;5;124m'\u001b[39m\u001b[38;5;124m23\u001b[39m\u001b[38;5;124m'\u001b[39m\n",
      "\u001b[1;31mTypeError\u001b[0m: unsupported operand type(s) for +: 'int' and 'str'"
     ]
    }
   ],
   "source": [
    "10 + '23'"
   ]
  },
  {
   "cell_type": "code",
   "execution_count": 34,
   "id": "12f7d859-4f9a-48fd-9d8c-5eeb27b77884",
   "metadata": {},
   "outputs": [],
   "source": [
    "# file handling"
   ]
  },
  {
   "cell_type": "code",
   "execution_count": 35,
   "id": "97588566-41ab-4108-b9c3-be6a448dff98",
   "metadata": {},
   "outputs": [],
   "source": [
    "# txt , json"
   ]
  },
  {
   "cell_type": "code",
   "execution_count": 36,
   "id": "1381f8a5-6364-4643-83d3-808783ae1de2",
   "metadata": {},
   "outputs": [],
   "source": [
    "file = open('ml.txt', 'r')"
   ]
  },
  {
   "cell_type": "code",
   "execution_count": 37,
   "id": "c7a8c958-ab8a-4b74-aa10-4e753ba4faec",
   "metadata": {},
   "outputs": [
    {
     "data": {
      "text/plain": [
       "<_io.TextIOWrapper name='ml.txt' mode='r' encoding='cp1252'>"
      ]
     },
     "execution_count": 37,
     "metadata": {},
     "output_type": "execute_result"
    }
   ],
   "source": [
    "file"
   ]
  },
  {
   "cell_type": "code",
   "execution_count": 38,
   "id": "1715412f-1214-4303-8c39-85b5fb903d3e",
   "metadata": {},
   "outputs": [
    {
     "data": {
      "text/plain": [
       "'Hello world\\nMachine learning\\nGen-Ai'"
      ]
     },
     "execution_count": 38,
     "metadata": {},
     "output_type": "execute_result"
    }
   ],
   "source": [
    "file.read()"
   ]
  },
  {
   "cell_type": "code",
   "execution_count": 39,
   "id": "172e443e-7ea0-47e5-bdc1-1c856d6ce679",
   "metadata": {},
   "outputs": [
    {
     "data": {
      "text/plain": [
       "''"
      ]
     },
     "execution_count": 39,
     "metadata": {},
     "output_type": "execute_result"
    }
   ],
   "source": [
    "file.read()"
   ]
  },
  {
   "cell_type": "code",
   "execution_count": 40,
   "id": "b0859a4f-865c-44e2-8ae8-e8e495d3135a",
   "metadata": {},
   "outputs": [
    {
     "data": {
      "text/plain": [
       "0"
      ]
     },
     "execution_count": 40,
     "metadata": {},
     "output_type": "execute_result"
    }
   ],
   "source": [
    "file.seek(0)"
   ]
  },
  {
   "cell_type": "code",
   "execution_count": 41,
   "id": "a35140bf-8272-4c85-8d76-681a3980bbd0",
   "metadata": {},
   "outputs": [
    {
     "data": {
      "text/plain": [
       "'Hello world\\nMachine learning\\nGen-Ai'"
      ]
     },
     "execution_count": 41,
     "metadata": {},
     "output_type": "execute_result"
    }
   ],
   "source": [
    "file.read()"
   ]
  },
  {
   "cell_type": "code",
   "execution_count": 42,
   "id": "4e2d4e40-6dfa-4fe8-8b9e-00d6d021a2f3",
   "metadata": {},
   "outputs": [
    {
     "data": {
      "text/plain": [
       "5"
      ]
     },
     "execution_count": 42,
     "metadata": {},
     "output_type": "execute_result"
    }
   ],
   "source": [
    "file.seek(5)"
   ]
  },
  {
   "cell_type": "code",
   "execution_count": 43,
   "id": "e2a494a2-a10d-4ea3-98d8-6df91f7acbbc",
   "metadata": {},
   "outputs": [
    {
     "data": {
      "text/plain": [
       "' world\\nMachine learning\\nGen-Ai'"
      ]
     },
     "execution_count": 43,
     "metadata": {},
     "output_type": "execute_result"
    }
   ],
   "source": [
    "file.read()"
   ]
  },
  {
   "cell_type": "code",
   "execution_count": 49,
   "id": "407733b7-caa9-4079-ae67-f6ae8946c911",
   "metadata": {},
   "outputs": [
    {
     "data": {
      "text/plain": [
       "0"
      ]
     },
     "execution_count": 49,
     "metadata": {},
     "output_type": "execute_result"
    }
   ],
   "source": [
    "file.seek(0)"
   ]
  },
  {
   "cell_type": "code",
   "execution_count": 48,
   "id": "3057c3ca-2f8c-4db6-978d-ad84dfa1321b",
   "metadata": {},
   "outputs": [
    {
     "data": {
      "text/plain": [
       "''"
      ]
     },
     "execution_count": 48,
     "metadata": {},
     "output_type": "execute_result"
    }
   ],
   "source": [
    "file.readline()"
   ]
  },
  {
   "cell_type": "code",
   "execution_count": 50,
   "id": "6731980f-e93e-4703-9897-9b33ab544a4b",
   "metadata": {},
   "outputs": [
    {
     "data": {
      "text/plain": [
       "['Hello world\\n', 'Machine learning\\n', 'Gen-Ai']"
      ]
     },
     "execution_count": 50,
     "metadata": {},
     "output_type": "execute_result"
    }
   ],
   "source": [
    "file.readlines()"
   ]
  },
  {
   "cell_type": "code",
   "execution_count": 53,
   "id": "e1cde164-344f-4755-9f56-fef34ade69c5",
   "metadata": {},
   "outputs": [],
   "source": [
    "file.close()"
   ]
  },
  {
   "cell_type": "code",
   "execution_count": 55,
   "id": "b8b5ebc5-0968-49d5-9269-d29e5675ca42",
   "metadata": {},
   "outputs": [
    {
     "data": {
      "text/plain": [
       "1320590211584"
      ]
     },
     "execution_count": 55,
     "metadata": {},
     "output_type": "execute_result"
    }
   ],
   "source": [
    "id(file)"
   ]
  },
  {
   "cell_type": "code",
   "execution_count": 56,
   "id": "3e3a5a31-7e3e-44d1-85fb-26cb0790652a",
   "metadata": {},
   "outputs": [
    {
     "name": "stdout",
     "output_type": "stream",
     "text": [
      "The history saving thread hit an unexpected error (OperationalError('database or disk is full')).History will not be written to the database.\n"
     ]
    }
   ],
   "source": [
    "file = open('ml.txt', 'w')"
   ]
  },
  {
   "cell_type": "code",
   "execution_count": 57,
   "id": "15989c55-b749-4355-99a8-6d9c45d5dd7f",
   "metadata": {},
   "outputs": [
    {
     "data": {
      "text/plain": [
       "12"
      ]
     },
     "execution_count": 57,
     "metadata": {},
     "output_type": "execute_result"
    }
   ],
   "source": [
    "file.write(\"Data Science\")"
   ]
  },
  {
   "cell_type": "code",
   "execution_count": 58,
   "id": "c04093ce-156d-406a-bae6-13b7a9b2a3fc",
   "metadata": {},
   "outputs": [],
   "source": [
    "file.close()"
   ]
  },
  {
   "cell_type": "code",
   "execution_count": 59,
   "id": "4845900f-2ec4-4ff6-ba2e-cb49555690a6",
   "metadata": {},
   "outputs": [],
   "source": [
    "file = open('ml.txt', 'a')"
   ]
  },
  {
   "cell_type": "code",
   "execution_count": 60,
   "id": "22909520-4b15-49af-98da-095f642dcd6e",
   "metadata": {},
   "outputs": [
    {
     "data": {
      "text/plain": [
       "15"
      ]
     },
     "execution_count": 60,
     "metadata": {},
     "output_type": "execute_result"
    }
   ],
   "source": [
    "file.write(\"Training basket\")"
   ]
  },
  {
   "cell_type": "code",
   "execution_count": 61,
   "id": "bbdd9e46-81e3-4c14-851c-528048c37c9a",
   "metadata": {},
   "outputs": [],
   "source": [
    "file.close()"
   ]
  },
  {
   "cell_type": "code",
   "execution_count": 63,
   "id": "82ba80cf-3ee6-456a-a9e1-7607aaa05d4a",
   "metadata": {},
   "outputs": [],
   "source": [
    "st =  ''' Machine learning (ML) is a field of Artificial Intelligence (AI) that enables computer systems to learn from data and improve their performance on tasks over time without being explicitly programmed for every instruction. It involves using algorithms to find patterns in large datasets, which allows systems to make predictions or decisions based on those patterns. Key applications include tasks like image analysis, predictive forecasting, and powering virtual assistants like Siri or Alexa.  '''"
   ]
  },
  {
   "cell_type": "code",
   "execution_count": 67,
   "id": "1ef34a12-6dfe-4f31-a67a-cbbda8c747ac",
   "metadata": {},
   "outputs": [],
   "source": [
    "# ml.txt\n",
    "import json"
   ]
  },
  {
   "cell_type": "code",
   "execution_count": 65,
   "id": "ce9373b2-70a5-4cfe-9616-958d71c1ae4b",
   "metadata": {},
   "outputs": [],
   "source": [
    "d = {\n",
    "    'a': 1,\n",
    "    'b' : 'hello'\n",
    "}"
   ]
  },
  {
   "cell_type": "code",
   "execution_count": 66,
   "id": "ff258617-ff39-4f74-9c34-67339dd9856f",
   "metadata": {},
   "outputs": [],
   "source": [
    "file = open('python.json', 'w')"
   ]
  },
  {
   "cell_type": "code",
   "execution_count": 68,
   "id": "81fa40ef-d0d9-4378-8832-b95b239978d5",
   "metadata": {},
   "outputs": [],
   "source": [
    "json.dump(d, file)"
   ]
  },
  {
   "cell_type": "code",
   "execution_count": 69,
   "id": "96e5c06e-b231-4dca-96dd-b4b39b57fba2",
   "metadata": {},
   "outputs": [],
   "source": [
    "file.close()"
   ]
  },
  {
   "cell_type": "code",
   "execution_count": 70,
   "id": "36f6903e-aa00-432f-bae6-dfc41f36b5a2",
   "metadata": {},
   "outputs": [
    {
     "data": {
      "text/plain": [
       "'{\"a\": 1, \"b\": \"hello\"}'"
      ]
     },
     "execution_count": 70,
     "metadata": {},
     "output_type": "execute_result"
    }
   ],
   "source": [
    "file = open('python.json', 'r')\n",
    "file.read()"
   ]
  },
  {
   "cell_type": "code",
   "execution_count": 72,
   "id": "97e2a72c-1bc7-4a2a-9f43-57e48f34947c",
   "metadata": {},
   "outputs": [],
   "source": [
    "file.close()"
   ]
  },
  {
   "cell_type": "code",
   "execution_count": 73,
   "id": "78e022fe-d26a-43f5-a5b8-48b0505439b6",
   "metadata": {},
   "outputs": [],
   "source": [
    "with open('python.json', 'r') as file:\n",
    "    t = json.load(file)"
   ]
  },
  {
   "cell_type": "code",
   "execution_count": 75,
   "id": "3ad19ce7-23a6-4506-b534-e59b350046bd",
   "metadata": {},
   "outputs": [
    {
     "data": {
      "text/plain": [
       "dict"
      ]
     },
     "execution_count": 75,
     "metadata": {},
     "output_type": "execute_result"
    }
   ],
   "source": [
    "type(t)"
   ]
  },
  {
   "cell_type": "code",
   "execution_count": null,
   "id": "82d8a9da-e97c-46c4-9262-ba7bce37df7b",
   "metadata": {},
   "outputs": [],
   "source": []
  }
 ],
 "metadata": {
  "kernelspec": {
   "display_name": "Python 3 (ipykernel)",
   "language": "python",
   "name": "python3"
  },
  "language_info": {
   "codemirror_mode": {
    "name": "ipython",
    "version": 3
   },
   "file_extension": ".py",
   "mimetype": "text/x-python",
   "name": "python",
   "nbconvert_exporter": "python",
   "pygments_lexer": "ipython3",
   "version": "3.12.7"
  }
 },
 "nbformat": 4,
 "nbformat_minor": 5
}
