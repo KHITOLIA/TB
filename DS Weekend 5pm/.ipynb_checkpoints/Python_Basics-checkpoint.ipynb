{
 "cells": [
  {
   "cell_type": "code",
   "execution_count": 1,
   "id": "8a93af4e-81fc-421b-ab4a-18c27eee7c0f",
   "metadata": {},
   "outputs": [],
   "source": [
    "a = 1"
   ]
  },
  {
   "cell_type": "code",
   "execution_count": 2,
   "id": "f5febf43-52b5-4f11-b3a1-fcfe9f8cfb2e",
   "metadata": {},
   "outputs": [
    {
     "name": "stdout",
     "output_type": "stream",
     "text": [
      "1\n"
     ]
    }
   ],
   "source": [
    "print(a)"
   ]
  },
  {
   "cell_type": "code",
   "execution_count": 3,
   "id": "d2443ef9-0f6b-45b1-9934-a79d14da5c13",
   "metadata": {},
   "outputs": [],
   "source": [
    "a = 4.0"
   ]
  },
  {
   "cell_type": "code",
   "execution_count": 4,
   "id": "6f4d4f03-21f0-4a03-b524-777320c3239a",
   "metadata": {},
   "outputs": [
    {
     "name": "stdout",
     "output_type": "stream",
     "text": [
      "4.0\n"
     ]
    }
   ],
   "source": [
    "print(a)"
   ]
  },
  {
   "cell_type": "code",
   "execution_count": 5,
   "id": "c9e6d86f-ecb3-4f9a-9722-c2db1c39b2a3",
   "metadata": {},
   "outputs": [
    {
     "name": "stdout",
     "output_type": "stream",
     "text": [
      "HELLO WORLD\n"
     ]
    }
   ],
   "source": [
    "c = 'HELLO WORLD'\n",
    "print(c)"
   ]
  },
  {
   "cell_type": "code",
   "execution_count": 7,
   "id": "203cd071-fee8-4514-9312-63b1812ecd42",
   "metadata": {},
   "outputs": [
    {
     "data": {
      "text/plain": [
       "\u001b[1;31mSignature:\u001b[0m \u001b[0mprint\u001b[0m\u001b[1;33m(\u001b[0m\u001b[1;33m*\u001b[0m\u001b[0margs\u001b[0m\u001b[1;33m,\u001b[0m \u001b[0msep\u001b[0m\u001b[1;33m=\u001b[0m\u001b[1;34m' '\u001b[0m\u001b[1;33m,\u001b[0m \u001b[0mend\u001b[0m\u001b[1;33m=\u001b[0m\u001b[1;34m'\\n'\u001b[0m\u001b[1;33m,\u001b[0m \u001b[0mfile\u001b[0m\u001b[1;33m=\u001b[0m\u001b[1;32mNone\u001b[0m\u001b[1;33m,\u001b[0m \u001b[0mflush\u001b[0m\u001b[1;33m=\u001b[0m\u001b[1;32mFalse\u001b[0m\u001b[1;33m)\u001b[0m\u001b[1;33m\u001b[0m\u001b[1;33m\u001b[0m\u001b[0m\n",
       "\u001b[1;31mDocstring:\u001b[0m\n",
       "Prints the values to a stream, or to sys.stdout by default.\n",
       "\n",
       "sep\n",
       "  string inserted between values, default a space.\n",
       "end\n",
       "  string appended after the last value, default a newline.\n",
       "file\n",
       "  a file-like object (stream); defaults to the current sys.stdout.\n",
       "flush\n",
       "  whether to forcibly flush the stream.\n",
       "\u001b[1;31mType:\u001b[0m      builtin_function_or_method"
      ]
     },
     "metadata": {},
     "output_type": "display_data"
    }
   ],
   "source": [
    "print  # shift + tab"
   ]
  },
  {
   "cell_type": "code",
   "execution_count": 43,
   "id": "1ae0848d-e372-42f7-99e4-c20fa0bd2a22",
   "metadata": {},
   "outputs": [],
   "source": [
    "def sum(a,b):\n",
    "    \"\"\"Adding to numbers toget\n",
    "her\"\"\"     # implementation process\n",
    "    print(a+b)\n",
    "    print(a)"
   ]
  },
  {
   "cell_type": "code",
   "execution_count": 28,
   "id": "a314224d-9cd4-462b-8a1c-3acb28892ba3",
   "metadata": {},
   "outputs": [
    {
     "name": "stdout",
     "output_type": "stream",
     "text": [
      "7\n",
      "3\n"
     ]
    }
   ],
   "source": [
    "sum(3, 4)  "
   ]
  },
  {
   "cell_type": "code",
   "execution_count": 30,
   "id": "478f264a-32a2-4e30-8470-2a4b029a23e2",
   "metadata": {},
   "outputs": [
    {
     "name": "stdout",
     "output_type": "stream",
     "text": [
      "8\n",
      "3\n",
      "None\n"
     ]
    }
   ],
   "source": [
    "c = sum(3, 5)\n",
    "print(c)"
   ]
  },
  {
   "cell_type": "code",
   "execution_count": 33,
   "id": "7e165baa-ca79-47ad-aac8-4851d2af7e43",
   "metadata": {},
   "outputs": [],
   "source": [
    "def sum(a,b):\n",
    "    \"\"\"Adding to numbers together\"\"\"     # implementation process\n",
    "    print(a+b)\n",
    "    return a-b"
   ]
  },
  {
   "cell_type": "code",
   "execution_count": 44,
   "id": "d6fbbaf7-b371-4fba-bd6a-dd65996d2a1a",
   "metadata": {},
   "outputs": [
    {
     "name": "stdout",
     "output_type": "stream",
     "text": [
      "15\n",
      "10\n"
     ]
    }
   ],
   "source": [
    "c = sum(10, 5)  # hold the (a-b) value"
   ]
  },
  {
   "cell_type": "code",
   "execution_count": 45,
   "id": "58780a5e-93a8-4417-9cb4-aaf6ac9cb89d",
   "metadata": {},
   "outputs": [],
   "source": [
    "c # how to find the memory address of this c "
   ]
  },
  {
   "cell_type": "code",
   "execution_count": 40,
   "id": "c11fc212-643e-4eb1-9e49-69e3548e8f6a",
   "metadata": {},
   "outputs": [
    {
     "data": {
      "text/plain": [
       "140716315716152"
      ]
     },
     "execution_count": 40,
     "metadata": {},
     "output_type": "execute_result"
    }
   ],
   "source": [
    "id(c)"
   ]
  },
  {
   "cell_type": "code",
   "execution_count": 41,
   "id": "70347700-4e50-4fa0-8d84-3cfd7e3d06bf",
   "metadata": {},
   "outputs": [
    {
     "name": "stdout",
     "output_type": "stream",
     "text": [
      "15\n"
     ]
    },
    {
     "data": {
      "text/plain": [
       "140716315716152"
      ]
     },
     "execution_count": 41,
     "metadata": {},
     "output_type": "execute_result"
    }
   ],
   "source": [
    "id(sum(10, 5))"
   ]
  },
  {
   "cell_type": "code",
   "execution_count": 42,
   "id": "42723312-2042-4cec-9af5-9e803be0e22a",
   "metadata": {},
   "outputs": [],
   "source": [
    "# make a program to print the memory address of a variable , value, type"
   ]
  },
  {
   "cell_type": "code",
   "execution_count": 46,
   "id": "820f903a-22f6-4c3e-b032-163a4d404bd3",
   "metadata": {},
   "outputs": [
    {
     "name": "stdout",
     "output_type": "stream",
     "text": [
      "value of argument 34\n",
      "address of argument 1831776481328\n",
      "type of argument <class 'str'>\n"
     ]
    }
   ],
   "source": [
    "def memory(a):\n",
    "    print(\"value of argument\", a)\n",
    "    print(\"address of argument\", id(a))\n",
    "    print(\"type of argument\", type(a))\n",
    "memory('34')"
   ]
  },
  {
   "cell_type": "code",
   "execution_count": 47,
   "id": "06b8ece0-7086-4af8-b702-073f87204364",
   "metadata": {},
   "outputs": [
    {
     "name": "stdout",
     "output_type": "stream",
     "text": [
      "value of argument <function sum at 0x000001AA01007D80>\n",
      "address of argument 1829672877440\n",
      "type of argument <class 'function'>\n"
     ]
    }
   ],
   "source": [
    "memory(sum)"
   ]
  },
  {
   "cell_type": "code",
   "execution_count": 48,
   "id": "bc4bcc01-e513-4de0-b804-bc2d51e25079",
   "metadata": {},
   "outputs": [],
   "source": [
    "# variables "
   ]
  },
  {
   "cell_type": "code",
   "execution_count": 52,
   "id": "c871791d-73a3-4e85-b0be-0a4620242b42",
   "metadata": {},
   "outputs": [],
   "source": [
    "a = 4.0"
   ]
  },
  {
   "cell_type": "code",
   "execution_count": 54,
   "id": "41d796df-378b-4d1c-b9c0-b16c9302768a",
   "metadata": {},
   "outputs": [],
   "source": [
    "a = print"
   ]
  },
  {
   "cell_type": "code",
   "execution_count": 55,
   "id": "7daed9a9-d29d-45d5-855c-871123dda903",
   "metadata": {},
   "outputs": [
    {
     "name": "stdout",
     "output_type": "stream",
     "text": [
      "hello Rachit\n"
     ]
    }
   ],
   "source": [
    "a(\"hello Rachit\")"
   ]
  },
  {
   "cell_type": "code",
   "execution_count": 69,
   "id": "8d3e712a-17a6-4e20-bcae-c93cba83f1be",
   "metadata": {},
   "outputs": [],
   "source": [
    "def full_name(first, last):\n",
    "    return first + \"_\" + last   # concatenation property"
   ]
  },
  {
   "cell_type": "code",
   "execution_count": 70,
   "id": "7844f0c2-90c3-487b-ad24-6a73ba877c64",
   "metadata": {},
   "outputs": [
    {
     "data": {
      "text/plain": [
       "'Indu_Gupta'"
      ]
     },
     "execution_count": 70,
     "metadata": {},
     "output_type": "execute_result"
    }
   ],
   "source": [
    "full_name(\"Indu\", \"Gupta\")  \"Rachit Verma\""
   ]
  },
  {
   "cell_type": "code",
   "execution_count": 63,
   "id": "ddaeac02-85ba-4293-9a77-18207d0ef3e1",
   "metadata": {},
   "outputs": [],
   "source": [
    "# Indu Gupta"
   ]
  },
  {
   "cell_type": "code",
   "execution_count": 71,
   "id": "0ff3c3e1-5279-4ffd-8f7d-5b9cdbbf28b4",
   "metadata": {},
   "outputs": [
    {
     "name": "stdin",
     "output_type": "stream",
     "text": [
      "Enter your name Tushar Goyal\n"
     ]
    }
   ],
   "source": [
    "a = input(\"Enter your name\")\n"
   ]
  },
  {
   "cell_type": "code",
   "execution_count": 72,
   "id": "7e2ba910-c157-406a-8835-1070f4ca7783",
   "metadata": {},
   "outputs": [
    {
     "data": {
      "text/plain": [
       "'Tushar Goyal'"
      ]
     },
     "execution_count": 72,
     "metadata": {},
     "output_type": "execute_result"
    }
   ],
   "source": [
    "a"
   ]
  },
  {
   "cell_type": "code",
   "execution_count": 73,
   "id": "6ce1624c-8a95-472c-9cf1-569b2911f164",
   "metadata": {},
   "outputs": [
    {
     "name": "stdin",
     "output_type": "stream",
     "text": [
      "enter first name :  Tushar\n",
      "enter last name :  Goyal\n"
     ]
    },
    {
     "data": {
      "text/plain": [
       "'Tushar_Goyal'"
      ]
     },
     "execution_count": 73,
     "metadata": {},
     "output_type": "execute_result"
    }
   ],
   "source": [
    "full_name(input(\"enter first name : \"), input(\"enter last name : \"))"
   ]
  },
  {
   "cell_type": "code",
   "execution_count": 81,
   "id": "33463100-45f7-442e-aaec-3d78421ad4c8",
   "metadata": {},
   "outputs": [],
   "source": [
    "c = \"A\""
   ]
  },
  {
   "cell_type": "code",
   "execution_count": 82,
   "id": "784ce22e-dd0f-4e59-a76b-4413c8b6b478",
   "metadata": {},
   "outputs": [
    {
     "data": {
      "text/plain": [
       "65"
      ]
     },
     "execution_count": 82,
     "metadata": {},
     "output_type": "execute_result"
    }
   ],
   "source": [
    "ord(c)  # tells about the ASCII value of a character"
   ]
  },
  {
   "cell_type": "code",
   "execution_count": 83,
   "id": "76db1042-f88b-49eb-8f3c-89e2cfc70011",
   "metadata": {},
   "outputs": [],
   "source": [
    "c = \"*\""
   ]
  },
  {
   "cell_type": "code",
   "execution_count": 84,
   "id": "8301ff72-c818-4a2e-a703-806545418cea",
   "metadata": {},
   "outputs": [
    {
     "data": {
      "text/plain": [
       "42"
      ]
     },
     "execution_count": 84,
     "metadata": {},
     "output_type": "execute_result"
    }
   ],
   "source": [
    "ord(c)"
   ]
  },
  {
   "cell_type": "markdown",
   "id": "bc5080f1-17c1-4ac8-be8f-3a2aeb01c1cc",
   "metadata": {},
   "source": [
    "# Conditional statements"
   ]
  },
  {
   "cell_type": "code",
   "execution_count": 85,
   "id": "96edc961-16d4-4a19-bcf4-76d380a4f44c",
   "metadata": {},
   "outputs": [],
   "source": [
    "# if\n",
    "# elif\n",
    "# else"
   ]
  },
  {
   "cell_type": "code",
   "execution_count": 88,
   "id": "7f711e38-38a9-40ce-a721-9ae9d44c4d97",
   "metadata": {},
   "outputs": [
    {
     "name": "stdout",
     "output_type": "stream",
     "text": [
      "hello\n"
     ]
    }
   ],
   "source": [
    "a = 10\n",
    "if a >= 5:\n",
    "    print(\"hello\")"
   ]
  },
  {
   "cell_type": "code",
   "execution_count": 89,
   "id": "7eea017a-330a-4cda-8069-1ff3f5ba3146",
   "metadata": {},
   "outputs": [
    {
     "name": "stdout",
     "output_type": "stream",
     "text": [
      "Bye\n"
     ]
    }
   ],
   "source": [
    "if a <= 5:\n",
    "    print(\"hello\")\n",
    "else:\n",
    "    print(\"Bye\")"
   ]
  },
  {
   "cell_type": "code",
   "execution_count": 100,
   "id": "b58c1bac-1b16-46f4-991c-a275fdb4f981",
   "metadata": {},
   "outputs": [
    {
     "name": "stdout",
     "output_type": "stream",
     "text": [
      "hello\n",
      "Hi\n"
     ]
    }
   ],
   "source": [
    "if a >= 5:\n",
    "    print(\"hello\")\n",
    "    if a < 15:\n",
    "        print(\"Hi\")\n",
    "    else:\n",
    "        pass  # do nothing\n",
    "\n",
    "elif a <= 5:\n",
    "    print(\"Rachit\")\n",
    "elif a < 3:\n",
    "    print(\"Verma\")\n",
    "else:\n",
    "    print(\"Bye\")"
   ]
  },
  {
   "cell_type": "code",
   "execution_count": 109,
   "id": "c58a02ad-37a1-4bd2-9bc6-3314b3c16df4",
   "metadata": {},
   "outputs": [],
   "source": [
    "def check():\n",
    "  n= int(input(\"enter a number\"))\n",
    "  if n%2==0:\n",
    "      print(\"number is even\")\n",
    "  else:\n",
    "      print(\"number is odd\")"
   ]
  },
  {
   "cell_type": "code",
   "execution_count": 110,
   "id": "f1919bf5-bf5f-4dd6-9df9-2dd8d9b5eda9",
   "metadata": {},
   "outputs": [
    {
     "name": "stdin",
     "output_type": "stream",
     "text": [
      "enter a number 27\n"
     ]
    },
    {
     "name": "stdout",
     "output_type": "stream",
     "text": [
      "number is odd\n"
     ]
    }
   ],
   "source": [
    "check()"
   ]
  },
  {
   "cell_type": "code",
   "execution_count": 113,
   "id": "0111d239-d51d-4126-bbb9-bdadfe335000",
   "metadata": {},
   "outputs": [],
   "source": [
    "# check even and odd for two parameters and their result as well (a+b)\n",
    "# compares three variable (a,b,c) ex: a =3,b =2, c = 5 c is greatest"
   ]
  },
  {
   "cell_type": "code",
   "execution_count": 116,
   "id": "bc74f643-6c2f-4f3b-9820-9bc9140e8fd4",
   "metadata": {},
   "outputs": [],
   "source": [
    "def name(a, b):\n",
    "    return a + \" \"+b"
   ]
  },
  {
   "cell_type": "code",
   "execution_count": 119,
   "id": "c5a967bd-94b4-4708-8f7e-0a2c0a41567f",
   "metadata": {},
   "outputs": [
    {
     "data": {
      "text/plain": [
       "'Indu Gupta'"
      ]
     },
     "execution_count": 119,
     "metadata": {},
     "output_type": "execute_result"
    }
   ],
   "source": [
    "name(\"Indu\", \"Gupta\")"
   ]
  },
  {
   "cell_type": "code",
   "execution_count": 120,
   "id": "2275a3d4-432d-4e5c-82ce-a0ace67dfeee",
   "metadata": {},
   "outputs": [],
   "source": [
    "st = \"Hello world\"\n",
    "# print the reverse of this st"
   ]
  },
  {
   "cell_type": "code",
   "execution_count": 121,
   "id": "8dc64d19-fdd5-4f81-b028-dfc30d293926",
   "metadata": {},
   "outputs": [],
   "source": [
    "# Loops :>\n",
    "# for \n",
    "# While"
   ]
  },
  {
   "cell_type": "code",
   "execution_count": 122,
   "id": "93d7765c-d00c-44d9-b4cd-cce2386ca4a8",
   "metadata": {},
   "outputs": [],
   "source": [
    "# for loop"
   ]
  },
  {
   "cell_type": "code",
   "execution_count": 124,
   "id": "dc4106c0-7a18-4bdd-b762-48618b1076d4",
   "metadata": {},
   "outputs": [
    {
     "name": "stdout",
     "output_type": "stream",
     "text": [
      "Hello\n",
      "Hello\n",
      "Hello\n"
     ]
    }
   ],
   "source": [
    "for i in range(0,3):\n",
    "    print(\"Hello\")  # i =0, i =1, i =2"
   ]
  },
  {
   "cell_type": "code",
   "execution_count": 125,
   "id": "f898a919-ae51-4f66-b887-96e641dd3939",
   "metadata": {},
   "outputs": [
    {
     "name": "stdout",
     "output_type": "stream",
     "text": [
      "0\n",
      "1\n",
      "2\n"
     ]
    }
   ],
   "source": [
    "for i in range(3):\n",
    "    print(i)"
   ]
  },
  {
   "cell_type": "code",
   "execution_count": 126,
   "id": "c41b30d0-5efc-4f40-b2a7-18143d7dff63",
   "metadata": {},
   "outputs": [
    {
     "name": "stdin",
     "output_type": "stream",
     "text": [
      "enter the number :  2\n"
     ]
    },
    {
     "name": "stdout",
     "output_type": "stream",
     "text": [
      "2\n"
     ]
    },
    {
     "name": "stdin",
     "output_type": "stream",
     "text": [
      "enter the number :  3\n"
     ]
    },
    {
     "name": "stdout",
     "output_type": "stream",
     "text": [
      "3\n"
     ]
    }
   ],
   "source": [
    "# i want to take an input 2 times \n",
    "for i in range(2):\n",
    "    a = int(input(\"enter the number : \"))\n",
    "    print(a)"
   ]
  },
  {
   "cell_type": "code",
   "execution_count": 128,
   "id": "ac57332b-6551-4845-9524-356a258cb32d",
   "metadata": {},
   "outputs": [],
   "source": [
    "def fact(n):\n",
    "    x = 1\n",
    "    for i in range(0,n):\n",
    "        x = x*(i+1)\n",
    "    return x    "
   ]
  },
  {
   "cell_type": "code",
   "execution_count": 130,
   "id": "7e52f62e-bf2c-436c-a789-90f409145508",
   "metadata": {},
   "outputs": [
    {
     "data": {
      "text/plain": [
       "120"
      ]
     },
     "execution_count": 130,
     "metadata": {},
     "output_type": "execute_result"
    }
   ],
   "source": [
    "fact(5)"
   ]
  },
  {
   "cell_type": "code",
   "execution_count": 131,
   "id": "10acc902-989d-4462-95b0-38b6344ed2dc",
   "metadata": {},
   "outputs": [],
   "source": [
    "def factorial():\n",
    "    a = 5\n",
    "    fact = 1\n",
    "    for i in range(1, a+1):\n",
    "        fact = fact*i\n",
    "    return fact    "
   ]
  },
  {
   "cell_type": "code",
   "execution_count": 132,
   "id": "d45fac9a-d5d2-45a8-9355-464bdd2348db",
   "metadata": {},
   "outputs": [
    {
     "data": {
      "text/plain": [
       "120"
      ]
     },
     "execution_count": 132,
     "metadata": {},
     "output_type": "execute_result"
    }
   ],
   "source": [
    "factorial()"
   ]
  },
  {
   "cell_type": "code",
   "execution_count": 133,
   "id": "de584de3-9503-464c-a016-23698fc7fa63",
   "metadata": {},
   "outputs": [],
   "source": [
    "def sum_between(a, b):\n",
    "    a = 0\n",
    "    for i in range(a, b+1):\n",
    "        a = a + i\n",
    "    return a    "
   ]
  },
  {
   "cell_type": "code",
   "execution_count": 135,
   "id": "b597c0d2-5a02-4a6a-8f33-02eb6602aa8a",
   "metadata": {},
   "outputs": [
    {
     "data": {
      "text/plain": [
       "15"
      ]
     },
     "execution_count": 135,
     "metadata": {},
     "output_type": "execute_result"
    }
   ],
   "source": [
    "sum_between(0, 5) "
   ]
  },
  {
   "cell_type": "code",
   "execution_count": 139,
   "id": "42a7b798-5fa9-4693-9051-996b12d6fed0",
   "metadata": {},
   "outputs": [
    {
     "name": "stdout",
     "output_type": "stream",
     "text": [
      "T\n",
      "u\n",
      "s\n",
      "h\n",
      "a\n",
      "r\n",
      " \n",
      "G\n",
      "o\n",
      "y\n",
      "a\n",
      "l\n"
     ]
    }
   ],
   "source": [
    "st = \"Tushar Goyal\"\n",
    "for i in st:\n",
    "    print(i)"
   ]
  },
  {
   "cell_type": "code",
   "execution_count": 144,
   "id": "801117bf-5711-47cc-b529-9def8913605e",
   "metadata": {},
   "outputs": [
    {
     "name": "stdout",
     "output_type": "stream",
     "text": [
      "\n"
     ]
    }
   ],
   "source": [
    "st = \"Tushar Goyal\"\n",
    "A = \"\"\n",
    "print(A)"
   ]
  },
  {
   "cell_type": "code",
   "execution_count": 145,
   "id": "36aa1d7d-820e-4bbf-bbdb-ddc22d7f1cbb",
   "metadata": {},
   "outputs": [],
   "source": [
    "def reverse_string(s):\n",
    "    st = \"\"\n",
    "    for i in s:\n",
    "        st = i + st\n",
    "    return st    "
   ]
  },
  {
   "cell_type": "code",
   "execution_count": 146,
   "id": "40d19220-9b98-43a8-94f3-42497763ff82",
   "metadata": {},
   "outputs": [
    {
     "data": {
      "text/plain": [
       "'rahsut'"
      ]
     },
     "execution_count": 146,
     "metadata": {},
     "output_type": "execute_result"
    }
   ],
   "source": [
    "s = 'tushar'\n",
    "reverse_string(s)"
   ]
  },
  {
   "cell_type": "code",
   "execution_count": 148,
   "id": "e63c69af-c6b8-4fda-adbd-114b1e3ef222",
   "metadata": {},
   "outputs": [
    {
     "name": "stdout",
     "output_type": "stream",
     "text": [
      "the value of i iterator 0\n",
      "the value of j iterator 0\n",
      "the value of j iterator 1\n",
      "the value of i iterator 1\n",
      "the value of j iterator 0\n",
      "the value of j iterator 1\n",
      "the value of i iterator 2\n",
      "the value of j iterator 0\n",
      "the value of j iterator 1\n",
      "the value of i iterator 3\n",
      "the value of j iterator 0\n",
      "the value of j iterator 1\n",
      "the value of i iterator 4\n",
      "the value of j iterator 0\n",
      "the value of j iterator 1\n"
     ]
    }
   ],
   "source": [
    "for i in range(0, 5):\n",
    "    print(\"the value of i iterator\", i)\n",
    "    for j in range(0, 2):\n",
    "        print(\"the value of j iterator\", j)"
   ]
  },
  {
   "cell_type": "code",
   "execution_count": 150,
   "id": "953995af-9b58-4929-91eb-5dd16acec271",
   "metadata": {},
   "outputs": [],
   "source": [
    "# While loop"
   ]
  },
  {
   "cell_type": "code",
   "execution_count": 152,
   "id": "0ba954f8-bd00-4ac1-9b94-0780d19573c9",
   "metadata": {},
   "outputs": [
    {
     "name": "stdout",
     "output_type": "stream",
     "text": [
      "Number : 1\n",
      "hello\n",
      "Number : 2\n",
      "hello\n",
      "Number : 3\n",
      "hello\n"
     ]
    }
   ],
   "source": [
    "number = 1\n",
    "while number <= 3:\n",
    "    print(\"Number :\", number)\n",
    "    print(\"hello\")\n",
    "    number += 1   # number = number + 1"
   ]
  },
  {
   "cell_type": "code",
   "execution_count": null,
   "id": "c58f3336-1622-43bd-a3d1-d452c2996d2e",
   "metadata": {},
   "outputs": [],
   "source": [
    "pas= input(\"enter your pass\")\n",
    "while pas==\"TUSHAR\":\n",
    "    print(\"Authentication successfull\")\n",
    "else:\n",
    "    print(\"Enter correct passoword\")"
   ]
  },
  {
   "cell_type": "code",
   "execution_count": 3,
   "id": "e2a55204-12ce-4142-968f-4a57f6c1b77f",
   "metadata": {},
   "outputs": [
    {
     "name": "stdin",
     "output_type": "stream",
     "text": [
      "enter your password :  Tasdfafasf\n"
     ]
    },
    {
     "name": "stdout",
     "output_type": "stream",
     "text": [
      "Try Again\n"
     ]
    },
    {
     "name": "stdin",
     "output_type": "stream",
     "text": [
      "enter your password :  asdfadf\n"
     ]
    },
    {
     "name": "stdout",
     "output_type": "stream",
     "text": [
      "Try Again\n"
     ]
    },
    {
     "name": "stdin",
     "output_type": "stream",
     "text": [
      "enter your password :  Tushar\n"
     ]
    },
    {
     "name": "stdout",
     "output_type": "stream",
     "text": [
      "Authentication successfull\n"
     ]
    }
   ],
   "source": [
    "while (True):\n",
    "    a = input(\"enter your password : \")\n",
    "    if a == \"Tushar\":\n",
    "    \n",
    "        print(\"Authentication successfull\")\n",
    "        break  # stop your code\n",
    "    else:\n",
    "        print(\"Try Again\")"
   ]
  },
  {
   "cell_type": "code",
   "execution_count": 8,
   "id": "06fb137b-7f99-4b5f-9a7d-2354a0db9e54",
   "metadata": {},
   "outputs": [
    {
     "name": "stdout",
     "output_type": "stream",
     "text": [
      "the value of i :  0\n",
      "0\n",
      "1\n",
      "the value of i :  1\n",
      "0\n",
      "1\n"
     ]
    }
   ],
   "source": [
    "for i in range(5000):\n",
    "    if i == 2:\n",
    "        break\n",
    "    print(\"the value of i : \", i)\n",
    "    for j in range(3):\n",
    "        if j== 2:\n",
    "            continue\n",
    "            print(\"Hello\")\n",
    "        else:\n",
    "            print(j)"
   ]
  },
  {
   "cell_type": "code",
   "execution_count": 10,
   "id": "69cf022c-e3c0-4f54-84c9-594011630f9a",
   "metadata": {},
   "outputs": [
    {
     "name": "stdout",
     "output_type": "stream",
     "text": [
      "hello\n",
      "hello\n",
      "hello\n",
      "hello\n",
      "Tushar\n",
      "hello\n"
     ]
    }
   ],
   "source": [
    "for i in range(5):\n",
    "    print(\"hello\")\n",
    "    if i == 3:  \n",
    "        print(\"Tushar\")\n",
    "        continue\n",
    "        print(\"Goyal\")"
   ]
  },
  {
   "cell_type": "code",
   "execution_count": 11,
   "id": "60969ee4-2184-4759-8519-04dfc29a04f9",
   "metadata": {},
   "outputs": [],
   "source": [
    "# data structures\n",
    "# String\n",
    "# list\n",
    "# Tuples\n",
    "# Dictionary\n"
   ]
  },
  {
   "cell_type": "markdown",
   "id": "17665e1f-a978-476f-8ce6-ff7fb0ead9df",
   "metadata": {},
   "source": [
    "# String"
   ]
  },
  {
   "cell_type": "code",
   "execution_count": 12,
   "id": "41bb6de4-ebcc-4ac3-9ee7-7165b895609e",
   "metadata": {},
   "outputs": [],
   "source": [
    "st = \"Data Science Session\"\n"
   ]
  },
  {
   "cell_type": "code",
   "execution_count": 13,
   "id": "a2b08a1f-d8d1-4274-9bb4-16ba15ae765c",
   "metadata": {},
   "outputs": [
    {
     "data": {
      "text/plain": [
       "str"
      ]
     },
     "execution_count": 13,
     "metadata": {},
     "output_type": "execute_result"
    }
   ],
   "source": [
    "type(st)"
   ]
  },
  {
   "cell_type": "code",
   "execution_count": 18,
   "id": "fa8004ba-e7fc-455c-b617-2556fda63149",
   "metadata": {},
   "outputs": [
    {
     "name": "stdout",
     "output_type": "stream",
     "text": [
      "HELLO WOLRD MY NAME IS TUSHAR\n"
     ]
    }
   ],
   "source": [
    "name = 'TUSHAR'\n",
    "print(\"HELLO WOLRD MY NAME IS\",name)"
   ]
  },
  {
   "cell_type": "code",
   "execution_count": 19,
   "id": "a56c641c-fab0-496b-872b-574e4541c482",
   "metadata": {},
   "outputs": [
    {
     "name": "stdout",
     "output_type": "stream",
     "text": [
      "HELLO WOLRD MY NAME IS TUSHAR GOYAL\n"
     ]
    }
   ],
   "source": [
    "name = 'TUSHAR'\n",
    "last_name = 'GOYAL'\n",
    "print(\"HELLO WOLRD MY NAME IS\",name, last_name)"
   ]
  },
  {
   "cell_type": "code",
   "execution_count": 22,
   "id": "e656cacc-69c4-45a3-bdf4-b635d96f20e9",
   "metadata": {},
   "outputs": [
    {
     "name": "stdout",
     "output_type": "stream",
     "text": [
      "Hello world my name is TUSHAR GOYAL\n"
     ]
    }
   ],
   "source": [
    "# format method\n",
    "print(\"Hello world my name is {} {}\".format(name, last_name))"
   ]
  },
  {
   "cell_type": "code",
   "execution_count": 25,
   "id": "2caa80af-b4c2-469e-a50b-7613ca42b35f",
   "metadata": {},
   "outputs": [
    {
     "name": "stdout",
     "output_type": "stream",
     "text": [
      "Hello world my name is TUSHAR GOYAL\n"
     ]
    }
   ],
   "source": [
    "# F string to decorate your statement\n",
    "print(f\"Hello world my name is {name} {last_name}\")"
   ]
  },
  {
   "cell_type": "code",
   "execution_count": 26,
   "id": "4741314c-1476-487e-9775-e48f38b118af",
   "metadata": {},
   "outputs": [
    {
     "name": "stdin",
     "output_type": "stream",
     "text": [
      "enter first name :  Indu\n",
      "Enter last name :  Gupta\n"
     ]
    },
    {
     "name": "stdout",
     "output_type": "stream",
     "text": [
      "Hello world my name is Indu Gupta\n"
     ]
    }
   ],
   "source": [
    "print(f\"Hello world my name is {input(\"enter first name : \")} {input(\"Enter last name : \")}\")"
   ]
  },
  {
   "cell_type": "code",
   "execution_count": 31,
   "id": "8f27affb-bebc-46f0-abc3-46a1d65e817b",
   "metadata": {},
   "outputs": [
    {
     "name": "stdin",
     "output_type": "stream",
     "text": [
      "Enter password 3234567\n"
     ]
    },
    {
     "name": "stdout",
     "output_type": "stream",
     "text": [
      "Wrong password\n"
     ]
    },
    {
     "name": "stdin",
     "output_type": "stream",
     "text": [
      "Enter password 7654\n"
     ]
    },
    {
     "name": "stdout",
     "output_type": "stream",
     "text": [
      "Wrong password\n"
     ]
    },
    {
     "name": "stdin",
     "output_type": "stream",
     "text": [
      "Enter password  4567\n"
     ]
    },
    {
     "name": "stdout",
     "output_type": "stream",
     "text": [
      "Password authentication\n"
     ]
    }
   ],
   "source": [
    "while True:\n",
    "    if int(input(\"Enter password\")) == 4567:\n",
    "        print(\"Password authentication\")\n",
    "        break\n",
    "    else:\n",
    "        print(\"Wrong password\")"
   ]
  },
  {
   "cell_type": "code",
   "execution_count": 36,
   "id": "c327b65c-4c81-4a29-b81e-244251b83187",
   "metadata": {},
   "outputs": [
    {
     "name": "stdin",
     "output_type": "stream",
     "text": [
      "Enter password         4567TUSHAR      \n"
     ]
    },
    {
     "name": "stdout",
     "output_type": "stream",
     "text": [
      "Password authentication\n"
     ]
    }
   ],
   "source": [
    "while True:\n",
    "    if input(\"Enter password\").strip() == \"4567TUSHAR\":\n",
    "        print(\"Password authentication\")\n",
    "        break\n",
    "    else:\n",
    "        print(\"Wrong password\")"
   ]
  },
  {
   "cell_type": "code",
   "execution_count": 35,
   "id": "28703747-009d-4987-8c77-a6ab80f8051f",
   "metadata": {},
   "outputs": [
    {
     "data": {
      "text/plain": [
       "'Jaisalmer'"
      ]
     },
     "execution_count": 35,
     "metadata": {},
     "output_type": "execute_result"
    }
   ],
   "source": [
    "st = \" Jaisalmer \"\n",
    "st.strip()"
   ]
  },
  {
   "cell_type": "code",
   "execution_count": 48,
   "id": "671a624d-9415-4983-b2df-ae820f8dcf5e",
   "metadata": {},
   "outputs": [
    {
     "name": "stdin",
     "output_type": "stream",
     "text": [
      "Enter password   eteyr  4567TUSHAR 345345 SDFDF    \n",
      "Enter the element number 1\n"
     ]
    },
    {
     "name": "stdout",
     "output_type": "stream",
     "text": [
      "Password authentication\n"
     ]
    }
   ],
   "source": [
    "while True:\n",
    "    if input(\"Enter password\").strip().split()[int(input(\"Enter the element number\"))] == \"4567TUSHAR\":\n",
    "        print(\"Password authentication\")\n",
    "        break\n",
    "    else:\n",
    "        print(\"Wrong password\")"
   ]
  },
  {
   "cell_type": "code",
   "execution_count": 3,
   "id": "400c77af-25dc-4779-ac91-d192c329d91a",
   "metadata": {},
   "outputs": [
    {
     "data": {
      "text/plain": [
       "'4567TUSHAR'"
      ]
     },
     "execution_count": 3,
     "metadata": {},
     "output_type": "execute_result"
    }
   ],
   "source": [
    "ST = \"    4567TUSHAR    TUKJH WERFER   \"\n",
    "ST.strip().split()[0]"
   ]
  },
  {
   "cell_type": "code",
   "execution_count": 4,
   "id": "2adf5ca5-7364-4ef6-8907-8e346446c1fe",
   "metadata": {},
   "outputs": [
    {
     "name": "stdin",
     "output_type": "stream",
     "text": [
      "Enter the element number 2\n"
     ]
    },
    {
     "data": {
      "text/plain": [
       "'WERFER'"
      ]
     },
     "execution_count": 4,
     "metadata": {},
     "output_type": "execute_result"
    }
   ],
   "source": [
    "ST.strip().split()[int(input(\"Enter the element number\"))]"
   ]
  },
  {
   "cell_type": "code",
   "execution_count": null,
   "id": "604dc806-5481-442c-9e72-fd6b2692b902",
   "metadata": {},
   "outputs": [],
   "source": []
  },
  {
   "cell_type": "code",
   "execution_count": null,
   "id": "0be0de9f-6df1-4e2b-9222-c4f4f5454fd4",
   "metadata": {},
   "outputs": [],
   "source": []
  }
 ],
 "metadata": {
  "kernelspec": {
   "display_name": "Python 3 (ipykernel)",
   "language": "python",
   "name": "python3"
  },
  "language_info": {
   "codemirror_mode": {
    "name": "ipython",
    "version": 3
   },
   "file_extension": ".py",
   "mimetype": "text/x-python",
   "name": "python",
   "nbconvert_exporter": "python",
   "pygments_lexer": "ipython3",
   "version": "3.12.7"
  }
 },
 "nbformat": 4,
 "nbformat_minor": 5
}
