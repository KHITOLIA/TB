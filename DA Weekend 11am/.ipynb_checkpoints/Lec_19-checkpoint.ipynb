{
 "cells": [
  {
   "cell_type": "code",
   "execution_count": 1,
   "id": "1d69baa3-f74a-4693-b85b-8f68ffeef038",
   "metadata": {},
   "outputs": [],
   "source": [
    "l = [2, 3, 4, 5]"
   ]
  },
  {
   "cell_type": "code",
   "execution_count": 2,
   "id": "1c54c1ce-ce0a-426b-8b0c-8d66a21338ad",
   "metadata": {},
   "outputs": [
    {
     "data": {
      "text/plain": [
       "2345"
      ]
     },
     "execution_count": 2,
     "metadata": {},
     "output_type": "execute_result"
    }
   ],
   "source": [
    "from functools import reduce\n",
    "reduce(lambda x, y : x*10 + y, l)"
   ]
  },
  {
   "cell_type": "code",
   "execution_count": 3,
   "id": "498eab76-d846-4ef1-a676-0607d3b62a11",
   "metadata": {},
   "outputs": [],
   "source": [
    "number = 0\n",
    "for i in l:\n",
    "    number = number*10 + i"
   ]
  },
  {
   "cell_type": "code",
   "execution_count": 4,
   "id": "ac645011-c1de-4166-b047-d5bd4ddbc89d",
   "metadata": {},
   "outputs": [
    {
     "data": {
      "text/plain": [
       "2345"
      ]
     },
     "execution_count": 4,
     "metadata": {},
     "output_type": "execute_result"
    }
   ],
   "source": [
    "number"
   ]
  },
  {
   "cell_type": "code",
   "execution_count": 14,
   "id": "334cb85f-fbca-4ca1-a492-abc713f215ce",
   "metadata": {},
   "outputs": [
    {
     "name": "stdout",
     "output_type": "stream",
     "text": [
      "0.02734375\n",
      "0.0859375\n",
      "0.02734375\n",
      "0.0859375\n",
      "0.02734375\n",
      "0.0859375\n",
      "0.02734375\n",
      "0.0859375\n"
     ]
    }
   ],
   "source": [
    "for i in l:\n",
    "    print(sys.getsizeof(i)/1024)\n",
    "    print(sys.getsizeof(l)/1024)"
   ]
  },
  {
   "cell_type": "code",
   "execution_count": 6,
   "id": "47540442-d340-4d80-ba13-82a3e52ed378",
   "metadata": {},
   "outputs": [
    {
     "name": "stdout",
     "output_type": "stream",
     "text": [
      "4\n",
      "4\n",
      "4\n",
      "4\n"
     ]
    }
   ],
   "source": [
    "for j in range(4):\n",
    "    print(i)"
   ]
  },
  {
   "cell_type": "code",
   "execution_count": 7,
   "id": "74a6190d-7ff3-434c-94c0-49b80847611a",
   "metadata": {},
   "outputs": [
    {
     "data": {
      "text/plain": [
       "3"
      ]
     },
     "execution_count": 7,
     "metadata": {},
     "output_type": "execute_result"
    }
   ],
   "source": [
    "j"
   ]
  },
  {
   "cell_type": "code",
   "execution_count": 9,
   "id": "0208b5ef-b399-46e9-8666-125f6467cbec",
   "metadata": {},
   "outputs": [
    {
     "data": {
      "text/plain": [
       "0.0859375"
      ]
     },
     "execution_count": 9,
     "metadata": {},
     "output_type": "execute_result"
    }
   ],
   "source": [
    "import sys\n",
    "sys.getsizeof(l)/1024"
   ]
  },
  {
   "cell_type": "code",
   "execution_count": 11,
   "id": "54a51b11-93f5-4513-807e-157135afd947",
   "metadata": {},
   "outputs": [
    {
     "data": {
      "text/plain": [
       "0.02734375"
      ]
     },
     "execution_count": 11,
     "metadata": {},
     "output_type": "execute_result"
    }
   ],
   "source": [
    "sys.getsizeof(i)/1024"
   ]
  },
  {
   "cell_type": "code",
   "execution_count": 16,
   "id": "eff7a5f7-dff6-4c73-8387-afa3427c9d6c",
   "metadata": {},
   "outputs": [
    {
     "data": {
      "text/plain": [
       "['__add__',\n",
       " '__class__',\n",
       " '__contains__',\n",
       " '__delattr__',\n",
       " '__dir__',\n",
       " '__doc__',\n",
       " '__eq__',\n",
       " '__format__',\n",
       " '__ge__',\n",
       " '__getattribute__',\n",
       " '__getitem__',\n",
       " '__getnewargs__',\n",
       " '__getstate__',\n",
       " '__gt__',\n",
       " '__hash__',\n",
       " '__init__',\n",
       " '__init_subclass__',\n",
       " '__iter__',\n",
       " '__le__',\n",
       " '__len__',\n",
       " '__lt__',\n",
       " '__mod__',\n",
       " '__mul__',\n",
       " '__ne__',\n",
       " '__new__',\n",
       " '__reduce__',\n",
       " '__reduce_ex__',\n",
       " '__repr__',\n",
       " '__rmod__',\n",
       " '__rmul__',\n",
       " '__setattr__',\n",
       " '__sizeof__',\n",
       " '__str__',\n",
       " '__subclasshook__',\n",
       " 'capitalize',\n",
       " 'casefold',\n",
       " 'center',\n",
       " 'count',\n",
       " 'encode',\n",
       " 'endswith',\n",
       " 'expandtabs',\n",
       " 'find',\n",
       " 'format',\n",
       " 'format_map',\n",
       " 'index',\n",
       " 'isalnum',\n",
       " 'isalpha',\n",
       " 'isascii',\n",
       " 'isdecimal',\n",
       " 'isdigit',\n",
       " 'isidentifier',\n",
       " 'islower',\n",
       " 'isnumeric',\n",
       " 'isprintable',\n",
       " 'isspace',\n",
       " 'istitle',\n",
       " 'isupper',\n",
       " 'join',\n",
       " 'ljust',\n",
       " 'lower',\n",
       " 'lstrip',\n",
       " 'maketrans',\n",
       " 'partition',\n",
       " 'removeprefix',\n",
       " 'removesuffix',\n",
       " 'replace',\n",
       " 'rfind',\n",
       " 'rindex',\n",
       " 'rjust',\n",
       " 'rpartition',\n",
       " 'rsplit',\n",
       " 'rstrip',\n",
       " 'split',\n",
       " 'splitlines',\n",
       " 'startswith',\n",
       " 'strip',\n",
       " 'swapcase',\n",
       " 'title',\n",
       " 'translate',\n",
       " 'upper',\n",
       " 'zfill']"
      ]
     },
     "execution_count": 16,
     "metadata": {},
     "output_type": "execute_result"
    }
   ],
   "source": [
    "s = 'hello world'\n",
    "dir(s)"
   ]
  },
  {
   "cell_type": "code",
   "execution_count": 17,
   "id": "9eee3f3e-827e-42f0-81e5-15460afd83a5",
   "metadata": {},
   "outputs": [
    {
     "data": {
      "text/plain": [
       "[2, 3, 4, 5]"
      ]
     },
     "execution_count": 17,
     "metadata": {},
     "output_type": "execute_result"
    }
   ],
   "source": [
    "l"
   ]
  },
  {
   "cell_type": "code",
   "execution_count": 18,
   "id": "6a40927c-2311-4866-9b55-e92313f4d22e",
   "metadata": {},
   "outputs": [
    {
     "data": {
      "text/plain": [
       "list"
      ]
     },
     "execution_count": 18,
     "metadata": {},
     "output_type": "execute_result"
    }
   ],
   "source": [
    "type(l)"
   ]
  },
  {
   "cell_type": "code",
   "execution_count": 19,
   "id": "30c4cd16-80d4-4000-a10a-63ea671cf2b6",
   "metadata": {},
   "outputs": [],
   "source": [
    "l1 = iter(l)"
   ]
  },
  {
   "cell_type": "code",
   "execution_count": 20,
   "id": "f484defa-53ea-4ce9-816f-4d927a5f9f35",
   "metadata": {},
   "outputs": [
    {
     "data": {
      "text/plain": [
       "<list_iterator at 0x19e7962d5d0>"
      ]
     },
     "execution_count": 20,
     "metadata": {},
     "output_type": "execute_result"
    }
   ],
   "source": [
    "l1"
   ]
  },
  {
   "cell_type": "code",
   "execution_count": 21,
   "id": "386853c0-5322-45de-80f9-1134c1954870",
   "metadata": {},
   "outputs": [
    {
     "data": {
      "text/plain": [
       "0.046875"
      ]
     },
     "execution_count": 21,
     "metadata": {},
     "output_type": "execute_result"
    }
   ],
   "source": [
    "sys.getsizeof(l1)/1024"
   ]
  },
  {
   "cell_type": "code",
   "execution_count": 22,
   "id": "73e08e4d-5945-468e-a390-fe52c288a766",
   "metadata": {},
   "outputs": [
    {
     "data": {
      "text/plain": [
       "0.0859375"
      ]
     },
     "execution_count": 22,
     "metadata": {},
     "output_type": "execute_result"
    }
   ],
   "source": [
    "sys.getsizeof(l)/1024"
   ]
  },
  {
   "cell_type": "code",
   "execution_count": 23,
   "id": "6d98ab07-486a-42f3-8045-fe5aed469275",
   "metadata": {},
   "outputs": [
    {
     "data": {
      "text/plain": [
       "['__class__',\n",
       " '__delattr__',\n",
       " '__dir__',\n",
       " '__doc__',\n",
       " '__eq__',\n",
       " '__format__',\n",
       " '__ge__',\n",
       " '__getattribute__',\n",
       " '__getstate__',\n",
       " '__gt__',\n",
       " '__hash__',\n",
       " '__init__',\n",
       " '__init_subclass__',\n",
       " '__iter__',\n",
       " '__le__',\n",
       " '__length_hint__',\n",
       " '__lt__',\n",
       " '__ne__',\n",
       " '__new__',\n",
       " '__next__',\n",
       " '__reduce__',\n",
       " '__reduce_ex__',\n",
       " '__repr__',\n",
       " '__setattr__',\n",
       " '__setstate__',\n",
       " '__sizeof__',\n",
       " '__str__',\n",
       " '__subclasshook__']"
      ]
     },
     "execution_count": 23,
     "metadata": {},
     "output_type": "execute_result"
    }
   ],
   "source": [
    "dir(l1)"
   ]
  },
  {
   "cell_type": "code",
   "execution_count": 28,
   "id": "7fd38208-d5d9-4b3e-8e1b-1a3631dedd60",
   "metadata": {},
   "outputs": [
    {
     "ename": "StopIteration",
     "evalue": "",
     "output_type": "error",
     "traceback": [
      "\u001b[1;31m---------------------------------------------------------------------------\u001b[0m",
      "\u001b[1;31mStopIteration\u001b[0m                             Traceback (most recent call last)",
      "Cell \u001b[1;32mIn[28], line 1\u001b[0m\n\u001b[1;32m----> 1\u001b[0m \u001b[38;5;28mnext\u001b[39m(l1)\n",
      "\u001b[1;31mStopIteration\u001b[0m: "
     ]
    }
   ],
   "source": [
    "next(l1)"
   ]
  },
  {
   "cell_type": "code",
   "execution_count": 29,
   "id": "64858ffa-68f5-4995-88f5-eeacc9342cbf",
   "metadata": {},
   "outputs": [
    {
     "name": "stdout",
     "output_type": "stream",
     "text": [
      "2\n",
      "3\n",
      "4\n",
      "5\n"
     ]
    }
   ],
   "source": [
    "for i in l:\n",
    "    print(i)"
   ]
  },
  {
   "cell_type": "code",
   "execution_count": 30,
   "id": "27fbba76-685f-4c16-9857-3a3ff3fe0d2a",
   "metadata": {},
   "outputs": [
    {
     "name": "stdout",
     "output_type": "stream",
     "text": [
      "2\n",
      "3\n",
      "4\n",
      "5\n"
     ]
    }
   ],
   "source": [
    "for i in l:\n",
    "    print(i)"
   ]
  },
  {
   "cell_type": "code",
   "execution_count": 31,
   "id": "3caa27ed-d182-4007-9c90-a562cbf0098d",
   "metadata": {},
   "outputs": [
    {
     "name": "stdout",
     "output_type": "stream",
     "text": [
      "2\n",
      "3\n",
      "4\n",
      "5\n"
     ]
    }
   ],
   "source": [
    "for i in l:\n",
    "    print(i)"
   ]
  },
  {
   "cell_type": "code",
   "execution_count": 32,
   "id": "e110e080-6e76-4766-88c1-39674b1ca601",
   "metadata": {},
   "outputs": [
    {
     "name": "stdout",
     "output_type": "stream",
     "text": [
      "2\n",
      "3\n",
      "4\n",
      "5\n"
     ]
    }
   ],
   "source": [
    "for i in l:\n",
    "    print(i)"
   ]
  },
  {
   "cell_type": "code",
   "execution_count": 42,
   "id": "53f24716-9968-4cc1-89cb-2cf24a05f6e3",
   "metadata": {},
   "outputs": [],
   "source": [
    "l1 = iter(l)"
   ]
  },
  {
   "cell_type": "code",
   "execution_count": 44,
   "id": "8c5d60be-6f0c-4a5e-8ac6-caf1d92ecdf6",
   "metadata": {},
   "outputs": [],
   "source": [
    "for i in l1:\n",
    "    print(i)"
   ]
  },
  {
   "cell_type": "code",
   "execution_count": 43,
   "id": "8c33b2cb-e982-4108-bd76-174546a14c08",
   "metadata": {},
   "outputs": [
    {
     "name": "stdout",
     "output_type": "stream",
     "text": [
      "2\n",
      "3\n",
      "4\n",
      "5\n"
     ]
    }
   ],
   "source": [
    "for i in l1:\n",
    "    print(i)"
   ]
  },
  {
   "cell_type": "code",
   "execution_count": 45,
   "id": "e64b3449-0dcf-4d37-bdc5-a3385cf9b760",
   "metadata": {},
   "outputs": [],
   "source": [
    "num = [1, 2, 3, 4]\n",
    "iter_num = iter(num)"
   ]
  },
  {
   "cell_type": "code",
   "execution_count": 48,
   "id": "f5a48e0e-8921-4283-95b1-f3c5845bc3e4",
   "metadata": {},
   "outputs": [
    {
     "ename": "StopIteration",
     "evalue": "",
     "output_type": "error",
     "traceback": [
      "\u001b[1;31m---------------------------------------------------------------------------\u001b[0m",
      "\u001b[1;31mStopIteration\u001b[0m                             Traceback (most recent call last)",
      "Cell \u001b[1;32mIn[48], line 2\u001b[0m\n\u001b[0;32m      1\u001b[0m \u001b[38;5;28mnext\u001b[39m(iter_num)\n\u001b[1;32m----> 2\u001b[0m \u001b[38;5;28mnext\u001b[39m(iter_num)\n",
      "\u001b[1;31mStopIteration\u001b[0m: "
     ]
    }
   ],
   "source": [
    "next(iter_num)\n",
    "next(iter_num)"
   ]
  },
  {
   "cell_type": "code",
   "execution_count": 49,
   "id": "e61bf39b-3576-468b-b3fe-6d51d2f987fd",
   "metadata": {},
   "outputs": [],
   "source": [
    "def mera_khudka_loop(iterable):\n",
    "    iterator = iter(iterable)\n",
    "    while True:\n",
    "        try:\n",
    "            print(next(iterator))\n",
    "        except StopIteration:\n",
    "            break"
   ]
  },
  {
   "cell_type": "code",
   "execution_count": 50,
   "id": "f3686482-5b18-42e1-8d54-017842429a4b",
   "metadata": {},
   "outputs": [
    {
     "name": "stdout",
     "output_type": "stream",
     "text": [
      "1\n",
      "2\n",
      "3\n",
      "4\n"
     ]
    }
   ],
   "source": [
    "mera_khudka_loop(num)"
   ]
  },
  {
   "cell_type": "code",
   "execution_count": 51,
   "id": "9c1071c4-3c9f-4175-a1e3-cbca18b30600",
   "metadata": {},
   "outputs": [],
   "source": [
    "l = [x for x in range(10)]"
   ]
  },
  {
   "cell_type": "code",
   "execution_count": 52,
   "id": "97a98975-a5b6-4629-a131-fb07df6cde70",
   "metadata": {},
   "outputs": [
    {
     "data": {
      "text/plain": [
       "[0, 1, 2, 3, 4, 5, 6, 7, 8, 9]"
      ]
     },
     "execution_count": 52,
     "metadata": {},
     "output_type": "execute_result"
    }
   ],
   "source": [
    "l"
   ]
  },
  {
   "cell_type": "code",
   "execution_count": 53,
   "id": "80464ad6-300f-4910-9e05-2e78aef2868f",
   "metadata": {},
   "outputs": [],
   "source": [
    "# Decorator"
   ]
  },
  {
   "cell_type": "code",
   "execution_count": 54,
   "id": "3e7c855b-0934-486b-9db4-00cf0a5208e8",
   "metadata": {},
   "outputs": [],
   "source": [
    "def square(num):\n",
    "    return num**2\n",
    "\n",
    "def modify(func, num):\n",
    "    return func(num)"
   ]
  },
  {
   "cell_type": "code",
   "execution_count": 55,
   "id": "65e79ccb-c9ac-45aa-a444-687e699f5850",
   "metadata": {},
   "outputs": [
    {
     "data": {
      "text/plain": [
       "9"
      ]
     },
     "execution_count": 55,
     "metadata": {},
     "output_type": "execute_result"
    }
   ],
   "source": [
    "modify(square, 3)"
   ]
  },
  {
   "cell_type": "code",
   "execution_count": 69,
   "id": "a21744d7-ae29-4f63-997f-edd10a2b3c36",
   "metadata": {},
   "outputs": [],
   "source": [
    "# # simple decorator\n",
    "def my_decorator(func):    \n",
    "    def wrapper():\n",
    "        print(\"**********\")\n",
    "        func()\n",
    "        print(\"**********\")\n",
    "    return wrapper"
   ]
  },
  {
   "cell_type": "code",
   "execution_count": 70,
   "id": "8fc08492-1909-413a-a40f-b15d3c87545b",
   "metadata": {},
   "outputs": [],
   "source": [
    "def hello():\n",
    "    print('Hello')"
   ]
  },
  {
   "cell_type": "code",
   "execution_count": 71,
   "id": "b0241118-653b-450d-99b9-bb7b07e12145",
   "metadata": {},
   "outputs": [],
   "source": [
    "a = my_decorator(hello)"
   ]
  },
  {
   "cell_type": "code",
   "execution_count": 72,
   "id": "6f5f9b67-4026-4d5e-a15f-bfce5a1d2240",
   "metadata": {},
   "outputs": [
    {
     "name": "stdout",
     "output_type": "stream",
     "text": [
      "**********\n",
      "Hello\n",
      "**********\n"
     ]
    }
   ],
   "source": [
    "a()"
   ]
  },
  {
   "cell_type": "code",
   "execution_count": 75,
   "id": "bfe1bf6c-e278-4ced-af9c-66b2d9914135",
   "metadata": {},
   "outputs": [
    {
     "name": "stdout",
     "output_type": "stream",
     "text": [
      "**********\n",
      "hello tushar\n",
      "**********\n"
     ]
    }
   ],
   "source": [
    "def display():\n",
    "    print(\"hello tushar\")\n",
    "b = my_decorator(display)\n",
    "b()"
   ]
  },
  {
   "cell_type": "code",
   "execution_count": 73,
   "id": "702dcb11-7118-47b0-bdff-07aa8141c2d0",
   "metadata": {},
   "outputs": [],
   "source": [
    "a1 = print"
   ]
  },
  {
   "cell_type": "code",
   "execution_count": 74,
   "id": "abf5b1cc-7230-480a-8a67-2addfcfc7176",
   "metadata": {},
   "outputs": [
    {
     "name": "stdout",
     "output_type": "stream",
     "text": [
      "tushar\n"
     ]
    }
   ],
   "source": [
    "a1(\"tushar\")"
   ]
  },
  {
   "cell_type": "code",
   "execution_count": null,
   "id": "82974b2b-4948-4135-a2ea-a763a26fa9cb",
   "metadata": {},
   "outputs": [],
   "source": []
  },
  {
   "cell_type": "code",
   "execution_count": null,
   "id": "d150b0ae-a04d-4fb1-b310-5d928ca1e2c4",
   "metadata": {},
   "outputs": [],
   "source": []
  },
  {
   "cell_type": "code",
   "execution_count": 65,
   "id": "dc9fafcf-6073-430d-bead-b75a997c35dd",
   "metadata": {},
   "outputs": [],
   "source": [
    "a = 6\n",
    "def abc():\n",
    "    global a\n",
    "    a = 9\n",
    "    b = 4\n",
    "    print(a+b)"
   ]
  },
  {
   "cell_type": "code",
   "execution_count": 66,
   "id": "e5991f75-a278-4781-a71d-fc4f4e20bcb2",
   "metadata": {},
   "outputs": [
    {
     "name": "stdout",
     "output_type": "stream",
     "text": [
      "13\n"
     ]
    }
   ],
   "source": [
    "abc()"
   ]
  },
  {
   "cell_type": "code",
   "execution_count": 67,
   "id": "088e2911-d8b5-4a64-84a2-64c8c6ea2acf",
   "metadata": {},
   "outputs": [
    {
     "data": {
      "text/plain": [
       "9"
      ]
     },
     "execution_count": 67,
     "metadata": {},
     "output_type": "execute_result"
    }
   ],
   "source": [
    "a"
   ]
  },
  {
   "cell_type": "code",
   "execution_count": 97,
   "id": "c3a79ffc-2aca-40bc-9603-f5bf97b9867e",
   "metadata": {},
   "outputs": [],
   "source": [
    "# # simple decorator\n",
    "def my_decorator(func):    \n",
    "    def wrapper():\n",
    "        print(\"**********\")\n",
    "        func()\n",
    "        print(\"**********\")\n",
    "    return wrapper"
   ]
  },
  {
   "cell_type": "code",
   "execution_count": 106,
   "id": "2e5e54fc-f0c7-4fc0-a708-c2f65d44dc97",
   "metadata": {},
   "outputs": [],
   "source": [
    "@my_decorator\n",
    "def hello():\n",
    "    print('Hello')\n"
   ]
  },
  {
   "cell_type": "code",
   "execution_count": 78,
   "id": "4c99132f-3a57-45e4-b5ac-00e9a137fedb",
   "metadata": {},
   "outputs": [],
   "source": [
    "import time\n"
   ]
  },
  {
   "cell_type": "code",
   "execution_count": 110,
   "id": "f305a990-0bbc-480c-9341-db600ac38a6e",
   "metadata": {},
   "outputs": [],
   "source": [
    "def timer(func):\n",
    "    def wrapper(*args):\n",
    "        start = time.time()\n",
    "        func(*args)\n",
    "        print('time taken by', time.time() - start,'secs')\n",
    "    return wrapper\n"
   ]
  },
  {
   "cell_type": "code",
   "execution_count": 111,
   "id": "8a8ddca7-8033-4c4b-810f-31ed9c03002d",
   "metadata": {},
   "outputs": [
    {
     "name": "stdout",
     "output_type": "stream",
     "text": [
      "hello wolrd\n",
      "time taken by 2.001253366470337 secs\n",
      "4\n",
      "time taken by 1.0011334419250488 secs\n"
     ]
    }
   ],
   "source": [
    "@timer\n",
    "def hello():\n",
    "  print('hello wolrd')\n",
    "  time.sleep(2)\n",
    "hello()\n",
    "\n",
    "@timer\n",
    "def square(num):\n",
    "  time.sleep(1)\n",
    "  print(num**2)\n",
    "square(2)"
   ]
  },
  {
   "cell_type": "code",
   "execution_count": 112,
   "id": "51efaa48-7a9b-450d-9c90-8f1ccf9d13d7",
   "metadata": {},
   "outputs": [
    {
     "name": "stdin",
     "output_type": "stream",
     "text": [
      "enter  wertrerse\n"
     ]
    },
    {
     "ename": "ValueError",
     "evalue": "invalid literal for int() with base 10: 'wertrerse'",
     "output_type": "error",
     "traceback": [
      "\u001b[1;31m---------------------------------------------------------------------------\u001b[0m",
      "\u001b[1;31mValueError\u001b[0m                                Traceback (most recent call last)",
      "Cell \u001b[1;32mIn[112], line 1\u001b[0m\n\u001b[1;32m----> 1\u001b[0m a \u001b[38;5;241m=\u001b[39m \u001b[38;5;28mint\u001b[39m(\u001b[38;5;28minput\u001b[39m(\u001b[38;5;124m\"\u001b[39m\u001b[38;5;124menter \u001b[39m\u001b[38;5;124m\"\u001b[39m))\n",
      "\u001b[1;31mValueError\u001b[0m: invalid literal for int() with base 10: 'wertrerse'"
     ]
    }
   ],
   "source": [
    "a = int(input(\"enter \"))"
   ]
  },
  {
   "cell_type": "code",
   "execution_count": 117,
   "id": "c4f6c90c-f9e8-4ff7-8c9f-4327cb39b72b",
   "metadata": {},
   "outputs": [],
   "source": [
    "def checkt_type(data_type):\n",
    "    def outer_wrapper(func):\n",
    "        def inner_wrapper(*args):\n",
    "            if type(*args) == data_type:\n",
    "                func(*args)\n",
    "            else:\n",
    "                print(f\"{type(data_type)}this data type is not compatible for execution\")\n",
    "        return inner_wrapper\n",
    "    return outer_wrapper"
   ]
  },
  {
   "cell_type": "code",
   "execution_count": 118,
   "id": "b591c8d6-0524-4468-bad3-345c9487bf1f",
   "metadata": {},
   "outputs": [
    {
     "name": "stdout",
     "output_type": "stream",
     "text": [
      "<class 'type'>this data type is not compatible for execution\n"
     ]
    }
   ],
   "source": [
    "@checkt_type(int)\n",
    "def square(num):\n",
    "    print(num**2)\n",
    "square('teafsd')"
   ]
  },
  {
   "cell_type": "code",
   "execution_count": null,
   "id": "9b9b9ca1-7c56-471d-ba47-2ca655a67028",
   "metadata": {},
   "outputs": [],
   "source": []
  }
 ],
 "metadata": {
  "kernelspec": {
   "display_name": "Python 3 (ipykernel)",
   "language": "python",
   "name": "python3"
  },
  "language_info": {
   "codemirror_mode": {
    "name": "ipython",
    "version": 3
   },
   "file_extension": ".py",
   "mimetype": "text/x-python",
   "name": "python",
   "nbconvert_exporter": "python",
   "pygments_lexer": "ipython3",
   "version": "3.12.7"
  }
 },
 "nbformat": 4,
 "nbformat_minor": 5
}
