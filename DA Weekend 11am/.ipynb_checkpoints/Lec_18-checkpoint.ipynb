{
 "cells": [
  {
   "cell_type": "markdown",
   "id": "4efbdd28-7cf5-41a1-b8af-8e15d696fc82",
   "metadata": {},
   "source": [
    "# # Advanced methods\n",
    "1. lambda\n",
    "2. map\n",
    "3. filter\n",
    "4. reduce"
   ]
  },
  {
   "cell_type": "code",
   "execution_count": 8,
   "id": "63698841-6c87-4c18-afa2-72948ee08073",
   "metadata": {},
   "outputs": [],
   "source": [
    "add = lambda x : x+2"
   ]
  },
  {
   "cell_type": "code",
   "execution_count": 5,
   "id": "d50e7a90-bf6f-4e5a-8967-2cb05559ddda",
   "metadata": {},
   "outputs": [
    {
     "name": "stdout",
     "output_type": "stream",
     "text": [
      "tushar\n"
     ]
    }
   ],
   "source": [
    "print('tushar')"
   ]
  },
  {
   "cell_type": "code",
   "execution_count": 6,
   "id": "b074f60f-8fba-4ed9-8398-779c79a7c3ec",
   "metadata": {},
   "outputs": [],
   "source": [
    "a = print"
   ]
  },
  {
   "cell_type": "code",
   "execution_count": 7,
   "id": "7074ff93-2ae5-4cd1-af5b-b5c39d7d37f5",
   "metadata": {},
   "outputs": [
    {
     "name": "stdout",
     "output_type": "stream",
     "text": [
      "Tushar\n"
     ]
    }
   ],
   "source": [
    "a('Tushar')"
   ]
  },
  {
   "cell_type": "code",
   "execution_count": 10,
   "id": "9bfd0cc3-38a4-4184-8828-98d6b8e54dca",
   "metadata": {},
   "outputs": [
    {
     "data": {
      "text/plain": [
       "6"
      ]
     },
     "execution_count": 10,
     "metadata": {},
     "output_type": "execute_result"
    }
   ],
   "source": [
    "add(4)"
   ]
  },
  {
   "cell_type": "code",
   "execution_count": 11,
   "id": "1b6557f6-42e7-4e4e-9de0-eec776991742",
   "metadata": {},
   "outputs": [],
   "source": [
    "add = lambda x, y : x + y"
   ]
  },
  {
   "cell_type": "code",
   "execution_count": 12,
   "id": "dd9970cd-9fcd-4b22-8fd3-c6397b63cc6e",
   "metadata": {},
   "outputs": [
    {
     "data": {
      "text/plain": [
       "7"
      ]
     },
     "execution_count": 12,
     "metadata": {},
     "output_type": "execute_result"
    }
   ],
   "source": [
    "add(3, 4)"
   ]
  },
  {
   "cell_type": "code",
   "execution_count": 13,
   "id": "7c8bfaad-f3d1-422e-9b23-50dbc6c6a700",
   "metadata": {},
   "outputs": [
    {
     "data": {
      "text/plain": [
       "4"
      ]
     },
     "execution_count": 13,
     "metadata": {},
     "output_type": "execute_result"
    }
   ],
   "source": [
    "square = lambda x : x**2\n",
    "square(2)"
   ]
  },
  {
   "cell_type": "code",
   "execution_count": 14,
   "id": "513ab49a-8871-4f69-b1d1-105cdfcf0f3b",
   "metadata": {},
   "outputs": [],
   "source": [
    "iseven = lambda x : 'even' if x%2 == 0 else 'odd'"
   ]
  },
  {
   "cell_type": "code",
   "execution_count": 15,
   "id": "ff25bbd1-a6b1-4fb0-b8b7-0661c6a4269a",
   "metadata": {},
   "outputs": [
    {
     "data": {
      "text/plain": [
       "'even'"
      ]
     },
     "execution_count": 15,
     "metadata": {},
     "output_type": "execute_result"
    }
   ],
   "source": [
    "iseven(40)"
   ]
  },
  {
   "cell_type": "code",
   "execution_count": 16,
   "id": "2e528103-dd67-433b-8961-bf48bc928dc1",
   "metadata": {},
   "outputs": [],
   "source": [
    "l = [lambda x : x*1, lambda x: x**2, lambda x : x**3]"
   ]
  },
  {
   "cell_type": "code",
   "execution_count": 20,
   "id": "37138c9f-97a8-4f11-8619-0c4603cb7134",
   "metadata": {},
   "outputs": [
    {
     "name": "stdout",
     "output_type": "stream",
     "text": [
      "3\n",
      "9\n",
      "27\n"
     ]
    }
   ],
   "source": [
    "for i in range(len(l)):\n",
    "    print(l[i](3))"
   ]
  },
  {
   "cell_type": "code",
   "execution_count": 18,
   "id": "ca57270d-b2ed-4cb9-8985-523f3ab9dd54",
   "metadata": {},
   "outputs": [
    {
     "data": {
      "text/plain": [
       "[<function __main__.<lambda>(x)>,\n",
       " <function __main__.<lambda>(x)>,\n",
       " <function __main__.<lambda>(x)>]"
      ]
     },
     "execution_count": 18,
     "metadata": {},
     "output_type": "execute_result"
    }
   ],
   "source": [
    "l"
   ]
  },
  {
   "cell_type": "code",
   "execution_count": 22,
   "id": "64ebe5e9-c0e6-4a0d-82f3-8fbe1b8172e4",
   "metadata": {},
   "outputs": [],
   "source": [
    "l = [1, 2, 3, 4, 5]"
   ]
  },
  {
   "cell_type": "code",
   "execution_count": 65,
   "id": "db8de3fb-3c5e-46d4-931a-eb7211c6c178",
   "metadata": {},
   "outputs": [],
   "source": [
    "# map(f, l)\n",
    "# Higher order function\n",
    "def odd_even(x):\n",
    "    if x%2 == 0:\n",
    "        return x\n",
    "    else:\n",
    "        return x"
   ]
  },
  {
   "cell_type": "code",
   "execution_count": 28,
   "id": "c0616bfb-d754-49b4-b487-dbfe748e4d9f",
   "metadata": {},
   "outputs": [
    {
     "data": {
      "text/plain": [
       "['odd', 'even', 'odd', 'even', 'odd']"
      ]
     },
     "execution_count": 28,
     "metadata": {},
     "output_type": "execute_result"
    }
   ],
   "source": [
    "list(map(odd_even, [1, 2, 3, 4, 5]))"
   ]
  },
  {
   "cell_type": "code",
   "execution_count": 29,
   "id": "ee67dd98-5ac9-474e-9057-3bbdf1b4e10d",
   "metadata": {},
   "outputs": [
    {
     "data": {
      "text/plain": [
       "['odd', 'even', 'odd', 'even', 'odd']"
      ]
     },
     "execution_count": 29,
     "metadata": {},
     "output_type": "execute_result"
    }
   ],
   "source": [
    "list(map(lambda x : 'even' if x%2 == 0 else 'odd', l ))"
   ]
  },
  {
   "cell_type": "code",
   "execution_count": 30,
   "id": "eb6261ec-52c3-4af7-b1fb-2886a2f2bf86",
   "metadata": {},
   "outputs": [],
   "source": [
    "l = list(map(lambda x : x**2, l))"
   ]
  },
  {
   "cell_type": "code",
   "execution_count": 31,
   "id": "2c6713f6-9952-42c7-864c-d5b2259502e6",
   "metadata": {},
   "outputs": [
    {
     "data": {
      "text/plain": [
       "[1, 4, 9, 16, 25]"
      ]
     },
     "execution_count": 31,
     "metadata": {},
     "output_type": "execute_result"
    }
   ],
   "source": [
    "l"
   ]
  },
  {
   "cell_type": "code",
   "execution_count": 44,
   "id": "477618e0-6aef-4273-857b-5639940ca9ce",
   "metadata": {},
   "outputs": [],
   "source": [
    "def square(x):\n",
    "    return x**2\n",
    "\n",
    "def transform(l):\n",
    "    for i in range(len(l)):\n",
    "        l[i] = len(l[i])\n",
    "    return l"
   ]
  },
  {
   "cell_type": "code",
   "execution_count": 45,
   "id": "52d0fd98-ae57-45cd-9348-0456db9cd369",
   "metadata": {},
   "outputs": [
    {
     "data": {
      "text/plain": [
       "[6, 5, 6]"
      ]
     },
     "execution_count": 45,
     "metadata": {},
     "output_type": "execute_result"
    }
   ],
   "source": [
    "transform(name)"
   ]
  },
  {
   "cell_type": "code",
   "execution_count": 50,
   "id": "8d5c1bed-f61f-438a-802c-48f5b4e88ba8",
   "metadata": {},
   "outputs": [],
   "source": [
    "name = ['tushar', 'iqbal','vrinda'] # map this list into len of each items\n",
    "# 2 convert these items into upper case"
   ]
  },
  {
   "cell_type": "code",
   "execution_count": 42,
   "id": "392ef39a-3009-4ddc-91e6-58d4397a4691",
   "metadata": {},
   "outputs": [],
   "source": [
    "a = list(map(lambda x : len(x), name))"
   ]
  },
  {
   "cell_type": "code",
   "execution_count": 43,
   "id": "97f46350-b296-4417-bb1f-100969929cb0",
   "metadata": {},
   "outputs": [
    {
     "data": {
      "text/plain": [
       "[6, 5, 6]"
      ]
     },
     "execution_count": 43,
     "metadata": {},
     "output_type": "execute_result"
    }
   ],
   "source": [
    "a"
   ]
  },
  {
   "cell_type": "code",
   "execution_count": 46,
   "id": "310c8250-9008-4e56-9da2-e61598c6e958",
   "metadata": {},
   "outputs": [
    {
     "data": {
      "text/plain": [
       "\u001b[1;31mInit signature:\u001b[0m \u001b[0mmap\u001b[0m\u001b[1;33m(\u001b[0m\u001b[0mself\u001b[0m\u001b[1;33m,\u001b[0m \u001b[1;33m/\u001b[0m\u001b[1;33m,\u001b[0m \u001b[1;33m*\u001b[0m\u001b[0margs\u001b[0m\u001b[1;33m,\u001b[0m \u001b[1;33m**\u001b[0m\u001b[0mkwargs\u001b[0m\u001b[1;33m)\u001b[0m\u001b[1;33m\u001b[0m\u001b[1;33m\u001b[0m\u001b[0m\n",
       "\u001b[1;31mDocstring:\u001b[0m     \n",
       "map(func, *iterables) --> map object\n",
       "\n",
       "Make an iterator that computes the function using arguments from\n",
       "each of the iterables.  Stops when the shortest iterable is exhausted.\n",
       "\u001b[1;31mType:\u001b[0m           type\n",
       "\u001b[1;31mSubclasses:\u001b[0m     "
      ]
     },
     "metadata": {},
     "output_type": "display_data"
    }
   ],
   "source": [
    "map?"
   ]
  },
  {
   "cell_type": "code",
   "execution_count": 48,
   "id": "482ff931-63ac-4ad9-956c-493cb2cc01ef",
   "metadata": {},
   "outputs": [
    {
     "data": {
      "text/plain": [
       "[6, 5, 6]"
      ]
     },
     "execution_count": 48,
     "metadata": {},
     "output_type": "execute_result"
    }
   ],
   "source": [
    "name"
   ]
  },
  {
   "cell_type": "code",
   "execution_count": 52,
   "id": "322d8742-d4a7-4017-915c-eed58bf68b60",
   "metadata": {},
   "outputs": [],
   "source": [
    "l1 = [1, 2, 3, 4, 5]\n",
    "l2 = [2, 3, 4, 5, 6]\n",
    "# add both list using map function"
   ]
  },
  {
   "cell_type": "code",
   "execution_count": 53,
   "id": "f9491938-5b05-4007-aba7-51a978d1b4b9",
   "metadata": {},
   "outputs": [],
   "source": [
    "name = ['tushar', 'iqbal','vrinda'] # map this list into len of each items\n",
    "# 2 convert these items into upper case"
   ]
  },
  {
   "cell_type": "code",
   "execution_count": 55,
   "id": "f01c0057-7007-4742-9399-4cfbe8130afb",
   "metadata": {},
   "outputs": [
    {
     "data": {
      "text/plain": [
       "[3, 5, 7, 9, 11]"
      ]
     },
     "execution_count": 55,
     "metadata": {},
     "output_type": "execute_result"
    }
   ],
   "source": [
    "list(map(lambda x, y : x + y, l1, l2))"
   ]
  },
  {
   "cell_type": "code",
   "execution_count": 56,
   "id": "54385d35-c072-4714-8ed9-6bcb5c6404e5",
   "metadata": {},
   "outputs": [],
   "source": [
    "name = list(map(lambda x : x.upper(), name))"
   ]
  },
  {
   "cell_type": "code",
   "execution_count": 57,
   "id": "c2394535-a1e7-42f7-b584-4d4966f54300",
   "metadata": {},
   "outputs": [
    {
     "data": {
      "text/plain": [
       "['TUSHAR', 'IQBAL', 'VRINDA']"
      ]
     },
     "execution_count": 57,
     "metadata": {},
     "output_type": "execute_result"
    }
   ],
   "source": [
    "name"
   ]
  },
  {
   "cell_type": "code",
   "execution_count": 58,
   "id": "64036d65-e766-451a-a1f5-24cf07a7b863",
   "metadata": {},
   "outputs": [],
   "source": [
    "# filter(f, l)"
   ]
  },
  {
   "cell_type": "code",
   "execution_count": 59,
   "id": "472c0e95-7654-4958-b8c3-b015f7e40378",
   "metadata": {},
   "outputs": [],
   "source": [
    "l = []\n",
    "for i in range(1, 100):\n",
    "    l.append(i)"
   ]
  },
  {
   "cell_type": "code",
   "execution_count": 63,
   "id": "e6b9ae92-3eb9-40a3-b84d-d2dbd13ede33",
   "metadata": {},
   "outputs": [],
   "source": [
    "l = [x for x in range(1, 100)] # using list comprehension"
   ]
  },
  {
   "cell_type": "code",
   "execution_count": 69,
   "id": "faa56f31-208b-432e-b7c6-865512016048",
   "metadata": {},
   "outputs": [
    {
     "data": {
      "text/plain": [
       "[2, 4, 6, 8, 10]"
      ]
     },
     "execution_count": 69,
     "metadata": {},
     "output_type": "execute_result"
    }
   ],
   "source": [
    "list(filter(lambda x : x%2 ==0, [1, 2, 3, 4, 5, 6, 7, 8,9, 10]))"
   ]
  },
  {
   "cell_type": "code",
   "execution_count": 71,
   "id": "3d180e07-0481-465b-87de-14dce5788fa0",
   "metadata": {},
   "outputs": [],
   "source": [
    "name = ['TUSHAR', 'IQBAL', 'VRINDA', 'payal', 'pawan']"
   ]
  },
  {
   "cell_type": "code",
   "execution_count": 72,
   "id": "df59d7c9-c37e-49c5-b8aa-8431789d59c1",
   "metadata": {},
   "outputs": [],
   "source": [
    "# filter out the items whose length is greater than 5"
   ]
  },
  {
   "cell_type": "code",
   "execution_count": 73,
   "id": "d3a9ffc6-1e08-46dc-8b77-28970de970c7",
   "metadata": {},
   "outputs": [
    {
     "data": {
      "text/plain": [
       "['TUSHAR', 'VRINDA']"
      ]
     },
     "execution_count": 73,
     "metadata": {},
     "output_type": "execute_result"
    }
   ],
   "source": [
    "list(filter(lambda x : len(x) > 5, name))"
   ]
  },
  {
   "cell_type": "code",
   "execution_count": 75,
   "id": "04b73fc0-17ae-4521-9da8-a0f575e56d18",
   "metadata": {},
   "outputs": [],
   "source": [
    "sum_ = 0\n",
    "for i in l:\n",
    "    sum_ = sum_ + i"
   ]
  },
  {
   "cell_type": "code",
   "execution_count": 76,
   "id": "b1dfb3e6-82e4-46b0-b699-2bb7a627116d",
   "metadata": {},
   "outputs": [
    {
     "data": {
      "text/plain": [
       "4950"
      ]
     },
     "execution_count": 76,
     "metadata": {},
     "output_type": "execute_result"
    }
   ],
   "source": [
    "sum_"
   ]
  },
  {
   "cell_type": "code",
   "execution_count": 77,
   "id": "d4d2960a-a3de-471a-8b4b-dc0864225db9",
   "metadata": {},
   "outputs": [],
   "source": [
    "from functools import reduce"
   ]
  },
  {
   "cell_type": "code",
   "execution_count": 79,
   "id": "d8352b75-d0ce-4a9b-82e5-90f39c42ef89",
   "metadata": {},
   "outputs": [
    {
     "data": {
      "text/plain": [
       "15"
      ]
     },
     "execution_count": 79,
     "metadata": {},
     "output_type": "execute_result"
    }
   ],
   "source": [
    "reduce(lambda x, y : x + y, [1, 2, 3, 4, 5])"
   ]
  },
  {
   "cell_type": "code",
   "execution_count": 80,
   "id": "188e3e52-7816-4cbf-ac3c-2949cc4bb4db",
   "metadata": {},
   "outputs": [
    {
     "name": "stdout",
     "output_type": "stream",
     "text": [
      "programming is awesome\n"
     ]
    }
   ],
   "source": [
    "word = ['programming', 'is', 'awesome']\n",
    "print('programming is awesome')"
   ]
  },
  {
   "cell_type": "code",
   "execution_count": 82,
   "id": "ab96892d-f60b-451e-aa05-6db153ed2b64",
   "metadata": {},
   "outputs": [
    {
     "data": {
      "text/plain": [
       "'programming is awesome'"
      ]
     },
     "execution_count": 82,
     "metadata": {},
     "output_type": "execute_result"
    }
   ],
   "source": [
    "reduce(lambda x, y : x + \" \" + y, word)"
   ]
  },
  {
   "cell_type": "code",
   "execution_count": 83,
   "id": "d318f12b-80a8-428c-877e-9a61b0f633e9",
   "metadata": {},
   "outputs": [],
   "source": [
    "l = [2, 4, 6, 7]"
   ]
  },
  {
   "cell_type": "code",
   "execution_count": 85,
   "id": "74e087c2-33a1-4539-aeaf-38655438d605",
   "metadata": {},
   "outputs": [],
   "source": [
    "# number = 2467\n",
    "# for i in l:\n",
    "#     print(str(i))"
   ]
  },
  {
   "cell_type": "code",
   "execution_count": 86,
   "id": "00c6e0c0-23b6-414f-afcb-41af6352e841",
   "metadata": {},
   "outputs": [
    {
     "data": {
      "text/plain": [
       "2467"
      ]
     },
     "execution_count": 86,
     "metadata": {},
     "output_type": "execute_result"
    }
   ],
   "source": [
    "reduce(lambda x ,  y : x*10 + y, l)"
   ]
  },
  {
   "cell_type": "code",
   "execution_count": 87,
   "id": "78e1a82d-7f63-4daf-b59b-b854790f73a3",
   "metadata": {},
   "outputs": [],
   "source": [
    "# without using reduce"
   ]
  },
  {
   "cell_type": "code",
   "execution_count": null,
   "id": "75aadb87-2c29-4fb0-9f2f-ffc57358ba0e",
   "metadata": {},
   "outputs": [],
   "source": []
  }
 ],
 "metadata": {
  "kernelspec": {
   "display_name": "Python 3 (ipykernel)",
   "language": "python",
   "name": "python3"
  },
  "language_info": {
   "codemirror_mode": {
    "name": "ipython",
    "version": 3
   },
   "file_extension": ".py",
   "mimetype": "text/x-python",
   "name": "python",
   "nbconvert_exporter": "python",
   "pygments_lexer": "ipython3",
   "version": "3.12.7"
  }
 },
 "nbformat": 4,
 "nbformat_minor": 5
}
