{
 "cells": [
  {
   "cell_type": "markdown",
   "id": "eca0d0a4-f5a6-4b01-ab9f-70535cae212a",
   "metadata": {},
   "source": [
    "### Numpy Arrays Vs Python Sequences\n",
    "\n",
    "- NumPy arrays have a fixed size at creation, unlike Python lists (which can grow dynamically). Changing the size of an ndarray will create a new array and delete the original.\n",
    "\n",
    "- The elements in a NumPy array are all required to be of the same data type, and thus will be the same size in memory.\n",
    "\n",
    "- NumPy arrays facilitate advanced mathematical and other types of operations on large numbers of data. Typically, such operations are executed more efficiently and with less code than is possible using Python’s built-in sequences.\n",
    "\n",
    "- A growing plethora of scientific and mathematical Python-based packages are using NumPy arrays; though these typically support Python-sequence input, they convert such input to NumPy arrays prior to processing, and they often output NumPy arrays."
   ]
  },
  {
   "cell_type": "code",
   "execution_count": 2,
   "id": "7c648fed-61d0-4ca8-9978-4d5853ee0b52",
   "metadata": {},
   "outputs": [],
   "source": [
    "# !pip install numpy"
   ]
  },
  {
   "cell_type": "code",
   "execution_count": 3,
   "id": "95aa24cd-e26b-4f60-bc8c-c4ec9ceafef9",
   "metadata": {},
   "outputs": [],
   "source": [
    "import numpy as np"
   ]
  },
  {
   "cell_type": "code",
   "execution_count": 4,
   "id": "7031e60d-0c77-496c-8293-2e956c40d47f",
   "metadata": {},
   "outputs": [
    {
     "data": {
      "text/plain": [
       "<module 'numpy' from 'C:\\\\Users\\\\tbaka\\\\anaconda3\\\\Lib\\\\site-packages\\\\numpy\\\\__init__.py'>"
      ]
     },
     "execution_count": 4,
     "metadata": {},
     "output_type": "execute_result"
    }
   ],
   "source": [
    "np"
   ]
  },
  {
   "cell_type": "code",
   "execution_count": 5,
   "id": "1995cb97-1ff2-4914-ab9a-445ca480a8e8",
   "metadata": {},
   "outputs": [],
   "source": [
    "a = np.array([1, 2, 3, 4])"
   ]
  },
  {
   "cell_type": "code",
   "execution_count": 6,
   "id": "4ebf7a1a-209d-4bda-84a8-d5fc209e2e5c",
   "metadata": {},
   "outputs": [
    {
     "data": {
      "text/plain": [
       "array([1, 2, 3, 4])"
      ]
     },
     "execution_count": 6,
     "metadata": {},
     "output_type": "execute_result"
    }
   ],
   "source": [
    "a"
   ]
  },
  {
   "cell_type": "code",
   "execution_count": 9,
   "id": "c656391f-33b0-4470-9a89-535b67f7ce45",
   "metadata": {},
   "outputs": [],
   "source": [
    "b = np.array([[1, 2], \n",
    "              [3, 4]])"
   ]
  },
  {
   "cell_type": "code",
   "execution_count": 10,
   "id": "650ba575-92f9-45fa-a1f3-3525dc0181e4",
   "metadata": {},
   "outputs": [
    {
     "data": {
      "text/plain": [
       "array([[1, 2],\n",
       "       [3, 4]])"
      ]
     },
     "execution_count": 10,
     "metadata": {},
     "output_type": "execute_result"
    }
   ],
   "source": [
    "b"
   ]
  },
  {
   "cell_type": "code",
   "execution_count": 18,
   "id": "ff90f106-c1be-470e-ac56-4b1141bd5932",
   "metadata": {},
   "outputs": [],
   "source": [
    "c = np.array([[[1, 2], [3, 4]], [[5, 6], [7, 8]]])"
   ]
  },
  {
   "cell_type": "code",
   "execution_count": 21,
   "id": "d0071958-412b-4f98-9037-83b239bfb154",
   "metadata": {},
   "outputs": [
    {
     "data": {
      "text/plain": [
       "array([[[1, 2],\n",
       "        [3, 4]],\n",
       "\n",
       "       [[5, 6],\n",
       "        [7, 8]]])"
      ]
     },
     "execution_count": 21,
     "metadata": {},
     "output_type": "execute_result"
    }
   ],
   "source": [
    "c # tensor"
   ]
  },
  {
   "cell_type": "code",
   "execution_count": 24,
   "id": "387f49a5-dba3-43e4-89d7-e3ee4ed499c7",
   "metadata": {},
   "outputs": [
    {
     "data": {
      "text/plain": [
       "1"
      ]
     },
     "execution_count": 24,
     "metadata": {},
     "output_type": "execute_result"
    }
   ],
   "source": [
    "a.ndim"
   ]
  },
  {
   "cell_type": "code",
   "execution_count": 25,
   "id": "9c869dde-b4ba-4721-a929-f31ec8551c74",
   "metadata": {},
   "outputs": [
    {
     "data": {
      "text/plain": [
       "2"
      ]
     },
     "execution_count": 25,
     "metadata": {},
     "output_type": "execute_result"
    }
   ],
   "source": [
    "b.ndim"
   ]
  },
  {
   "cell_type": "code",
   "execution_count": 26,
   "id": "ef616fa6-976a-41b4-aabe-6757d109e939",
   "metadata": {},
   "outputs": [
    {
     "data": {
      "text/plain": [
       "3"
      ]
     },
     "execution_count": 26,
     "metadata": {},
     "output_type": "execute_result"
    }
   ],
   "source": [
    "c.ndim"
   ]
  },
  {
   "cell_type": "code",
   "execution_count": 27,
   "id": "892dff62-af35-4ef2-83bf-5e6527b29df7",
   "metadata": {},
   "outputs": [
    {
     "data": {
      "text/plain": [
       "(4,)"
      ]
     },
     "execution_count": 27,
     "metadata": {},
     "output_type": "execute_result"
    }
   ],
   "source": [
    "a.shape"
   ]
  },
  {
   "cell_type": "code",
   "execution_count": 31,
   "id": "1c226d6a-c875-41cf-88ce-57349946d2ca",
   "metadata": {},
   "outputs": [],
   "source": [
    "x = np.array([[1, \n",
    "             2], \n",
    "             [3, \n",
    "             4, \n",
    "             ]])"
   ]
  },
  {
   "cell_type": "code",
   "execution_count": 32,
   "id": "0cb67e2c-6d5a-4f6f-8cca-30e4b6f57dd1",
   "metadata": {},
   "outputs": [
    {
     "data": {
      "text/plain": [
       "array([[1, 2],\n",
       "       [3, 4]])"
      ]
     },
     "execution_count": 32,
     "metadata": {},
     "output_type": "execute_result"
    }
   ],
   "source": [
    "x"
   ]
  },
  {
   "cell_type": "code",
   "execution_count": 33,
   "id": "4c3cbc28-a9df-46cf-920f-7e4c56b95ae8",
   "metadata": {},
   "outputs": [
    {
     "data": {
      "text/plain": [
       "(2, 2)"
      ]
     },
     "execution_count": 33,
     "metadata": {},
     "output_type": "execute_result"
    }
   ],
   "source": [
    "b.shape"
   ]
  },
  {
   "cell_type": "code",
   "execution_count": 35,
   "id": "89d876d9-10a1-4cd5-9ece-2214c7e825b8",
   "metadata": {},
   "outputs": [
    {
     "data": {
      "text/plain": [
       "array([[1, 2],\n",
       "       [3, 4]])"
      ]
     },
     "execution_count": 35,
     "metadata": {},
     "output_type": "execute_result"
    }
   ],
   "source": [
    "b"
   ]
  },
  {
   "cell_type": "code",
   "execution_count": 36,
   "id": "c5902206-4cdd-46bc-933e-347b8c2369d0",
   "metadata": {},
   "outputs": [
    {
     "data": {
      "text/plain": [
       "2"
      ]
     },
     "execution_count": 36,
     "metadata": {},
     "output_type": "execute_result"
    }
   ],
   "source": [
    "b.ndim"
   ]
  },
  {
   "cell_type": "code",
   "execution_count": 37,
   "id": "80dfa802-bde1-4c15-8ec4-ec4ed2b4b061",
   "metadata": {},
   "outputs": [
    {
     "data": {
      "text/plain": [
       "(2, 2)"
      ]
     },
     "execution_count": 37,
     "metadata": {},
     "output_type": "execute_result"
    }
   ],
   "source": [
    "b.shape"
   ]
  },
  {
   "cell_type": "code",
   "execution_count": 39,
   "id": "a58a840a-5a31-4b09-add0-57538ca7af47",
   "metadata": {},
   "outputs": [
    {
     "data": {
      "text/plain": [
       "3"
      ]
     },
     "execution_count": 39,
     "metadata": {},
     "output_type": "execute_result"
    }
   ],
   "source": [
    "c.ndim"
   ]
  },
  {
   "cell_type": "code",
   "execution_count": 40,
   "id": "da07f945-9127-4b41-94c8-4ed69975e5bb",
   "metadata": {},
   "outputs": [
    {
     "data": {
      "text/plain": [
       "(2, 2, 2)"
      ]
     },
     "execution_count": 40,
     "metadata": {},
     "output_type": "execute_result"
    }
   ],
   "source": [
    "c.shape"
   ]
  },
  {
   "cell_type": "code",
   "execution_count": 41,
   "id": "9cc17ed7-8321-466b-b583-3784edb88a5e",
   "metadata": {},
   "outputs": [
    {
     "data": {
      "text/plain": [
       "dtype('int32')"
      ]
     },
     "execution_count": 41,
     "metadata": {},
     "output_type": "execute_result"
    }
   ],
   "source": [
    "a.dtype"
   ]
  },
  {
   "cell_type": "code",
   "execution_count": 43,
   "id": "46972a28-8365-49e6-9f4d-2e8f3b480b44",
   "metadata": {},
   "outputs": [],
   "source": [
    "a = np.array([1, 2, 3, 4], dtype = float)"
   ]
  },
  {
   "cell_type": "code",
   "execution_count": 44,
   "id": "828d3fd1-cf75-42d4-89c0-d442d1b3484d",
   "metadata": {},
   "outputs": [
    {
     "data": {
      "text/plain": [
       "array([1., 2., 3., 4.])"
      ]
     },
     "execution_count": 44,
     "metadata": {},
     "output_type": "execute_result"
    }
   ],
   "source": [
    "a"
   ]
  },
  {
   "cell_type": "code",
   "execution_count": 45,
   "id": "b4cf6e69-b4f2-4cfe-920c-641b2bd03580",
   "metadata": {},
   "outputs": [
    {
     "data": {
      "text/plain": [
       "dtype('float64')"
      ]
     },
     "execution_count": 45,
     "metadata": {},
     "output_type": "execute_result"
    }
   ],
   "source": [
    "a.dtype"
   ]
  },
  {
   "cell_type": "code",
   "execution_count": 46,
   "id": "9848f9e9-fa6a-4cc6-9dff-73aacb4a66af",
   "metadata": {},
   "outputs": [],
   "source": [
    "# creating an array"
   ]
  },
  {
   "cell_type": "code",
   "execution_count": 55,
   "id": "821cc4cd-3429-46b6-bff4-8f5c0c4c1dc3",
   "metadata": {},
   "outputs": [],
   "source": [
    "x = np.arange(-1, 10, 1)"
   ]
  },
  {
   "cell_type": "code",
   "execution_count": 56,
   "id": "cc1f352f-a58f-4b6f-bb85-e4342624ab75",
   "metadata": {},
   "outputs": [
    {
     "data": {
      "text/plain": [
       "1"
      ]
     },
     "execution_count": 56,
     "metadata": {},
     "output_type": "execute_result"
    }
   ],
   "source": [
    "x.ndim"
   ]
  },
  {
   "cell_type": "code",
   "execution_count": 57,
   "id": "d1314533-5db2-4237-87eb-c5e432574094",
   "metadata": {},
   "outputs": [
    {
     "data": {
      "text/plain": [
       "(11,)"
      ]
     },
     "execution_count": 57,
     "metadata": {},
     "output_type": "execute_result"
    }
   ],
   "source": [
    "x.shape"
   ]
  },
  {
   "cell_type": "code",
   "execution_count": 71,
   "id": "85726f83-fcab-43be-a36c-bb1716d12113",
   "metadata": {},
   "outputs": [
    {
     "data": {
      "text/plain": [
       "array([[0., 0., 0., 0., 0.],\n",
       "       [0., 0., 0., 0., 0.]])"
      ]
     },
     "execution_count": 71,
     "metadata": {},
     "output_type": "execute_result"
    }
   ],
   "source": [
    "np.zeros((2, 5))"
   ]
  },
  {
   "cell_type": "code",
   "execution_count": 72,
   "id": "03f54499-b558-4065-ac83-1f37855cfdba",
   "metadata": {},
   "outputs": [
    {
     "data": {
      "text/plain": [
       "array([[1., 1., 1., 1., 1.],\n",
       "       [1., 1., 1., 1., 1.]])"
      ]
     },
     "execution_count": 72,
     "metadata": {},
     "output_type": "execute_result"
    }
   ],
   "source": [
    "np.ones((2, 5))"
   ]
  },
  {
   "cell_type": "code",
   "execution_count": 73,
   "id": "1e770cd2-1c06-415e-97c7-1d8038c26d28",
   "metadata": {},
   "outputs": [
    {
     "data": {
      "text/plain": [
       "array([-1.        ,  0.83333333,  2.66666667,  4.5       ,  6.33333333,\n",
       "        8.16666667, 10.        ])"
      ]
     },
     "execution_count": 73,
     "metadata": {},
     "output_type": "execute_result"
    }
   ],
   "source": [
    "np.linspace(-1, 10, 7)"
   ]
  },
  {
   "cell_type": "code",
   "execution_count": 74,
   "id": "0cb6ccf3-b9a9-4d92-a09d-dac28aa613dd",
   "metadata": {},
   "outputs": [
    {
     "data": {
      "text/plain": [
       "array([-1,  6])"
      ]
     },
     "execution_count": 74,
     "metadata": {},
     "output_type": "execute_result"
    }
   ],
   "source": [
    "np.arange(-1, 10, 7)"
   ]
  },
  {
   "cell_type": "code",
   "execution_count": 79,
   "id": "6db5d603-f37a-43cf-b149-903c2a76d2f2",
   "metadata": {},
   "outputs": [
    {
     "data": {
      "text/plain": [
       "array([[1., 0.],\n",
       "       [0., 1.]])"
      ]
     },
     "execution_count": 79,
     "metadata": {},
     "output_type": "execute_result"
    }
   ],
   "source": [
    "np.identity(2)"
   ]
  },
  {
   "cell_type": "code",
   "execution_count": 80,
   "id": "a86b85cc-fc13-463b-bf94-af8380a532ba",
   "metadata": {},
   "outputs": [],
   "source": [
    "a = np.array([[1, 2], \n",
    "              [3, 4]])\n",
    "\n",
    "b = np.array([[5, 6],\n",
    "              [7, 8]])"
   ]
  },
  {
   "cell_type": "code",
   "execution_count": 84,
   "id": "fc556981-551d-42ef-bcf2-d2885d96f74c",
   "metadata": {},
   "outputs": [
    {
     "data": {
      "text/plain": [
       "array([[0.2       , 0.33333333],\n",
       "       [0.42857143, 0.5       ]])"
      ]
     },
     "execution_count": 84,
     "metadata": {},
     "output_type": "execute_result"
    }
   ],
   "source": [
    "a / b"
   ]
  },
  {
   "cell_type": "code",
   "execution_count": 85,
   "id": "a5d90517-f759-4979-82f1-91325687a318",
   "metadata": {},
   "outputs": [
    {
     "data": {
      "text/plain": [
       "array([[ 1,  8],\n",
       "       [27, 64]], dtype=int32)"
      ]
     },
     "execution_count": 85,
     "metadata": {},
     "output_type": "execute_result"
    }
   ],
   "source": [
    "a**3"
   ]
  },
  {
   "cell_type": "code",
   "execution_count": 86,
   "id": "96adf15a-7c5b-42d8-a219-fb5d4d54f907",
   "metadata": {},
   "outputs": [
    {
     "data": {
      "text/plain": [
       "array([[False, False],\n",
       "       [False, False]])"
      ]
     },
     "execution_count": 86,
     "metadata": {},
     "output_type": "execute_result"
    }
   ],
   "source": [
    "a == b"
   ]
  },
  {
   "cell_type": "code",
   "execution_count": 141,
   "id": "e0116b8c-c9b4-48c1-8cb3-66a869b4ff74",
   "metadata": {},
   "outputs": [],
   "source": [
    "rn_mat = np.random.random((5, 7))"
   ]
  },
  {
   "cell_type": "code",
   "execution_count": 142,
   "id": "84a92c17-2c44-45d5-8232-390ddb2d7659",
   "metadata": {},
   "outputs": [
    {
     "data": {
      "text/plain": [
       "2"
      ]
     },
     "execution_count": 142,
     "metadata": {},
     "output_type": "execute_result"
    }
   ],
   "source": [
    "rn_mat.ndim"
   ]
  },
  {
   "cell_type": "code",
   "execution_count": 143,
   "id": "69306414-408c-4c52-aabd-08bf988f1f18",
   "metadata": {},
   "outputs": [
    {
     "data": {
      "text/plain": [
       "(5, 7)"
      ]
     },
     "execution_count": 143,
     "metadata": {},
     "output_type": "execute_result"
    }
   ],
   "source": [
    "rn_mat.shape"
   ]
  },
  {
   "cell_type": "code",
   "execution_count": 144,
   "id": "87e121a3-e413-471a-b020-03f747e3d1ce",
   "metadata": {},
   "outputs": [],
   "source": [
    "rn_mat = rn_mat*100"
   ]
  },
  {
   "cell_type": "code",
   "execution_count": 145,
   "id": "09b7aeb3-8b79-4af2-86ae-26b79a40b34e",
   "metadata": {},
   "outputs": [],
   "source": [
    "rn_mat = np.round(rn_mat)"
   ]
  },
  {
   "cell_type": "code",
   "execution_count": 146,
   "id": "36ca3fd0-2ba6-4653-aba7-4f60487db1e6",
   "metadata": {},
   "outputs": [
    {
     "data": {
      "text/plain": [
       "array([[15., 36., 36., 55., 48., 37., 85.],\n",
       "       [ 8., 94., 58., 42., 98., 63.,  1.],\n",
       "       [60., 39., 14.,  5., 62., 12., 61.],\n",
       "       [ 5.,  5.,  5., 95., 63., 61., 59.],\n",
       "       [ 4., 29., 60., 45., 64., 96., 14.]])"
      ]
     },
     "execution_count": 146,
     "metadata": {},
     "output_type": "execute_result"
    }
   ],
   "source": [
    "rn_mat"
   ]
  },
  {
   "cell_type": "code",
   "execution_count": 147,
   "id": "1dd0c344-74aa-4c8d-b0d3-e110c83404e9",
   "metadata": {},
   "outputs": [
    {
     "data": {
      "text/plain": [
       "array([85., 98., 62., 95., 96.])"
      ]
     },
     "execution_count": 147,
     "metadata": {},
     "output_type": "execute_result"
    }
   ],
   "source": [
    "# axis = 1 -> row wise operations else 0 -> col wise operations\n",
    "np.max(rn_mat, axis = 1)"
   ]
  },
  {
   "cell_type": "code",
   "execution_count": 148,
   "id": "b4b77df1-6201-4fe8-b36a-3b55e9014e6f",
   "metadata": {},
   "outputs": [
    {
     "data": {
      "text/plain": [
       "array([60., 94., 60., 95., 98., 96., 85.])"
      ]
     },
     "execution_count": 148,
     "metadata": {},
     "output_type": "execute_result"
    }
   ],
   "source": [
    "np.max(rn_mat, axis = 0)"
   ]
  },
  {
   "cell_type": "code",
   "execution_count": 149,
   "id": "b4ce1109-bef1-40c2-bcd3-4fdb11051e46",
   "metadata": {},
   "outputs": [
    {
     "data": {
      "text/plain": [
       "array([1.61406432e+11, 1.13099777e+10, 7.43389920e+09, 2.69250188e+09,\n",
       "       2.69402112e+10])"
      ]
     },
     "execution_count": 149,
     "metadata": {},
     "output_type": "execute_result"
    }
   ],
   "source": [
    "np.prod(rn_mat, axis = 1)\n"
   ]
  },
  {
   "cell_type": "code",
   "execution_count": 150,
   "id": "7e5942cc-7ef3-420e-92b0-485da2a64101",
   "metadata": {},
   "outputs": [
    {
     "data": {
      "text/plain": [
       "array([1.44000000e+05, 1.91365200e+07, 8.76960000e+06, 4.93762500e+07,\n",
       "       1.17592474e+09, 1.63804032e+08, 4.28281000e+06])"
      ]
     },
     "execution_count": 150,
     "metadata": {},
     "output_type": "execute_result"
    }
   ],
   "source": [
    "np.prod(rn_mat, axis = 0)\n"
   ]
  },
  {
   "cell_type": "code",
   "execution_count": 151,
   "id": "15c8ed1d-446d-475c-99c0-96260567a5d4",
   "metadata": {},
   "outputs": [
    {
     "data": {
      "text/plain": [
       "10"
      ]
     },
     "execution_count": 151,
     "metadata": {},
     "output_type": "execute_result"
    }
   ],
   "source": [
    "np.sum(a)"
   ]
  },
  {
   "cell_type": "code",
   "execution_count": 152,
   "id": "ad902280-bc4b-4623-b926-ca07e5a579b3",
   "metadata": {},
   "outputs": [
    {
     "data": {
      "text/plain": [
       "array([[1, 2],\n",
       "       [3, 4]])"
      ]
     },
     "execution_count": 152,
     "metadata": {},
     "output_type": "execute_result"
    }
   ],
   "source": [
    "a"
   ]
  },
  {
   "cell_type": "code",
   "execution_count": 153,
   "id": "1d8cde34-f52e-4afc-9dfa-2d261498b21a",
   "metadata": {},
   "outputs": [
    {
     "data": {
      "text/plain": [
       "array([4, 6])"
      ]
     },
     "execution_count": 153,
     "metadata": {},
     "output_type": "execute_result"
    }
   ],
   "source": [
    "np.sum(a, axis = 0)"
   ]
  },
  {
   "cell_type": "code",
   "execution_count": 154,
   "id": "3746982d-6868-483f-aecd-f1fde332bb09",
   "metadata": {},
   "outputs": [
    {
     "data": {
      "text/plain": [
       "array([[1, 2],\n",
       "       [3, 4]])"
      ]
     },
     "execution_count": 154,
     "metadata": {},
     "output_type": "execute_result"
    }
   ],
   "source": [
    "a"
   ]
  },
  {
   "cell_type": "code",
   "execution_count": 155,
   "id": "ee649340-d53f-4e36-b966-500d9c421b3f",
   "metadata": {},
   "outputs": [
    {
     "data": {
      "text/plain": [
       "array([[5, 6],\n",
       "       [7, 8]])"
      ]
     },
     "execution_count": 155,
     "metadata": {},
     "output_type": "execute_result"
    }
   ],
   "source": [
    "b"
   ]
  },
  {
   "cell_type": "code",
   "execution_count": 156,
   "id": "d0fe8e18-ba38-40fb-9f4b-bf30d88ba61c",
   "metadata": {},
   "outputs": [
    {
     "data": {
      "text/plain": [
       "array([[19, 22],\n",
       "       [43, 50]])"
      ]
     },
     "execution_count": 156,
     "metadata": {},
     "output_type": "execute_result"
    }
   ],
   "source": [
    "np.matmul(a, b)"
   ]
  },
  {
   "cell_type": "code",
   "execution_count": 157,
   "id": "ac53d007-ed8d-4469-89af-2b981ecb537d",
   "metadata": {},
   "outputs": [
    {
     "data": {
      "text/plain": [
       "array([[19, 22],\n",
       "       [43, 50]])"
      ]
     },
     "execution_count": 157,
     "metadata": {},
     "output_type": "execute_result"
    }
   ],
   "source": [
    "np.dot(a, b)"
   ]
  },
  {
   "cell_type": "code",
   "execution_count": 158,
   "id": "a90c5cb6-b740-4cce-a54e-22c594dc40a7",
   "metadata": {},
   "outputs": [
    {
     "data": {
      "text/plain": [
       "array([[23, 34],\n",
       "       [31, 46]])"
      ]
     },
     "execution_count": 158,
     "metadata": {},
     "output_type": "execute_result"
    }
   ],
   "source": [
    "np.dot(b, a)"
   ]
  },
  {
   "cell_type": "code",
   "execution_count": 159,
   "id": "e8defd58-0ade-41f2-b75a-965e8fa9f430",
   "metadata": {},
   "outputs": [
    {
     "data": {
      "text/plain": [
       "array([[19, 22],\n",
       "       [43, 50]])"
      ]
     },
     "execution_count": 159,
     "metadata": {},
     "output_type": "execute_result"
    }
   ],
   "source": [
    "a.dot(b)"
   ]
  },
  {
   "cell_type": "code",
   "execution_count": 160,
   "id": "ac0ac43c-6cb3-4c7d-83ae-eaba365c7d0e",
   "metadata": {},
   "outputs": [
    {
     "data": {
      "text/plain": [
       "array([[23, 34],\n",
       "       [31, 46]])"
      ]
     },
     "execution_count": 160,
     "metadata": {},
     "output_type": "execute_result"
    }
   ],
   "source": [
    "b.dot(a)"
   ]
  },
  {
   "cell_type": "code",
   "execution_count": 161,
   "id": "28bf3833-be99-4c39-b77a-245ec3a9a47c",
   "metadata": {},
   "outputs": [
    {
     "data": {
      "text/plain": [
       "array([[19, 22],\n",
       "       [43, 50]])"
      ]
     },
     "execution_count": 161,
     "metadata": {},
     "output_type": "execute_result"
    }
   ],
   "source": [
    "a@b"
   ]
  },
  {
   "cell_type": "code",
   "execution_count": 162,
   "id": "e8ed6ee4-b10b-4cbd-9c4c-b7eac68cbd23",
   "metadata": {},
   "outputs": [
    {
     "data": {
      "text/plain": [
       "array([60., 39., 14.,  5., 62., 12., 61.])"
      ]
     },
     "execution_count": 162,
     "metadata": {},
     "output_type": "execute_result"
    }
   ],
   "source": [
    "rn_mat[2]"
   ]
  },
  {
   "cell_type": "code",
   "execution_count": 163,
   "id": "cf7cc030-8bca-47d8-b4fe-c7baf7faebc1",
   "metadata": {},
   "outputs": [
    {
     "data": {
      "text/plain": [
       "15.0"
      ]
     },
     "execution_count": 163,
     "metadata": {},
     "output_type": "execute_result"
    }
   ],
   "source": [
    "rn_mat[0, 0]"
   ]
  },
  {
   "cell_type": "code",
   "execution_count": 164,
   "id": "0e62d02b-385b-429e-b34e-32d4dd3cf373",
   "metadata": {},
   "outputs": [
    {
     "data": {
      "text/plain": [
       "36.0"
      ]
     },
     "execution_count": 164,
     "metadata": {},
     "output_type": "execute_result"
    }
   ],
   "source": [
    "rn_mat[0, 2]"
   ]
  },
  {
   "cell_type": "code",
   "execution_count": 165,
   "id": "6f6a04b8-13cb-43c4-92e0-04987c75e38a",
   "metadata": {},
   "outputs": [
    {
     "data": {
      "text/plain": [
       "42.0"
      ]
     },
     "execution_count": 165,
     "metadata": {},
     "output_type": "execute_result"
    }
   ],
   "source": [
    "rn_mat[1,3 ]"
   ]
  },
  {
   "cell_type": "code",
   "execution_count": 166,
   "id": "3997051c-80da-4200-b77d-91c06ff19125",
   "metadata": {},
   "outputs": [
    {
     "data": {
      "text/plain": [
       "array([15., 36., 36., 55., 48., 37., 85.])"
      ]
     },
     "execution_count": 166,
     "metadata": {},
     "output_type": "execute_result"
    }
   ],
   "source": [
    "rn_mat[0]"
   ]
  },
  {
   "cell_type": "code",
   "execution_count": 167,
   "id": "d270c1f2-4ab7-4eb3-afb2-a093e93d8540",
   "metadata": {},
   "outputs": [
    {
     "data": {
      "text/plain": [
       "array([[58., 42., 98., 63.,  1.],\n",
       "       [14.,  5., 62., 12., 61.],\n",
       "       [ 5., 95., 63., 61., 59.],\n",
       "       [60., 45., 64., 96., 14.]])"
      ]
     },
     "execution_count": 167,
     "metadata": {},
     "output_type": "execute_result"
    }
   ],
   "source": [
    "rn_mat[ 1 :  , 2 :]"
   ]
  },
  {
   "cell_type": "code",
   "execution_count": 168,
   "id": "6bf479da-78a3-48c7-b749-f0ccb7e1be4a",
   "metadata": {},
   "outputs": [
    {
     "data": {
      "text/plain": [
       "array([[15., 36., 36., 55., 48., 37., 85.],\n",
       "       [ 8., 94., 58., 42., 98., 63.,  1.],\n",
       "       [60., 39., 14.,  5., 62., 12., 61.],\n",
       "       [ 5.,  5.,  5., 95., 63., 61., 59.],\n",
       "       [ 4., 29., 60., 45., 64., 96., 14.]])"
      ]
     },
     "execution_count": 168,
     "metadata": {},
     "output_type": "execute_result"
    }
   ],
   "source": [
    "rn_mat"
   ]
  },
  {
   "cell_type": "code",
   "execution_count": 169,
   "id": "622957e0-5c2b-4f85-8691-b03e43195ddd",
   "metadata": {},
   "outputs": [
    {
     "data": {
      "text/plain": [
       "array([15., 36., 36., 55., 48., 37., 85.])"
      ]
     },
     "execution_count": 169,
     "metadata": {},
     "output_type": "execute_result"
    }
   ],
   "source": [
    "rn_mat[0]"
   ]
  },
  {
   "cell_type": "code",
   "execution_count": 171,
   "id": "2144fc6b-f7ae-410b-a435-eab760e60a51",
   "metadata": {},
   "outputs": [
    {
     "data": {
      "text/plain": [
       "(5, 7)"
      ]
     },
     "execution_count": 171,
     "metadata": {},
     "output_type": "execute_result"
    }
   ],
   "source": [
    "rn_mat.shape"
   ]
  },
  {
   "cell_type": "code",
   "execution_count": 179,
   "id": "395deaf1-9e92-4c6a-9880-c9775eb20cf6",
   "metadata": {},
   "outputs": [
    {
     "data": {
      "text/plain": [
       "array([[ 5.,  5., 95., 63.],\n",
       "       [29., 60., 45., 64.]])"
      ]
     },
     "execution_count": 179,
     "metadata": {},
     "output_type": "execute_result"
    }
   ],
   "source": [
    "rn_mat[ 3:, 1: 5 ]"
   ]
  },
  {
   "cell_type": "code",
   "execution_count": 173,
   "id": "877996b3-88ed-4e4d-a3e5-f7c26a69bc05",
   "metadata": {},
   "outputs": [
    {
     "data": {
      "text/plain": [
       "array([[15., 36., 36., 55., 48., 37., 85.],\n",
       "       [ 8., 94., 58., 42., 98., 63.,  1.],\n",
       "       [60., 39., 14.,  5., 62., 12., 61.],\n",
       "       [ 5.,  5.,  5., 95., 63., 61., 59.],\n",
       "       [ 4., 29., 60., 45., 64., 96., 14.]])"
      ]
     },
     "execution_count": 173,
     "metadata": {},
     "output_type": "execute_result"
    }
   ],
   "source": [
    "rn_mat"
   ]
  },
  {
   "cell_type": "code",
   "execution_count": null,
   "id": "66d69ce6-29f0-47ba-a5e8-7bbf4aa4e689",
   "metadata": {},
   "outputs": [],
   "source": []
  }
 ],
 "metadata": {
  "kernelspec": {
   "display_name": "Python 3 (ipykernel)",
   "language": "python",
   "name": "python3"
  },
  "language_info": {
   "codemirror_mode": {
    "name": "ipython",
    "version": 3
   },
   "file_extension": ".py",
   "mimetype": "text/x-python",
   "name": "python",
   "nbconvert_exporter": "python",
   "pygments_lexer": "ipython3",
   "version": "3.12.7"
  }
 },
 "nbformat": 4,
 "nbformat_minor": 5
}
