{
 "cells": [
  {
   "cell_type": "code",
   "execution_count": 8,
   "id": "a87358db-6888-4333-8e5f-0bf24e5ee73e",
   "metadata": {},
   "outputs": [],
   "source": [
    "# Parent\n",
    "class User:\n",
    "\n",
    "    def __init__(self):\n",
    "        self.name = 'vrinda'\n",
    "        self.gender = 'female'\n",
    "\n",
    "    def login(self):\n",
    "        print(\"login\")\n",
    "\n",
    "# Child\n",
    "class Student(User):\n",
    "    def __init__(self):\n",
    "        self.rollno = 30\n",
    "\n",
    "    def enroll(self):\n",
    "        print(\"enroll into the course\")"
   ]
  },
  {
   "cell_type": "code",
   "execution_count": 9,
   "id": "b711419f-66e8-46c4-baed-24145f6de625",
   "metadata": {},
   "outputs": [],
   "source": [
    "u = User()\n",
    "s = Student()"
   ]
  },
  {
   "cell_type": "code",
   "execution_count": 10,
   "id": "c885f494-523d-4886-bada-78614b2419af",
   "metadata": {},
   "outputs": [
    {
     "data": {
      "text/plain": [
       "30"
      ]
     },
     "execution_count": 10,
     "metadata": {},
     "output_type": "execute_result"
    }
   ],
   "source": [
    "s.rollno"
   ]
  },
  {
   "cell_type": "code",
   "execution_count": 11,
   "id": "0dd2d23a-3096-4887-9419-ec9e3500b426",
   "metadata": {},
   "outputs": [],
   "source": [
    "# Parent\n",
    "class User:\n",
    "\n",
    "    def __init__(self):\n",
    "        self.name = 'vrinda'\n",
    "        self.gender = 'female'\n",
    "\n",
    "    def login(self):\n",
    "        print(\"login\")\n",
    "\n",
    "# Child\n",
    "class Student(User):\n",
    "\n",
    "\n",
    "    def enroll(self):\n",
    "        print(\"enroll into the course\")"
   ]
  },
  {
   "cell_type": "code",
   "execution_count": 12,
   "id": "c7c68ba7-c291-461a-b9dd-908c1f80698c",
   "metadata": {},
   "outputs": [],
   "source": [
    "s = Student()"
   ]
  },
  {
   "cell_type": "code",
   "execution_count": 14,
   "id": "2aff9f3e-5c85-4f6c-9894-b60e33c553a9",
   "metadata": {},
   "outputs": [
    {
     "data": {
      "text/plain": [
       "'female'"
      ]
     },
     "execution_count": 14,
     "metadata": {},
     "output_type": "execute_result"
    }
   ],
   "source": [
    "s.gender"
   ]
  },
  {
   "cell_type": "code",
   "execution_count": 20,
   "id": "d8cf3e9c-16fe-4291-8943-42042e3e3acb",
   "metadata": {},
   "outputs": [],
   "source": [
    "class Phone:\n",
    "    def __init__(self, price, brand, battery):\n",
    "        self.price = price\n",
    "        self.brand = brand\n",
    "        self.battery = battery\n",
    "\n",
    "    def __str__(self):\n",
    "        return f\"your phone specifications : price = {self.price} , brand = {self.brand} , battery backup = {self.battery} \"\n",
    "\n",
    "    def buy(self):\n",
    "        print(\"You are getting a voucher\")\n",
    "\n",
    "class Smartphone(Phone):\n",
    "    pass"
   ]
  },
  {
   "cell_type": "code",
   "execution_count": 21,
   "id": "7f3fc99f-065d-41f1-9e1d-2cad962e4ab6",
   "metadata": {},
   "outputs": [],
   "source": [
    "s = Smartphone(\"20k\", 'motorola', '5000MaH')"
   ]
  },
  {
   "cell_type": "code",
   "execution_count": 22,
   "id": "79616e73-cecf-4e26-97e7-655a409e7696",
   "metadata": {},
   "outputs": [
    {
     "name": "stdout",
     "output_type": "stream",
     "text": [
      "your phone specifications : price = 20k , brand = motorola , battery backup = 5000MaH \n"
     ]
    }
   ],
   "source": [
    "print(s)"
   ]
  },
  {
   "cell_type": "code",
   "execution_count": 25,
   "id": "cbea0cf6-f601-4567-8472-53c19e8193c2",
   "metadata": {},
   "outputs": [],
   "source": [
    "class Phone:\n",
    "    def __init__(self, price, brand, battery):\n",
    "        self.price = price\n",
    "        self.brand = brand\n",
    "        self.battery = battery\n",
    "\n",
    "class Smartphone(Phone):\n",
    "    def __init__(self, os, ram):\n",
    "        self.os = os\n",
    "        self.ram = ram\n",
    "        print(\"more details\")\n",
    "    "
   ]
  },
  {
   "cell_type": "code",
   "execution_count": 26,
   "id": "822d1527-7f57-4a36-aa98-3cb790bd9405",
   "metadata": {},
   "outputs": [
    {
     "name": "stdout",
     "output_type": "stream",
     "text": [
      "more details\n"
     ]
    }
   ],
   "source": [
    "s = Smartphone('Andriod', 2)"
   ]
  },
  {
   "cell_type": "code",
   "execution_count": 27,
   "id": "a25c5c11-352f-4e1b-bb15-44bf3cd5a539",
   "metadata": {},
   "outputs": [
    {
     "ename": "AttributeError",
     "evalue": "'Smartphone' object has no attribute 'brand'",
     "output_type": "error",
     "traceback": [
      "\u001b[1;31m---------------------------------------------------------------------------\u001b[0m",
      "\u001b[1;31mAttributeError\u001b[0m                            Traceback (most recent call last)",
      "Cell \u001b[1;32mIn[27], line 1\u001b[0m\n\u001b[1;32m----> 1\u001b[0m s\u001b[38;5;241m.\u001b[39mbrand\n",
      "\u001b[1;31mAttributeError\u001b[0m: 'Smartphone' object has no attribute 'brand'"
     ]
    }
   ],
   "source": [
    "s.brand"
   ]
  },
  {
   "cell_type": "code",
   "execution_count": 42,
   "id": "0240a648-6958-4870-9006-88324b6822d0",
   "metadata": {},
   "outputs": [],
   "source": [
    "class Phone:\n",
    "    def __init__(self, price, brand, battery):\n",
    "        self.__price = price\n",
    "        self.brand = brand\n",
    "        self.battery = battery\n",
    "\n",
    "    def show_details(self):\n",
    "        print(self.__price)\n",
    "        \n",
    "class Smartphone(Phone):\n",
    "    def show(self):\n",
    "        print(self.__price)\n",
    "    "
   ]
  },
  {
   "cell_type": "code",
   "execution_count": 43,
   "id": "7cef5af3-4090-4daf-a2b4-1efefb767103",
   "metadata": {},
   "outputs": [],
   "source": [
    "s = Smartphone(20000, 'motorola', '5000')"
   ]
  },
  {
   "cell_type": "code",
   "execution_count": 44,
   "id": "fca545e8-89a8-445b-8b38-daab5e7c938c",
   "metadata": {},
   "outputs": [
    {
     "name": "stdout",
     "output_type": "stream",
     "text": [
      "20000\n"
     ]
    }
   ],
   "source": [
    "s.show_details()"
   ]
  },
  {
   "cell_type": "code",
   "execution_count": 72,
   "id": "9b038f5f-2f44-44a3-8f1c-6d5e5e0669e2",
   "metadata": {},
   "outputs": [],
   "source": [
    "class Phone:\n",
    "    def __init__(self, price, brand, camera):\n",
    "        self.price = price\n",
    "        self.brand = brand\n",
    "        self.camera = camera\n",
    "        print(price, brand, camera)\n",
    "\n",
    "    def buy(self):\n",
    "        print(\"Purchasing a new phone\")\n",
    "\n",
    "class Smartphone(Phone):\n",
    "    def __init__(self, price, brand, camera):\n",
    "        super().__init__(price, brand, camera)\n",
    "        \n",
    "    def buy(self):\n",
    "        print(\"buy a phone\")\n",
    "        super().buy()"
   ]
  },
  {
   "cell_type": "code",
   "execution_count": 73,
   "id": "74390045-bee2-450f-aaf0-fa3096d3cc5e",
   "metadata": {},
   "outputs": [
    {
     "name": "stdout",
     "output_type": "stream",
     "text": [
      "20k motorola 5000MaH\n"
     ]
    }
   ],
   "source": [
    "s = Smartphone(\"20k\", 'motorola', '5000MaH')"
   ]
  },
  {
   "cell_type": "markdown",
   "id": "a7853483-37c1-40bb-a3e6-31ffaf5b8c7e",
   "metadata": {},
   "source": [
    "# Q-3: Find the area of a rectangle.\n",
    "\n",
    "Approach:\n",
    "# - The class name should be Rectangle.\n",
    "# - The constructor should accept two parameters length and height but you can't pass the values directly to it while creating the constructor. E.g., rectangle = Rectangle(length=10, height=8) <-- you can't do that while creating the instances.\n",
    "# - Create a method called area() which has no parameters.\n",
    "# - Create a method called is_square() which also has no parameters. Return True if the rectangle is a square otherwise return False.\n",
    "# - If you are using a if-else block inside the is_square() method, then use the one-linear syntax"
   ]
  },
  {
   "cell_type": "code",
   "execution_count": null,
   "id": "101d86c5-1f97-4cc5-ae2f-3c32e6116b1e",
   "metadata": {},
   "outputs": [],
   "source": []
  },
  {
   "cell_type": "code",
   "execution_count": null,
   "id": "bcf4978d-a169-49b0-a4ec-79ec67488a00",
   "metadata": {},
   "outputs": [],
   "source": []
  }
 ],
 "metadata": {
  "kernelspec": {
   "display_name": "Python 3 (ipykernel)",
   "language": "python",
   "name": "python3"
  },
  "language_info": {
   "codemirror_mode": {
    "name": "ipython",
    "version": 3
   },
   "file_extension": ".py",
   "mimetype": "text/x-python",
   "name": "python",
   "nbconvert_exporter": "python",
   "pygments_lexer": "ipython3",
   "version": "3.12.7"
  }
 },
 "nbformat": 4,
 "nbformat_minor": 5
}
