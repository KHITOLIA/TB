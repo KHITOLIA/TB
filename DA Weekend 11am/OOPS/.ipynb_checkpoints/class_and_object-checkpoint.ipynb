{
 "cells": [
  {
   "cell_type": "markdown",
   "id": "b37ea1b8-f38a-4641-b03f-6cf14655d1ed",
   "metadata": {},
   "source": [
    "# Write OOP classes to handle the following scenarios:\n",
    "\n",
    "1. - A user can create and view 2D coordinates\n",
    "2. - A user can find out the distance between 2 coordinates\n",
    "3. - A user can find find the distance of a coordinate from origin\n",
    "4. - A user can check if a point lies on a given line\n",
    "5. - A user can find the distance between a given 2D point and a given line\n",
    "\n"
   ]
  },
  {
   "cell_type": "code",
   "execution_count": 14,
   "id": "7f72945e-08e3-4069-9e0c-daa3069e6830",
   "metadata": {},
   "outputs": [],
   "source": [
    "# p-1\n",
    "class Atm:\n",
    "    def __init__(self):  # constructor\n",
    "        print(id(self))\n",
    "        self.pin = '' # attribute\n",
    "        self.balance = 0 \n",
    "        self.menu()\n",
    "        \n",
    "    def menu(self):\n",
    "        user_input = input(\"\"\"\n",
    "        How can i help your sir\n",
    "        1. press 1 to create your pin\n",
    "        2. press 2 to change your pin\n",
    "        3. press 3 to check balance\n",
    "        4. press 4 to withdraw money\n",
    "        5. anything else to exit\"\"\")\n",
    "        if user_input == '1':\n",
    "            self.create_pin()\n",
    "        elif user_input == '2':\n",
    "            self.change_pin()\n",
    "        elif user_input == '3':\n",
    "            self.check_balance()\n",
    "        elif user_input == '4':\n",
    "            self.withdaw_money()\n",
    "        else:\n",
    "            exit()\n",
    "\n",
    "    def create_pin(self):\n",
    "        user_pin = input(\"enter your pin : \")\n",
    "        self.pin = user_pin\n",
    "\n",
    "        user_balance = int(input('enter your balance : '))\n",
    "        self.balance = user_balance\n",
    "        print(\"PIN CREATED SUCCESSFULLY\")\n",
    "        self.menu()\n",
    "\n",
    "    def change_pin(self):\n",
    "        old_pin = input(\"enter your old pin : \")\n",
    "\n",
    "        if old_pin == self.pin:\n",
    "            # new pin\n",
    "            new_pin = input(\"Enter your new pin : \")\n",
    "            self.pin = new_pin\n",
    "            print(\"PIN CHANGED SUCCESSFULLY\")\n",
    "        else:\n",
    "            print(\"WRONG PIN ENTERED\")\n",
    "        self.menu()\n",
    "\n",
    "    def check_balance(self):\n",
    "        user_pin = input(\"enter your pin : \")\n",
    "\n",
    "        if user_pin == self.pin:\n",
    "            print(f\"your balance is ₹{self.balance}\")\n",
    "        else:\n",
    "           print(\"WRONG PIN ENTERED\")\n",
    "        self.menu()\n",
    "\n",
    "    def withdaw_money(self):\n",
    "        amount = int(input(\"enter the amount you want to withdraw : \"))\n",
    "        user_pin = input(\"enter your pin : \")\n",
    "\n",
    "        if user_pin == self.pin:\n",
    "            if amount <= self.balance:\n",
    "                self.balance = self.balance - amount\n",
    "                print(f\"withdrawl successfully and your balance is {self.balance}\")\n",
    "            else:\n",
    "                print(\"chla ja gareeb yaha se\")\n",
    "        else:\n",
    "            print('chor sala')\n",
    "        self.menu()"
   ]
  },
  {
   "cell_type": "code",
   "execution_count": 15,
   "id": "e3201342-9125-4d71-be55-b9ee9c88f2e1",
   "metadata": {},
   "outputs": [
    {
     "name": "stdout",
     "output_type": "stream",
     "text": [
      "1848659024384\n"
     ]
    },
    {
     "name": "stdin",
     "output_type": "stream",
     "text": [
      "\n",
      "        How can i help your sir\n",
      "        1. press 1 to create your pin\n",
      "        2. press 2 to change your pin\n",
      "        3. press 3 to check balance\n",
      "        4. press 4 to withdraw money\n",
      "        5. anything else to exit 1\n",
      "enter your pin :  1234\n",
      "enter your balance :  9000\n"
     ]
    },
    {
     "name": "stdout",
     "output_type": "stream",
     "text": [
      "PIN CREATED SUCCESSFULLY\n"
     ]
    },
    {
     "name": "stdin",
     "output_type": "stream",
     "text": [
      "\n",
      "        How can i help your sir\n",
      "        1. press 1 to create your pin\n",
      "        2. press 2 to change your pin\n",
      "        3. press 3 to check balance\n",
      "        4. press 4 to withdraw money\n",
      "        5. anything else to exit 4\n",
      "enter the amount you want to withdraw :  1000\n",
      "enter your pin :  1234\n"
     ]
    },
    {
     "name": "stdout",
     "output_type": "stream",
     "text": [
      "withdrawl successfully and your balance is 8000\n"
     ]
    },
    {
     "name": "stdin",
     "output_type": "stream",
     "text": [
      "\n",
      "        How can i help your sir\n",
      "        1. press 1 to create your pin\n",
      "        2. press 2 to change your pin\n",
      "        3. press 3 to check balance\n",
      "        4. press 4 to withdraw money\n",
      "        5. anything else to exit 8\n"
     ]
    }
   ],
   "source": [
    "a = Atm()"
   ]
  },
  {
   "cell_type": "code",
   "execution_count": null,
   "id": "31bf7c6a-b3b6-43af-9829-f4a9631c01f1",
   "metadata": {},
   "outputs": [],
   "source": []
  }
 ],
 "metadata": {
  "kernelspec": {
   "display_name": "Python 3 (ipykernel)",
   "language": "python",
   "name": "python3"
  },
  "language_info": {
   "codemirror_mode": {
    "name": "ipython",
    "version": 3
   },
   "file_extension": ".py",
   "mimetype": "text/x-python",
   "name": "python",
   "nbconvert_exporter": "python",
   "pygments_lexer": "ipython3",
   "version": "3.12.7"
  }
 },
 "nbformat": 4,
 "nbformat_minor": 5
}
