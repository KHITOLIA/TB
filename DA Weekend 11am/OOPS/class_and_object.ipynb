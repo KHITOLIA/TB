{
 "cells": [
  {
   "cell_type": "code",
   "execution_count": 14,
   "id": "7f72945e-08e3-4069-9e0c-daa3069e6830",
   "metadata": {},
   "outputs": [],
   "source": [
    "# p-1\n",
    "class Atm:\n",
    "    def __init__(self):  # constructor\n",
    "        print(id(self))\n",
    "        self.pin = '' # attribute\n",
    "        self.balance = 0 \n",
    "        self.menu()\n",
    "        \n",
    "    def menu(self):\n",
    "        user_input = input(\"\"\"\n",
    "        How can i help your sir\n",
    "        1. press 1 to create your pin\n",
    "        2. press 2 to change your pin\n",
    "        3. press 3 to check balance\n",
    "        4. press 4 to withdraw money\n",
    "        5. anything else to exit\"\"\")\n",
    "        if user_input == '1':\n",
    "            self.create_pin()\n",
    "        elif user_input == '2':\n",
    "            self.change_pin()\n",
    "        elif user_input == '3':\n",
    "            self.check_balance()\n",
    "        elif user_input == '4':\n",
    "            self.withdaw_money()\n",
    "        else:\n",
    "            exit()\n",
    "\n",
    "    def create_pin(self):\n",
    "        user_pin = input(\"enter your pin : \")\n",
    "        self.pin = user_pin\n",
    "\n",
    "        user_balance = int(input('enter your balance : '))\n",
    "        self.balance = user_balance\n",
    "        print(\"PIN CREATED SUCCESSFULLY\")\n",
    "        self.menu()\n",
    "\n",
    "    def change_pin(self):\n",
    "        old_pin = input(\"enter your old pin : \")\n",
    "\n",
    "        if old_pin == self.pin:\n",
    "            # new pin\n",
    "            new_pin = input(\"Enter your new pin : \")\n",
    "            self.pin = new_pin\n",
    "            print(\"PIN CHANGED SUCCESSFULLY\")\n",
    "        else:\n",
    "            print(\"WRONG PIN ENTERED\")\n",
    "        self.menu()\n",
    "\n",
    "    def check_balance(self):\n",
    "        user_pin = input(\"enter your pin : \")\n",
    "\n",
    "        if user_pin == self.pin:\n",
    "            print(f\"your balance is ₹{self.balance}\")\n",
    "        else:\n",
    "           print(\"WRONG PIN ENTERED\")\n",
    "        self.menu()\n",
    "\n",
    "    def withdaw_money(self):\n",
    "        amount = int(input(\"enter the amount you want to withdraw : \"))\n",
    "        user_pin = input(\"enter your pin : \")\n",
    "\n",
    "        if user_pin == self.pin:\n",
    "            if amount <= self.balance:\n",
    "                self.balance = self.balance - amount\n",
    "                print(f\"withdrawl successfully and your balance is {self.balance}\")\n",
    "            else:\n",
    "                print(\"chla ja gareeb yaha se\")\n",
    "        else:\n",
    "            print('chor sala')\n",
    "        self.menu()"
   ]
  },
  {
   "cell_type": "code",
   "execution_count": 15,
   "id": "e3201342-9125-4d71-be55-b9ee9c88f2e1",
   "metadata": {},
   "outputs": [
    {
     "name": "stdout",
     "output_type": "stream",
     "text": [
      "1848659024384\n"
     ]
    },
    {
     "name": "stdin",
     "output_type": "stream",
     "text": [
      "\n",
      "        How can i help your sir\n",
      "        1. press 1 to create your pin\n",
      "        2. press 2 to change your pin\n",
      "        3. press 3 to check balance\n",
      "        4. press 4 to withdraw money\n",
      "        5. anything else to exit 1\n",
      "enter your pin :  1234\n",
      "enter your balance :  9000\n"
     ]
    },
    {
     "name": "stdout",
     "output_type": "stream",
     "text": [
      "PIN CREATED SUCCESSFULLY\n"
     ]
    },
    {
     "name": "stdin",
     "output_type": "stream",
     "text": [
      "\n",
      "        How can i help your sir\n",
      "        1. press 1 to create your pin\n",
      "        2. press 2 to change your pin\n",
      "        3. press 3 to check balance\n",
      "        4. press 4 to withdraw money\n",
      "        5. anything else to exit 4\n",
      "enter the amount you want to withdraw :  1000\n",
      "enter your pin :  1234\n"
     ]
    },
    {
     "name": "stdout",
     "output_type": "stream",
     "text": [
      "withdrawl successfully and your balance is 8000\n"
     ]
    },
    {
     "name": "stdin",
     "output_type": "stream",
     "text": [
      "\n",
      "        How can i help your sir\n",
      "        1. press 1 to create your pin\n",
      "        2. press 2 to change your pin\n",
      "        3. press 3 to check balance\n",
      "        4. press 4 to withdraw money\n",
      "        5. anything else to exit 8\n"
     ]
    }
   ],
   "source": [
    "a = Atm()"
   ]
  },
  {
   "cell_type": "markdown",
   "id": "727b9e93-2f95-4eb1-b950-290a53ded537",
   "metadata": {},
   "source": [
    "# Write OOP classes to handle the following scenarios:\n",
    "\n",
    "1. - A user can create and view 2D coordinates\n",
    "2. - A user can find out the distance between 2 coordinates\n",
    "3. - A user can find find the distance of a coordinate from origin\n",
    "4. - A user can check if a point lies on a given line\n",
    "5. - A user can find the distance between a given 2D point and a given line\n",
    "\n"
   ]
  },
  {
   "cell_type": "code",
   "execution_count": 9,
   "id": "c69ed239-8661-4a42-a220-6f6de2ab5613",
   "metadata": {},
   "outputs": [],
   "source": [
    "class Coordinate:\n",
    "    def __init__(self, x, y):\n",
    "        self.x_cod = x\n",
    "        self.y_cod = y\n",
    "\n",
    "    def __str__(self):\n",
    "        return f\"the point has a 2d coordinate {(self.x_cod, self.y_cod)}\"\n",
    "\n",
    "    def euclidean_distance(self, x, y):        \n",
    "        distance = ((x - self.x_cod)**2 + (y - self.y_cod)**2)**0.5\n",
    "        return f\"distance betwen {(x, y)} to {(self.x_cod, self.y_cod)} = {distance}\""
   ]
  },
  {
   "cell_type": "code",
   "execution_count": 10,
   "id": "8e4cdfac-00a6-4533-96cb-a002a45dac66",
   "metadata": {},
   "outputs": [],
   "source": [
    "p1 = Coordinate(2, 3)"
   ]
  },
  {
   "cell_type": "code",
   "execution_count": 11,
   "id": "d9e3c9ad-3b43-472f-a277-8c6e2cd2171b",
   "metadata": {},
   "outputs": [
    {
     "name": "stdout",
     "output_type": "stream",
     "text": [
      "the point has a 2d coordinate (2, 3)\n"
     ]
    }
   ],
   "source": [
    "print(p1)"
   ]
  },
  {
   "cell_type": "code",
   "execution_count": 13,
   "id": "3a55742b-b4d4-4181-8698-8af7c8b5aa86",
   "metadata": {},
   "outputs": [
    {
     "data": {
      "text/plain": [
       "'distance betwen (0, 0) to (2, 3) = 3.605551275463989'"
      ]
     },
     "execution_count": 13,
     "metadata": {},
     "output_type": "execute_result"
    }
   ],
   "source": [
    "p1.euclidean_distance(0, 0)"
   ]
  },
  {
   "cell_type": "code",
   "execution_count": 16,
   "id": "fc17d524-a363-47bd-9a8d-f15fe4231985",
   "metadata": {},
   "outputs": [
    {
     "data": {
      "text/plain": [
       "13"
      ]
     },
     "execution_count": 16,
     "metadata": {},
     "output_type": "execute_result"
    }
   ],
   "source": [
    "((2-0)**2 + (3-0)**2)"
   ]
  },
  {
   "cell_type": "code",
   "execution_count": 17,
   "id": "146444f2-1b3f-4aed-98f7-47d52570a0ee",
   "metadata": {},
   "outputs": [
    {
     "data": {
      "text/plain": [
       "12.999999999999998"
      ]
     },
     "execution_count": 17,
     "metadata": {},
     "output_type": "execute_result"
    }
   ],
   "source": [
    "3.605551275463989**2"
   ]
  },
  {
   "cell_type": "code",
   "execution_count": 32,
   "id": "6a9471d2-45d0-4b00-99ce-a474707bc558",
   "metadata": {},
   "outputs": [],
   "source": [
    "class Person:\n",
    "    def __init__(self):\n",
    "        self.name = 'Tushar'\n",
    "        self.subject = 'Ai-Ml'"
   ]
  },
  {
   "cell_type": "code",
   "execution_count": 33,
   "id": "1648392f-5657-44c7-8332-1b106b36d022",
   "metadata": {},
   "outputs": [],
   "source": [
    "a = Person()"
   ]
  },
  {
   "cell_type": "code",
   "execution_count": 35,
   "id": "9523d99b-3f5c-406d-b162-33d904adbdce",
   "metadata": {},
   "outputs": [],
   "source": [
    "b = a"
   ]
  },
  {
   "cell_type": "code",
   "execution_count": 34,
   "id": "f6d755ec-58bc-4473-8c61-37f0263ecab8",
   "metadata": {},
   "outputs": [
    {
     "data": {
      "text/plain": [
       "'Tushar'"
      ]
     },
     "execution_count": 34,
     "metadata": {},
     "output_type": "execute_result"
    }
   ],
   "source": [
    "a.name"
   ]
  },
  {
   "cell_type": "code",
   "execution_count": 36,
   "id": "d4fa9bc2-5946-4961-88df-89f29c341301",
   "metadata": {},
   "outputs": [
    {
     "data": {
      "text/plain": [
       "'Tushar'"
      ]
     },
     "execution_count": 36,
     "metadata": {},
     "output_type": "execute_result"
    }
   ],
   "source": [
    "b.name"
   ]
  },
  {
   "cell_type": "code",
   "execution_count": 37,
   "id": "43367c06-70a0-45e1-b52d-f7d6d47424be",
   "metadata": {},
   "outputs": [],
   "source": [
    "b.gender = 'male'"
   ]
  },
  {
   "cell_type": "code",
   "execution_count": 38,
   "id": "2dd76ae2-4755-4cd3-83ac-872d0a51989d",
   "metadata": {},
   "outputs": [
    {
     "data": {
      "text/plain": [
       "'male'"
      ]
     },
     "execution_count": 38,
     "metadata": {},
     "output_type": "execute_result"
    }
   ],
   "source": [
    "a.gender"
   ]
  },
  {
   "cell_type": "code",
   "execution_count": 40,
   "id": "05d9aeb2-7b06-4b88-8842-5204d2bcf539",
   "metadata": {},
   "outputs": [],
   "source": [
    "c = Person()"
   ]
  },
  {
   "cell_type": "code",
   "execution_count": 41,
   "id": "fff16d02-8ed4-4725-a7c6-978af6008567",
   "metadata": {},
   "outputs": [
    {
     "data": {
      "text/plain": [
       "'Tushar'"
      ]
     },
     "execution_count": 41,
     "metadata": {},
     "output_type": "execute_result"
    }
   ],
   "source": [
    "c.name"
   ]
  },
  {
   "cell_type": "code",
   "execution_count": 42,
   "id": "d9b6e2bb-23d9-442c-8978-1b78a1f52177",
   "metadata": {},
   "outputs": [
    {
     "ename": "AttributeError",
     "evalue": "'Person' object has no attribute 'gender'",
     "output_type": "error",
     "traceback": [
      "\u001b[1;31m---------------------------------------------------------------------------\u001b[0m",
      "\u001b[1;31mAttributeError\u001b[0m                            Traceback (most recent call last)",
      "Cell \u001b[1;32mIn[42], line 1\u001b[0m\n\u001b[1;32m----> 1\u001b[0m c\u001b[38;5;241m.\u001b[39mgender\n",
      "\u001b[1;31mAttributeError\u001b[0m: 'Person' object has no attribute 'gender'"
     ]
    }
   ],
   "source": [
    "c.gender"
   ]
  },
  {
   "cell_type": "code",
   "execution_count": 43,
   "id": "bfd1bbc0-9c6b-4b12-9900-bdf3792267d7",
   "metadata": {},
   "outputs": [],
   "source": [
    "# Encapsulation"
   ]
  },
  {
   "cell_type": "code",
   "execution_count": 36,
   "id": "c8b6926e-5a19-40eb-8510-95c244f24065",
   "metadata": {},
   "outputs": [],
   "source": [
    "# p-1\n",
    "class Atm:\n",
    "    def __init__(self):  # constructor\n",
    "        print(id(self))\n",
    "        self.__pin = '' # attribute\n",
    "        self.__balance = 0 \n",
    "        self.menu()\n",
    "        \n",
    "    def menu(self):\n",
    "        user_input = input(\"\"\"\n",
    "        How can i help your sir\n",
    "        1. press 1 to create your pin\n",
    "        2. press 2 to change your pin\n",
    "        3. press 3 to check balance\n",
    "        4. press 4 to withdraw money\n",
    "        5. anything else to exit\"\"\")\n",
    "        if user_input == '1':\n",
    "            self.create_pin()\n",
    "        elif user_input == '2':\n",
    "            self.change_pin()\n",
    "        elif user_input == '3':\n",
    "            self.check_balance()\n",
    "        elif user_input == '4':\n",
    "            self.withdaw_money()\n",
    "        else:\n",
    "            pass\n",
    "\n",
    "    \n",
    "    def get_details(self):\n",
    "        return self.__pin, self.__balance\n",
    "    def create_pin(self):\n",
    "        user_pin = input(\"enter your pin : \")\n",
    "        self.__pin = user_pin\n",
    "\n",
    "        user_balance = int(input('enter your balance : '))\n",
    "        self.__balance = user_balance\n",
    "        print(\"PIN CREATED SUCCESSFULLY\")\n",
    "        self.menu()\n",
    "\n",
    "    def change_pin(self):\n",
    "        old_pin = input(\"enter your old pin : \")\n",
    "\n",
    "        if old_pin == self.__pin:\n",
    "            # new pin\n",
    "            new_pin = input(\"Enter your new pin : \")\n",
    "            self.__pin = new_pin\n",
    "            print(\"PIN CHANGED SUCCESSFULLY\")\n",
    "        else:\n",
    "            print(\"WRONG PIN ENTERED\")\n",
    "        self.menu()\n",
    "\n",
    "    def check_balance(self):\n",
    "        user_pin = input(\"enter your pin : \")\n",
    "\n",
    "        if user_pin == self.__pin:\n",
    "            print(f\"your balance is ₹{self.__balance}\")\n",
    "        else:\n",
    "           print(\"WRONG PIN ENTERED\")\n",
    "        self.menu()\n",
    "\n",
    "    def withdaw_money(self):\n",
    "        amount = int(input(\"enter the amount you want to withdraw : \"))\n",
    "        user_pin = input(\"enter your pin : \")\n",
    "\n",
    "        if user_pin == self.__pin:\n",
    "            if amount <= self.__balance:\n",
    "                self.__balance = self.__balance - amount\n",
    "                print(f\"withdrawl successfully and your balance is {self.__balance}\")\n",
    "            else:\n",
    "                print(\"chla ja gareeb yaha se\")\n",
    "        else:\n",
    "            print('chor sala')\n",
    "        self.menu()"
   ]
  },
  {
   "cell_type": "code",
   "execution_count": 34,
   "id": "44493095-5529-45ad-b145-a31dcfae9237",
   "metadata": {},
   "outputs": [
    {
     "name": "stdout",
     "output_type": "stream",
     "text": [
      "1694017207904\n"
     ]
    },
    {
     "name": "stdin",
     "output_type": "stream",
     "text": [
      "\n",
      "        How can i help your sir\n",
      "        1. press 1 to create your pin\n",
      "        2. press 2 to change your pin\n",
      "        3. press 3 to check balance\n",
      "        4. press 4 to withdraw money\n",
      "        5. anything else to exit 1\n",
      "enter your pin :  1234\n",
      "enter your balance :  1000\n"
     ]
    },
    {
     "name": "stdout",
     "output_type": "stream",
     "text": [
      "PIN CREATED SUCCESSFULLY\n"
     ]
    },
    {
     "name": "stdin",
     "output_type": "stream",
     "text": [
      "\n",
      "        How can i help your sir\n",
      "        1. press 1 to create your pin\n",
      "        2. press 2 to change your pin\n",
      "        3. press 3 to check balance\n",
      "        4. press 4 to withdraw money\n",
      "        5. anything else to exit 9\n"
     ]
    }
   ],
   "source": [
    "a = Atm()"
   ]
  },
  {
   "cell_type": "code",
   "execution_count": 18,
   "id": "afaa2a4b-4655-4526-bff8-b4f490f727c7",
   "metadata": {},
   "outputs": [
    {
     "name": "stdin",
     "output_type": "stream",
     "text": [
      "\n",
      "        How can i help your sir\n",
      "        1. press 1 to create your pin\n",
      "        2. press 2 to change your pin\n",
      "        3. press 3 to check balance\n",
      "        4. press 4 to withdraw money\n",
      "        5. anything else to exit 2\n",
      "enter your old pin :  1234\n",
      "Enter your new pin :  0987\n"
     ]
    },
    {
     "name": "stdout",
     "output_type": "stream",
     "text": [
      "PIN CHANGED SUCCESSFULLY\n"
     ]
    },
    {
     "name": "stdin",
     "output_type": "stream",
     "text": [
      "\n",
      "        How can i help your sir\n",
      "        1. press 1 to create your pin\n",
      "        2. press 2 to change your pin\n",
      "        3. press 3 to check balance\n",
      "        4. press 4 to withdraw money\n",
      "        5. anything else to exit 9\n"
     ]
    }
   ],
   "source": [
    "a.menu()"
   ]
  },
  {
   "cell_type": "code",
   "execution_count": 35,
   "id": "0813befd-7c99-4344-ad1d-ee026434699b",
   "metadata": {},
   "outputs": [
    {
     "data": {
      "text/plain": [
       "('1234', 1000)"
      ]
     },
     "execution_count": 35,
     "metadata": {},
     "output_type": "execute_result"
    }
   ],
   "source": [
    "a.get_details()"
   ]
  },
  {
   "cell_type": "markdown",
   "id": "23645f93-37c7-4f71-a077-f62acfe2792e",
   "metadata": {},
   "source": [
    "# Q-1: Rectangle Class\n",
    "\n",
    "1. Write a Rectangle class in Python language, allowing you to build a rectangle with length and width attributes.\n",
    "\n",
    "2. Create a Perimeter() method to calculate the perimeter of the rectangle and a Area() method to calculate the area of ​​the rectangle.\n",
    "\n",
    "3. Create a method display() that display the length, width, perimeter and area of an object created using an instantiation on rectangle class"
   ]
  },
  {
   "cell_type": "code",
   "execution_count": 15,
   "id": "bfdc51a3-b674-4498-a178-e37e5a36ad22",
   "metadata": {},
   "outputs": [],
   "source": [
    "# p-1\n",
    "class Atm:\n",
    "    __counter = 1\n",
    "    def __init__(self):  # constructor\n",
    "        print(id(self))\n",
    "        self.pin = '' # attribute\n",
    "        self.balance = 0 \n",
    "        self.cid = Atm.__counter\n",
    "        Atm.__counter = Atm.__counter + 1\n",
    "        # self.menu()\n",
    "\n",
    "    def get_counter():\n",
    "        return Atm.__counter\n",
    "        \n",
    "    def menu(self):\n",
    "        user_input = input(\"\"\"\n",
    "        How can i help your sir\n",
    "        1. press 1 to create your pin\n",
    "        2. press 2 to change your pin\n",
    "        3. press 3 to check balance\n",
    "        4. press 4 to withdraw money\n",
    "        5. anything else to exit\"\"\")\n",
    "        if user_input == '1':\n",
    "            self.create_pin()\n",
    "        elif user_input == '2':\n",
    "            self.change_pin()\n",
    "        elif user_input == '3':\n",
    "            self.check_balance()\n",
    "        elif user_input == '4':\n",
    "            self.withdaw_money()\n",
    "        else:\n",
    "            exit()\n",
    "\n",
    "    def create_pin(self):\n",
    "        user_pin = input(\"enter your pin : \")\n",
    "        self.pin = user_pin\n",
    "\n",
    "        user_balance = int(input('enter your balance : '))\n",
    "        self.balance = user_balance\n",
    "        print(\"PIN CREATED SUCCESSFULLY\")\n",
    "        self.menu()\n",
    "\n",
    "    def change_pin(self):\n",
    "        old_pin = input(\"enter your old pin : \")\n",
    "\n",
    "        if old_pin == self.pin:\n",
    "            # new pin\n",
    "            new_pin = input(\"Enter your new pin : \")\n",
    "            self.pin = new_pin\n",
    "            print(\"PIN CHANGED SUCCESSFULLY\")\n",
    "        else:\n",
    "            print(\"WRONG PIN ENTERED\")\n",
    "        self.menu()\n",
    "\n",
    "    def check_balance(self):\n",
    "        user_pin = input(\"enter your pin : \")\n",
    "\n",
    "        if user_pin == self.pin:\n",
    "            print(f\"your balance is ₹{self.balance}\")\n",
    "        else:\n",
    "           print(\"WRONG PIN ENTERED\")\n",
    "        self.menu()\n",
    "\n",
    "    def withdaw_money(self):\n",
    "        amount = int(input(\"enter the amount you want to withdraw : \"))\n",
    "        user_pin = input(\"enter your pin : \")\n",
    "\n",
    "        if user_pin == self.pin:\n",
    "            if amount <= self.balance:\n",
    "                self.balance = self.balance - amount\n",
    "                print(f\"withdrawl successfully and your balance is {self.balance}\")\n",
    "            else:\n",
    "                print(\"chla ja gareeb yaha se\")\n",
    "        else:\n",
    "            print('chor sala')\n",
    "        self.menu()"
   ]
  },
  {
   "cell_type": "code",
   "execution_count": 16,
   "id": "2561c9c6-c635-421b-97d9-11240157024e",
   "metadata": {},
   "outputs": [
    {
     "name": "stdout",
     "output_type": "stream",
     "text": [
      "2451938617552\n"
     ]
    }
   ],
   "source": [
    "c1 = Atm()"
   ]
  },
  {
   "cell_type": "code",
   "execution_count": 17,
   "id": "2d07d50a-26fe-4cf1-8dbb-c7d4372f038c",
   "metadata": {},
   "outputs": [
    {
     "data": {
      "text/plain": [
       "2"
      ]
     },
     "execution_count": 17,
     "metadata": {},
     "output_type": "execute_result"
    }
   ],
   "source": [
    "c1._Atm__counter"
   ]
  },
  {
   "cell_type": "code",
   "execution_count": 19,
   "id": "3155f331-4d61-4bee-9d38-ddfac014a3d1",
   "metadata": {},
   "outputs": [
    {
     "data": {
      "text/plain": [
       "2"
      ]
     },
     "execution_count": 19,
     "metadata": {},
     "output_type": "execute_result"
    }
   ],
   "source": [
    "Atm.get_counter()"
   ]
  },
  {
   "cell_type": "code",
   "execution_count": null,
   "id": "1b262712-1eb4-4b04-9c2d-5668df71aee7",
   "metadata": {},
   "outputs": [],
   "source": []
  }
 ],
 "metadata": {
  "kernelspec": {
   "display_name": "Python 3 (ipykernel)",
   "language": "python",
   "name": "python3"
  },
  "language_info": {
   "codemirror_mode": {
    "name": "ipython",
    "version": 3
   },
   "file_extension": ".py",
   "mimetype": "text/x-python",
   "name": "python",
   "nbconvert_exporter": "python",
   "pygments_lexer": "ipython3",
   "version": "3.12.7"
  }
 },
 "nbformat": 4,
 "nbformat_minor": 5
}
