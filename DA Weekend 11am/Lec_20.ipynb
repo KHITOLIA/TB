{
 "cells": [
  {
   "cell_type": "code",
   "execution_count": 22,
   "id": "1ba7e296-d16c-4128-b248-118197730ac5",
   "metadata": {},
   "outputs": [],
   "source": [
    "def func():\n",
    "    yield 1\n",
    "    yield 2\n",
    "    yield 3"
   ]
  },
  {
   "cell_type": "code",
   "execution_count": 23,
   "id": "e9ba4bd8-733d-4eb2-9e3b-f388e5a49f6f",
   "metadata": {},
   "outputs": [],
   "source": [
    "def func1():\n",
    "    return [1, 2, 3, 3, 4, 5, 56, 6, 76, 65]"
   ]
  },
  {
   "cell_type": "code",
   "execution_count": 24,
   "id": "1ba2c215-41ad-4562-8cb0-26da79e24a93",
   "metadata": {},
   "outputs": [
    {
     "ename": "NameError",
     "evalue": "name 'asd' is not defined",
     "output_type": "error",
     "traceback": [
      "\u001b[1;31m---------------------------------------------------------------------------\u001b[0m",
      "\u001b[1;31mNameError\u001b[0m                                 Traceback (most recent call last)",
      "Cell \u001b[1;32mIn[24], line 3\u001b[0m\n\u001b[0;32m      1\u001b[0m a \u001b[38;5;241m=\u001b[39m func()\n\u001b[0;32m      2\u001b[0m b \u001b[38;5;241m=\u001b[39m func1()\n\u001b[1;32m----> 3\u001b[0m asd\n",
      "\u001b[1;31mNameError\u001b[0m: name 'asd' is not defined"
     ]
    }
   ],
   "source": [
    "a = func()\n",
    "b = func1()\n",
    "asd"
   ]
  },
  {
   "cell_type": "code",
   "execution_count": 16,
   "id": "0871ad28-8d56-416b-a233-3c424d101eab",
   "metadata": {},
   "outputs": [
    {
     "data": {
      "text/plain": [
       "generator"
      ]
     },
     "execution_count": 16,
     "metadata": {},
     "output_type": "execute_result"
    }
   ],
   "source": [
    "type(a)"
   ]
  },
  {
   "cell_type": "code",
   "execution_count": 17,
   "id": "ab07a92a-e1cb-4046-9f32-09132c8fedd2",
   "metadata": {},
   "outputs": [
    {
     "data": {
      "text/plain": [
       "list"
      ]
     },
     "execution_count": 17,
     "metadata": {},
     "output_type": "execute_result"
    }
   ],
   "source": [
    "type(b)"
   ]
  },
  {
   "cell_type": "code",
   "execution_count": 18,
   "id": "a17fd130-5916-44a4-b2fc-9611756aea1d",
   "metadata": {},
   "outputs": [
    {
     "data": {
      "text/plain": [
       "[1, 2, 3, 3, 4, 5, 56, 6, 76, 65]"
      ]
     },
     "execution_count": 18,
     "metadata": {},
     "output_type": "execute_result"
    }
   ],
   "source": [
    "b"
   ]
  },
  {
   "cell_type": "code",
   "execution_count": 19,
   "id": "088eee18-202b-4cae-8532-7928efe90e93",
   "metadata": {},
   "outputs": [
    {
     "data": {
      "text/plain": [
       "0.1328125"
      ]
     },
     "execution_count": 19,
     "metadata": {},
     "output_type": "execute_result"
    }
   ],
   "source": [
    "import sys\n",
    "sys.getsizeof(b)/1024"
   ]
  },
  {
   "cell_type": "code",
   "execution_count": 20,
   "id": "e4e283c4-a89d-4ef0-b906-3ab44d736ad1",
   "metadata": {},
   "outputs": [
    {
     "data": {
      "text/plain": [
       "0.02734375"
      ]
     },
     "execution_count": 20,
     "metadata": {},
     "output_type": "execute_result"
    }
   ],
   "source": [
    "sys.getsizeof(a1)/1024"
   ]
  },
  {
   "cell_type": "code",
   "execution_count": 11,
   "id": "93e81c86-e861-4b85-992e-5ba3af744a1a",
   "metadata": {},
   "outputs": [],
   "source": [
    "a1 = next(a)"
   ]
  },
  {
   "cell_type": "code",
   "execution_count": 12,
   "id": "32b26865-6f80-4525-aeb9-d75d5f25ef6c",
   "metadata": {},
   "outputs": [
    {
     "data": {
      "text/plain": [
       "1"
      ]
     },
     "execution_count": 12,
     "metadata": {},
     "output_type": "execute_result"
    }
   ],
   "source": [
    "a1"
   ]
  },
  {
   "cell_type": "code",
   "execution_count": 21,
   "id": "6a46f3b6-4d64-4e82-bc63-5123f04bb794",
   "metadata": {},
   "outputs": [],
   "source": [
    "# exception handling"
   ]
  },
  {
   "cell_type": "code",
   "execution_count": 25,
   "id": "7ce0fee6-d5c7-4da3-a11c-7718e35b477e",
   "metadata": {},
   "outputs": [
    {
     "name": "stdin",
     "output_type": "stream",
     "text": [
      "enter the value :  True\n"
     ]
    }
   ],
   "source": [
    "n = input(\"enter the value : \")"
   ]
  },
  {
   "cell_type": "code",
   "execution_count": 26,
   "id": "708f71f9-0161-47c7-bdac-a4bfad1c425f",
   "metadata": {},
   "outputs": [
    {
     "data": {
      "text/plain": [
       "'True'"
      ]
     },
     "execution_count": 26,
     "metadata": {},
     "output_type": "execute_result"
    }
   ],
   "source": [
    "n"
   ]
  },
  {
   "cell_type": "code",
   "execution_count": 27,
   "id": "559ff4da-9695-4586-9d22-b0b502a9a4b9",
   "metadata": {},
   "outputs": [
    {
     "name": "stdin",
     "output_type": "stream",
     "text": [
      "enter the value :  adfsdfsd\n"
     ]
    },
    {
     "ename": "ValueError",
     "evalue": "invalid literal for int() with base 10: 'adfsdfsd'",
     "output_type": "error",
     "traceback": [
      "\u001b[1;31m---------------------------------------------------------------------------\u001b[0m",
      "\u001b[1;31mValueError\u001b[0m                                Traceback (most recent call last)",
      "Cell \u001b[1;32mIn[27], line 1\u001b[0m\n\u001b[1;32m----> 1\u001b[0m n \u001b[38;5;241m=\u001b[39m \u001b[38;5;28mint\u001b[39m(\u001b[38;5;28minput\u001b[39m(\u001b[38;5;124m\"\u001b[39m\u001b[38;5;124menter the value : \u001b[39m\u001b[38;5;124m\"\u001b[39m))\n",
      "\u001b[1;31mValueError\u001b[0m: invalid literal for int() with base 10: 'adfsdfsd'"
     ]
    }
   ],
   "source": [
    "n = int(input(\"enter the value : \"))"
   ]
  },
  {
   "cell_type": "code",
   "execution_count": 30,
   "id": "2cef355a-6525-4d6f-ad57-948af4a4cb90",
   "metadata": {},
   "outputs": [
    {
     "name": "stdin",
     "output_type": "stream",
     "text": [
      "enter the value  o0jqw3\n"
     ]
    },
    {
     "name": "stdout",
     "output_type": "stream",
     "text": [
      "please change your data type!\n"
     ]
    }
   ],
   "source": [
    "try : \n",
    "    n = int(input(\"enter the value \"))\n",
    "    print(\"yes \")\n",
    "except ValueError:\n",
    "    print(\"please change your data type!\")"
   ]
  },
  {
   "cell_type": "code",
   "execution_count": 32,
   "id": "779c0c3d-bf2a-49c0-a48d-152dd51c3ab2",
   "metadata": {},
   "outputs": [],
   "source": [
    "def divider(a, b):\n",
    "    return a/b"
   ]
  },
  {
   "cell_type": "code",
   "execution_count": 33,
   "id": "a3e7c52b-3cb8-4460-a470-ccd2dd71896e",
   "metadata": {},
   "outputs": [
    {
     "data": {
      "text/plain": [
       "2.0"
      ]
     },
     "execution_count": 33,
     "metadata": {},
     "output_type": "execute_result"
    }
   ],
   "source": [
    "divider(10, 5)"
   ]
  },
  {
   "cell_type": "code",
   "execution_count": 34,
   "id": "5dd44d23-f87f-4ac2-8a3e-7a2c624fa036",
   "metadata": {},
   "outputs": [
    {
     "data": {
      "text/plain": [
       "5.0"
      ]
     },
     "execution_count": 34,
     "metadata": {},
     "output_type": "execute_result"
    }
   ],
   "source": [
    "divider(10, 2)"
   ]
  },
  {
   "cell_type": "code",
   "execution_count": 35,
   "id": "f39198c9-952e-4e93-bd85-83eca3fd37e2",
   "metadata": {},
   "outputs": [
    {
     "ename": "ZeroDivisionError",
     "evalue": "division by zero",
     "output_type": "error",
     "traceback": [
      "\u001b[1;31m---------------------------------------------------------------------------\u001b[0m",
      "\u001b[1;31mZeroDivisionError\u001b[0m                         Traceback (most recent call last)",
      "Cell \u001b[1;32mIn[35], line 1\u001b[0m\n\u001b[1;32m----> 1\u001b[0m divider(\u001b[38;5;241m10\u001b[39m, \u001b[38;5;241m0\u001b[39m)\n",
      "Cell \u001b[1;32mIn[32], line 2\u001b[0m, in \u001b[0;36mdivider\u001b[1;34m(a, b)\u001b[0m\n\u001b[0;32m      1\u001b[0m \u001b[38;5;28;01mdef\u001b[39;00m \u001b[38;5;21mdivider\u001b[39m(a, b):\n\u001b[1;32m----> 2\u001b[0m     \u001b[38;5;28;01mreturn\u001b[39;00m a\u001b[38;5;241m/\u001b[39mb\n",
      "\u001b[1;31mZeroDivisionError\u001b[0m: division by zero"
     ]
    }
   ],
   "source": [
    "divider(10, 0)"
   ]
  },
  {
   "cell_type": "code",
   "execution_count": 37,
   "id": "41fb3922-4eea-4475-996d-2b4a7462da7a",
   "metadata": {},
   "outputs": [],
   "source": [
    "def divider(a, b):\n",
    "    try:\n",
    "        return a/b\n",
    "    except ZeroDivisionError:\n",
    "        print(\"please change your data type\")"
   ]
  },
  {
   "cell_type": "code",
   "execution_count": 38,
   "id": "aa744223-bc16-4f07-b018-063cdd80aa13",
   "metadata": {},
   "outputs": [
    {
     "name": "stdout",
     "output_type": "stream",
     "text": [
      "please change your data type\n"
     ]
    }
   ],
   "source": [
    "divider(10, 0)"
   ]
  },
  {
   "cell_type": "code",
   "execution_count": 39,
   "id": "4ff9dad9-ce28-4d11-9886-af3ea3c61c13",
   "metadata": {},
   "outputs": [],
   "source": [
    "def divider(a, b):\n",
    "    try:\n",
    "        return a/b\n",
    "    except ZeroDivisionError:\n",
    "        print(\"please change your data type\")\n",
    "\n",
    "    finally:\n",
    "        b = int(input(\"enter the value of b : \"))\n",
    "        return a/b"
   ]
  },
  {
   "cell_type": "code",
   "execution_count": 40,
   "id": "75367433-7ac9-460c-ae12-3e37d41ada63",
   "metadata": {},
   "outputs": [
    {
     "name": "stdout",
     "output_type": "stream",
     "text": [
      "please change your data type\n"
     ]
    },
    {
     "name": "stdin",
     "output_type": "stream",
     "text": [
      "enter the value of b :  2\n"
     ]
    },
    {
     "data": {
      "text/plain": [
       "5.0"
      ]
     },
     "execution_count": 40,
     "metadata": {},
     "output_type": "execute_result"
    }
   ],
   "source": [
    "divider(10, 0)"
   ]
  },
  {
   "cell_type": "code",
   "execution_count": 41,
   "id": "56c9a6c2-be0d-4925-acc6-cd740d76c354",
   "metadata": {},
   "outputs": [],
   "source": [
    "def divider(a, b):\n",
    "    try:\n",
    "        return a/b\n",
    "    except Exception as e:\n",
    "        print(e)\n",
    "\n",
    "    finally:\n",
    "        b = int(input(\"enter the value of b : \"))\n",
    "        return a/b"
   ]
  },
  {
   "cell_type": "code",
   "execution_count": 43,
   "id": "b5e47f7e-5ccd-4734-af90-d11940c91d50",
   "metadata": {},
   "outputs": [
    {
     "name": "stdout",
     "output_type": "stream",
     "text": [
      "unsupported operand type(s) for /: 'int' and 'str'\n"
     ]
    },
    {
     "name": "stdin",
     "output_type": "stream",
     "text": [
      "enter the value of b :  10\n"
     ]
    },
    {
     "data": {
      "text/plain": [
       "1.0"
      ]
     },
     "execution_count": 43,
     "metadata": {},
     "output_type": "execute_result"
    }
   ],
   "source": [
    "divider(10, '0')"
   ]
  },
  {
   "cell_type": "code",
   "execution_count": 45,
   "id": "234dab6c-ca68-412d-abc4-fc0faf451ffd",
   "metadata": {},
   "outputs": [],
   "source": [
    "# 10/'0'"
   ]
  },
  {
   "cell_type": "code",
   "execution_count": 46,
   "id": "c4eb9c62-e4df-486b-a5c3-a73ebb56d254",
   "metadata": {},
   "outputs": [],
   "source": [
    "d= {\n",
    "    'a':1,\n",
    "    'b':2\n",
    "}"
   ]
  },
  {
   "cell_type": "code",
   "execution_count": 47,
   "id": "916fb81a-1ba0-4982-b0e4-13380c8a3a7f",
   "metadata": {},
   "outputs": [],
   "source": [
    "a = 'training'"
   ]
  },
  {
   "cell_type": "code",
   "execution_count": 48,
   "id": "718e9148-20b9-49bb-a06c-461861e744fc",
   "metadata": {},
   "outputs": [
    {
     "ename": "ValueError",
     "evalue": "dictionary update sequence element #0 has length 1; 2 is required",
     "output_type": "error",
     "traceback": [
      "\u001b[1;31m---------------------------------------------------------------------------\u001b[0m",
      "\u001b[1;31mValueError\u001b[0m                                Traceback (most recent call last)",
      "Cell \u001b[1;32mIn[48], line 1\u001b[0m\n\u001b[1;32m----> 1\u001b[0m a \u001b[38;5;241m=\u001b[39m \u001b[38;5;28mdict\u001b[39m(a)\n",
      "\u001b[1;31mValueError\u001b[0m: dictionary update sequence element #0 has length 1; 2 is required"
     ]
    }
   ],
   "source": [
    "a = dict(a)"
   ]
  },
  {
   "cell_type": "code",
   "execution_count": 49,
   "id": "a2900f19-c724-422d-8ba6-29e1081e454e",
   "metadata": {},
   "outputs": [],
   "source": [
    "d = str(d)"
   ]
  },
  {
   "cell_type": "code",
   "execution_count": 50,
   "id": "8f38df69-ecdf-4df9-967f-f0a7516f5370",
   "metadata": {},
   "outputs": [
    {
     "data": {
      "text/plain": [
       "\"{'a': 1, 'b': 2}\""
      ]
     },
     "execution_count": 50,
     "metadata": {},
     "output_type": "execute_result"
    }
   ],
   "source": [
    "d"
   ]
  },
  {
   "cell_type": "code",
   "execution_count": 52,
   "id": "d28aa93d-6fac-4df5-861c-fe9dcb00607a",
   "metadata": {},
   "outputs": [
    {
     "data": {
      "text/plain": [
       "'}'"
      ]
     },
     "execution_count": 52,
     "metadata": {},
     "output_type": "execute_result"
    }
   ],
   "source": [
    "d[-1]"
   ]
  },
  {
   "cell_type": "code",
   "execution_count": 53,
   "id": "7b6ef4d3-f712-4364-b274-ee6e64b6c2a9",
   "metadata": {},
   "outputs": [],
   "source": [
    "# File handling"
   ]
  },
  {
   "cell_type": "code",
   "execution_count": 54,
   "id": "076e8eed-98a0-47dc-aeb6-25b36e948bef",
   "metadata": {},
   "outputs": [],
   "source": [
    "file = open('python.txt', 'r')"
   ]
  },
  {
   "cell_type": "code",
   "execution_count": 55,
   "id": "16ec522b-b7e1-45b5-9c5f-9b3cc33557e1",
   "metadata": {},
   "outputs": [
    {
     "data": {
      "text/plain": [
       "<_io.TextIOWrapper name='python.txt' mode='r' encoding='cp1252'>"
      ]
     },
     "execution_count": 55,
     "metadata": {},
     "output_type": "execute_result"
    }
   ],
   "source": [
    "file"
   ]
  },
  {
   "cell_type": "code",
   "execution_count": 56,
   "id": "a331365e-5b73-40b2-8c43-cc453d51b227",
   "metadata": {},
   "outputs": [
    {
     "data": {
      "text/plain": [
       "'Hello world\\nMachine learning\\ndata analysis\\nartificial intelligence'"
      ]
     },
     "execution_count": 56,
     "metadata": {},
     "output_type": "execute_result"
    }
   ],
   "source": [
    "file.read()"
   ]
  },
  {
   "cell_type": "code",
   "execution_count": 57,
   "id": "78b934e5-384d-480a-82ce-e011afdea02e",
   "metadata": {},
   "outputs": [
    {
     "data": {
      "text/plain": [
       "''"
      ]
     },
     "execution_count": 57,
     "metadata": {},
     "output_type": "execute_result"
    }
   ],
   "source": [
    "file.read()"
   ]
  },
  {
   "cell_type": "code",
   "execution_count": 62,
   "id": "2213aee0-11ba-44b9-a833-efdc50b3440c",
   "metadata": {},
   "outputs": [
    {
     "data": {
      "text/plain": [
       "0"
      ]
     },
     "execution_count": 62,
     "metadata": {},
     "output_type": "execute_result"
    }
   ],
   "source": [
    "file.seek(0)"
   ]
  },
  {
   "cell_type": "code",
   "execution_count": 63,
   "id": "f36d8a23-261c-4c4b-95b8-f58c15124adf",
   "metadata": {},
   "outputs": [],
   "source": [
    "text = file.read()"
   ]
  },
  {
   "cell_type": "code",
   "execution_count": 60,
   "id": "74632551-781b-438f-ac19-30c2630795e9",
   "metadata": {},
   "outputs": [
    {
     "data": {
      "text/plain": [
       "10"
      ]
     },
     "execution_count": 60,
     "metadata": {},
     "output_type": "execute_result"
    }
   ],
   "source": [
    "file.seek(10)"
   ]
  },
  {
   "cell_type": "code",
   "execution_count": 61,
   "id": "d438387f-d5c7-40b1-9ccf-7b4b8a813408",
   "metadata": {},
   "outputs": [
    {
     "data": {
      "text/plain": [
       "'d\\nMachine learning\\ndata analysis\\nartificial intelligence'"
      ]
     },
     "execution_count": 61,
     "metadata": {},
     "output_type": "execute_result"
    }
   ],
   "source": [
    "file.read()"
   ]
  },
  {
   "cell_type": "code",
   "execution_count": 64,
   "id": "1840deb8-d299-4360-8076-5d977813d5c8",
   "metadata": {},
   "outputs": [
    {
     "data": {
      "text/plain": [
       "'Hello world\\nMachine learning\\ndata analysis\\nartificial intelligence'"
      ]
     },
     "execution_count": 64,
     "metadata": {},
     "output_type": "execute_result"
    }
   ],
   "source": [
    "text"
   ]
  },
  {
   "cell_type": "code",
   "execution_count": 67,
   "id": "014fab16-fc2c-4341-ac31-8abe7ceae6cc",
   "metadata": {},
   "outputs": [
    {
     "data": {
      "text/plain": [
       "'Hello world, Machine learning, data analysis, artificial intelligence'"
      ]
     },
     "execution_count": 67,
     "metadata": {},
     "output_type": "execute_result"
    }
   ],
   "source": [
    "text.replace('\\n', ', ')"
   ]
  },
  {
   "cell_type": "code",
   "execution_count": 68,
   "id": "adc66fc3-b7d1-462b-90c3-499e17b09539",
   "metadata": {},
   "outputs": [],
   "source": [
    "file.close()"
   ]
  },
  {
   "cell_type": "code",
   "execution_count": 69,
   "id": "24eb6260-125a-4f0b-b6e2-759905c0ad66",
   "metadata": {},
   "outputs": [
    {
     "ename": "ValueError",
     "evalue": "I/O operation on closed file.",
     "output_type": "error",
     "traceback": [
      "\u001b[1;31m---------------------------------------------------------------------------\u001b[0m",
      "\u001b[1;31mValueError\u001b[0m                                Traceback (most recent call last)",
      "Cell \u001b[1;32mIn[69], line 1\u001b[0m\n\u001b[1;32m----> 1\u001b[0m file\u001b[38;5;241m.\u001b[39mread()\n",
      "\u001b[1;31mValueError\u001b[0m: I/O operation on closed file."
     ]
    }
   ],
   "source": [
    "file.read()"
   ]
  },
  {
   "cell_type": "code",
   "execution_count": 73,
   "id": "b6b07d34-a880-4710-9f85-ddc86a5d557b",
   "metadata": {},
   "outputs": [],
   "source": [
    "file = open('C:\\\\Users\\\\tbaka\\\\Training Basket\\\\python.txt', 'r')"
   ]
  },
  {
   "cell_type": "code",
   "execution_count": 74,
   "id": "818e4fff-0e76-4ac2-97b9-76bacf6f9ba6",
   "metadata": {},
   "outputs": [
    {
     "data": {
      "text/plain": [
       "'Hello world\\nMachine learning\\ndata analysis\\nartificial intelligence'"
      ]
     },
     "execution_count": 74,
     "metadata": {},
     "output_type": "execute_result"
    }
   ],
   "source": [
    "file.read()"
   ]
  },
  {
   "cell_type": "code",
   "execution_count": 75,
   "id": "f3f3dad0-ec63-4dc9-8c93-9c90a65d612a",
   "metadata": {},
   "outputs": [
    {
     "data": {
      "text/plain": [
       "0"
      ]
     },
     "execution_count": 75,
     "metadata": {},
     "output_type": "execute_result"
    }
   ],
   "source": [
    "file.seek(0)"
   ]
  },
  {
   "cell_type": "code",
   "execution_count": 76,
   "id": "47bc8906-ce05-4f4f-834c-8c6ecec41373",
   "metadata": {},
   "outputs": [
    {
     "data": {
      "text/plain": [
       "'Hello world\\n'"
      ]
     },
     "execution_count": 76,
     "metadata": {},
     "output_type": "execute_result"
    }
   ],
   "source": [
    "file.readline()"
   ]
  },
  {
   "cell_type": "code",
   "execution_count": 77,
   "id": "31479570-6205-4eb2-ad69-7d422854cdd6",
   "metadata": {},
   "outputs": [
    {
     "data": {
      "text/plain": [
       "'Machine learning\\n'"
      ]
     },
     "execution_count": 77,
     "metadata": {},
     "output_type": "execute_result"
    }
   ],
   "source": [
    "file.readline()"
   ]
  },
  {
   "cell_type": "code",
   "execution_count": 78,
   "id": "5d7039e1-40d4-4703-9512-a21bac0d1af5",
   "metadata": {},
   "outputs": [
    {
     "data": {
      "text/plain": [
       "'data analysis\\n'"
      ]
     },
     "execution_count": 78,
     "metadata": {},
     "output_type": "execute_result"
    }
   ],
   "source": [
    "file.readline()"
   ]
  },
  {
   "cell_type": "code",
   "execution_count": 79,
   "id": "93c39492-3e16-464d-8384-7ba406015a9c",
   "metadata": {},
   "outputs": [
    {
     "data": {
      "text/plain": [
       "'artificial intelligence'"
      ]
     },
     "execution_count": 79,
     "metadata": {},
     "output_type": "execute_result"
    }
   ],
   "source": [
    "file.readline()"
   ]
  },
  {
   "cell_type": "code",
   "execution_count": 80,
   "id": "a6eddb0c-9970-4d32-bad4-73c4e234eb59",
   "metadata": {},
   "outputs": [
    {
     "data": {
      "text/plain": [
       "''"
      ]
     },
     "execution_count": 80,
     "metadata": {},
     "output_type": "execute_result"
    }
   ],
   "source": [
    "file.readline()"
   ]
  },
  {
   "cell_type": "code",
   "execution_count": 83,
   "id": "e5a36dbc-f846-45db-a8ee-757b6f49d142",
   "metadata": {},
   "outputs": [
    {
     "data": {
      "text/plain": [
       "0"
      ]
     },
     "execution_count": 83,
     "metadata": {},
     "output_type": "execute_result"
    }
   ],
   "source": [
    "file.seek(0)"
   ]
  },
  {
   "cell_type": "code",
   "execution_count": 82,
   "id": "d4ae5f1a-088a-40a6-818e-5dfbf156f8ab",
   "metadata": {},
   "outputs": [
    {
     "data": {
      "text/plain": [
       "['Hello world\\n',\n",
       " 'Machine learning\\n',\n",
       " 'data analysis\\n',\n",
       " 'artificial intelligence']"
      ]
     },
     "execution_count": 82,
     "metadata": {},
     "output_type": "execute_result"
    }
   ],
   "source": [
    "file.readlines()"
   ]
  },
  {
   "cell_type": "code",
   "execution_count": 85,
   "id": "6b7c1ad6-aa5a-44ba-9c54-76d180c94eaa",
   "metadata": {},
   "outputs": [],
   "source": [
    "for i in file.readlines():\n",
    "    print(i.replace('\\n', ''))"
   ]
  },
  {
   "cell_type": "code",
   "execution_count": 86,
   "id": "e799253a-096b-4059-b1fa-281c79d3fd79",
   "metadata": {},
   "outputs": [
    {
     "data": {
      "text/plain": [
       "'artificial intelligence'"
      ]
     },
     "execution_count": 86,
     "metadata": {},
     "output_type": "execute_result"
    }
   ],
   "source": [
    "i"
   ]
  },
  {
   "cell_type": "code",
   "execution_count": 87,
   "id": "b8326cc8-05d9-43b4-b5d0-b2aab9f538a8",
   "metadata": {},
   "outputs": [],
   "source": [
    "file.close()"
   ]
  },
  {
   "cell_type": "code",
   "execution_count": 96,
   "id": "5630fd7f-7897-4882-bc92-b54b834c10e1",
   "metadata": {},
   "outputs": [],
   "source": [
    "file = open('python.txt', 'w')"
   ]
  },
  {
   "cell_type": "code",
   "execution_count": 97,
   "id": "b78baa29-cb02-4be1-8d6e-fa69429b69ea",
   "metadata": {},
   "outputs": [
    {
     "data": {
      "text/plain": [
       "<_io.TextIOWrapper name='python.txt' mode='w' encoding='cp1252'>"
      ]
     },
     "execution_count": 97,
     "metadata": {},
     "output_type": "execute_result"
    }
   ],
   "source": [
    "file"
   ]
  },
  {
   "cell_type": "code",
   "execution_count": 98,
   "id": "84bbf799-c77e-43d6-a25e-e95b9baffee2",
   "metadata": {},
   "outputs": [
    {
     "data": {
      "text/plain": [
       "7"
      ]
     },
     "execution_count": 98,
     "metadata": {},
     "output_type": "execute_result"
    }
   ],
   "source": [
    "file.write('iqbal\\n')\n",
    "file.write('vrinda\\n')\n",
    "file.write('tushar\\n')"
   ]
  },
  {
   "cell_type": "code",
   "execution_count": 99,
   "id": "be0728e0-11e2-4fcb-b6cb-c32b4af80815",
   "metadata": {},
   "outputs": [],
   "source": [
    "file.close()"
   ]
  },
  {
   "cell_type": "code",
   "execution_count": 100,
   "id": "9811d8c5-2111-4d4a-bcbc-05639d5903dc",
   "metadata": {},
   "outputs": [],
   "source": [
    "file = open('python.txt', 'r')"
   ]
  },
  {
   "cell_type": "code",
   "execution_count": 101,
   "id": "e0928d4a-2b23-447e-b71f-046d4fe9258d",
   "metadata": {},
   "outputs": [
    {
     "data": {
      "text/plain": [
       "'iqbal\\nvrinda\\ntushar\\n'"
      ]
     },
     "execution_count": 101,
     "metadata": {},
     "output_type": "execute_result"
    }
   ],
   "source": [
    "file.read()"
   ]
  },
  {
   "cell_type": "code",
   "execution_count": 107,
   "id": "64ca9266-3ffd-4083-af84-b41dce8a4662",
   "metadata": {},
   "outputs": [
    {
     "data": {
      "text/plain": [
       "0"
      ]
     },
     "execution_count": 107,
     "metadata": {},
     "output_type": "execute_result"
    }
   ],
   "source": [
    "file.seek(0)"
   ]
  },
  {
   "cell_type": "code",
   "execution_count": 106,
   "id": "e2c1a2c8-0f3f-446d-9d5d-04c6ef6769cc",
   "metadata": {},
   "outputs": [
    {
     "data": {
      "text/plain": [
       "''"
      ]
     },
     "execution_count": 106,
     "metadata": {},
     "output_type": "execute_result"
    }
   ],
   "source": [
    "file.readline()"
   ]
  },
  {
   "cell_type": "code",
   "execution_count": 108,
   "id": "9ad40609-869d-4572-a835-d3d7f4fabf7e",
   "metadata": {},
   "outputs": [],
   "source": [
    "file.close()"
   ]
  },
  {
   "cell_type": "code",
   "execution_count": 109,
   "id": "6125405d-f67e-4daf-86c4-1e504127126d",
   "metadata": {},
   "outputs": [],
   "source": [
    "file = open('python.txt', 'a')"
   ]
  },
  {
   "cell_type": "code",
   "execution_count": 110,
   "id": "a42eee0e-54c0-4815-b1a3-d98983fd8d77",
   "metadata": {},
   "outputs": [
    {
     "data": {
      "text/plain": [
       "15"
      ]
     },
     "execution_count": 110,
     "metadata": {},
     "output_type": "execute_result"
    }
   ],
   "source": [
    "file.write('Data Analytics\\n')"
   ]
  },
  {
   "cell_type": "code",
   "execution_count": 111,
   "id": "6a48d60c-74ad-4c23-bb2e-fd50e40e7c32",
   "metadata": {},
   "outputs": [],
   "source": [
    "file.close()"
   ]
  },
  {
   "cell_type": "code",
   "execution_count": 112,
   "id": "649e70ce-4d65-48fd-80dc-b847bd8f7eed",
   "metadata": {},
   "outputs": [],
   "source": [
    "file = open('python.txt', 'r')"
   ]
  },
  {
   "cell_type": "code",
   "execution_count": 113,
   "id": "243fa480-fba4-4214-96ce-10c8ae425da7",
   "metadata": {},
   "outputs": [
    {
     "data": {
      "text/plain": [
       "'iqbal\\nvrinda\\ntushar\\nData Analytics\\n'"
      ]
     },
     "execution_count": 113,
     "metadata": {},
     "output_type": "execute_result"
    }
   ],
   "source": [
    "file.read()"
   ]
  },
  {
   "cell_type": "code",
   "execution_count": 116,
   "id": "b4e2cca8-b063-46d8-b22b-d6ff1986b720",
   "metadata": {},
   "outputs": [],
   "source": [
    "file.close()"
   ]
  },
  {
   "cell_type": "code",
   "execution_count": 118,
   "id": "0b2a4d8c-016b-4531-ae12-af907f0dce41",
   "metadata": {},
   "outputs": [
    {
     "name": "stdout",
     "output_type": "stream",
     "text": [
      "iqbal\n",
      "vrinda\n",
      "tushar\n",
      "Data Analytics\n",
      "\n"
     ]
    }
   ],
   "source": [
    "with open('python.txt', 'r') as f:\n",
    "    print(f.read())"
   ]
  },
  {
   "cell_type": "code",
   "execution_count": 120,
   "id": "da9dd4bb-0517-4134-9abb-fcc3b5c893bd",
   "metadata": {},
   "outputs": [
    {
     "name": "stdout",
     "output_type": "stream",
     "text": [
      "11\n"
     ]
    }
   ],
   "source": [
    "with open('python.txt', 'a') as f:\n",
    "    print(f.write('Hello world'))"
   ]
  },
  {
   "cell_type": "code",
   "execution_count": 121,
   "id": "eec48a8f-e9f2-465f-884b-873a12f2d1c8",
   "metadata": {},
   "outputs": [
    {
     "name": "stdout",
     "output_type": "stream",
     "text": [
      "iqbal\n",
      "vrinda\n",
      "tushar\n",
      "Data Analytics\n",
      "Hello world\n"
     ]
    }
   ],
   "source": [
    "with open('python.txt', 'r') as f:\n",
    "    print(f.read())"
   ]
  },
  {
   "cell_type": "code",
   "execution_count": 122,
   "id": "870e8a3a-f561-40b1-8c26-d04ffd35ef62",
   "metadata": {},
   "outputs": [],
   "source": [
    "st ='''Machine learning (ML) is a field of Artificial Intelligence (AI) that enables computer systems to learn from data and improve their performance on tasks over time without being explicitly programmed for every instruction. It involves using algorithms to find patterns in large datasets, which allows systems to make predictions or decisions based on those patterns. Key applications include tasks like image analysis, predictive forecasting, and powering virtual assistants like Siri or Alexa.  '''"
   ]
  },
  {
   "cell_type": "code",
   "execution_count": 124,
   "id": "9f0632e3-0836-4ee2-843b-7462be9faa4f",
   "metadata": {},
   "outputs": [],
   "source": [
    "with open('python.txt', 'w') as file:\n",
    "    idx = 0\n",
    "    for i in range(len(st)):\n",
    "        if st[i] == '.':\n",
    "            file.write(st[idx:i+1])\n",
    "            idx = i+1"
   ]
  },
  {
   "cell_type": "code",
   "execution_count": 128,
   "id": "eb2031e8-520f-4c18-b9e6-c764b79c62c6",
   "metadata": {},
   "outputs": [
    {
     "name": "stdout",
     "output_type": "stream",
     "text": [
      "Machine learning (ML) is a field of Artificial Intelligence (AI) that enables computer systems to learn from data and improve their performance on tasks over time without being explicitly programmed for every instruction. It involves using algorithms to find patterns in large datasets, which allows systems to make predictions or decisions based on those patterns. Key applications include tasks like image analysis, predictive forecasting, and powering virtual assistants like Siri or Alexa.\n"
     ]
    }
   ],
   "source": [
    "with open('python.txt', 'r') as file:\n",
    "    print(file.readline())"
   ]
  },
  {
   "cell_type": "code",
   "execution_count": null,
   "id": "2544a6af-2198-499b-943f-df84b0ac1bcf",
   "metadata": {},
   "outputs": [],
   "source": []
  }
 ],
 "metadata": {
  "kernelspec": {
   "display_name": "Python 3 (ipykernel)",
   "language": "python",
   "name": "python3"
  },
  "language_info": {
   "codemirror_mode": {
    "name": "ipython",
    "version": 3
   },
   "file_extension": ".py",
   "mimetype": "text/x-python",
   "name": "python",
   "nbconvert_exporter": "python",
   "pygments_lexer": "ipython3",
   "version": "3.12.7"
  }
 },
 "nbformat": 4,
 "nbformat_minor": 5
}
