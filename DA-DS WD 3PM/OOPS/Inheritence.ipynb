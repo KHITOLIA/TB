{
 "cells": [
  {
   "cell_type": "code",
   "execution_count": 1,
   "id": "12f4c838-32f4-4a2e-9dc0-5572cba8f3c7",
   "metadata": {},
   "outputs": [],
   "source": [
    "class Parents:\n",
    "    def __init__(self, name , age):\n",
    "        self.age = age\n",
    "        self.name = name\n",
    "\n",
    "    def __str__(self):\n",
    "        return f\"my name is {self.name} and i'm {self.age} year old\"\n",
    "\n",
    "class Child(Parents):\n",
    "    pass"
   ]
  },
  {
   "cell_type": "code",
   "execution_count": 2,
   "id": "3019d023-ba79-4f0b-8ffc-f133452a805e",
   "metadata": {},
   "outputs": [],
   "source": [
    "c = Child('Vansh', 20)"
   ]
  },
  {
   "cell_type": "code",
   "execution_count": 3,
   "id": "0f5710e5-923b-45ea-abde-dbc60f51d413",
   "metadata": {},
   "outputs": [
    {
     "data": {
      "text/plain": [
       "20"
      ]
     },
     "execution_count": 3,
     "metadata": {},
     "output_type": "execute_result"
    }
   ],
   "source": [
    "c.age\n"
   ]
  },
  {
   "cell_type": "code",
   "execution_count": 4,
   "id": "2b918698-2e0b-473f-9bb0-23c6f611b2f5",
   "metadata": {},
   "outputs": [
    {
     "data": {
      "text/plain": [
       "'Vansh'"
      ]
     },
     "execution_count": 4,
     "metadata": {},
     "output_type": "execute_result"
    }
   ],
   "source": [
    "c.name"
   ]
  },
  {
   "cell_type": "code",
   "execution_count": 5,
   "id": "1008f5f0-db53-4a62-99e6-8c65bc8a2760",
   "metadata": {},
   "outputs": [
    {
     "name": "stdout",
     "output_type": "stream",
     "text": [
      "my name is Vansh and i'm 20 year old\n"
     ]
    }
   ],
   "source": [
    "print(c)"
   ]
  },
  {
   "cell_type": "code",
   "execution_count": 6,
   "id": "5efb5082-161e-4a92-8461-c71e6022e064",
   "metadata": {},
   "outputs": [],
   "source": [
    "class Parents:\n",
    "    def __init__(self, name , age):\n",
    "        self.age = age\n",
    "        self.name = name\n",
    "\n",
    "    def __str__(self):\n",
    "        return f\"my name is {self.__name} and i'm {self.__age} year old\"\n",
    "\n",
    "class Child(Parents):\n",
    "    pass"
   ]
  },
  {
   "cell_type": "code",
   "execution_count": 7,
   "id": "27988327-5219-4ed9-8944-a2b9a26f39e9",
   "metadata": {},
   "outputs": [],
   "source": [
    "c = Child('tushar', 20)"
   ]
  },
  {
   "cell_type": "code",
   "execution_count": 8,
   "id": "3ee1eea1-3dbe-40f2-bb5e-4b30d7a20fea",
   "metadata": {},
   "outputs": [
    {
     "ename": "AttributeError",
     "evalue": "'Child' object has no attribute '_Parents__name'",
     "output_type": "error",
     "traceback": [
      "\u001b[1;31m---------------------------------------------------------------------------\u001b[0m",
      "\u001b[1;31mAttributeError\u001b[0m                            Traceback (most recent call last)",
      "Cell \u001b[1;32mIn[8], line 1\u001b[0m\n\u001b[1;32m----> 1\u001b[0m \u001b[38;5;28mprint\u001b[39m(c)\n",
      "Cell \u001b[1;32mIn[6], line 7\u001b[0m, in \u001b[0;36mParents.__str__\u001b[1;34m(self)\u001b[0m\n\u001b[0;32m      6\u001b[0m \u001b[38;5;28;01mdef\u001b[39;00m \u001b[38;5;21m__str__\u001b[39m(\u001b[38;5;28mself\u001b[39m):\n\u001b[1;32m----> 7\u001b[0m     \u001b[38;5;28;01mreturn\u001b[39;00m \u001b[38;5;124mf\u001b[39m\u001b[38;5;124m\"\u001b[39m\u001b[38;5;124mmy name is \u001b[39m\u001b[38;5;132;01m{\u001b[39;00m\u001b[38;5;28mself\u001b[39m\u001b[38;5;241m.\u001b[39m__name\u001b[38;5;132;01m}\u001b[39;00m\u001b[38;5;124m and i\u001b[39m\u001b[38;5;124m'\u001b[39m\u001b[38;5;124mm \u001b[39m\u001b[38;5;132;01m{\u001b[39;00m\u001b[38;5;28mself\u001b[39m\u001b[38;5;241m.\u001b[39m__age\u001b[38;5;132;01m}\u001b[39;00m\u001b[38;5;124m year old\u001b[39m\u001b[38;5;124m\"\u001b[39m\n",
      "\u001b[1;31mAttributeError\u001b[0m: 'Child' object has no attribute '_Parents__name'"
     ]
    }
   ],
   "source": [
    "print(c)"
   ]
  },
  {
   "cell_type": "code",
   "execution_count": 9,
   "id": "a6a08ab1-380a-4316-ad27-905f64198638",
   "metadata": {},
   "outputs": [],
   "source": [
    "c = Child('adarsh', 15)"
   ]
  },
  {
   "cell_type": "code",
   "execution_count": 10,
   "id": "12cc9971-896c-4bfd-879d-11f00302be4c",
   "metadata": {},
   "outputs": [],
   "source": [
    "p = c"
   ]
  },
  {
   "cell_type": "code",
   "execution_count": 11,
   "id": "f136cf1a-e146-4ffe-8b76-5f1f06e8e208",
   "metadata": {},
   "outputs": [
    {
     "data": {
      "text/plain": [
       "(2209682402880, 2209682402880)"
      ]
     },
     "execution_count": 11,
     "metadata": {},
     "output_type": "execute_result"
    }
   ],
   "source": [
    "id(p), id(c)"
   ]
  },
  {
   "cell_type": "code",
   "execution_count": 12,
   "id": "50aed212-73d8-466d-9a75-ea4e0f61807d",
   "metadata": {},
   "outputs": [],
   "source": [
    "p.gender = 'male'"
   ]
  },
  {
   "cell_type": "code",
   "execution_count": 13,
   "id": "51515ce8-0e8e-4514-b1be-0ad158697fb7",
   "metadata": {},
   "outputs": [
    {
     "data": {
      "text/plain": [
       "'male'"
      ]
     },
     "execution_count": 13,
     "metadata": {},
     "output_type": "execute_result"
    }
   ],
   "source": [
    "c.gender"
   ]
  },
  {
   "cell_type": "code",
   "execution_count": 14,
   "id": "39276f6f-ed33-46d1-949d-3b78d0c7edb1",
   "metadata": {},
   "outputs": [
    {
     "data": {
      "text/plain": [
       "48"
      ]
     },
     "execution_count": 14,
     "metadata": {},
     "output_type": "execute_result"
    }
   ],
   "source": [
    "import sys\n",
    "sys.getsizeof(p)\n"
   ]
  },
  {
   "cell_type": "code",
   "execution_count": 15,
   "id": "beb59756-4589-41f3-83d0-f76e43b99e41",
   "metadata": {},
   "outputs": [
    {
     "data": {
      "text/plain": [
       "48"
      ]
     },
     "execution_count": 15,
     "metadata": {},
     "output_type": "execute_result"
    }
   ],
   "source": [
    "sys.getsizeof(c)"
   ]
  },
  {
   "cell_type": "code",
   "execution_count": 16,
   "id": "1f723fba-9823-41b7-a77b-8f50792cf932",
   "metadata": {},
   "outputs": [],
   "source": [
    "class Phone:\n",
    "    def __init__(self, price, brand):\n",
    "        self.price = price\n",
    "        self.brand = brand\n",
    "\n",
    "    def show(self):\n",
    "        print(self.price, self.brand)\n",
    "\n",
    "class Smartphone(Phone):\n",
    "    def show(self):\n",
    "        print(f\"Specs of this phone is {self.price} and {self.brand}\")"
   ]
  },
  {
   "cell_type": "code",
   "execution_count": 17,
   "id": "d27739c7-808f-4fbf-b8fc-1f2fbf929e16",
   "metadata": {},
   "outputs": [
    {
     "name": "stdout",
     "output_type": "stream",
     "text": [
      "Specs of this phone is 20000 and Apple\n"
     ]
    }
   ],
   "source": [
    "S = Smartphone(20000, 'Apple')\n",
    "S.show()"
   ]
  },
  {
   "cell_type": "code",
   "execution_count": 18,
   "id": "af5e7920-e610-4d8d-a894-fb76b4044402",
   "metadata": {},
   "outputs": [
    {
     "data": {
      "text/plain": [
       "20000"
      ]
     },
     "execution_count": 18,
     "metadata": {},
     "output_type": "execute_result"
    }
   ],
   "source": [
    "S.price"
   ]
  },
  {
   "cell_type": "code",
   "execution_count": 19,
   "id": "52c3eb21-6a43-4aca-8455-14394c9b9732",
   "metadata": {},
   "outputs": [
    {
     "data": {
      "text/plain": [
       "'Apple'"
      ]
     },
     "execution_count": 19,
     "metadata": {},
     "output_type": "execute_result"
    }
   ],
   "source": [
    "S.brand"
   ]
  },
  {
   "cell_type": "code",
   "execution_count": 20,
   "id": "95d0f68e-f3fa-4c2d-ad8e-bb2a23a8c63a",
   "metadata": {},
   "outputs": [],
   "source": [
    "class Phone:\n",
    "    def __init__(self, price, brand):\n",
    "        self.price = price\n",
    "        self.brand = brand\n",
    "\n",
    "    def show(self):\n",
    "        print(self.price, self.brand)\n",
    "\n",
    "class Smartphone(Phone):\n",
    "    def __init__(self,price, brand ,ram):\n",
    "        self.ram = ram\n",
    "        super().__init__(price, brand)\n",
    "        \n",
    "    def show(self):\n",
    "        super().show()\n",
    "        print(f\"Specs of this phone is {self.price} and {self.brand}\")"
   ]
  },
  {
   "cell_type": "code",
   "execution_count": 21,
   "id": "ad4b468c-7d6d-4004-ad01-4d15cc03953a",
   "metadata": {},
   "outputs": [],
   "source": [
    "S = Smartphone(20000, 'Apple', 12)\n"
   ]
  },
  {
   "cell_type": "code",
   "execution_count": 22,
   "id": "36e551ce-42b4-45d4-ba28-35718ead9cf1",
   "metadata": {},
   "outputs": [
    {
     "name": "stdout",
     "output_type": "stream",
     "text": [
      "20000 Apple\n",
      "Specs of this phone is 20000 and Apple\n"
     ]
    }
   ],
   "source": [
    "S.show()"
   ]
  },
  {
   "cell_type": "code",
   "execution_count": 23,
   "id": "be23cc08-acd5-4e82-bdbd-f78bcf7806d7",
   "metadata": {},
   "outputs": [],
   "source": [
    "s = 'aabcccccaaa'\n",
    "output = 'a2b1c5a3'\n",
    "l = []\n",
    "for i in s:\n",
    "    if i not in l:\n",
    "        l.append(i)"
   ]
  },
  {
   "cell_type": "code",
   "execution_count": 24,
   "id": "5c7037cc-ab7c-41c9-836b-1939adcda0ae",
   "metadata": {},
   "outputs": [
    {
     "ename": "NameError",
     "evalue": "name 'count' is not defined",
     "output_type": "error",
     "traceback": [
      "\u001b[1;31m---------------------------------------------------------------------------\u001b[0m",
      "\u001b[1;31mNameError\u001b[0m                                 Traceback (most recent call last)",
      "Cell \u001b[1;32mIn[24], line 1\u001b[0m\n\u001b[1;32m----> 1\u001b[0m count\n",
      "\u001b[1;31mNameError\u001b[0m: name 'count' is not defined"
     ]
    }
   ],
   "source": [
    "count"
   ]
  },
  {
   "cell_type": "code",
   "execution_count": null,
   "id": "7af161fb-e187-49ff-b2fe-ebe474acfb26",
   "metadata": {},
   "outputs": [],
   "source": [
    "s.count('b')"
   ]
  },
  {
   "cell_type": "code",
   "execution_count": 25,
   "id": "65d4310c-5013-4c9d-84d4-75080769d9ac",
   "metadata": {},
   "outputs": [
    {
     "data": {
      "text/plain": [
       "5"
      ]
     },
     "execution_count": 25,
     "metadata": {},
     "output_type": "execute_result"
    }
   ],
   "source": [
    "s.count('c')"
   ]
  },
  {
   "cell_type": "code",
   "execution_count": 26,
   "id": "a029327f-5e9e-4579-8f83-1b974cf8d7f8",
   "metadata": {},
   "outputs": [
    {
     "ename": "NameError",
     "evalue": "name 'xi' is not defined",
     "output_type": "error",
     "traceback": [
      "\u001b[1;31m---------------------------------------------------------------------------\u001b[0m",
      "\u001b[1;31mNameError\u001b[0m                                 Traceback (most recent call last)",
      "Cell \u001b[1;32mIn[26], line 3\u001b[0m\n\u001b[0;32m      1\u001b[0m idx \u001b[38;5;241m=\u001b[39m \u001b[38;5;241m0\u001b[39m\n\u001b[0;32m      2\u001b[0m \u001b[38;5;28;01mfor\u001b[39;00m i \u001b[38;5;129;01min\u001b[39;00m \u001b[38;5;28mrange\u001b[39m(\u001b[38;5;28mlen\u001b[39m(s)):\n\u001b[1;32m----> 3\u001b[0m     \u001b[38;5;28;01mif\u001b[39;00m s[xi] \u001b[38;5;241m!=\u001b[39m \u001b[38;5;124m'\u001b[39m\u001b[38;5;124ma\u001b[39m\u001b[38;5;124m'\u001b[39m:\n\u001b[0;32m      4\u001b[0m         \u001b[38;5;28;01mcontinue\u001b[39;00m\n\u001b[0;32m      5\u001b[0m     \u001b[38;5;28;01mif\u001b[39;00m s[i] \u001b[38;5;241m==\u001b[39m \u001b[38;5;124m'\u001b[39m\u001b[38;5;124ma\u001b[39m\u001b[38;5;124m'\u001b[39m:\n",
      "\u001b[1;31mNameError\u001b[0m: name 'xi' is not defined"
     ]
    }
   ],
   "source": [
    "idx = 0\n",
    "for i in range(len(s)):\n",
    "    if s[xi] != 'a':\n",
    "        continue\n",
    "    if s[i] == 'a':\n",
    "        idx = idx + 1"
   ]
  },
  {
   "cell_type": "code",
   "execution_count": 27,
   "id": "76ddad56-5e2d-4f0a-9abe-68299163bb56",
   "metadata": {},
   "outputs": [
    {
     "data": {
      "text/plain": [
       "0"
      ]
     },
     "execution_count": 27,
     "metadata": {},
     "output_type": "execute_result"
    }
   ],
   "source": [
    "idx"
   ]
  },
  {
   "cell_type": "code",
   "execution_count": 28,
   "id": "376f6c21-d1d9-4611-9fcf-73b8e94c48fe",
   "metadata": {},
   "outputs": [],
   "source": [
    "a = 1222311\n",
    "output = [(1, 3), (2, 3), (3, 1)]"
   ]
  },
  {
   "cell_type": "code",
   "execution_count": 29,
   "id": "7dd09c29-334b-4fcc-b849-0ed8f3e9615a",
   "metadata": {},
   "outputs": [],
   "source": [
    "l = []\n",
    "for i in str(a):\n",
    "    if i not in l:\n",
    "        l.append(i)"
   ]
  },
  {
   "cell_type": "code",
   "execution_count": 30,
   "id": "ab243b6e-47bc-4c41-9710-2534bebe0d5a",
   "metadata": {},
   "outputs": [
    {
     "data": {
      "text/plain": [
       "['1', '2', '3']"
      ]
     },
     "execution_count": 30,
     "metadata": {},
     "output_type": "execute_result"
    }
   ],
   "source": [
    "l"
   ]
  },
  {
   "cell_type": "code",
   "execution_count": 31,
   "id": "daf62584-edc0-40ac-a8cb-7add4971e2a9",
   "metadata": {},
   "outputs": [],
   "source": [
    "l1 = []\n",
    "for i in l:\n",
    "    l1.append((i, str(a).count(i)))"
   ]
  },
  {
   "cell_type": "code",
   "execution_count": 32,
   "id": "d2e03209-6b40-4d6a-91cf-35b88eb6c79e",
   "metadata": {},
   "outputs": [
    {
     "data": {
      "text/plain": [
       "[('1', 3), ('2', 3), ('3', 1)]"
      ]
     },
     "execution_count": 32,
     "metadata": {},
     "output_type": "execute_result"
    }
   ],
   "source": [
    "l1"
   ]
  },
  {
   "cell_type": "code",
   "execution_count": 33,
   "id": "6d52b303-4339-4ce5-821a-8d924095be57",
   "metadata": {},
   "outputs": [
    {
     "data": {
      "text/plain": [
       "(2, 3)"
      ]
     },
     "execution_count": 33,
     "metadata": {},
     "output_type": "execute_result"
    }
   ],
   "source": [
    "2, str(a).count('2')"
   ]
  },
  {
   "cell_type": "code",
   "execution_count": 34,
   "id": "aa598b17-c3e9-4fbd-b1d6-52a193e03b7b",
   "metadata": {},
   "outputs": [],
   "source": [
    "io = 'abc'\n",
    "# output : 97 + 98 + 99 = 294"
   ]
  },
  {
   "cell_type": "code",
   "execution_count": 35,
   "id": "152e6d81-5c69-4416-909e-498d2ea2ac70",
   "metadata": {},
   "outputs": [
    {
     "data": {
      "text/plain": [
       "99"
      ]
     },
     "execution_count": 35,
     "metadata": {},
     "output_type": "execute_result"
    }
   ],
   "source": [
    "ord('c')"
   ]
  },
  {
   "cell_type": "code",
   "execution_count": 41,
   "id": "21b394c0-d776-414d-af7a-0b2f2867836a",
   "metadata": {},
   "outputs": [
    {
     "name": "stdout",
     "output_type": "stream",
     "text": [
      "97\n",
      "195\n",
      "294\n"
     ]
    }
   ],
   "source": [
    "sum_ = 0\n",
    "for i in io:\n",
    "    sum_ = sum_ + ord(i)\n",
    "    print(sum_)"
   ]
  },
  {
   "cell_type": "code",
   "execution_count": 43,
   "id": "7ae70b1f-7a71-4bae-bdc7-1d0f934fca14",
   "metadata": {},
   "outputs": [],
   "source": [
    "s ='training basket'\n",
    "# find the first unique character"
   ]
  },
  {
   "cell_type": "code",
   "execution_count": null,
   "id": "06f7539b-b3b8-4a22-bc44-8328b61c2e3a",
   "metadata": {},
   "outputs": [],
   "source": [
    "l =[] "
   ]
  },
  {
   "cell_type": "code",
   "execution_count": null,
   "id": "4724697e-cb5d-48d9-afae-3f07d8075240",
   "metadata": {},
   "outputs": [],
   "source": []
  },
  {
   "cell_type": "code",
   "execution_count": null,
   "id": "bfda6b3b-1ef1-4988-905f-6fe09b1592b5",
   "metadata": {},
   "outputs": [],
   "source": []
  }
 ],
 "metadata": {
  "kernelspec": {
   "display_name": "Python 3 (ipykernel)",
   "language": "python",
   "name": "python3"
  },
  "language_info": {
   "codemirror_mode": {
    "name": "ipython",
    "version": 3
   },
   "file_extension": ".py",
   "mimetype": "text/x-python",
   "name": "python",
   "nbconvert_exporter": "python",
   "pygments_lexer": "ipython3",
   "version": "3.12.7"
  }
 },
 "nbformat": 4,
 "nbformat_minor": 5
}
